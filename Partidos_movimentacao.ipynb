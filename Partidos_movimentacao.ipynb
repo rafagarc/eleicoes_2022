{
 "cells": [
  {
   "cell_type": "code",
   "execution_count": 1,
   "id": "c234fd88",
   "metadata": {},
   "outputs": [],
   "source": [
    "import pandas as pd"
   ]
  },
  {
   "cell_type": "code",
   "execution_count": 2,
   "id": "9a91d910",
   "metadata": {},
   "outputs": [],
   "source": [
    "dataset_2018 = r'C:\\Users\\rgarcia\\Documents\\GitHub\\eleicoes_2022\\consulta_cand_2018_BRASIL.csv'\n",
    "dataset_2022 = r'C:\\Users\\rgarcia\\Documents\\GitHub\\eleicoes_2022\\consulta_cand_2022_BRASIL.csv'"
   ]
  },
  {
   "cell_type": "code",
   "execution_count": 3,
   "id": "ae6cbd40",
   "metadata": {},
   "outputs": [],
   "source": [
    "cand_2018 = pd.read_csv(dataset_2018, sep=';', encoding='ISO-8859-1', decimal=',', low_memory=False)"
   ]
  },
  {
   "cell_type": "code",
   "execution_count": 4,
   "id": "9690cc91",
   "metadata": {},
   "outputs": [],
   "source": [
    "cand_2018['SG_PARTIDO'] = cand_2018['SG_PARTIDO'].replace('PL', 'PR')"
   ]
  },
  {
   "cell_type": "code",
   "execution_count": 5,
   "id": "12c98a7d",
   "metadata": {},
   "outputs": [],
   "source": [
    "cand_2018['SG_PARTIDO'] = cand_2018['SG_PARTIDO'].replace('CIDADANIA', 'PPS')"
   ]
  },
  {
   "cell_type": "code",
   "execution_count": 6,
   "id": "441acf45",
   "metadata": {},
   "outputs": [],
   "source": [
    "cand_2022 = pd.read_csv(dataset_2022, sep=';', encoding='ISO-8859-1', decimal=',', low_memory=False)"
   ]
  },
  {
   "cell_type": "code",
   "execution_count": 7,
   "id": "988c5899",
   "metadata": {},
   "outputs": [],
   "source": [
    "filia_2018 = cand_2018[['NR_CPF_CANDIDATO', 'SG_PARTIDO']]"
   ]
  },
  {
   "cell_type": "code",
   "execution_count": 8,
   "id": "ff2b7937",
   "metadata": {},
   "outputs": [],
   "source": [
    "filia_2022 = cand_2022[['NR_CPF_CANDIDATO', 'SG_PARTIDO']]"
   ]
  },
  {
   "cell_type": "code",
   "execution_count": 9,
   "id": "90d96a86",
   "metadata": {},
   "outputs": [
    {
     "data": {
      "text/plain": [
       "dtype('O')"
      ]
     },
     "execution_count": 9,
     "metadata": {},
     "output_type": "execute_result"
    }
   ],
   "source": [
    "filia_2018.NR_CPF_CANDIDATO.dtype"
   ]
  },
  {
   "cell_type": "code",
   "execution_count": 10,
   "id": "2532902f",
   "metadata": {},
   "outputs": [
    {
     "data": {
      "text/plain": [
       "dtype('int64')"
      ]
     },
     "execution_count": 10,
     "metadata": {},
     "output_type": "execute_result"
    }
   ],
   "source": [
    "filia_2022.NR_CPF_CANDIDATO.dtype"
   ]
  },
  {
   "cell_type": "code",
   "execution_count": 11,
   "id": "8b90b7c0",
   "metadata": {},
   "outputs": [
    {
     "name": "stderr",
     "output_type": "stream",
     "text": [
      "C:\\Users\\rgarcia\\AppData\\Local\\Temp\\ipykernel_11352\\1067535450.py:1: SettingWithCopyWarning: \n",
      "A value is trying to be set on a copy of a slice from a DataFrame.\n",
      "Try using .loc[row_indexer,col_indexer] = value instead\n",
      "\n",
      "See the caveats in the documentation: https://pandas.pydata.org/pandas-docs/stable/user_guide/indexing.html#returning-a-view-versus-a-copy\n",
      "  filia_2022['NR_CPF_CANDIDATO'] = filia_2022['NR_CPF_CANDIDATO'].astype(str)\n"
     ]
    }
   ],
   "source": [
    "filia_2022['NR_CPF_CANDIDATO'] = filia_2022['NR_CPF_CANDIDATO'].astype(str)"
   ]
  },
  {
   "cell_type": "code",
   "execution_count": 12,
   "id": "6597d9f3",
   "metadata": {},
   "outputs": [
    {
     "name": "stderr",
     "output_type": "stream",
     "text": [
      "C:\\Users\\rgarcia\\AppData\\Local\\Temp\\ipykernel_11352\\3189833624.py:1: SettingWithCopyWarning: \n",
      "A value is trying to be set on a copy of a slice from a DataFrame.\n",
      "Try using .loc[row_indexer,col_indexer] = value instead\n",
      "\n",
      "See the caveats in the documentation: https://pandas.pydata.org/pandas-docs/stable/user_guide/indexing.html#returning-a-view-versus-a-copy\n",
      "  filia_2022['NR_CPF_CANDIDATO'] = filia_2022['NR_CPF_CANDIDATO'].str.zfill(11)\n"
     ]
    }
   ],
   "source": [
    "filia_2022['NR_CPF_CANDIDATO'] = filia_2022['NR_CPF_CANDIDATO'].str.zfill(11)"
   ]
  },
  {
   "cell_type": "code",
   "execution_count": 13,
   "id": "8535a96a",
   "metadata": {},
   "outputs": [
    {
     "data": {
      "text/plain": [
       "array([11], dtype=int64)"
      ]
     },
     "execution_count": 13,
     "metadata": {},
     "output_type": "execute_result"
    }
   ],
   "source": [
    "filia_2018['NR_CPF_CANDIDATO'].str.len().unique()"
   ]
  },
  {
   "cell_type": "code",
   "execution_count": 18,
   "id": "8392c6e7",
   "metadata": {},
   "outputs": [
    {
     "data": {
      "text/plain": [
       "28984"
      ]
     },
     "execution_count": 18,
     "metadata": {},
     "output_type": "execute_result"
    }
   ],
   "source": [
    "len(filia_2018['NR_CPF_CANDIDATO'].unique())"
   ]
  },
  {
   "cell_type": "code",
   "execution_count": 22,
   "id": "e9e26a1d",
   "metadata": {},
   "outputs": [
    {
     "name": "stdout",
     "output_type": "stream",
     "text": [
      "<class 'pandas.core.frame.DataFrame'>\n",
      "RangeIndex: 29180 entries, 0 to 29179\n",
      "Data columns (total 2 columns):\n",
      " #   Column            Non-Null Count  Dtype \n",
      "---  ------            --------------  ----- \n",
      " 0   NR_CPF_CANDIDATO  29180 non-null  object\n",
      " 1   SG_PARTIDO        29180 non-null  object\n",
      "dtypes: object(2)\n",
      "memory usage: 456.1+ KB\n"
     ]
    }
   ],
   "source": [
    "filia_2018.info()"
   ]
  },
  {
   "cell_type": "code",
   "execution_count": 23,
   "id": "ea1e765e",
   "metadata": {},
   "outputs": [
    {
     "name": "stdout",
     "output_type": "stream",
     "text": [
      "<class 'pandas.core.frame.DataFrame'>\n",
      "RangeIndex: 28288 entries, 0 to 28287\n",
      "Data columns (total 2 columns):\n",
      " #   Column            Non-Null Count  Dtype \n",
      "---  ------            --------------  ----- \n",
      " 0   NR_CPF_CANDIDATO  28288 non-null  object\n",
      " 1   SG_PARTIDO        28288 non-null  object\n",
      "dtypes: object(2)\n",
      "memory usage: 442.1+ KB\n"
     ]
    }
   ],
   "source": [
    "filia_2022.info()"
   ]
  },
  {
   "cell_type": "code",
   "execution_count": 35,
   "id": "aec8262a",
   "metadata": {},
   "outputs": [],
   "source": [
    "mudancas = filia_2022.merge(filia_2018, how='outer', on='NR_CPF_CANDIDATO')"
   ]
  },
  {
   "cell_type": "code",
   "execution_count": 36,
   "id": "092d268e",
   "metadata": {},
   "outputs": [],
   "source": [
    "mudancas = mudancas.fillna('(NC)')"
   ]
  },
  {
   "cell_type": "code",
   "execution_count": 47,
   "id": "55ffbf91",
   "metadata": {},
   "outputs": [
    {
     "data": {
      "text/html": [
       "<div>\n",
       "<style scoped>\n",
       "    .dataframe tbody tr th:only-of-type {\n",
       "        vertical-align: middle;\n",
       "    }\n",
       "\n",
       "    .dataframe tbody tr th {\n",
       "        vertical-align: top;\n",
       "    }\n",
       "\n",
       "    .dataframe thead th {\n",
       "        text-align: right;\n",
       "    }\n",
       "</style>\n",
       "<table border=\"1\" class=\"dataframe\">\n",
       "  <thead>\n",
       "    <tr style=\"text-align: right;\">\n",
       "      <th></th>\n",
       "      <th>NR_CPF_CANDIDATO</th>\n",
       "      <th>SG_PARTIDO_x</th>\n",
       "      <th>SG_PARTIDO_y</th>\n",
       "    </tr>\n",
       "  </thead>\n",
       "  <tbody>\n",
       "    <tr>\n",
       "      <th>44816</th>\n",
       "      <td>61146838204</td>\n",
       "      <td>(NC)</td>\n",
       "      <td>PT</td>\n",
       "    </tr>\n",
       "    <tr>\n",
       "      <th>44815</th>\n",
       "      <td>61146838204</td>\n",
       "      <td>(NC)</td>\n",
       "      <td>PT</td>\n",
       "    </tr>\n",
       "    <tr>\n",
       "      <th>85</th>\n",
       "      <td>61442645318</td>\n",
       "      <td>CIDADANIA</td>\n",
       "      <td>(NC)</td>\n",
       "    </tr>\n",
       "    <tr>\n",
       "      <th>86</th>\n",
       "      <td>61442645318</td>\n",
       "      <td>CIDADANIA</td>\n",
       "      <td>(NC)</td>\n",
       "    </tr>\n",
       "    <tr>\n",
       "      <th>27952</th>\n",
       "      <td>61674630182</td>\n",
       "      <td>PT</td>\n",
       "      <td>PT</td>\n",
       "    </tr>\n",
       "    <tr>\n",
       "      <th>27953</th>\n",
       "      <td>61674630182</td>\n",
       "      <td>PT</td>\n",
       "      <td>PT</td>\n",
       "    </tr>\n",
       "    <tr>\n",
       "      <th>5436</th>\n",
       "      <td>62100491334</td>\n",
       "      <td>PDT</td>\n",
       "      <td>(NC)</td>\n",
       "    </tr>\n",
       "    <tr>\n",
       "      <th>5435</th>\n",
       "      <td>62100491334</td>\n",
       "      <td>PDT</td>\n",
       "      <td>(NC)</td>\n",
       "    </tr>\n",
       "    <tr>\n",
       "      <th>6123</th>\n",
       "      <td>62183427353</td>\n",
       "      <td>PSDB</td>\n",
       "      <td>PATRIOTA</td>\n",
       "    </tr>\n",
       "    <tr>\n",
       "      <th>6122</th>\n",
       "      <td>62183427353</td>\n",
       "      <td>PSDB</td>\n",
       "      <td>PATRIOTA</td>\n",
       "    </tr>\n",
       "    <tr>\n",
       "      <th>3811</th>\n",
       "      <td>62287958304</td>\n",
       "      <td>CIDADANIA</td>\n",
       "      <td>(NC)</td>\n",
       "    </tr>\n",
       "    <tr>\n",
       "      <th>3812</th>\n",
       "      <td>62287958304</td>\n",
       "      <td>CIDADANIA</td>\n",
       "      <td>(NC)</td>\n",
       "    </tr>\n",
       "    <tr>\n",
       "      <th>44743</th>\n",
       "      <td>62501313615</td>\n",
       "      <td>(NC)</td>\n",
       "      <td>PSB</td>\n",
       "    </tr>\n",
       "    <tr>\n",
       "      <th>44744</th>\n",
       "      <td>62501313615</td>\n",
       "      <td>(NC)</td>\n",
       "      <td>PSB</td>\n",
       "    </tr>\n",
       "    <tr>\n",
       "      <th>24406</th>\n",
       "      <td>62528084900</td>\n",
       "      <td>REPUBLICANOS</td>\n",
       "      <td>PSL</td>\n",
       "    </tr>\n",
       "    <tr>\n",
       "      <th>24405</th>\n",
       "      <td>62528084900</td>\n",
       "      <td>REPUBLICANOS</td>\n",
       "      <td>PSL</td>\n",
       "    </tr>\n",
       "    <tr>\n",
       "      <th>2360</th>\n",
       "      <td>62594370215</td>\n",
       "      <td>MDB</td>\n",
       "      <td>MDB</td>\n",
       "    </tr>\n",
       "    <tr>\n",
       "      <th>2359</th>\n",
       "      <td>62594370215</td>\n",
       "      <td>MDB</td>\n",
       "      <td>MDB</td>\n",
       "    </tr>\n",
       "    <tr>\n",
       "      <th>30467</th>\n",
       "      <td>62686895268</td>\n",
       "      <td>(NC)</td>\n",
       "      <td>PHS</td>\n",
       "    </tr>\n",
       "    <tr>\n",
       "      <th>30466</th>\n",
       "      <td>62686895268</td>\n",
       "      <td>(NC)</td>\n",
       "      <td>PHS</td>\n",
       "    </tr>\n",
       "    <tr>\n",
       "      <th>48908</th>\n",
       "      <td>62732226653</td>\n",
       "      <td>(NC)</td>\n",
       "      <td>PTC</td>\n",
       "    </tr>\n",
       "    <tr>\n",
       "      <th>48909</th>\n",
       "      <td>62732226653</td>\n",
       "      <td>(NC)</td>\n",
       "      <td>PTC</td>\n",
       "    </tr>\n",
       "    <tr>\n",
       "      <th>31786</th>\n",
       "      <td>62849441520</td>\n",
       "      <td>(NC)</td>\n",
       "      <td>PRTB</td>\n",
       "    </tr>\n",
       "    <tr>\n",
       "      <th>31785</th>\n",
       "      <td>62849441520</td>\n",
       "      <td>(NC)</td>\n",
       "      <td>PRTB</td>\n",
       "    </tr>\n",
       "    <tr>\n",
       "      <th>35598</th>\n",
       "      <td>62918311987</td>\n",
       "      <td>(NC)</td>\n",
       "      <td>PSD</td>\n",
       "    </tr>\n",
       "    <tr>\n",
       "      <th>35599</th>\n",
       "      <td>62918311987</td>\n",
       "      <td>(NC)</td>\n",
       "      <td>PSD</td>\n",
       "    </tr>\n",
       "    <tr>\n",
       "      <th>5080</th>\n",
       "      <td>63106981334</td>\n",
       "      <td>PSDB</td>\n",
       "      <td>PTB</td>\n",
       "    </tr>\n",
       "    <tr>\n",
       "      <th>5081</th>\n",
       "      <td>63106981334</td>\n",
       "      <td>PSDB</td>\n",
       "      <td>PTB</td>\n",
       "    </tr>\n",
       "    <tr>\n",
       "      <th>5116</th>\n",
       "      <td>63161818504</td>\n",
       "      <td>PROS</td>\n",
       "      <td>(NC)</td>\n",
       "    </tr>\n",
       "    <tr>\n",
       "      <th>5117</th>\n",
       "      <td>63161818504</td>\n",
       "      <td>PROS</td>\n",
       "      <td>(NC)</td>\n",
       "    </tr>\n",
       "    <tr>\n",
       "      <th>732</th>\n",
       "      <td>63985365172</td>\n",
       "      <td>PROS</td>\n",
       "      <td>(NC)</td>\n",
       "    </tr>\n",
       "    <tr>\n",
       "      <th>733</th>\n",
       "      <td>63985365172</td>\n",
       "      <td>PROS</td>\n",
       "      <td>(NC)</td>\n",
       "    </tr>\n",
       "    <tr>\n",
       "      <th>13374</th>\n",
       "      <td>64420035315</td>\n",
       "      <td>CIDADANIA</td>\n",
       "      <td>(NC)</td>\n",
       "    </tr>\n",
       "    <tr>\n",
       "      <th>13375</th>\n",
       "      <td>64420035315</td>\n",
       "      <td>CIDADANIA</td>\n",
       "      <td>(NC)</td>\n",
       "    </tr>\n",
       "    <tr>\n",
       "      <th>2125</th>\n",
       "      <td>64649520487</td>\n",
       "      <td>PMB</td>\n",
       "      <td>PRTB</td>\n",
       "    </tr>\n",
       "    <tr>\n",
       "      <th>2126</th>\n",
       "      <td>64649520487</td>\n",
       "      <td>PMB</td>\n",
       "      <td>PRTB</td>\n",
       "    </tr>\n",
       "    <tr>\n",
       "      <th>820</th>\n",
       "      <td>64722945349</td>\n",
       "      <td>PSDB</td>\n",
       "      <td>(NC)</td>\n",
       "    </tr>\n",
       "    <tr>\n",
       "      <th>821</th>\n",
       "      <td>64722945349</td>\n",
       "      <td>PSDB</td>\n",
       "      <td>(NC)</td>\n",
       "    </tr>\n",
       "    <tr>\n",
       "      <th>4539</th>\n",
       "      <td>64982874549</td>\n",
       "      <td>PROS</td>\n",
       "      <td>PATRIOTA</td>\n",
       "    </tr>\n",
       "    <tr>\n",
       "      <th>4538</th>\n",
       "      <td>64982874549</td>\n",
       "      <td>PROS</td>\n",
       "      <td>PATRIOTA</td>\n",
       "    </tr>\n",
       "    <tr>\n",
       "      <th>16987</th>\n",
       "      <td>65061187920</td>\n",
       "      <td>PL</td>\n",
       "      <td>PATRIOTA</td>\n",
       "    </tr>\n",
       "    <tr>\n",
       "      <th>16986</th>\n",
       "      <td>65061187920</td>\n",
       "      <td>PL</td>\n",
       "      <td>PATRIOTA</td>\n",
       "    </tr>\n",
       "    <tr>\n",
       "      <th>2044</th>\n",
       "      <td>65338588153</td>\n",
       "      <td>PROS</td>\n",
       "      <td>(NC)</td>\n",
       "    </tr>\n",
       "    <tr>\n",
       "      <th>2043</th>\n",
       "      <td>65338588153</td>\n",
       "      <td>PROS</td>\n",
       "      <td>(NC)</td>\n",
       "    </tr>\n",
       "    <tr>\n",
       "      <th>43045</th>\n",
       "      <td>65677951234</td>\n",
       "      <td>(NC)</td>\n",
       "      <td>PRTB</td>\n",
       "    </tr>\n",
       "    <tr>\n",
       "      <th>43046</th>\n",
       "      <td>65677951234</td>\n",
       "      <td>(NC)</td>\n",
       "      <td>PRTB</td>\n",
       "    </tr>\n",
       "    <tr>\n",
       "      <th>8578</th>\n",
       "      <td>65772911287</td>\n",
       "      <td>PSB</td>\n",
       "      <td>PSB</td>\n",
       "    </tr>\n",
       "    <tr>\n",
       "      <th>8579</th>\n",
       "      <td>65772911287</td>\n",
       "      <td>PSB</td>\n",
       "      <td>PSB</td>\n",
       "    </tr>\n",
       "    <tr>\n",
       "      <th>8580</th>\n",
       "      <td>65772911287</td>\n",
       "      <td>PSB</td>\n",
       "      <td>PSB</td>\n",
       "    </tr>\n",
       "  </tbody>\n",
       "</table>\n",
       "</div>"
      ],
      "text/plain": [
       "      NR_CPF_CANDIDATO  SG_PARTIDO_x SG_PARTIDO_y\n",
       "44816      61146838204          (NC)           PT\n",
       "44815      61146838204          (NC)           PT\n",
       "85         61442645318     CIDADANIA         (NC)\n",
       "86         61442645318     CIDADANIA         (NC)\n",
       "27952      61674630182            PT           PT\n",
       "27953      61674630182            PT           PT\n",
       "5436       62100491334           PDT         (NC)\n",
       "5435       62100491334           PDT         (NC)\n",
       "6123       62183427353          PSDB     PATRIOTA\n",
       "6122       62183427353          PSDB     PATRIOTA\n",
       "3811       62287958304     CIDADANIA         (NC)\n",
       "3812       62287958304     CIDADANIA         (NC)\n",
       "44743      62501313615          (NC)          PSB\n",
       "44744      62501313615          (NC)          PSB\n",
       "24406      62528084900  REPUBLICANOS          PSL\n",
       "24405      62528084900  REPUBLICANOS          PSL\n",
       "2360       62594370215           MDB          MDB\n",
       "2359       62594370215           MDB          MDB\n",
       "30467      62686895268          (NC)          PHS\n",
       "30466      62686895268          (NC)          PHS\n",
       "48908      62732226653          (NC)          PTC\n",
       "48909      62732226653          (NC)          PTC\n",
       "31786      62849441520          (NC)         PRTB\n",
       "31785      62849441520          (NC)         PRTB\n",
       "35598      62918311987          (NC)          PSD\n",
       "35599      62918311987          (NC)          PSD\n",
       "5080       63106981334          PSDB          PTB\n",
       "5081       63106981334          PSDB          PTB\n",
       "5116       63161818504          PROS         (NC)\n",
       "5117       63161818504          PROS         (NC)\n",
       "732        63985365172          PROS         (NC)\n",
       "733        63985365172          PROS         (NC)\n",
       "13374      64420035315     CIDADANIA         (NC)\n",
       "13375      64420035315     CIDADANIA         (NC)\n",
       "2125       64649520487           PMB         PRTB\n",
       "2126       64649520487           PMB         PRTB\n",
       "820        64722945349          PSDB         (NC)\n",
       "821        64722945349          PSDB         (NC)\n",
       "4539       64982874549          PROS     PATRIOTA\n",
       "4538       64982874549          PROS     PATRIOTA\n",
       "16987      65061187920            PL     PATRIOTA\n",
       "16986      65061187920            PL     PATRIOTA\n",
       "2044       65338588153          PROS         (NC)\n",
       "2043       65338588153          PROS         (NC)\n",
       "43045      65677951234          (NC)         PRTB\n",
       "43046      65677951234          (NC)         PRTB\n",
       "8578       65772911287           PSB          PSB\n",
       "8579       65772911287           PSB          PSB\n",
       "8580       65772911287           PSB          PSB"
      ]
     },
     "execution_count": 47,
     "metadata": {},
     "output_type": "execute_result"
    }
   ],
   "source": [
    "mudancas[mudancas.duplicated(subset='NR_CPF_CANDIDATO', keep=False)].sort_values(by='NR_CPF_CANDIDATO')[500:549]"
   ]
  },
  {
   "cell_type": "code",
   "execution_count": 48,
   "id": "f70a49a8",
   "metadata": {},
   "outputs": [],
   "source": [
    "mudancas.columns = ['CPF', 'E2022', 'E2018']"
   ]
  },
  {
   "cell_type": "code",
   "execution_count": 49,
   "id": "5893170e",
   "metadata": {},
   "outputs": [],
   "source": [
    "mudancas = mudancas[['CPF', 'E2018', 'E2022']]"
   ]
  },
  {
   "cell_type": "code",
   "execution_count": 50,
   "id": "37f9e64d",
   "metadata": {},
   "outputs": [],
   "source": [
    "mudancas = mudancas.drop_duplicates(subset=['CPF'], keep='last')"
   ]
  },
  {
   "cell_type": "code",
   "execution_count": 51,
   "id": "cdccba54",
   "metadata": {},
   "outputs": [
    {
     "data": {
      "text/html": [
       "<div>\n",
       "<style scoped>\n",
       "    .dataframe tbody tr th:only-of-type {\n",
       "        vertical-align: middle;\n",
       "    }\n",
       "\n",
       "    .dataframe tbody tr th {\n",
       "        vertical-align: top;\n",
       "    }\n",
       "\n",
       "    .dataframe thead th {\n",
       "        text-align: right;\n",
       "    }\n",
       "</style>\n",
       "<table border=\"1\" class=\"dataframe\">\n",
       "  <thead>\n",
       "    <tr style=\"text-align: right;\">\n",
       "      <th></th>\n",
       "      <th>CPF</th>\n",
       "      <th>E2018</th>\n",
       "      <th>E2022</th>\n",
       "    </tr>\n",
       "  </thead>\n",
       "  <tbody>\n",
       "    <tr>\n",
       "      <th>0</th>\n",
       "      <td>03214013521</td>\n",
       "      <td>(NC)</td>\n",
       "      <td>PMN</td>\n",
       "    </tr>\n",
       "    <tr>\n",
       "      <th>1</th>\n",
       "      <td>88416607087</td>\n",
       "      <td>(NC)</td>\n",
       "      <td>PATRIOTA</td>\n",
       "    </tr>\n",
       "    <tr>\n",
       "      <th>2</th>\n",
       "      <td>07736144788</td>\n",
       "      <td>(NC)</td>\n",
       "      <td>PATRIOTA</td>\n",
       "    </tr>\n",
       "    <tr>\n",
       "      <th>3</th>\n",
       "      <td>13391704349</td>\n",
       "      <td>(NC)</td>\n",
       "      <td>PODE</td>\n",
       "    </tr>\n",
       "    <tr>\n",
       "      <th>4</th>\n",
       "      <td>78285089215</td>\n",
       "      <td>(NC)</td>\n",
       "      <td>PSOL</td>\n",
       "    </tr>\n",
       "    <tr>\n",
       "      <th>...</th>\n",
       "      <td>...</td>\n",
       "      <td>...</td>\n",
       "      <td>...</td>\n",
       "    </tr>\n",
       "    <tr>\n",
       "      <th>51144</th>\n",
       "      <td>71490442200</td>\n",
       "      <td>PRP</td>\n",
       "      <td>(NC)</td>\n",
       "    </tr>\n",
       "    <tr>\n",
       "      <th>51145</th>\n",
       "      <td>01471949702</td>\n",
       "      <td>PPL</td>\n",
       "      <td>(NC)</td>\n",
       "    </tr>\n",
       "    <tr>\n",
       "      <th>51146</th>\n",
       "      <td>12539062890</td>\n",
       "      <td>PATRIOTA</td>\n",
       "      <td>(NC)</td>\n",
       "    </tr>\n",
       "    <tr>\n",
       "      <th>51147</th>\n",
       "      <td>98143530434</td>\n",
       "      <td>MDB</td>\n",
       "      <td>(NC)</td>\n",
       "    </tr>\n",
       "    <tr>\n",
       "      <th>51148</th>\n",
       "      <td>06018405504</td>\n",
       "      <td>AVANTE</td>\n",
       "      <td>(NC)</td>\n",
       "    </tr>\n",
       "  </tbody>\n",
       "</table>\n",
       "<p>50793 rows × 3 columns</p>\n",
       "</div>"
      ],
      "text/plain": [
       "               CPF     E2018     E2022\n",
       "0      03214013521      (NC)       PMN\n",
       "1      88416607087      (NC)  PATRIOTA\n",
       "2      07736144788      (NC)  PATRIOTA\n",
       "3      13391704349      (NC)      PODE\n",
       "4      78285089215      (NC)      PSOL\n",
       "...            ...       ...       ...\n",
       "51144  71490442200       PRP      (NC)\n",
       "51145  01471949702       PPL      (NC)\n",
       "51146  12539062890  PATRIOTA      (NC)\n",
       "51147  98143530434       MDB      (NC)\n",
       "51148  06018405504    AVANTE      (NC)\n",
       "\n",
       "[50793 rows x 3 columns]"
      ]
     },
     "execution_count": 51,
     "metadata": {},
     "output_type": "execute_result"
    }
   ],
   "source": [
    "mudancas"
   ]
  },
  {
   "cell_type": "code",
   "execution_count": 52,
   "id": "7851d4c3",
   "metadata": {},
   "outputs": [],
   "source": [
    "mudancas = mudancas.reset_index(drop=True)"
   ]
  },
  {
   "cell_type": "code",
   "execution_count": 56,
   "id": "71aea97f",
   "metadata": {},
   "outputs": [],
   "source": [
    "fluxos = mudancas.groupby(['E2018', 'E2022']).CPF.count().reset_index().sort_values(by='CPF', ascending=False).reset_index(drop=True)"
   ]
  },
  {
   "cell_type": "code",
   "execution_count": 57,
   "id": "2044db5f",
   "metadata": {},
   "outputs": [
    {
     "data": {
      "text/html": [
       "<div>\n",
       "<style scoped>\n",
       "    .dataframe tbody tr th:only-of-type {\n",
       "        vertical-align: middle;\n",
       "    }\n",
       "\n",
       "    .dataframe tbody tr th {\n",
       "        vertical-align: top;\n",
       "    }\n",
       "\n",
       "    .dataframe thead th {\n",
       "        text-align: right;\n",
       "    }\n",
       "</style>\n",
       "<table border=\"1\" class=\"dataframe\">\n",
       "  <thead>\n",
       "    <tr style=\"text-align: right;\">\n",
       "      <th></th>\n",
       "      <th>E2018</th>\n",
       "      <th>E2022</th>\n",
       "      <th>CPF</th>\n",
       "    </tr>\n",
       "  </thead>\n",
       "  <tbody>\n",
       "    <tr>\n",
       "      <th>0</th>\n",
       "      <td>(NC)</td>\n",
       "      <td>PL</td>\n",
       "      <td>1123</td>\n",
       "    </tr>\n",
       "    <tr>\n",
       "      <th>1</th>\n",
       "      <td>(NC)</td>\n",
       "      <td>PTB</td>\n",
       "      <td>1097</td>\n",
       "    </tr>\n",
       "    <tr>\n",
       "      <th>2</th>\n",
       "      <td>PSL</td>\n",
       "      <td>(NC)</td>\n",
       "      <td>1048</td>\n",
       "    </tr>\n",
       "    <tr>\n",
       "      <th>3</th>\n",
       "      <td>(NC)</td>\n",
       "      <td>UNIÃO</td>\n",
       "      <td>1043</td>\n",
       "    </tr>\n",
       "    <tr>\n",
       "      <th>4</th>\n",
       "      <td>(NC)</td>\n",
       "      <td>PDT</td>\n",
       "      <td>1038</td>\n",
       "    </tr>\n",
       "    <tr>\n",
       "      <th>...</th>\n",
       "      <td>...</td>\n",
       "      <td>...</td>\n",
       "      <td>...</td>\n",
       "    </tr>\n",
       "    <tr>\n",
       "      <th>824</th>\n",
       "      <td>PSOL</td>\n",
       "      <td>REPUBLICANOS</td>\n",
       "      <td>1</td>\n",
       "    </tr>\n",
       "    <tr>\n",
       "      <th>825</th>\n",
       "      <td>PSOL</td>\n",
       "      <td>UNIÃO</td>\n",
       "      <td>1</td>\n",
       "    </tr>\n",
       "    <tr>\n",
       "      <th>826</th>\n",
       "      <td>PSOL</td>\n",
       "      <td>UP</td>\n",
       "      <td>1</td>\n",
       "    </tr>\n",
       "    <tr>\n",
       "      <th>827</th>\n",
       "      <td>PSTU</td>\n",
       "      <td>PCO</td>\n",
       "      <td>1</td>\n",
       "    </tr>\n",
       "    <tr>\n",
       "      <th>828</th>\n",
       "      <td>PP</td>\n",
       "      <td>PMB</td>\n",
       "      <td>1</td>\n",
       "    </tr>\n",
       "  </tbody>\n",
       "</table>\n",
       "<p>829 rows × 3 columns</p>\n",
       "</div>"
      ],
      "text/plain": [
       "    E2018         E2022   CPF\n",
       "0    (NC)            PL  1123\n",
       "1    (NC)           PTB  1097\n",
       "2     PSL          (NC)  1048\n",
       "3    (NC)         UNIÃO  1043\n",
       "4    (NC)           PDT  1038\n",
       "..    ...           ...   ...\n",
       "824  PSOL  REPUBLICANOS     1\n",
       "825  PSOL         UNIÃO     1\n",
       "826  PSOL            UP     1\n",
       "827  PSTU           PCO     1\n",
       "828    PP           PMB     1\n",
       "\n",
       "[829 rows x 3 columns]"
      ]
     },
     "execution_count": 57,
     "metadata": {},
     "output_type": "execute_result"
    }
   ],
   "source": [
    "fluxos"
   ]
  },
  {
   "cell_type": "code",
   "execution_count": 62,
   "id": "afac07dd",
   "metadata": {},
   "outputs": [],
   "source": [
    "fluxos_i = fluxos[(fluxos.E2018 != '(NC)') & (fluxos.E2022 != '(NC)')]"
   ]
  },
  {
   "cell_type": "code",
   "execution_count": 66,
   "id": "2c9c6efb",
   "metadata": {},
   "outputs": [],
   "source": [
    "fluxos_i.to_csv('fluxos_partidos_i.csv', index=False)"
   ]
  },
  {
   "cell_type": "code",
   "execution_count": 67,
   "id": "ac8f440f",
   "metadata": {},
   "outputs": [
    {
     "data": {
      "text/plain": [
       "(762, 3)"
      ]
     },
     "execution_count": 67,
     "metadata": {},
     "output_type": "execute_result"
    }
   ],
   "source": [
    "fluxos_i.shape"
   ]
  },
  {
   "cell_type": "code",
   "execution_count": 65,
   "id": "00b7e6d9",
   "metadata": {},
   "outputs": [
    {
     "data": {
      "text/plain": [
       "'C:\\\\Users\\\\rgarcia\\\\Documents\\\\GitHub\\\\eleicoes_2022'"
      ]
     },
     "execution_count": 65,
     "metadata": {},
     "output_type": "execute_result"
    }
   ],
   "source": [
    "import os\n",
    "os.getcwd()"
   ]
  },
  {
   "cell_type": "code",
   "execution_count": null,
   "id": "e8d49f6e",
   "metadata": {},
   "outputs": [],
   "source": []
  },
  {
   "cell_type": "code",
   "execution_count": null,
   "id": "a3672a0d",
   "metadata": {},
   "outputs": [],
   "source": []
  },
  {
   "cell_type": "code",
   "execution_count": null,
   "id": "701e03a1",
   "metadata": {},
   "outputs": [],
   "source": []
  }
 ],
 "metadata": {
  "kernelspec": {
   "display_name": "Python 3 (ipykernel)",
   "language": "python",
   "name": "python3"
  },
  "language_info": {
   "codemirror_mode": {
    "name": "ipython",
    "version": 3
   },
   "file_extension": ".py",
   "mimetype": "text/x-python",
   "name": "python",
   "nbconvert_exporter": "python",
   "pygments_lexer": "ipython3",
   "version": "3.10.5"
  }
 },
 "nbformat": 4,
 "nbformat_minor": 5
}
