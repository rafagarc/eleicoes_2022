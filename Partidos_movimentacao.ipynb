{
 "cells": [
  {
   "cell_type": "code",
   "execution_count": 1,
   "id": "365690ad",
   "metadata": {},
   "outputs": [],
   "source": [
    "import pandas as pd"
   ]
  },
  {
   "cell_type": "code",
   "execution_count": 2,
   "id": "c9b5a2f9",
   "metadata": {},
   "outputs": [],
   "source": [
    "dataset_2018 = r'C:\\Users\\rgarcia\\Documents\\GitHub\\eleicoes_2022\\consulta_cand_2018_BRASIL.csv'\n",
    "dataset_2022 = r'C:\\Users\\rgarcia\\Documents\\GitHub\\eleicoes_2022\\consulta_cand_2022_BRASIL.csv'"
   ]
  },
  {
   "cell_type": "code",
   "execution_count": 3,
   "id": "7b0a5fd4",
   "metadata": {},
   "outputs": [],
   "source": [
    "cand_2018 = pd.read_csv(dataset_2018, sep=';', encoding='ISO-8859-1', decimal=',', low_memory=False)"
   ]
  },
  {
   "cell_type": "code",
   "execution_count": 4,
   "id": "c99c8088",
   "metadata": {},
   "outputs": [],
   "source": [
    "cand_2018['SG_PARTIDO'] = cand_2018['SG_PARTIDO'].replace('PL', 'PR')"
   ]
  },
  {
   "cell_type": "code",
   "execution_count": 5,
   "id": "20ed432e",
   "metadata": {},
   "outputs": [],
   "source": [
    "cand_2018['SG_PARTIDO'] = cand_2018['SG_PARTIDO'].replace('CIDADANIA', 'PPS')"
   ]
  },
  {
   "cell_type": "code",
   "execution_count": 6,
   "id": "54c48125",
   "metadata": {},
   "outputs": [],
   "source": [
    "cand_2022 = pd.read_csv(dataset_2022, sep=';', encoding='ISO-8859-1', decimal=',', low_memory=False)"
   ]
  },
  {
   "cell_type": "code",
   "execution_count": 7,
   "id": "aaa24ef3",
   "metadata": {},
   "outputs": [],
   "source": [
    "filia_2018 = cand_2018[['NR_CPF_CANDIDATO', 'SG_PARTIDO']]"
   ]
  },
  {
   "cell_type": "code",
   "execution_count": 8,
   "id": "73db5d41",
   "metadata": {},
   "outputs": [],
   "source": [
    "filia_2022 = cand_2022[['NR_CPF_CANDIDATO', 'SG_PARTIDO']]"
   ]
  },
  {
   "cell_type": "code",
   "execution_count": 9,
   "id": "7263e402",
   "metadata": {},
   "outputs": [
    {
     "data": {
      "text/plain": [
       "dtype('O')"
      ]
     },
     "execution_count": 9,
     "metadata": {},
     "output_type": "execute_result"
    }
   ],
   "source": [
    "filia_2018.NR_CPF_CANDIDATO.dtype"
   ]
  },
  {
   "cell_type": "code",
   "execution_count": 10,
   "id": "2bbf36ad",
   "metadata": {},
   "outputs": [
    {
     "data": {
      "text/plain": [
       "dtype('int64')"
      ]
     },
     "execution_count": 10,
     "metadata": {},
     "output_type": "execute_result"
    }
   ],
   "source": [
    "filia_2022.NR_CPF_CANDIDATO.dtype"
   ]
  },
  {
   "cell_type": "code",
   "execution_count": 11,
   "id": "47ce6831",
   "metadata": {},
   "outputs": [
    {
     "name": "stderr",
     "output_type": "stream",
     "text": [
      "C:\\Users\\rgarcia\\AppData\\Local\\Temp\\ipykernel_4532\\1067535450.py:1: SettingWithCopyWarning: \n",
      "A value is trying to be set on a copy of a slice from a DataFrame.\n",
      "Try using .loc[row_indexer,col_indexer] = value instead\n",
      "\n",
      "See the caveats in the documentation: https://pandas.pydata.org/pandas-docs/stable/user_guide/indexing.html#returning-a-view-versus-a-copy\n",
      "  filia_2022['NR_CPF_CANDIDATO'] = filia_2022['NR_CPF_CANDIDATO'].astype(str)\n"
     ]
    }
   ],
   "source": [
    "filia_2022['NR_CPF_CANDIDATO'] = filia_2022['NR_CPF_CANDIDATO'].astype(str)"
   ]
  },
  {
   "cell_type": "code",
   "execution_count": 12,
   "id": "6ec83781",
   "metadata": {},
   "outputs": [
    {
     "name": "stderr",
     "output_type": "stream",
     "text": [
      "C:\\Users\\rgarcia\\AppData\\Local\\Temp\\ipykernel_4532\\3189833624.py:1: SettingWithCopyWarning: \n",
      "A value is trying to be set on a copy of a slice from a DataFrame.\n",
      "Try using .loc[row_indexer,col_indexer] = value instead\n",
      "\n",
      "See the caveats in the documentation: https://pandas.pydata.org/pandas-docs/stable/user_guide/indexing.html#returning-a-view-versus-a-copy\n",
      "  filia_2022['NR_CPF_CANDIDATO'] = filia_2022['NR_CPF_CANDIDATO'].str.zfill(11)\n"
     ]
    }
   ],
   "source": [
    "filia_2022['NR_CPF_CANDIDATO'] = filia_2022['NR_CPF_CANDIDATO'].str.zfill(11)"
   ]
  },
  {
   "cell_type": "code",
   "execution_count": 13,
   "id": "90b0ebcf",
   "metadata": {},
   "outputs": [
    {
     "data": {
      "text/plain": [
       "array([11], dtype=int64)"
      ]
     },
     "execution_count": 13,
     "metadata": {},
     "output_type": "execute_result"
    }
   ],
   "source": [
    "filia_2018['NR_CPF_CANDIDATO'].str.len().unique()"
   ]
  },
  {
   "cell_type": "code",
   "execution_count": 14,
   "id": "84ccd28e",
   "metadata": {},
   "outputs": [
    {
     "data": {
      "text/plain": [
       "28984"
      ]
     },
     "execution_count": 14,
     "metadata": {},
     "output_type": "execute_result"
    }
   ],
   "source": [
    "len(filia_2018['NR_CPF_CANDIDATO'].unique())"
   ]
  },
  {
   "cell_type": "code",
   "execution_count": 15,
   "id": "555808a3",
   "metadata": {},
   "outputs": [
    {
     "name": "stdout",
     "output_type": "stream",
     "text": [
      "<class 'pandas.core.frame.DataFrame'>\n",
      "RangeIndex: 29180 entries, 0 to 29179\n",
      "Data columns (total 2 columns):\n",
      " #   Column            Non-Null Count  Dtype \n",
      "---  ------            --------------  ----- \n",
      " 0   NR_CPF_CANDIDATO  29180 non-null  object\n",
      " 1   SG_PARTIDO        29180 non-null  object\n",
      "dtypes: object(2)\n",
      "memory usage: 456.1+ KB\n"
     ]
    }
   ],
   "source": [
    "filia_2018.info()"
   ]
  },
  {
   "cell_type": "code",
   "execution_count": 16,
   "id": "9fe13976",
   "metadata": {},
   "outputs": [
    {
     "name": "stdout",
     "output_type": "stream",
     "text": [
      "<class 'pandas.core.frame.DataFrame'>\n",
      "RangeIndex: 28288 entries, 0 to 28287\n",
      "Data columns (total 2 columns):\n",
      " #   Column            Non-Null Count  Dtype \n",
      "---  ------            --------------  ----- \n",
      " 0   NR_CPF_CANDIDATO  28288 non-null  object\n",
      " 1   SG_PARTIDO        28288 non-null  object\n",
      "dtypes: object(2)\n",
      "memory usage: 442.1+ KB\n"
     ]
    }
   ],
   "source": [
    "filia_2022.info()"
   ]
  },
  {
   "cell_type": "code",
   "execution_count": 30,
   "id": "c5a0f6e9",
   "metadata": {},
   "outputs": [],
   "source": [
    "mudancas = filia_2022.merge(filia_2018, how='outer', on='NR_CPF_CANDIDATO')"
   ]
  },
  {
   "cell_type": "code",
   "execution_count": 31,
   "id": "3a17b48a",
   "metadata": {},
   "outputs": [],
   "source": [
    "mudancas = mudancas.fillna('(NC)')"
   ]
  },
  {
   "cell_type": "code",
   "execution_count": 32,
   "id": "1d98630e",
   "metadata": {},
   "outputs": [
    {
     "data": {
      "text/html": [
       "<div>\n",
       "<style scoped>\n",
       "    .dataframe tbody tr th:only-of-type {\n",
       "        vertical-align: middle;\n",
       "    }\n",
       "\n",
       "    .dataframe tbody tr th {\n",
       "        vertical-align: top;\n",
       "    }\n",
       "\n",
       "    .dataframe thead th {\n",
       "        text-align: right;\n",
       "    }\n",
       "</style>\n",
       "<table border=\"1\" class=\"dataframe\">\n",
       "  <thead>\n",
       "    <tr style=\"text-align: right;\">\n",
       "      <th></th>\n",
       "      <th>NR_CPF_CANDIDATO</th>\n",
       "      <th>SG_PARTIDO_x</th>\n",
       "      <th>SG_PARTIDO_y</th>\n",
       "    </tr>\n",
       "  </thead>\n",
       "  <tbody>\n",
       "    <tr>\n",
       "      <th>44816</th>\n",
       "      <td>61146838204</td>\n",
       "      <td>(NC)</td>\n",
       "      <td>PT</td>\n",
       "    </tr>\n",
       "    <tr>\n",
       "      <th>44815</th>\n",
       "      <td>61146838204</td>\n",
       "      <td>(NC)</td>\n",
       "      <td>PT</td>\n",
       "    </tr>\n",
       "    <tr>\n",
       "      <th>85</th>\n",
       "      <td>61442645318</td>\n",
       "      <td>CIDADANIA</td>\n",
       "      <td>(NC)</td>\n",
       "    </tr>\n",
       "    <tr>\n",
       "      <th>86</th>\n",
       "      <td>61442645318</td>\n",
       "      <td>CIDADANIA</td>\n",
       "      <td>(NC)</td>\n",
       "    </tr>\n",
       "    <tr>\n",
       "      <th>27952</th>\n",
       "      <td>61674630182</td>\n",
       "      <td>PT</td>\n",
       "      <td>PT</td>\n",
       "    </tr>\n",
       "    <tr>\n",
       "      <th>27953</th>\n",
       "      <td>61674630182</td>\n",
       "      <td>PT</td>\n",
       "      <td>PT</td>\n",
       "    </tr>\n",
       "    <tr>\n",
       "      <th>5436</th>\n",
       "      <td>62100491334</td>\n",
       "      <td>PDT</td>\n",
       "      <td>(NC)</td>\n",
       "    </tr>\n",
       "    <tr>\n",
       "      <th>5435</th>\n",
       "      <td>62100491334</td>\n",
       "      <td>PDT</td>\n",
       "      <td>(NC)</td>\n",
       "    </tr>\n",
       "    <tr>\n",
       "      <th>6123</th>\n",
       "      <td>62183427353</td>\n",
       "      <td>PSDB</td>\n",
       "      <td>PATRIOTA</td>\n",
       "    </tr>\n",
       "    <tr>\n",
       "      <th>6122</th>\n",
       "      <td>62183427353</td>\n",
       "      <td>PSDB</td>\n",
       "      <td>PATRIOTA</td>\n",
       "    </tr>\n",
       "    <tr>\n",
       "      <th>3811</th>\n",
       "      <td>62287958304</td>\n",
       "      <td>CIDADANIA</td>\n",
       "      <td>(NC)</td>\n",
       "    </tr>\n",
       "    <tr>\n",
       "      <th>3812</th>\n",
       "      <td>62287958304</td>\n",
       "      <td>CIDADANIA</td>\n",
       "      <td>(NC)</td>\n",
       "    </tr>\n",
       "    <tr>\n",
       "      <th>44743</th>\n",
       "      <td>62501313615</td>\n",
       "      <td>(NC)</td>\n",
       "      <td>PSB</td>\n",
       "    </tr>\n",
       "    <tr>\n",
       "      <th>44744</th>\n",
       "      <td>62501313615</td>\n",
       "      <td>(NC)</td>\n",
       "      <td>PSB</td>\n",
       "    </tr>\n",
       "    <tr>\n",
       "      <th>24406</th>\n",
       "      <td>62528084900</td>\n",
       "      <td>REPUBLICANOS</td>\n",
       "      <td>PSL</td>\n",
       "    </tr>\n",
       "    <tr>\n",
       "      <th>24405</th>\n",
       "      <td>62528084900</td>\n",
       "      <td>REPUBLICANOS</td>\n",
       "      <td>PSL</td>\n",
       "    </tr>\n",
       "    <tr>\n",
       "      <th>2360</th>\n",
       "      <td>62594370215</td>\n",
       "      <td>MDB</td>\n",
       "      <td>MDB</td>\n",
       "    </tr>\n",
       "    <tr>\n",
       "      <th>2359</th>\n",
       "      <td>62594370215</td>\n",
       "      <td>MDB</td>\n",
       "      <td>MDB</td>\n",
       "    </tr>\n",
       "    <tr>\n",
       "      <th>30467</th>\n",
       "      <td>62686895268</td>\n",
       "      <td>(NC)</td>\n",
       "      <td>PHS</td>\n",
       "    </tr>\n",
       "    <tr>\n",
       "      <th>30466</th>\n",
       "      <td>62686895268</td>\n",
       "      <td>(NC)</td>\n",
       "      <td>PHS</td>\n",
       "    </tr>\n",
       "    <tr>\n",
       "      <th>48908</th>\n",
       "      <td>62732226653</td>\n",
       "      <td>(NC)</td>\n",
       "      <td>PTC</td>\n",
       "    </tr>\n",
       "    <tr>\n",
       "      <th>48909</th>\n",
       "      <td>62732226653</td>\n",
       "      <td>(NC)</td>\n",
       "      <td>PTC</td>\n",
       "    </tr>\n",
       "    <tr>\n",
       "      <th>31786</th>\n",
       "      <td>62849441520</td>\n",
       "      <td>(NC)</td>\n",
       "      <td>PRTB</td>\n",
       "    </tr>\n",
       "    <tr>\n",
       "      <th>31785</th>\n",
       "      <td>62849441520</td>\n",
       "      <td>(NC)</td>\n",
       "      <td>PRTB</td>\n",
       "    </tr>\n",
       "    <tr>\n",
       "      <th>35598</th>\n",
       "      <td>62918311987</td>\n",
       "      <td>(NC)</td>\n",
       "      <td>PSD</td>\n",
       "    </tr>\n",
       "    <tr>\n",
       "      <th>35599</th>\n",
       "      <td>62918311987</td>\n",
       "      <td>(NC)</td>\n",
       "      <td>PSD</td>\n",
       "    </tr>\n",
       "    <tr>\n",
       "      <th>5080</th>\n",
       "      <td>63106981334</td>\n",
       "      <td>PSDB</td>\n",
       "      <td>PTB</td>\n",
       "    </tr>\n",
       "    <tr>\n",
       "      <th>5081</th>\n",
       "      <td>63106981334</td>\n",
       "      <td>PSDB</td>\n",
       "      <td>PTB</td>\n",
       "    </tr>\n",
       "    <tr>\n",
       "      <th>5116</th>\n",
       "      <td>63161818504</td>\n",
       "      <td>PROS</td>\n",
       "      <td>(NC)</td>\n",
       "    </tr>\n",
       "    <tr>\n",
       "      <th>5117</th>\n",
       "      <td>63161818504</td>\n",
       "      <td>PROS</td>\n",
       "      <td>(NC)</td>\n",
       "    </tr>\n",
       "    <tr>\n",
       "      <th>732</th>\n",
       "      <td>63985365172</td>\n",
       "      <td>PROS</td>\n",
       "      <td>(NC)</td>\n",
       "    </tr>\n",
       "    <tr>\n",
       "      <th>733</th>\n",
       "      <td>63985365172</td>\n",
       "      <td>PROS</td>\n",
       "      <td>(NC)</td>\n",
       "    </tr>\n",
       "    <tr>\n",
       "      <th>13374</th>\n",
       "      <td>64420035315</td>\n",
       "      <td>CIDADANIA</td>\n",
       "      <td>(NC)</td>\n",
       "    </tr>\n",
       "    <tr>\n",
       "      <th>13375</th>\n",
       "      <td>64420035315</td>\n",
       "      <td>CIDADANIA</td>\n",
       "      <td>(NC)</td>\n",
       "    </tr>\n",
       "    <tr>\n",
       "      <th>2125</th>\n",
       "      <td>64649520487</td>\n",
       "      <td>PMB</td>\n",
       "      <td>PRTB</td>\n",
       "    </tr>\n",
       "    <tr>\n",
       "      <th>2126</th>\n",
       "      <td>64649520487</td>\n",
       "      <td>PMB</td>\n",
       "      <td>PRTB</td>\n",
       "    </tr>\n",
       "    <tr>\n",
       "      <th>820</th>\n",
       "      <td>64722945349</td>\n",
       "      <td>PSDB</td>\n",
       "      <td>(NC)</td>\n",
       "    </tr>\n",
       "    <tr>\n",
       "      <th>821</th>\n",
       "      <td>64722945349</td>\n",
       "      <td>PSDB</td>\n",
       "      <td>(NC)</td>\n",
       "    </tr>\n",
       "    <tr>\n",
       "      <th>4539</th>\n",
       "      <td>64982874549</td>\n",
       "      <td>PROS</td>\n",
       "      <td>PATRIOTA</td>\n",
       "    </tr>\n",
       "    <tr>\n",
       "      <th>4538</th>\n",
       "      <td>64982874549</td>\n",
       "      <td>PROS</td>\n",
       "      <td>PATRIOTA</td>\n",
       "    </tr>\n",
       "    <tr>\n",
       "      <th>16987</th>\n",
       "      <td>65061187920</td>\n",
       "      <td>PL</td>\n",
       "      <td>PATRIOTA</td>\n",
       "    </tr>\n",
       "    <tr>\n",
       "      <th>16986</th>\n",
       "      <td>65061187920</td>\n",
       "      <td>PL</td>\n",
       "      <td>PATRIOTA</td>\n",
       "    </tr>\n",
       "    <tr>\n",
       "      <th>2044</th>\n",
       "      <td>65338588153</td>\n",
       "      <td>PROS</td>\n",
       "      <td>(NC)</td>\n",
       "    </tr>\n",
       "    <tr>\n",
       "      <th>2043</th>\n",
       "      <td>65338588153</td>\n",
       "      <td>PROS</td>\n",
       "      <td>(NC)</td>\n",
       "    </tr>\n",
       "    <tr>\n",
       "      <th>43045</th>\n",
       "      <td>65677951234</td>\n",
       "      <td>(NC)</td>\n",
       "      <td>PRTB</td>\n",
       "    </tr>\n",
       "    <tr>\n",
       "      <th>43046</th>\n",
       "      <td>65677951234</td>\n",
       "      <td>(NC)</td>\n",
       "      <td>PRTB</td>\n",
       "    </tr>\n",
       "    <tr>\n",
       "      <th>8578</th>\n",
       "      <td>65772911287</td>\n",
       "      <td>PSB</td>\n",
       "      <td>PSB</td>\n",
       "    </tr>\n",
       "    <tr>\n",
       "      <th>8579</th>\n",
       "      <td>65772911287</td>\n",
       "      <td>PSB</td>\n",
       "      <td>PSB</td>\n",
       "    </tr>\n",
       "    <tr>\n",
       "      <th>8580</th>\n",
       "      <td>65772911287</td>\n",
       "      <td>PSB</td>\n",
       "      <td>PSB</td>\n",
       "    </tr>\n",
       "  </tbody>\n",
       "</table>\n",
       "</div>"
      ],
      "text/plain": [
       "      NR_CPF_CANDIDATO  SG_PARTIDO_x SG_PARTIDO_y\n",
       "44816      61146838204          (NC)           PT\n",
       "44815      61146838204          (NC)           PT\n",
       "85         61442645318     CIDADANIA         (NC)\n",
       "86         61442645318     CIDADANIA         (NC)\n",
       "27952      61674630182            PT           PT\n",
       "27953      61674630182            PT           PT\n",
       "5436       62100491334           PDT         (NC)\n",
       "5435       62100491334           PDT         (NC)\n",
       "6123       62183427353          PSDB     PATRIOTA\n",
       "6122       62183427353          PSDB     PATRIOTA\n",
       "3811       62287958304     CIDADANIA         (NC)\n",
       "3812       62287958304     CIDADANIA         (NC)\n",
       "44743      62501313615          (NC)          PSB\n",
       "44744      62501313615          (NC)          PSB\n",
       "24406      62528084900  REPUBLICANOS          PSL\n",
       "24405      62528084900  REPUBLICANOS          PSL\n",
       "2360       62594370215           MDB          MDB\n",
       "2359       62594370215           MDB          MDB\n",
       "30467      62686895268          (NC)          PHS\n",
       "30466      62686895268          (NC)          PHS\n",
       "48908      62732226653          (NC)          PTC\n",
       "48909      62732226653          (NC)          PTC\n",
       "31786      62849441520          (NC)         PRTB\n",
       "31785      62849441520          (NC)         PRTB\n",
       "35598      62918311987          (NC)          PSD\n",
       "35599      62918311987          (NC)          PSD\n",
       "5080       63106981334          PSDB          PTB\n",
       "5081       63106981334          PSDB          PTB\n",
       "5116       63161818504          PROS         (NC)\n",
       "5117       63161818504          PROS         (NC)\n",
       "732        63985365172          PROS         (NC)\n",
       "733        63985365172          PROS         (NC)\n",
       "13374      64420035315     CIDADANIA         (NC)\n",
       "13375      64420035315     CIDADANIA         (NC)\n",
       "2125       64649520487           PMB         PRTB\n",
       "2126       64649520487           PMB         PRTB\n",
       "820        64722945349          PSDB         (NC)\n",
       "821        64722945349          PSDB         (NC)\n",
       "4539       64982874549          PROS     PATRIOTA\n",
       "4538       64982874549          PROS     PATRIOTA\n",
       "16987      65061187920            PL     PATRIOTA\n",
       "16986      65061187920            PL     PATRIOTA\n",
       "2044       65338588153          PROS         (NC)\n",
       "2043       65338588153          PROS         (NC)\n",
       "43045      65677951234          (NC)         PRTB\n",
       "43046      65677951234          (NC)         PRTB\n",
       "8578       65772911287           PSB          PSB\n",
       "8579       65772911287           PSB          PSB\n",
       "8580       65772911287           PSB          PSB"
      ]
     },
     "execution_count": 32,
     "metadata": {},
     "output_type": "execute_result"
    }
   ],
   "source": [
    "mudancas[mudancas.duplicated(subset='NR_CPF_CANDIDATO', keep=False)].sort_values(by='NR_CPF_CANDIDATO')[500:549]"
   ]
  },
  {
   "cell_type": "code",
   "execution_count": 33,
   "id": "af9e1f0e",
   "metadata": {},
   "outputs": [],
   "source": [
    "mudancas.columns = ['CPF', 'E2022', 'E2018']"
   ]
  },
  {
   "cell_type": "code",
   "execution_count": 34,
   "id": "932441e9",
   "metadata": {},
   "outputs": [],
   "source": [
    "mudancas = mudancas[['CPF', 'E2018', 'E2022']]"
   ]
  },
  {
   "cell_type": "code",
   "execution_count": 35,
   "id": "3271e7ca",
   "metadata": {},
   "outputs": [],
   "source": [
    "mudancas = mudancas.drop_duplicates(subset=['CPF'], keep='last')"
   ]
  },
  {
   "cell_type": "code",
   "execution_count": 36,
   "id": "9d08ea78",
   "metadata": {},
   "outputs": [
    {
     "data": {
      "text/html": [
       "<div>\n",
       "<style scoped>\n",
       "    .dataframe tbody tr th:only-of-type {\n",
       "        vertical-align: middle;\n",
       "    }\n",
       "\n",
       "    .dataframe tbody tr th {\n",
       "        vertical-align: top;\n",
       "    }\n",
       "\n",
       "    .dataframe thead th {\n",
       "        text-align: right;\n",
       "    }\n",
       "</style>\n",
       "<table border=\"1\" class=\"dataframe\">\n",
       "  <thead>\n",
       "    <tr style=\"text-align: right;\">\n",
       "      <th></th>\n",
       "      <th>CPF</th>\n",
       "      <th>E2018</th>\n",
       "      <th>E2022</th>\n",
       "    </tr>\n",
       "  </thead>\n",
       "  <tbody>\n",
       "    <tr>\n",
       "      <th>0</th>\n",
       "      <td>03214013521</td>\n",
       "      <td>(NC)</td>\n",
       "      <td>PMN</td>\n",
       "    </tr>\n",
       "    <tr>\n",
       "      <th>1</th>\n",
       "      <td>88416607087</td>\n",
       "      <td>(NC)</td>\n",
       "      <td>PATRIOTA</td>\n",
       "    </tr>\n",
       "    <tr>\n",
       "      <th>2</th>\n",
       "      <td>07736144788</td>\n",
       "      <td>(NC)</td>\n",
       "      <td>PATRIOTA</td>\n",
       "    </tr>\n",
       "    <tr>\n",
       "      <th>3</th>\n",
       "      <td>13391704349</td>\n",
       "      <td>(NC)</td>\n",
       "      <td>PODE</td>\n",
       "    </tr>\n",
       "    <tr>\n",
       "      <th>4</th>\n",
       "      <td>78285089215</td>\n",
       "      <td>(NC)</td>\n",
       "      <td>PSOL</td>\n",
       "    </tr>\n",
       "    <tr>\n",
       "      <th>...</th>\n",
       "      <td>...</td>\n",
       "      <td>...</td>\n",
       "      <td>...</td>\n",
       "    </tr>\n",
       "    <tr>\n",
       "      <th>51144</th>\n",
       "      <td>71490442200</td>\n",
       "      <td>PRP</td>\n",
       "      <td>(NC)</td>\n",
       "    </tr>\n",
       "    <tr>\n",
       "      <th>51145</th>\n",
       "      <td>01471949702</td>\n",
       "      <td>PPL</td>\n",
       "      <td>(NC)</td>\n",
       "    </tr>\n",
       "    <tr>\n",
       "      <th>51146</th>\n",
       "      <td>12539062890</td>\n",
       "      <td>PATRIOTA</td>\n",
       "      <td>(NC)</td>\n",
       "    </tr>\n",
       "    <tr>\n",
       "      <th>51147</th>\n",
       "      <td>98143530434</td>\n",
       "      <td>MDB</td>\n",
       "      <td>(NC)</td>\n",
       "    </tr>\n",
       "    <tr>\n",
       "      <th>51148</th>\n",
       "      <td>06018405504</td>\n",
       "      <td>AVANTE</td>\n",
       "      <td>(NC)</td>\n",
       "    </tr>\n",
       "  </tbody>\n",
       "</table>\n",
       "<p>50793 rows × 3 columns</p>\n",
       "</div>"
      ],
      "text/plain": [
       "               CPF     E2018     E2022\n",
       "0      03214013521      (NC)       PMN\n",
       "1      88416607087      (NC)  PATRIOTA\n",
       "2      07736144788      (NC)  PATRIOTA\n",
       "3      13391704349      (NC)      PODE\n",
       "4      78285089215      (NC)      PSOL\n",
       "...            ...       ...       ...\n",
       "51144  71490442200       PRP      (NC)\n",
       "51145  01471949702       PPL      (NC)\n",
       "51146  12539062890  PATRIOTA      (NC)\n",
       "51147  98143530434       MDB      (NC)\n",
       "51148  06018405504    AVANTE      (NC)\n",
       "\n",
       "[50793 rows x 3 columns]"
      ]
     },
     "execution_count": 36,
     "metadata": {},
     "output_type": "execute_result"
    }
   ],
   "source": [
    "mudancas"
   ]
  },
  {
   "cell_type": "code",
   "execution_count": 37,
   "id": "a7f74e39",
   "metadata": {},
   "outputs": [],
   "source": [
    "mudancas = mudancas.reset_index(drop=True)"
   ]
  },
  {
   "cell_type": "code",
   "execution_count": 25,
   "id": "ded6264d",
   "metadata": {},
   "outputs": [
    {
     "ename": "SyntaxError",
     "evalue": "invalid syntax (4208741763.py, line 1)",
     "output_type": "error",
     "traceback": [
      "\u001b[1;36m  Input \u001b[1;32mIn [25]\u001b[1;36m\u001b[0m\n\u001b[1;33m    HALT!\u001b[0m\n\u001b[1;37m        ^\u001b[0m\n\u001b[1;31mSyntaxError\u001b[0m\u001b[1;31m:\u001b[0m invalid syntax\n"
     ]
    }
   ],
   "source": [
    "HALT!"
   ]
  },
  {
   "cell_type": "code",
   "execution_count": 38,
   "id": "4865d9a3",
   "metadata": {},
   "outputs": [],
   "source": [
    "nome_partido = {'PR':'PL',\n",
    "                'PPS':'CIDADANIA', \n",
    "                'PRB':'REPUBLICANOS', \n",
    "                # 'DEM':'UNIÃO', \n",
    "                'PTC':'AGIR',\n",
    "                # 'PSL':'UNIÃO',\n",
    "                'PPL': 'PC do B',\n",
    "                'PRP':'PATRIOTA',\n",
    "                'PHS':'PODE'}"
   ]
  },
  {
   "cell_type": "code",
   "execution_count": 39,
   "id": "231db984",
   "metadata": {},
   "outputs": [],
   "source": [
    "mudancas = mudancas.replace(nome_partido)"
   ]
  },
  {
   "cell_type": "code",
   "execution_count": null,
   "id": "85d8f65d",
   "metadata": {},
   "outputs": [],
   "source": []
  },
  {
   "cell_type": "code",
   "execution_count": null,
   "id": "0887a3f2",
   "metadata": {},
   "outputs": [],
   "source": []
  },
  {
   "cell_type": "code",
   "execution_count": null,
   "id": "c0bfea37",
   "metadata": {},
   "outputs": [],
   "source": []
  },
  {
   "cell_type": "code",
   "execution_count": 62,
   "id": "7c59aadd",
   "metadata": {},
   "outputs": [],
   "source": [
    "fluxos = mudancas.groupby(['E2018', 'E2022']).CPF.count().reset_index().sort_values(by='CPF', ascending=False).reset_index(drop=True)"
   ]
  },
  {
   "cell_type": "code",
   "execution_count": 63,
   "id": "52a31241",
   "metadata": {},
   "outputs": [
    {
     "data": {
      "text/html": [
       "<div>\n",
       "<style scoped>\n",
       "    .dataframe tbody tr th:only-of-type {\n",
       "        vertical-align: middle;\n",
       "    }\n",
       "\n",
       "    .dataframe tbody tr th {\n",
       "        vertical-align: top;\n",
       "    }\n",
       "\n",
       "    .dataframe thead th {\n",
       "        text-align: right;\n",
       "    }\n",
       "</style>\n",
       "<table border=\"1\" class=\"dataframe\">\n",
       "  <thead>\n",
       "    <tr style=\"text-align: right;\">\n",
       "      <th></th>\n",
       "      <th>E2018</th>\n",
       "      <th>E2022</th>\n",
       "      <th>CPF</th>\n",
       "    </tr>\n",
       "  </thead>\n",
       "  <tbody>\n",
       "    <tr>\n",
       "      <th>0</th>\n",
       "      <td>PATRIOTA</td>\n",
       "      <td>(NC)</td>\n",
       "      <td>1861</td>\n",
       "    </tr>\n",
       "    <tr>\n",
       "      <th>1</th>\n",
       "      <td>PODE</td>\n",
       "      <td>(NC)</td>\n",
       "      <td>1597</td>\n",
       "    </tr>\n",
       "    <tr>\n",
       "      <th>2</th>\n",
       "      <td>PC do B</td>\n",
       "      <td>(NC)</td>\n",
       "      <td>1230</td>\n",
       "    </tr>\n",
       "    <tr>\n",
       "      <th>3</th>\n",
       "      <td>(NC)</td>\n",
       "      <td>PL</td>\n",
       "      <td>1123</td>\n",
       "    </tr>\n",
       "    <tr>\n",
       "      <th>4</th>\n",
       "      <td>(NC)</td>\n",
       "      <td>PTB</td>\n",
       "      <td>1097</td>\n",
       "    </tr>\n",
       "    <tr>\n",
       "      <th>...</th>\n",
       "      <td>...</td>\n",
       "      <td>...</td>\n",
       "      <td>...</td>\n",
       "    </tr>\n",
       "    <tr>\n",
       "      <th>755</th>\n",
       "      <td>PSC</td>\n",
       "      <td>REDE</td>\n",
       "      <td>1</td>\n",
       "    </tr>\n",
       "    <tr>\n",
       "      <th>756</th>\n",
       "      <td>PSC</td>\n",
       "      <td>PV</td>\n",
       "      <td>1</td>\n",
       "    </tr>\n",
       "    <tr>\n",
       "      <th>757</th>\n",
       "      <td>PSC</td>\n",
       "      <td>PSDB</td>\n",
       "      <td>1</td>\n",
       "    </tr>\n",
       "    <tr>\n",
       "      <th>758</th>\n",
       "      <td>PSC</td>\n",
       "      <td>PRTB</td>\n",
       "      <td>1</td>\n",
       "    </tr>\n",
       "    <tr>\n",
       "      <th>759</th>\n",
       "      <td>PSD</td>\n",
       "      <td>PMB</td>\n",
       "      <td>1</td>\n",
       "    </tr>\n",
       "  </tbody>\n",
       "</table>\n",
       "<p>760 rows × 3 columns</p>\n",
       "</div>"
      ],
      "text/plain": [
       "        E2018 E2022   CPF\n",
       "0    PATRIOTA  (NC)  1861\n",
       "1        PODE  (NC)  1597\n",
       "2     PC do B  (NC)  1230\n",
       "3        (NC)    PL  1123\n",
       "4        (NC)   PTB  1097\n",
       "..        ...   ...   ...\n",
       "755       PSC  REDE     1\n",
       "756       PSC    PV     1\n",
       "757       PSC  PSDB     1\n",
       "758       PSC  PRTB     1\n",
       "759       PSD   PMB     1\n",
       "\n",
       "[760 rows x 3 columns]"
      ]
     },
     "execution_count": 63,
     "metadata": {},
     "output_type": "execute_result"
    }
   ],
   "source": [
    "fluxos"
   ]
  },
  {
   "cell_type": "code",
   "execution_count": 48,
   "id": "8f400867",
   "metadata": {},
   "outputs": [],
   "source": [
    "fluxos_i = fluxos[(fluxos.E2018 != '(NC)') & (fluxos.E2022 != '(NC)')]"
   ]
  },
  {
   "cell_type": "code",
   "execution_count": 49,
   "id": "592a8135",
   "metadata": {},
   "outputs": [],
   "source": [
    "fluxos_i.to_csv('fluxos_partidos_i.csv', index=False)"
   ]
  },
  {
   "cell_type": "code",
   "execution_count": 53,
   "id": "41a99567",
   "metadata": {},
   "outputs": [
    {
     "name": "stderr",
     "output_type": "stream",
     "text": [
      "C:\\Users\\rgarcia\\AppData\\Local\\Temp\\ipykernel_4532\\726548256.py:1: SettingWithCopyWarning: \n",
      "A value is trying to be set on a copy of a slice from a DataFrame.\n",
      "Try using .loc[row_indexer,col_indexer] = value instead\n",
      "\n",
      "See the caveats in the documentation: https://pandas.pydata.org/pandas-docs/stable/user_guide/indexing.html#returning-a-view-versus-a-copy\n",
      "  fluxos_i['Mudou?'] = fluxos_i['E2018'] != fluxos_i['E2022']\n"
     ]
    }
   ],
   "source": [
    "fluxos_i['Mudou?'] = fluxos_i['E2018'] != fluxos_i['E2022'] "
   ]
  },
  {
   "cell_type": "code",
   "execution_count": 56,
   "id": "4549ffb1",
   "metadata": {},
   "outputs": [
    {
     "data": {
      "text/plain": [
       "Mudou?\n",
       "False    2401\n",
       "True     3918\n",
       "Name: CPF, dtype: int64"
      ]
     },
     "execution_count": 56,
     "metadata": {},
     "output_type": "execute_result"
    }
   ],
   "source": [
    "fluxos_i.groupby(['Mudou?']).CPF.sum()"
   ]
  },
  {
   "cell_type": "code",
   "execution_count": 58,
   "id": "973bd497",
   "metadata": {},
   "outputs": [
    {
     "data": {
      "text/plain": [
       "0.6200348156353853"
      ]
     },
     "execution_count": 58,
     "metadata": {},
     "output_type": "execute_result"
    }
   ],
   "source": [
    "3918/(2401 + 3918)"
   ]
  },
  {
   "cell_type": "code",
   "execution_count": 59,
   "id": "65742298",
   "metadata": {},
   "outputs": [
    {
     "data": {
      "text/plain": [
       "6319"
      ]
     },
     "execution_count": 59,
     "metadata": {},
     "output_type": "execute_result"
    }
   ],
   "source": [
    "2401 + 3918"
   ]
  },
  {
   "cell_type": "code",
   "execution_count": 64,
   "id": "4f3214e7",
   "metadata": {},
   "outputs": [],
   "source": [
    "fluxos_o = fluxos[(fluxos.E2018 == '(NC)') | (fluxos.E2022 == '(NC)')]"
   ]
  },
  {
   "cell_type": "code",
   "execution_count": 66,
   "id": "1c74ffbe",
   "metadata": {},
   "outputs": [],
   "source": [
    "fluxos_o.to_csv('candidatos_novos_velhos.csv', index=False)"
   ]
  },
  {
   "cell_type": "code",
   "execution_count": null,
   "id": "02ac8cc4",
   "metadata": {},
   "outputs": [],
   "source": []
  }
 ],
 "metadata": {
  "kernelspec": {
   "display_name": "Python 3 (ipykernel)",
   "language": "python",
   "name": "python3"
  },
  "language_info": {
   "codemirror_mode": {
    "name": "ipython",
    "version": 3
   },
   "file_extension": ".py",
   "mimetype": "text/x-python",
   "name": "python",
   "nbconvert_exporter": "python",
   "pygments_lexer": "ipython3",
   "version": "3.10.5"
  }
 },
 "nbformat": 4,
 "nbformat_minor": 5
}
