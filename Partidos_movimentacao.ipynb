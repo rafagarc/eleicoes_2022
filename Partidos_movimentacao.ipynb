{
 "cells": [
  {
   "cell_type": "markdown",
   "id": "668feacc",
   "metadata": {},
   "source": [
    "# Movimentação partidária 2018 > 2022"
   ]
  },
  {
   "cell_type": "markdown",
   "id": "4a8a7360",
   "metadata": {},
   "source": [
    "## Preparo"
   ]
  },
  {
   "cell_type": "markdown",
   "id": "1432dd7b",
   "metadata": {},
   "source": [
    "### Origem dos datasets"
   ]
  },
  {
   "cell_type": "markdown",
   "id": "4e3a9a9b",
   "metadata": {},
   "source": [
    "- 2018: https://cdn.tse.jus.br/estatistica/sead/odsele/consulta_cand/consulta_cand_2018.zip\n",
    "\n",
    "- 2022: https://cdn.tse.jus.br/estatistica/sead/odsele/consulta_cand/consulta_cand_2022.zip\n",
    "\n",
    "- Metadados: https://drive.google.com/file/d/1mM1U-2hN-9usXOE4Dyvewk_wWjN-ZMuW/"
   ]
  },
  {
   "cell_type": "markdown",
   "id": "3cf17fb5",
   "metadata": {},
   "source": [
    "### Bibliotecas"
   ]
  },
  {
   "cell_type": "code",
   "execution_count": 1,
   "id": "365690ad",
   "metadata": {},
   "outputs": [],
   "source": [
    "import pandas as pd"
   ]
  },
  {
   "cell_type": "markdown",
   "id": "b23e7386",
   "metadata": {},
   "source": [
    "### Carregamento"
   ]
  },
  {
   "cell_type": "code",
   "execution_count": 43,
   "id": "c9b5a2f9",
   "metadata": {},
   "outputs": [],
   "source": [
    "dataset_2018 = r'C:\\Users\\rgarcia\\Documents\\GitHub\\eleicoes_2022\\consulta_cand_2018_BRASIL.csv'\n",
    "dataset_2022 = r'C:\\Users\\rgarcia\\Documents\\GitHub\\eleicoes_2022\\consulta_cand_2022_BRASIL.csv'\n",
    "\n",
    "cand_2018 = pd.read_csv(dataset_2018, sep=';', encoding='ISO-8859-1', decimal=',', low_memory=False)\n",
    "cand_2022 = pd.read_csv(dataset_2022, sep=';', encoding='ISO-8859-1', decimal=',', low_memory=False)"
   ]
  },
  {
   "cell_type": "code",
   "execution_count": 82,
   "id": "cf56248e",
   "metadata": {},
   "outputs": [
    {
     "data": {
      "text/plain": [
       "(28505, 71)"
      ]
     },
     "execution_count": 82,
     "metadata": {},
     "output_type": "execute_result"
    }
   ],
   "source": [
    "cand_2022.shape"
   ]
  },
  {
   "cell_type": "code",
   "execution_count": null,
   "id": "7ab76716",
   "metadata": {},
   "outputs": [],
   "source": []
  },
  {
   "cell_type": "code",
   "execution_count": 44,
   "id": "c99c8088",
   "metadata": {},
   "outputs": [],
   "source": [
    "# No dataset de 2018, PL, e CIDADANIA já tinha registro mas ainda não tinha candidato\n",
    "# Os partidos ainda estava usando os nomes antigos, então precisa ser atualizado\n",
    "\n",
    "cand_2018['SG_PARTIDO'] = cand_2018['SG_PARTIDO'].replace('PL', 'PR')\n",
    "cand_2018['SG_PARTIDO'] = cand_2018['SG_PARTIDO'].replace('CIDADANIA', 'PPS')"
   ]
  },
  {
   "cell_type": "code",
   "execution_count": 45,
   "id": "aaa24ef3",
   "metadata": {},
   "outputs": [],
   "source": [
    "filia_2018 = cand_2018[['NR_CPF_CANDIDATO','SG_PARTIDO']]"
   ]
  },
  {
   "cell_type": "code",
   "execution_count": 46,
   "id": "73db5d41",
   "metadata": {},
   "outputs": [],
   "source": [
    "filia_2022 = cand_2022[['NR_CPF_CANDIDATO','SG_PARTIDO']]"
   ]
  },
  {
   "cell_type": "code",
   "execution_count": 47,
   "id": "bb097d48",
   "metadata": {},
   "outputs": [],
   "source": [
    "# Data type do CPF é diferente entre os dois datasets\n",
    "# Precisa padronizar os datatypes antes de rodar comparações"
   ]
  },
  {
   "cell_type": "code",
   "execution_count": 48,
   "id": "7263e402",
   "metadata": {},
   "outputs": [
    {
     "data": {
      "text/plain": [
       "dtype('O')"
      ]
     },
     "execution_count": 48,
     "metadata": {},
     "output_type": "execute_result"
    }
   ],
   "source": [
    "filia_2018.NR_CPF_CANDIDATO.dtype"
   ]
  },
  {
   "cell_type": "code",
   "execution_count": 49,
   "id": "2bbf36ad",
   "metadata": {},
   "outputs": [
    {
     "data": {
      "text/plain": [
       "dtype('int64')"
      ]
     },
     "execution_count": 49,
     "metadata": {},
     "output_type": "execute_result"
    }
   ],
   "source": [
    "filia_2022.NR_CPF_CANDIDATO.dtype"
   ]
  },
  {
   "cell_type": "code",
   "execution_count": 50,
   "id": "519ce407",
   "metadata": {
    "scrolled": true
   },
   "outputs": [
    {
     "data": {
      "text/html": [
       "<div>\n",
       "<style scoped>\n",
       "    .dataframe tbody tr th:only-of-type {\n",
       "        vertical-align: middle;\n",
       "    }\n",
       "\n",
       "    .dataframe tbody tr th {\n",
       "        vertical-align: top;\n",
       "    }\n",
       "\n",
       "    .dataframe thead th {\n",
       "        text-align: right;\n",
       "    }\n",
       "</style>\n",
       "<table border=\"1\" class=\"dataframe\">\n",
       "  <thead>\n",
       "    <tr style=\"text-align: right;\">\n",
       "      <th></th>\n",
       "      <th>index</th>\n",
       "      <th>NR_CPF_CANDIDATO</th>\n",
       "      <th>SG_PARTIDO</th>\n",
       "    </tr>\n",
       "  </thead>\n",
       "  <tbody>\n",
       "    <tr>\n",
       "      <th>0</th>\n",
       "      <td>405</td>\n",
       "      <td>-4</td>\n",
       "      <td>PCO</td>\n",
       "    </tr>\n",
       "    <tr>\n",
       "      <th>1</th>\n",
       "      <td>752</td>\n",
       "      <td>-4</td>\n",
       "      <td>PCO</td>\n",
       "    </tr>\n",
       "    <tr>\n",
       "      <th>2</th>\n",
       "      <td>2927</td>\n",
       "      <td>-4</td>\n",
       "      <td>PCO</td>\n",
       "    </tr>\n",
       "    <tr>\n",
       "      <th>3</th>\n",
       "      <td>2928</td>\n",
       "      <td>-4</td>\n",
       "      <td>CIDADANIA</td>\n",
       "    </tr>\n",
       "    <tr>\n",
       "      <th>4</th>\n",
       "      <td>3654</td>\n",
       "      <td>-4</td>\n",
       "      <td>PCO</td>\n",
       "    </tr>\n",
       "    <tr>\n",
       "      <th>5</th>\n",
       "      <td>5565</td>\n",
       "      <td>-4</td>\n",
       "      <td>CIDADANIA</td>\n",
       "    </tr>\n",
       "    <tr>\n",
       "      <th>6</th>\n",
       "      <td>22586</td>\n",
       "      <td>-4</td>\n",
       "      <td>PCO</td>\n",
       "    </tr>\n",
       "    <tr>\n",
       "      <th>7</th>\n",
       "      <td>25413</td>\n",
       "      <td>-4</td>\n",
       "      <td>PCO</td>\n",
       "    </tr>\n",
       "    <tr>\n",
       "      <th>8</th>\n",
       "      <td>26860</td>\n",
       "      <td>-4</td>\n",
       "      <td>PCO</td>\n",
       "    </tr>\n",
       "  </tbody>\n",
       "</table>\n",
       "</div>"
      ],
      "text/plain": [
       "   index  NR_CPF_CANDIDATO SG_PARTIDO\n",
       "0    405                -4        PCO\n",
       "1    752                -4        PCO\n",
       "2   2927                -4        PCO\n",
       "3   2928                -4  CIDADANIA\n",
       "4   3654                -4        PCO\n",
       "5   5565                -4  CIDADANIA\n",
       "6  22586                -4        PCO\n",
       "7  25413                -4        PCO\n",
       "8  26860                -4        PCO"
      ]
     },
     "execution_count": 50,
     "metadata": {},
     "output_type": "execute_result"
    }
   ],
   "source": [
    "# CPFs não informados\n",
    "\n",
    "filia_2022[filia_2022.NR_CPF_CANDIDATO == -4].reset_index()"
   ]
  },
  {
   "cell_type": "code",
   "execution_count": 51,
   "id": "e95e80d2",
   "metadata": {},
   "outputs": [],
   "source": [
    "# Elimina candidatos que não registraram CPF\n",
    "\n",
    "filia_2022 = filia_2022[filia_2022.NR_CPF_CANDIDATO != -4]"
   ]
  },
  {
   "cell_type": "code",
   "execution_count": 56,
   "id": "a90d214e",
   "metadata": {},
   "outputs": [],
   "source": [
    "filia_2022 = filia_2022[filia_2022.NR_CPF_CANDIDATO > 10000000000].reset_index()"
   ]
  },
  {
   "cell_type": "code",
   "execution_count": null,
   "id": "ea477230",
   "metadata": {},
   "outputs": [],
   "source": []
  },
  {
   "cell_type": "code",
   "execution_count": null,
   "id": "69fb1778",
   "metadata": {},
   "outputs": [],
   "source": []
  },
  {
   "cell_type": "code",
   "execution_count": 57,
   "id": "3ba09ee7",
   "metadata": {},
   "outputs": [],
   "source": [
    "# no dataset de 2018, elimina registros que não contém apenas números\n",
    "\n",
    "filia_2018 = filia_2018[filia_2018.NR_CPF_CANDIDATO.str.isnumeric()]"
   ]
  },
  {
   "cell_type": "code",
   "execution_count": 58,
   "id": "c2980a1e",
   "metadata": {},
   "outputs": [
    {
     "data": {
      "text/html": [
       "<div>\n",
       "<style scoped>\n",
       "    .dataframe tbody tr th:only-of-type {\n",
       "        vertical-align: middle;\n",
       "    }\n",
       "\n",
       "    .dataframe tbody tr th {\n",
       "        vertical-align: top;\n",
       "    }\n",
       "\n",
       "    .dataframe thead th {\n",
       "        text-align: right;\n",
       "    }\n",
       "</style>\n",
       "<table border=\"1\" class=\"dataframe\">\n",
       "  <thead>\n",
       "    <tr style=\"text-align: right;\">\n",
       "      <th></th>\n",
       "      <th>level_0</th>\n",
       "      <th>index</th>\n",
       "      <th>NR_CPF_CANDIDATO</th>\n",
       "      <th>SG_PARTIDO</th>\n",
       "    </tr>\n",
       "  </thead>\n",
       "  <tbody>\n",
       "  </tbody>\n",
       "</table>\n",
       "</div>"
      ],
      "text/plain": [
       "Empty DataFrame\n",
       "Columns: [level_0, index, NR_CPF_CANDIDATO, SG_PARTIDO]\n",
       "Index: []"
      ]
     },
     "execution_count": 58,
     "metadata": {},
     "output_type": "execute_result"
    }
   ],
   "source": [
    "# CPFs com menos de 11 dígitos (sequencia de 9 + hash de 2)\n",
    "# Isso aqui é um problema para fazer os cruzamentos\n",
    "\n",
    "filia_2022[filia_2022.NR_CPF_CANDIDATO < 10000000000].sort_values(by='NR_CPF_CANDIDATO').reset_index()"
   ]
  },
  {
   "cell_type": "code",
   "execution_count": 59,
   "id": "47ce6831",
   "metadata": {},
   "outputs": [],
   "source": [
    "# transforma os CPFs de 2022 em string\n",
    "\n",
    "filia_2022['NR_CPF_CANDIDATO'] = filia_2022['NR_CPF_CANDIDATO'].astype(str)"
   ]
  },
  {
   "cell_type": "code",
   "execution_count": 61,
   "id": "a8a69b56",
   "metadata": {},
   "outputs": [
    {
     "data": {
      "text/html": [
       "<div>\n",
       "<style scoped>\n",
       "    .dataframe tbody tr th:only-of-type {\n",
       "        vertical-align: middle;\n",
       "    }\n",
       "\n",
       "    .dataframe tbody tr th {\n",
       "        vertical-align: top;\n",
       "    }\n",
       "\n",
       "    .dataframe thead th {\n",
       "        text-align: right;\n",
       "    }\n",
       "</style>\n",
       "<table border=\"1\" class=\"dataframe\">\n",
       "  <thead>\n",
       "    <tr style=\"text-align: right;\">\n",
       "      <th></th>\n",
       "      <th>index</th>\n",
       "      <th>NR_CPF_CANDIDATO</th>\n",
       "      <th>SG_PARTIDO</th>\n",
       "    </tr>\n",
       "  </thead>\n",
       "  <tbody>\n",
       "    <tr>\n",
       "      <th>5904</th>\n",
       "      <td>8796</td>\n",
       "      <td>10000000795</td>\n",
       "      <td>PATRIOTA</td>\n",
       "    </tr>\n",
       "    <tr>\n",
       "      <th>19204</th>\n",
       "      <td>28379</td>\n",
       "      <td>10003695794</td>\n",
       "      <td>SOLIDARIEDADE</td>\n",
       "    </tr>\n",
       "    <tr>\n",
       "      <th>672</th>\n",
       "      <td>1001</td>\n",
       "      <td>10008252998</td>\n",
       "      <td>PDT</td>\n",
       "    </tr>\n",
       "    <tr>\n",
       "      <th>1659</th>\n",
       "      <td>2465</td>\n",
       "      <td>10008595763</td>\n",
       "      <td>PRTB</td>\n",
       "    </tr>\n",
       "    <tr>\n",
       "      <th>9679</th>\n",
       "      <td>14375</td>\n",
       "      <td>10009728368</td>\n",
       "      <td>PT</td>\n",
       "    </tr>\n",
       "    <tr>\n",
       "      <th>...</th>\n",
       "      <td>...</td>\n",
       "      <td>...</td>\n",
       "      <td>...</td>\n",
       "    </tr>\n",
       "    <tr>\n",
       "      <th>5196</th>\n",
       "      <td>7735</td>\n",
       "      <td>99964635753</td>\n",
       "      <td>PP</td>\n",
       "    </tr>\n",
       "    <tr>\n",
       "      <th>15208</th>\n",
       "      <td>22467</td>\n",
       "      <td>99969955500</td>\n",
       "      <td>PSB</td>\n",
       "    </tr>\n",
       "    <tr>\n",
       "      <th>5806</th>\n",
       "      <td>8651</td>\n",
       "      <td>99978938087</td>\n",
       "      <td>PDT</td>\n",
       "    </tr>\n",
       "    <tr>\n",
       "      <th>6261</th>\n",
       "      <td>9342</td>\n",
       "      <td>99983494515</td>\n",
       "      <td>REPUBLICANOS</td>\n",
       "    </tr>\n",
       "    <tr>\n",
       "      <th>750</th>\n",
       "      <td>1122</td>\n",
       "      <td>99996634272</td>\n",
       "      <td>SOLIDARIEDADE</td>\n",
       "    </tr>\n",
       "  </tbody>\n",
       "</table>\n",
       "<p>19284 rows × 3 columns</p>\n",
       "</div>"
      ],
      "text/plain": [
       "       index NR_CPF_CANDIDATO     SG_PARTIDO\n",
       "5904    8796      10000000795       PATRIOTA\n",
       "19204  28379      10003695794  SOLIDARIEDADE\n",
       "672     1001      10008252998            PDT\n",
       "1659    2465      10008595763           PRTB\n",
       "9679   14375      10009728368             PT\n",
       "...      ...              ...            ...\n",
       "5196    7735      99964635753             PP\n",
       "15208  22467      99969955500            PSB\n",
       "5806    8651      99978938087            PDT\n",
       "6261    9342      99983494515   REPUBLICANOS\n",
       "750     1122      99996634272  SOLIDARIEDADE\n",
       "\n",
       "[19284 rows x 3 columns]"
      ]
     },
     "execution_count": 61,
     "metadata": {},
     "output_type": "execute_result"
    }
   ],
   "source": [
    "filia_2022.sort_values(by='NR_CPF_CANDIDATO')"
   ]
  },
  {
   "cell_type": "code",
   "execution_count": null,
   "id": "755b40ea",
   "metadata": {},
   "outputs": [],
   "source": []
  },
  {
   "cell_type": "code",
   "execution_count": 14,
   "id": "6ec83781",
   "metadata": {
    "scrolled": true
   },
   "outputs": [],
   "source": [
    "# insere zeros à esquerda\n",
    "\n",
    "#filia_2022['NR_CPF_CANDIDATO'] = filia_2022['NR_CPF_CANDIDATO'].str.zfill(11)"
   ]
  },
  {
   "cell_type": "code",
   "execution_count": 62,
   "id": "6eb2978b",
   "metadata": {},
   "outputs": [
    {
     "data": {
      "text/html": [
       "<div>\n",
       "<style scoped>\n",
       "    .dataframe tbody tr th:only-of-type {\n",
       "        vertical-align: middle;\n",
       "    }\n",
       "\n",
       "    .dataframe tbody tr th {\n",
       "        vertical-align: top;\n",
       "    }\n",
       "\n",
       "    .dataframe thead th {\n",
       "        text-align: right;\n",
       "    }\n",
       "</style>\n",
       "<table border=\"1\" class=\"dataframe\">\n",
       "  <thead>\n",
       "    <tr style=\"text-align: right;\">\n",
       "      <th></th>\n",
       "      <th>index</th>\n",
       "      <th>NR_CPF_CANDIDATO</th>\n",
       "      <th>SG_PARTIDO</th>\n",
       "    </tr>\n",
       "  </thead>\n",
       "  <tbody>\n",
       "    <tr>\n",
       "      <th>5904</th>\n",
       "      <td>8796</td>\n",
       "      <td>10000000795</td>\n",
       "      <td>PATRIOTA</td>\n",
       "    </tr>\n",
       "    <tr>\n",
       "      <th>19204</th>\n",
       "      <td>28379</td>\n",
       "      <td>10003695794</td>\n",
       "      <td>SOLIDARIEDADE</td>\n",
       "    </tr>\n",
       "    <tr>\n",
       "      <th>672</th>\n",
       "      <td>1001</td>\n",
       "      <td>10008252998</td>\n",
       "      <td>PDT</td>\n",
       "    </tr>\n",
       "    <tr>\n",
       "      <th>1659</th>\n",
       "      <td>2465</td>\n",
       "      <td>10008595763</td>\n",
       "      <td>PRTB</td>\n",
       "    </tr>\n",
       "    <tr>\n",
       "      <th>9679</th>\n",
       "      <td>14375</td>\n",
       "      <td>10009728368</td>\n",
       "      <td>PT</td>\n",
       "    </tr>\n",
       "    <tr>\n",
       "      <th>...</th>\n",
       "      <td>...</td>\n",
       "      <td>...</td>\n",
       "      <td>...</td>\n",
       "    </tr>\n",
       "    <tr>\n",
       "      <th>5196</th>\n",
       "      <td>7735</td>\n",
       "      <td>99964635753</td>\n",
       "      <td>PP</td>\n",
       "    </tr>\n",
       "    <tr>\n",
       "      <th>15208</th>\n",
       "      <td>22467</td>\n",
       "      <td>99969955500</td>\n",
       "      <td>PSB</td>\n",
       "    </tr>\n",
       "    <tr>\n",
       "      <th>5806</th>\n",
       "      <td>8651</td>\n",
       "      <td>99978938087</td>\n",
       "      <td>PDT</td>\n",
       "    </tr>\n",
       "    <tr>\n",
       "      <th>6261</th>\n",
       "      <td>9342</td>\n",
       "      <td>99983494515</td>\n",
       "      <td>REPUBLICANOS</td>\n",
       "    </tr>\n",
       "    <tr>\n",
       "      <th>750</th>\n",
       "      <td>1122</td>\n",
       "      <td>99996634272</td>\n",
       "      <td>SOLIDARIEDADE</td>\n",
       "    </tr>\n",
       "  </tbody>\n",
       "</table>\n",
       "<p>19284 rows × 3 columns</p>\n",
       "</div>"
      ],
      "text/plain": [
       "       index NR_CPF_CANDIDATO     SG_PARTIDO\n",
       "5904    8796      10000000795       PATRIOTA\n",
       "19204  28379      10003695794  SOLIDARIEDADE\n",
       "672     1001      10008252998            PDT\n",
       "1659    2465      10008595763           PRTB\n",
       "9679   14375      10009728368             PT\n",
       "...      ...              ...            ...\n",
       "5196    7735      99964635753             PP\n",
       "15208  22467      99969955500            PSB\n",
       "5806    8651      99978938087            PDT\n",
       "6261    9342      99983494515   REPUBLICANOS\n",
       "750     1122      99996634272  SOLIDARIEDADE\n",
       "\n",
       "[19284 rows x 3 columns]"
      ]
     },
     "execution_count": 62,
     "metadata": {},
     "output_type": "execute_result"
    }
   ],
   "source": [
    "filia_2022.sort_values(by='NR_CPF_CANDIDATO')"
   ]
  },
  {
   "cell_type": "code",
   "execution_count": 63,
   "id": "90b0ebcf",
   "metadata": {},
   "outputs": [
    {
     "data": {
      "text/plain": [
       "array([11], dtype=int64)"
      ]
     },
     "execution_count": 63,
     "metadata": {},
     "output_type": "execute_result"
    }
   ],
   "source": [
    "filia_2018['NR_CPF_CANDIDATO'].str.len().unique()"
   ]
  },
  {
   "cell_type": "code",
   "execution_count": 64,
   "id": "84ccd28e",
   "metadata": {},
   "outputs": [
    {
     "data": {
      "text/plain": [
       "28983"
      ]
     },
     "execution_count": 64,
     "metadata": {},
     "output_type": "execute_result"
    }
   ],
   "source": [
    "len(filia_2018['NR_CPF_CANDIDATO'].unique())"
   ]
  },
  {
   "cell_type": "code",
   "execution_count": 65,
   "id": "555808a3",
   "metadata": {},
   "outputs": [
    {
     "name": "stdout",
     "output_type": "stream",
     "text": [
      "<class 'pandas.core.frame.DataFrame'>\n",
      "Int64Index: 29179 entries, 0 to 29179\n",
      "Data columns (total 2 columns):\n",
      " #   Column            Non-Null Count  Dtype \n",
      "---  ------            --------------  ----- \n",
      " 0   NR_CPF_CANDIDATO  29179 non-null  object\n",
      " 1   SG_PARTIDO        29179 non-null  object\n",
      "dtypes: object(2)\n",
      "memory usage: 683.9+ KB\n"
     ]
    }
   ],
   "source": [
    "filia_2018.info()"
   ]
  },
  {
   "cell_type": "code",
   "execution_count": 66,
   "id": "9fe13976",
   "metadata": {},
   "outputs": [
    {
     "name": "stdout",
     "output_type": "stream",
     "text": [
      "<class 'pandas.core.frame.DataFrame'>\n",
      "RangeIndex: 19284 entries, 0 to 19283\n",
      "Data columns (total 3 columns):\n",
      " #   Column            Non-Null Count  Dtype \n",
      "---  ------            --------------  ----- \n",
      " 0   index             19284 non-null  int64 \n",
      " 1   NR_CPF_CANDIDATO  19284 non-null  object\n",
      " 2   SG_PARTIDO        19284 non-null  object\n",
      "dtypes: int64(1), object(2)\n",
      "memory usage: 452.1+ KB\n"
     ]
    }
   ],
   "source": [
    "filia_2022.info()"
   ]
  },
  {
   "cell_type": "code",
   "execution_count": 67,
   "id": "c5a0f6e9",
   "metadata": {},
   "outputs": [],
   "source": [
    "mudancas = filia_2022.merge(filia_2018, how='outer', on='NR_CPF_CANDIDATO')"
   ]
  },
  {
   "cell_type": "code",
   "execution_count": 68,
   "id": "3a17b48a",
   "metadata": {},
   "outputs": [],
   "source": [
    "mudancas = mudancas.fillna('(NC)')"
   ]
  },
  {
   "cell_type": "code",
   "execution_count": 69,
   "id": "1d98630e",
   "metadata": {},
   "outputs": [
    {
     "data": {
      "text/html": [
       "<div>\n",
       "<style scoped>\n",
       "    .dataframe tbody tr th:only-of-type {\n",
       "        vertical-align: middle;\n",
       "    }\n",
       "\n",
       "    .dataframe tbody tr th {\n",
       "        vertical-align: top;\n",
       "    }\n",
       "\n",
       "    .dataframe thead th {\n",
       "        text-align: right;\n",
       "    }\n",
       "</style>\n",
       "<table border=\"1\" class=\"dataframe\">\n",
       "  <thead>\n",
       "    <tr style=\"text-align: right;\">\n",
       "      <th></th>\n",
       "      <th>index</th>\n",
       "      <th>NR_CPF_CANDIDATO</th>\n",
       "      <th>SG_PARTIDO_x</th>\n",
       "      <th>SG_PARTIDO_y</th>\n",
       "    </tr>\n",
       "  </thead>\n",
       "  <tbody>\n",
       "    <tr>\n",
       "      <th>12222</th>\n",
       "      <td>17931.0</td>\n",
       "      <td>75160099549</td>\n",
       "      <td>PROS</td>\n",
       "      <td>(NC)</td>\n",
       "    </tr>\n",
       "    <tr>\n",
       "      <th>12223</th>\n",
       "      <td>21331.0</td>\n",
       "      <td>75160099549</td>\n",
       "      <td>PROS</td>\n",
       "      <td>(NC)</td>\n",
       "    </tr>\n",
       "    <tr>\n",
       "      <th>19471</th>\n",
       "      <td>(NC)</td>\n",
       "      <td>75851199253</td>\n",
       "      <td>(NC)</td>\n",
       "      <td>PT</td>\n",
       "    </tr>\n",
       "    <tr>\n",
       "      <th>19470</th>\n",
       "      <td>(NC)</td>\n",
       "      <td>75851199253</td>\n",
       "      <td>(NC)</td>\n",
       "      <td>PT</td>\n",
       "    </tr>\n",
       "    <tr>\n",
       "      <th>5666</th>\n",
       "      <td>8347.0</td>\n",
       "      <td>76829170915</td>\n",
       "      <td>PSD</td>\n",
       "      <td>(NC)</td>\n",
       "    </tr>\n",
       "    <tr>\n",
       "      <th>5667</th>\n",
       "      <td>11294.0</td>\n",
       "      <td>76829170915</td>\n",
       "      <td>PSD</td>\n",
       "      <td>(NC)</td>\n",
       "    </tr>\n",
       "    <tr>\n",
       "      <th>43178</th>\n",
       "      <td>(NC)</td>\n",
       "      <td>77407415900</td>\n",
       "      <td>(NC)</td>\n",
       "      <td>PCB</td>\n",
       "    </tr>\n",
       "    <tr>\n",
       "      <th>43177</th>\n",
       "      <td>(NC)</td>\n",
       "      <td>77407415900</td>\n",
       "      <td>(NC)</td>\n",
       "      <td>PCB</td>\n",
       "    </tr>\n",
       "    <tr>\n",
       "      <th>10706</th>\n",
       "      <td>24515.0</td>\n",
       "      <td>78074894568</td>\n",
       "      <td>PROS</td>\n",
       "      <td>(NC)</td>\n",
       "    </tr>\n",
       "    <tr>\n",
       "      <th>10705</th>\n",
       "      <td>15731.0</td>\n",
       "      <td>78074894568</td>\n",
       "      <td>PROS</td>\n",
       "      <td>(NC)</td>\n",
       "    </tr>\n",
       "    <tr>\n",
       "      <th>39555</th>\n",
       "      <td>(NC)</td>\n",
       "      <td>78329515168</td>\n",
       "      <td>(NC)</td>\n",
       "      <td>PSD</td>\n",
       "    </tr>\n",
       "    <tr>\n",
       "      <th>39554</th>\n",
       "      <td>(NC)</td>\n",
       "      <td>78329515168</td>\n",
       "      <td>(NC)</td>\n",
       "      <td>PSD</td>\n",
       "    </tr>\n",
       "    <tr>\n",
       "      <th>32268</th>\n",
       "      <td>(NC)</td>\n",
       "      <td>78388279220</td>\n",
       "      <td>(NC)</td>\n",
       "      <td>PATRIOTA</td>\n",
       "    </tr>\n",
       "    <tr>\n",
       "      <th>32267</th>\n",
       "      <td>(NC)</td>\n",
       "      <td>78388279220</td>\n",
       "      <td>(NC)</td>\n",
       "      <td>PATRIOTA</td>\n",
       "    </tr>\n",
       "    <tr>\n",
       "      <th>18989</th>\n",
       "      <td>27977.0</td>\n",
       "      <td>78644631187</td>\n",
       "      <td>PSOL</td>\n",
       "      <td>PSOL</td>\n",
       "    </tr>\n",
       "    <tr>\n",
       "      <th>18988</th>\n",
       "      <td>27977.0</td>\n",
       "      <td>78644631187</td>\n",
       "      <td>PSOL</td>\n",
       "      <td>PSOL</td>\n",
       "    </tr>\n",
       "    <tr>\n",
       "      <th>11302</th>\n",
       "      <td>16595.0</td>\n",
       "      <td>78686563287</td>\n",
       "      <td>SOLIDARIEDADE</td>\n",
       "      <td>PODE</td>\n",
       "    </tr>\n",
       "    <tr>\n",
       "      <th>11303</th>\n",
       "      <td>16595.0</td>\n",
       "      <td>78686563287</td>\n",
       "      <td>SOLIDARIEDADE</td>\n",
       "      <td>PODE</td>\n",
       "    </tr>\n",
       "    <tr>\n",
       "      <th>34220</th>\n",
       "      <td>(NC)</td>\n",
       "      <td>78867258672</td>\n",
       "      <td>(NC)</td>\n",
       "      <td>PATRIOTA</td>\n",
       "    </tr>\n",
       "    <tr>\n",
       "      <th>34219</th>\n",
       "      <td>(NC)</td>\n",
       "      <td>78867258672</td>\n",
       "      <td>(NC)</td>\n",
       "      <td>PATRIOTA</td>\n",
       "    </tr>\n",
       "    <tr>\n",
       "      <th>8233</th>\n",
       "      <td>12125.0</td>\n",
       "      <td>78912172468</td>\n",
       "      <td>PMB</td>\n",
       "      <td>DEM</td>\n",
       "    </tr>\n",
       "    <tr>\n",
       "      <th>8234</th>\n",
       "      <td>24459.0</td>\n",
       "      <td>78912172468</td>\n",
       "      <td>PMB</td>\n",
       "      <td>DEM</td>\n",
       "    </tr>\n",
       "    <tr>\n",
       "      <th>19179</th>\n",
       "      <td>28262.0</td>\n",
       "      <td>78978157653</td>\n",
       "      <td>REDE</td>\n",
       "      <td>PSB</td>\n",
       "    </tr>\n",
       "    <tr>\n",
       "      <th>19178</th>\n",
       "      <td>28262.0</td>\n",
       "      <td>78978157653</td>\n",
       "      <td>REDE</td>\n",
       "      <td>PSB</td>\n",
       "    </tr>\n",
       "    <tr>\n",
       "      <th>9682</th>\n",
       "      <td>14268.0</td>\n",
       "      <td>78997119591</td>\n",
       "      <td>PROS</td>\n",
       "      <td>(NC)</td>\n",
       "    </tr>\n",
       "    <tr>\n",
       "      <th>9683</th>\n",
       "      <td>25544.0</td>\n",
       "      <td>78997119591</td>\n",
       "      <td>PROS</td>\n",
       "      <td>(NC)</td>\n",
       "    </tr>\n",
       "    <tr>\n",
       "      <th>13421</th>\n",
       "      <td>25498.0</td>\n",
       "      <td>79096433300</td>\n",
       "      <td>PSDB</td>\n",
       "      <td>PHS</td>\n",
       "    </tr>\n",
       "    <tr>\n",
       "      <th>13420</th>\n",
       "      <td>19706.0</td>\n",
       "      <td>79096433300</td>\n",
       "      <td>PSDB</td>\n",
       "      <td>PHS</td>\n",
       "    </tr>\n",
       "    <tr>\n",
       "      <th>3322</th>\n",
       "      <td>4850.0</td>\n",
       "      <td>80200800159</td>\n",
       "      <td>PSOL</td>\n",
       "      <td>PSOL</td>\n",
       "    </tr>\n",
       "    <tr>\n",
       "      <th>3323</th>\n",
       "      <td>4850.0</td>\n",
       "      <td>80200800159</td>\n",
       "      <td>PSOL</td>\n",
       "      <td>PSOL</td>\n",
       "    </tr>\n",
       "    <tr>\n",
       "      <th>17029</th>\n",
       "      <td>25067.0</td>\n",
       "      <td>80616291515</td>\n",
       "      <td>PSB</td>\n",
       "      <td>PSB</td>\n",
       "    </tr>\n",
       "    <tr>\n",
       "      <th>17028</th>\n",
       "      <td>25067.0</td>\n",
       "      <td>80616291515</td>\n",
       "      <td>PSB</td>\n",
       "      <td>PSB</td>\n",
       "    </tr>\n",
       "    <tr>\n",
       "      <th>1647</th>\n",
       "      <td>16420.0</td>\n",
       "      <td>80657478415</td>\n",
       "      <td>PMB</td>\n",
       "      <td>(NC)</td>\n",
       "    </tr>\n",
       "    <tr>\n",
       "      <th>1646</th>\n",
       "      <td>2413.0</td>\n",
       "      <td>80657478415</td>\n",
       "      <td>PMB</td>\n",
       "      <td>(NC)</td>\n",
       "    </tr>\n",
       "    <tr>\n",
       "      <th>25362</th>\n",
       "      <td>(NC)</td>\n",
       "      <td>80704670020</td>\n",
       "      <td>(NC)</td>\n",
       "      <td>PTC</td>\n",
       "    </tr>\n",
       "    <tr>\n",
       "      <th>25361</th>\n",
       "      <td>(NC)</td>\n",
       "      <td>80704670020</td>\n",
       "      <td>(NC)</td>\n",
       "      <td>PTC</td>\n",
       "    </tr>\n",
       "    <tr>\n",
       "      <th>26605</th>\n",
       "      <td>(NC)</td>\n",
       "      <td>80821189620</td>\n",
       "      <td>(NC)</td>\n",
       "      <td>PODE</td>\n",
       "    </tr>\n",
       "    <tr>\n",
       "      <th>26606</th>\n",
       "      <td>(NC)</td>\n",
       "      <td>80821189620</td>\n",
       "      <td>(NC)</td>\n",
       "      <td>PODE</td>\n",
       "    </tr>\n",
       "    <tr>\n",
       "      <th>20481</th>\n",
       "      <td>(NC)</td>\n",
       "      <td>81273690710</td>\n",
       "      <td>(NC)</td>\n",
       "      <td>MDB</td>\n",
       "    </tr>\n",
       "    <tr>\n",
       "      <th>20482</th>\n",
       "      <td>(NC)</td>\n",
       "      <td>81273690710</td>\n",
       "      <td>(NC)</td>\n",
       "      <td>MDB</td>\n",
       "    </tr>\n",
       "    <tr>\n",
       "      <th>3678</th>\n",
       "      <td>5370.0</td>\n",
       "      <td>81486685153</td>\n",
       "      <td>PROS</td>\n",
       "      <td>(NC)</td>\n",
       "    </tr>\n",
       "    <tr>\n",
       "      <th>3679</th>\n",
       "      <td>18179.0</td>\n",
       "      <td>81486685153</td>\n",
       "      <td>PROS</td>\n",
       "      <td>(NC)</td>\n",
       "    </tr>\n",
       "    <tr>\n",
       "      <th>1583</th>\n",
       "      <td>2325.0</td>\n",
       "      <td>81669534120</td>\n",
       "      <td>PSOL</td>\n",
       "      <td>PSOL</td>\n",
       "    </tr>\n",
       "    <tr>\n",
       "      <th>1582</th>\n",
       "      <td>2325.0</td>\n",
       "      <td>81669534120</td>\n",
       "      <td>PSOL</td>\n",
       "      <td>PSOL</td>\n",
       "    </tr>\n",
       "    <tr>\n",
       "      <th>812</th>\n",
       "      <td>17496.0</td>\n",
       "      <td>81916310168</td>\n",
       "      <td>PROS</td>\n",
       "      <td>(NC)</td>\n",
       "    </tr>\n",
       "    <tr>\n",
       "      <th>811</th>\n",
       "      <td>1191.0</td>\n",
       "      <td>81916310168</td>\n",
       "      <td>PROS</td>\n",
       "      <td>(NC)</td>\n",
       "    </tr>\n",
       "    <tr>\n",
       "      <th>24400</th>\n",
       "      <td>(NC)</td>\n",
       "      <td>83183221268</td>\n",
       "      <td>(NC)</td>\n",
       "      <td>PT</td>\n",
       "    </tr>\n",
       "    <tr>\n",
       "      <th>24401</th>\n",
       "      <td>(NC)</td>\n",
       "      <td>83183221268</td>\n",
       "      <td>(NC)</td>\n",
       "      <td>PT</td>\n",
       "    </tr>\n",
       "    <tr>\n",
       "      <th>10471</th>\n",
       "      <td>26432.0</td>\n",
       "      <td>83502360359</td>\n",
       "      <td>CIDADANIA</td>\n",
       "      <td>(NC)</td>\n",
       "    </tr>\n",
       "  </tbody>\n",
       "</table>\n",
       "</div>"
      ],
      "text/plain": [
       "         index NR_CPF_CANDIDATO   SG_PARTIDO_x SG_PARTIDO_y\n",
       "12222  17931.0      75160099549           PROS         (NC)\n",
       "12223  21331.0      75160099549           PROS         (NC)\n",
       "19471     (NC)      75851199253           (NC)           PT\n",
       "19470     (NC)      75851199253           (NC)           PT\n",
       "5666    8347.0      76829170915            PSD         (NC)\n",
       "5667   11294.0      76829170915            PSD         (NC)\n",
       "43178     (NC)      77407415900           (NC)          PCB\n",
       "43177     (NC)      77407415900           (NC)          PCB\n",
       "10706  24515.0      78074894568           PROS         (NC)\n",
       "10705  15731.0      78074894568           PROS         (NC)\n",
       "39555     (NC)      78329515168           (NC)          PSD\n",
       "39554     (NC)      78329515168           (NC)          PSD\n",
       "32268     (NC)      78388279220           (NC)     PATRIOTA\n",
       "32267     (NC)      78388279220           (NC)     PATRIOTA\n",
       "18989  27977.0      78644631187           PSOL         PSOL\n",
       "18988  27977.0      78644631187           PSOL         PSOL\n",
       "11302  16595.0      78686563287  SOLIDARIEDADE         PODE\n",
       "11303  16595.0      78686563287  SOLIDARIEDADE         PODE\n",
       "34220     (NC)      78867258672           (NC)     PATRIOTA\n",
       "34219     (NC)      78867258672           (NC)     PATRIOTA\n",
       "8233   12125.0      78912172468            PMB          DEM\n",
       "8234   24459.0      78912172468            PMB          DEM\n",
       "19179  28262.0      78978157653           REDE          PSB\n",
       "19178  28262.0      78978157653           REDE          PSB\n",
       "9682   14268.0      78997119591           PROS         (NC)\n",
       "9683   25544.0      78997119591           PROS         (NC)\n",
       "13421  25498.0      79096433300           PSDB          PHS\n",
       "13420  19706.0      79096433300           PSDB          PHS\n",
       "3322    4850.0      80200800159           PSOL         PSOL\n",
       "3323    4850.0      80200800159           PSOL         PSOL\n",
       "17029  25067.0      80616291515            PSB          PSB\n",
       "17028  25067.0      80616291515            PSB          PSB\n",
       "1647   16420.0      80657478415            PMB         (NC)\n",
       "1646    2413.0      80657478415            PMB         (NC)\n",
       "25362     (NC)      80704670020           (NC)          PTC\n",
       "25361     (NC)      80704670020           (NC)          PTC\n",
       "26605     (NC)      80821189620           (NC)         PODE\n",
       "26606     (NC)      80821189620           (NC)         PODE\n",
       "20481     (NC)      81273690710           (NC)          MDB\n",
       "20482     (NC)      81273690710           (NC)          MDB\n",
       "3678    5370.0      81486685153           PROS         (NC)\n",
       "3679   18179.0      81486685153           PROS         (NC)\n",
       "1583    2325.0      81669534120           PSOL         PSOL\n",
       "1582    2325.0      81669534120           PSOL         PSOL\n",
       "812    17496.0      81916310168           PROS         (NC)\n",
       "811     1191.0      81916310168           PROS         (NC)\n",
       "24400     (NC)      83183221268           (NC)           PT\n",
       "24401     (NC)      83183221268           (NC)           PT\n",
       "10471  26432.0      83502360359      CIDADANIA         (NC)"
      ]
     },
     "execution_count": 69,
     "metadata": {},
     "output_type": "execute_result"
    }
   ],
   "source": [
    "mudancas[mudancas.duplicated(subset='NR_CPF_CANDIDATO', keep=False)].sort_values(by='NR_CPF_CANDIDATO')[500:549]"
   ]
  },
  {
   "cell_type": "code",
   "execution_count": 70,
   "id": "af9e1f0e",
   "metadata": {},
   "outputs": [],
   "source": [
    "mudancas.columns = ['remain_index','CPF', 'E2022', 'E2018']"
   ]
  },
  {
   "cell_type": "code",
   "execution_count": 71,
   "id": "932441e9",
   "metadata": {},
   "outputs": [],
   "source": [
    "mudancas = mudancas[['CPF', 'E2018', 'E2022']]"
   ]
  },
  {
   "cell_type": "code",
   "execution_count": 72,
   "id": "3271e7ca",
   "metadata": {},
   "outputs": [],
   "source": [
    "mudancas = mudancas.drop_duplicates(subset=['CPF'], keep='last')"
   ]
  },
  {
   "cell_type": "code",
   "execution_count": 73,
   "id": "9d08ea78",
   "metadata": {},
   "outputs": [
    {
     "data": {
      "text/html": [
       "<div>\n",
       "<style scoped>\n",
       "    .dataframe tbody tr th:only-of-type {\n",
       "        vertical-align: middle;\n",
       "    }\n",
       "\n",
       "    .dataframe tbody tr th {\n",
       "        vertical-align: top;\n",
       "    }\n",
       "\n",
       "    .dataframe thead th {\n",
       "        text-align: right;\n",
       "    }\n",
       "</style>\n",
       "<table border=\"1\" class=\"dataframe\">\n",
       "  <thead>\n",
       "    <tr style=\"text-align: right;\">\n",
       "      <th></th>\n",
       "      <th>CPF</th>\n",
       "      <th>E2018</th>\n",
       "      <th>E2022</th>\n",
       "    </tr>\n",
       "  </thead>\n",
       "  <tbody>\n",
       "    <tr>\n",
       "      <th>0</th>\n",
       "      <td>34143343215</td>\n",
       "      <td>PSB</td>\n",
       "      <td>PV</td>\n",
       "    </tr>\n",
       "    <tr>\n",
       "      <th>1</th>\n",
       "      <td>20803796668</td>\n",
       "      <td>(NC)</td>\n",
       "      <td>PP</td>\n",
       "    </tr>\n",
       "    <tr>\n",
       "      <th>2</th>\n",
       "      <td>51826640282</td>\n",
       "      <td>PSB</td>\n",
       "      <td>PTB</td>\n",
       "    </tr>\n",
       "    <tr>\n",
       "      <th>3</th>\n",
       "      <td>69979847115</td>\n",
       "      <td>(NC)</td>\n",
       "      <td>PMB</td>\n",
       "    </tr>\n",
       "    <tr>\n",
       "      <th>4</th>\n",
       "      <td>28352475720</td>\n",
       "      <td>(NC)</td>\n",
       "      <td>PTB</td>\n",
       "    </tr>\n",
       "    <tr>\n",
       "      <th>...</th>\n",
       "      <td>...</td>\n",
       "      <td>...</td>\n",
       "      <td>...</td>\n",
       "    </tr>\n",
       "    <tr>\n",
       "      <th>43930</th>\n",
       "      <td>71490442200</td>\n",
       "      <td>PRP</td>\n",
       "      <td>(NC)</td>\n",
       "    </tr>\n",
       "    <tr>\n",
       "      <th>43931</th>\n",
       "      <td>01471949702</td>\n",
       "      <td>PPL</td>\n",
       "      <td>(NC)</td>\n",
       "    </tr>\n",
       "    <tr>\n",
       "      <th>43932</th>\n",
       "      <td>12539062890</td>\n",
       "      <td>PATRIOTA</td>\n",
       "      <td>(NC)</td>\n",
       "    </tr>\n",
       "    <tr>\n",
       "      <th>43933</th>\n",
       "      <td>98143530434</td>\n",
       "      <td>MDB</td>\n",
       "      <td>(NC)</td>\n",
       "    </tr>\n",
       "    <tr>\n",
       "      <th>43934</th>\n",
       "      <td>06018405504</td>\n",
       "      <td>AVANTE</td>\n",
       "      <td>(NC)</td>\n",
       "    </tr>\n",
       "  </tbody>\n",
       "</table>\n",
       "<p>43631 rows × 3 columns</p>\n",
       "</div>"
      ],
      "text/plain": [
       "               CPF     E2018 E2022\n",
       "0      34143343215       PSB    PV\n",
       "1      20803796668      (NC)    PP\n",
       "2      51826640282       PSB   PTB\n",
       "3      69979847115      (NC)   PMB\n",
       "4      28352475720      (NC)   PTB\n",
       "...            ...       ...   ...\n",
       "43930  71490442200       PRP  (NC)\n",
       "43931  01471949702       PPL  (NC)\n",
       "43932  12539062890  PATRIOTA  (NC)\n",
       "43933  98143530434       MDB  (NC)\n",
       "43934  06018405504    AVANTE  (NC)\n",
       "\n",
       "[43631 rows x 3 columns]"
      ]
     },
     "execution_count": 73,
     "metadata": {},
     "output_type": "execute_result"
    }
   ],
   "source": [
    "mudancas"
   ]
  },
  {
   "cell_type": "code",
   "execution_count": 74,
   "id": "a7f74e39",
   "metadata": {},
   "outputs": [],
   "source": [
    "mudancas = mudancas.reset_index(drop=True)"
   ]
  },
  {
   "cell_type": "code",
   "execution_count": 75,
   "id": "4865d9a3",
   "metadata": {},
   "outputs": [],
   "source": [
    "nome_partido = {'PR':'PL',\n",
    "                'PPS':'CIDADANIA', \n",
    "                'PRB':'REPUBLICANOS', \n",
    "                # 'DEM':'UNIÃO', \n",
    "                'PTC':'AGIR',\n",
    "                # 'PSL':'UNIÃO',\n",
    "                'PPL': 'PC do B',\n",
    "                'PRP':'PATRIOTA',\n",
    "                'PHS':'PODE'}"
   ]
  },
  {
   "cell_type": "code",
   "execution_count": 76,
   "id": "231db984",
   "metadata": {},
   "outputs": [],
   "source": [
    "mudancas = mudancas.replace(nome_partido)"
   ]
  },
  {
   "cell_type": "code",
   "execution_count": 77,
   "id": "7c59aadd",
   "metadata": {},
   "outputs": [],
   "source": [
    "fluxos = mudancas.groupby(['E2018', 'E2022']).CPF.count().reset_index().sort_values(by='CPF', ascending=False).reset_index(drop=True)"
   ]
  },
  {
   "cell_type": "code",
   "execution_count": 78,
   "id": "52a31241",
   "metadata": {},
   "outputs": [
    {
     "data": {
      "text/html": [
       "<div>\n",
       "<style scoped>\n",
       "    .dataframe tbody tr th:only-of-type {\n",
       "        vertical-align: middle;\n",
       "    }\n",
       "\n",
       "    .dataframe tbody tr th {\n",
       "        vertical-align: top;\n",
       "    }\n",
       "\n",
       "    .dataframe thead th {\n",
       "        text-align: right;\n",
       "    }\n",
       "</style>\n",
       "<table border=\"1\" class=\"dataframe\">\n",
       "  <thead>\n",
       "    <tr style=\"text-align: right;\">\n",
       "      <th></th>\n",
       "      <th>E2018</th>\n",
       "      <th>E2022</th>\n",
       "      <th>CPF</th>\n",
       "    </tr>\n",
       "  </thead>\n",
       "  <tbody>\n",
       "    <tr>\n",
       "      <th>0</th>\n",
       "      <td>PATRIOTA</td>\n",
       "      <td>(NC)</td>\n",
       "      <td>1962</td>\n",
       "    </tr>\n",
       "    <tr>\n",
       "      <th>1</th>\n",
       "      <td>PODE</td>\n",
       "      <td>(NC)</td>\n",
       "      <td>1689</td>\n",
       "    </tr>\n",
       "    <tr>\n",
       "      <th>2</th>\n",
       "      <td>PC do B</td>\n",
       "      <td>(NC)</td>\n",
       "      <td>1276</td>\n",
       "    </tr>\n",
       "    <tr>\n",
       "      <th>3</th>\n",
       "      <td>PSL</td>\n",
       "      <td>(NC)</td>\n",
       "      <td>1211</td>\n",
       "    </tr>\n",
       "    <tr>\n",
       "      <th>4</th>\n",
       "      <td>PSOL</td>\n",
       "      <td>(NC)</td>\n",
       "      <td>1118</td>\n",
       "    </tr>\n",
       "    <tr>\n",
       "      <th>...</th>\n",
       "      <td>...</td>\n",
       "      <td>...</td>\n",
       "      <td>...</td>\n",
       "    </tr>\n",
       "    <tr>\n",
       "      <th>709</th>\n",
       "      <td>DC</td>\n",
       "      <td>REDE</td>\n",
       "      <td>1</td>\n",
       "    </tr>\n",
       "    <tr>\n",
       "      <th>710</th>\n",
       "      <td>PL</td>\n",
       "      <td>PV</td>\n",
       "      <td>1</td>\n",
       "    </tr>\n",
       "    <tr>\n",
       "      <th>711</th>\n",
       "      <td>PSOL</td>\n",
       "      <td>PV</td>\n",
       "      <td>1</td>\n",
       "    </tr>\n",
       "    <tr>\n",
       "      <th>712</th>\n",
       "      <td>CIDADANIA</td>\n",
       "      <td>PMN</td>\n",
       "      <td>1</td>\n",
       "    </tr>\n",
       "    <tr>\n",
       "      <th>713</th>\n",
       "      <td>PL</td>\n",
       "      <td>PRTB</td>\n",
       "      <td>1</td>\n",
       "    </tr>\n",
       "  </tbody>\n",
       "</table>\n",
       "<p>714 rows × 3 columns</p>\n",
       "</div>"
      ],
      "text/plain": [
       "         E2018 E2022   CPF\n",
       "0     PATRIOTA  (NC)  1962\n",
       "1         PODE  (NC)  1689\n",
       "2      PC do B  (NC)  1276\n",
       "3          PSL  (NC)  1211\n",
       "4         PSOL  (NC)  1118\n",
       "..         ...   ...   ...\n",
       "709         DC  REDE     1\n",
       "710         PL    PV     1\n",
       "711       PSOL    PV     1\n",
       "712  CIDADANIA   PMN     1\n",
       "713         PL  PRTB     1\n",
       "\n",
       "[714 rows x 3 columns]"
      ]
     },
     "execution_count": 78,
     "metadata": {},
     "output_type": "execute_result"
    }
   ],
   "source": [
    "fluxos"
   ]
  },
  {
   "cell_type": "code",
   "execution_count": 79,
   "id": "8f400867",
   "metadata": {},
   "outputs": [],
   "source": [
    "fluxos_i = fluxos[(fluxos.E2018 != '(NC)') & (fluxos.E2022 != '(NC)')]"
   ]
  },
  {
   "cell_type": "code",
   "execution_count": 80,
   "id": "4ea48fcb",
   "metadata": {},
   "outputs": [
    {
     "data": {
      "text/plain": [
       "4528"
      ]
     },
     "execution_count": 80,
     "metadata": {},
     "output_type": "execute_result"
    }
   ],
   "source": [
    "# Checa quantas mudanças foram detectadas\n",
    "\n",
    "fluxos_i.CPF.sum()"
   ]
  },
  {
   "cell_type": "code",
   "execution_count": 34,
   "id": "a8ac24b7",
   "metadata": {},
   "outputs": [
    {
     "ename": "SyntaxError",
     "evalue": "invalid syntax (235291548.py, line 1)",
     "output_type": "error",
     "traceback": [
      "\u001b[1;36m  Input \u001b[1;32mIn [34]\u001b[1;36m\u001b[0m\n\u001b[1;33m    Por favor, pare agora!\u001b[0m\n\u001b[1;37m        ^\u001b[0m\n\u001b[1;31mSyntaxError\u001b[0m\u001b[1;31m:\u001b[0m invalid syntax\n"
     ]
    }
   ],
   "source": [
    "Por favor, pare agora!"
   ]
  },
  {
   "cell_type": "code",
   "execution_count": 35,
   "id": "592a8135",
   "metadata": {},
   "outputs": [],
   "source": [
    "fluxos_i.to_csv('fluxos_partidos_i.csv', index=False)"
   ]
  },
  {
   "cell_type": "code",
   "execution_count": 36,
   "id": "41a99567",
   "metadata": {},
   "outputs": [
    {
     "name": "stderr",
     "output_type": "stream",
     "text": [
      "C:\\Users\\rgarcia\\AppData\\Local\\Temp\\ipykernel_21572\\726548256.py:1: SettingWithCopyWarning: \n",
      "A value is trying to be set on a copy of a slice from a DataFrame.\n",
      "Try using .loc[row_indexer,col_indexer] = value instead\n",
      "\n",
      "See the caveats in the documentation: https://pandas.pydata.org/pandas-docs/stable/user_guide/indexing.html#returning-a-view-versus-a-copy\n",
      "  fluxos_i['Mudou?'] = fluxos_i['E2018'] != fluxos_i['E2022']\n"
     ]
    }
   ],
   "source": [
    "fluxos_i['Mudou?'] = fluxos_i['E2018'] != fluxos_i['E2022'] "
   ]
  },
  {
   "cell_type": "code",
   "execution_count": 42,
   "id": "4549ffb1",
   "metadata": {},
   "outputs": [
    {
     "data": {
      "text/plain": [
       "0.6197160883280757"
      ]
     },
     "execution_count": 42,
     "metadata": {},
     "output_type": "execute_result"
    }
   ],
   "source": [
    "fluxos_i.groupby(['Mudou?']).CPF.sum()[1]/(fluxos_i.groupby(['Mudou?']).CPF.sum()[1]+fluxos_i.groupby(['Mudou?']).CPF.sum()[0])"
   ]
  },
  {
   "cell_type": "code",
   "execution_count": null,
   "id": "4f3214e7",
   "metadata": {},
   "outputs": [],
   "source": [
    "fluxos_o = fluxos[(fluxos.E2018 == '(NC)') | (fluxos.E2022 == '(NC)')]"
   ]
  },
  {
   "cell_type": "code",
   "execution_count": null,
   "id": "1c74ffbe",
   "metadata": {},
   "outputs": [],
   "source": [
    "fluxos_o.to_csv('candidatos_novos_velhos.csv', index=False)"
   ]
  },
  {
   "cell_type": "code",
   "execution_count": null,
   "id": "02ac8cc4",
   "metadata": {},
   "outputs": [],
   "source": [
    "# Validação\n",
    "\n",
    "# Corrigindo os CPFs não validados, de 28505 candidatos de 2022 eu capturei 6340 (22,2%) que também concorreram em 2018\n",
    "\n",
    "# Se eu simplesmente elimino os CPFs não validados, de 19284 candidatos eu capturo 4528 (23,5%)."
   ]
  },
  {
   "cell_type": "code",
   "execution_count": 83,
   "id": "946fc923",
   "metadata": {},
   "outputs": [
    {
     "data": {
      "text/plain": [
       "0.22241711980354323"
      ]
     },
     "execution_count": 83,
     "metadata": {},
     "output_type": "execute_result"
    }
   ],
   "source": [
    "6340/28505"
   ]
  },
  {
   "cell_type": "code",
   "execution_count": 84,
   "id": "513b6d0c",
   "metadata": {},
   "outputs": [
    {
     "data": {
      "text/plain": [
       "0.23480605683468161"
      ]
     },
     "execution_count": 84,
     "metadata": {},
     "output_type": "execute_result"
    }
   ],
   "source": [
    "4528/19284"
   ]
  },
  {
   "cell_type": "code",
   "execution_count": null,
   "id": "5619857c",
   "metadata": {},
   "outputs": [],
   "source": []
  }
 ],
 "metadata": {
  "kernelspec": {
   "display_name": "Python 3 (ipykernel)",
   "language": "python",
   "name": "python3"
  },
  "language_info": {
   "codemirror_mode": {
    "name": "ipython",
    "version": 3
   },
   "file_extension": ".py",
   "mimetype": "text/x-python",
   "name": "python",
   "nbconvert_exporter": "python",
   "pygments_lexer": "ipython3",
   "version": "3.10.5"
  }
 },
 "nbformat": 4,
 "nbformat_minor": 5
}
