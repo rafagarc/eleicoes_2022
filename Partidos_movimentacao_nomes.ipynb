{
 "cells": [
  {
   "cell_type": "markdown",
   "id": "668feacc",
   "metadata": {},
   "source": [
    "# Movimentação partidária 2018 > 2022"
   ]
  },
  {
   "cell_type": "markdown",
   "id": "4a8a7360",
   "metadata": {},
   "source": [
    "## Preparo"
   ]
  },
  {
   "cell_type": "markdown",
   "id": "1432dd7b",
   "metadata": {},
   "source": [
    "### Origem dos datasets"
   ]
  },
  {
   "cell_type": "markdown",
   "id": "980c34dd",
   "metadata": {},
   "source": [
    "- 2018: https://cdn.tse.jus.br/estatistica/sead/odsele/consulta_cand/consulta_cand_2018.zip\n",
    "\n",
    "- 2022: https://cdn.tse.jus.br/estatistica/sead/odsele/consulta_cand/consulta_cand_2022.zip\n",
    "\n",
    "- Metadados: https://drive.google.com/file/d/1mM1U-2hN-9usXOE4Dyvewk_wWjN-ZMuW/"
   ]
  },
  {
   "cell_type": "markdown",
   "id": "3cf17fb5",
   "metadata": {},
   "source": [
    "### Bibliotecas"
   ]
  },
  {
   "cell_type": "code",
   "execution_count": 1,
   "id": "365690ad",
   "metadata": {},
   "outputs": [],
   "source": [
    "import pandas as pd"
   ]
  },
  {
   "cell_type": "markdown",
   "id": "b23e7386",
   "metadata": {},
   "source": [
    "### Carregamento"
   ]
  },
  {
   "cell_type": "code",
   "execution_count": 29,
   "id": "c9b5a2f9",
   "metadata": {},
   "outputs": [],
   "source": [
    "dataset_2018 = r'C:\\Users\\rgarcia\\Documents\\GitHub\\eleicoes_2022\\consulta_cand_2018_BRASIL.csv'\n",
    "dataset_2022 = r'C:\\Users\\rgarcia\\Documents\\GitHub\\eleicoes_2022\\consulta_cand_2022_BRASIL.csv'\n",
    "\n",
    "cand_2018 = pd.read_csv(dataset_2018, sep=';', encoding='ISO-8859-1', decimal=',', low_memory=False)\n",
    "cand_2022 = pd.read_csv(dataset_2022, sep=';', encoding='ISO-8859-1', decimal=',', low_memory=False)"
   ]
  },
  {
   "cell_type": "code",
   "execution_count": 30,
   "id": "c99c8088",
   "metadata": {},
   "outputs": [],
   "source": [
    "# No dataset de 2018, PL, e CIDADANIA já tinha registro mas ainda não tinha candidato\n",
    "# Os partidos ainda estava usando os nomes antigos, então precisa ser atualizado\n",
    "\n",
    "cand_2018['SG_PARTIDO'] = cand_2018['SG_PARTIDO'].replace('PL', 'PR')\n",
    "cand_2018['SG_PARTIDO'] = cand_2018['SG_PARTIDO'].replace('CIDADANIA', 'PPS')"
   ]
  },
  {
   "cell_type": "code",
   "execution_count": 31,
   "id": "aaa24ef3",
   "metadata": {},
   "outputs": [],
   "source": [
    "filia_2018 = cand_2018[['NM_CANDIDATO','SG_PARTIDO']]"
   ]
  },
  {
   "cell_type": "code",
   "execution_count": 32,
   "id": "73db5d41",
   "metadata": {},
   "outputs": [],
   "source": [
    "filia_2022 = cand_2022[['NM_CANDIDATO','SG_PARTIDO']]"
   ]
  },
  {
   "cell_type": "code",
   "execution_count": 33,
   "id": "555808a3",
   "metadata": {},
   "outputs": [
    {
     "name": "stdout",
     "output_type": "stream",
     "text": [
      "<class 'pandas.core.frame.DataFrame'>\n",
      "RangeIndex: 29180 entries, 0 to 29179\n",
      "Data columns (total 2 columns):\n",
      " #   Column        Non-Null Count  Dtype \n",
      "---  ------        --------------  ----- \n",
      " 0   NM_CANDIDATO  29180 non-null  object\n",
      " 1   SG_PARTIDO    29180 non-null  object\n",
      "dtypes: object(2)\n",
      "memory usage: 456.1+ KB\n"
     ]
    }
   ],
   "source": [
    "filia_2018.info()"
   ]
  },
  {
   "cell_type": "code",
   "execution_count": 34,
   "id": "9fe13976",
   "metadata": {},
   "outputs": [
    {
     "name": "stdout",
     "output_type": "stream",
     "text": [
      "<class 'pandas.core.frame.DataFrame'>\n",
      "RangeIndex: 28505 entries, 0 to 28504\n",
      "Data columns (total 2 columns):\n",
      " #   Column        Non-Null Count  Dtype \n",
      "---  ------        --------------  ----- \n",
      " 0   NM_CANDIDATO  28505 non-null  object\n",
      " 1   SG_PARTIDO    28505 non-null  object\n",
      "dtypes: object(2)\n",
      "memory usage: 445.5+ KB\n"
     ]
    }
   ],
   "source": [
    "filia_2022.info()"
   ]
  },
  {
   "cell_type": "code",
   "execution_count": 35,
   "id": "c5a0f6e9",
   "metadata": {},
   "outputs": [],
   "source": [
    "mudancas = filia_2022.merge(filia_2018, how='outer', on='NM_CANDIDATO')"
   ]
  },
  {
   "cell_type": "code",
   "execution_count": 36,
   "id": "f32a7b6b",
   "metadata": {},
   "outputs": [],
   "source": [
    "mudancas = mudancas.fillna('(NC)')"
   ]
  },
  {
   "cell_type": "code",
   "execution_count": 37,
   "id": "a4bc89db",
   "metadata": {},
   "outputs": [
    {
     "data": {
      "text/html": [
       "<div>\n",
       "<style scoped>\n",
       "    .dataframe tbody tr th:only-of-type {\n",
       "        vertical-align: middle;\n",
       "    }\n",
       "\n",
       "    .dataframe tbody tr th {\n",
       "        vertical-align: top;\n",
       "    }\n",
       "\n",
       "    .dataframe thead th {\n",
       "        text-align: right;\n",
       "    }\n",
       "</style>\n",
       "<table border=\"1\" class=\"dataframe\">\n",
       "  <thead>\n",
       "    <tr style=\"text-align: right;\">\n",
       "      <th></th>\n",
       "      <th>NM_CANDIDATO</th>\n",
       "      <th>SG_PARTIDO_x</th>\n",
       "      <th>SG_PARTIDO_y</th>\n",
       "    </tr>\n",
       "  </thead>\n",
       "  <tbody>\n",
       "    <tr>\n",
       "      <th>37</th>\n",
       "      <td>CARLOS ROBERTO DE CARVALHO</td>\n",
       "      <td>REDE</td>\n",
       "      <td>PODE</td>\n",
       "    </tr>\n",
       "    <tr>\n",
       "      <th>38</th>\n",
       "      <td>CARLOS ROBERTO DE CARVALHO</td>\n",
       "      <td>REDE</td>\n",
       "      <td>PODE</td>\n",
       "    </tr>\n",
       "    <tr>\n",
       "      <th>319</th>\n",
       "      <td>VIVIANE SOARES DE OLIVEIRA ALVES</td>\n",
       "      <td>UNIÃO</td>\n",
       "      <td>(NC)</td>\n",
       "    </tr>\n",
       "    <tr>\n",
       "      <th>320</th>\n",
       "      <td>VIVIANE SOARES DE OLIVEIRA ALVES</td>\n",
       "      <td>UNIÃO</td>\n",
       "      <td>(NC)</td>\n",
       "    </tr>\n",
       "    <tr>\n",
       "      <th>374</th>\n",
       "      <td>RAQUEL DE QUEIROZ BESSA</td>\n",
       "      <td>CIDADANIA</td>\n",
       "      <td>(NC)</td>\n",
       "    </tr>\n",
       "    <tr>\n",
       "      <th>...</th>\n",
       "      <td>...</td>\n",
       "      <td>...</td>\n",
       "      <td>...</td>\n",
       "    </tr>\n",
       "    <tr>\n",
       "      <th>49256</th>\n",
       "      <td>RITA DE CASSIA BARBOSA LIMA</td>\n",
       "      <td>(NC)</td>\n",
       "      <td>PT</td>\n",
       "    </tr>\n",
       "    <tr>\n",
       "      <th>49963</th>\n",
       "      <td>MANUELA PINTO VIEIRA D AVILA</td>\n",
       "      <td>(NC)</td>\n",
       "      <td>PC do B</td>\n",
       "    </tr>\n",
       "    <tr>\n",
       "      <th>49964</th>\n",
       "      <td>MANUELA PINTO VIEIRA D AVILA</td>\n",
       "      <td>(NC)</td>\n",
       "      <td>PC do B</td>\n",
       "    </tr>\n",
       "    <tr>\n",
       "      <th>50266</th>\n",
       "      <td>EMERITA MARIA BRANDÃO</td>\n",
       "      <td>(NC)</td>\n",
       "      <td>PTC</td>\n",
       "    </tr>\n",
       "    <tr>\n",
       "      <th>50267</th>\n",
       "      <td>EMERITA MARIA BRANDÃO</td>\n",
       "      <td>(NC)</td>\n",
       "      <td>PTC</td>\n",
       "    </tr>\n",
       "  </tbody>\n",
       "</table>\n",
       "<p>592 rows × 3 columns</p>\n",
       "</div>"
      ],
      "text/plain": [
       "                           NM_CANDIDATO SG_PARTIDO_x SG_PARTIDO_y\n",
       "37           CARLOS ROBERTO DE CARVALHO         REDE         PODE\n",
       "38           CARLOS ROBERTO DE CARVALHO         REDE         PODE\n",
       "319    VIVIANE SOARES DE OLIVEIRA ALVES        UNIÃO         (NC)\n",
       "320    VIVIANE SOARES DE OLIVEIRA ALVES        UNIÃO         (NC)\n",
       "374             RAQUEL DE QUEIROZ BESSA    CIDADANIA         (NC)\n",
       "...                                 ...          ...          ...\n",
       "49256       RITA DE CASSIA BARBOSA LIMA         (NC)           PT\n",
       "49963      MANUELA PINTO VIEIRA D AVILA         (NC)      PC do B\n",
       "49964      MANUELA PINTO VIEIRA D AVILA         (NC)      PC do B\n",
       "50266             EMERITA MARIA BRANDÃO         (NC)          PTC\n",
       "50267             EMERITA MARIA BRANDÃO         (NC)          PTC\n",
       "\n",
       "[592 rows x 3 columns]"
      ]
     },
     "execution_count": 37,
     "metadata": {},
     "output_type": "execute_result"
    }
   ],
   "source": [
    "mudancas[mudancas.duplicated(keep=False)]"
   ]
  },
  {
   "cell_type": "code",
   "execution_count": 38,
   "id": "27b9c985",
   "metadata": {},
   "outputs": [],
   "source": [
    "mudancas = mudancas.drop_duplicates().reset_index()"
   ]
  },
  {
   "cell_type": "code",
   "execution_count": 39,
   "id": "572220d2",
   "metadata": {},
   "outputs": [
    {
     "data": {
      "text/html": [
       "<div>\n",
       "<style scoped>\n",
       "    .dataframe tbody tr th:only-of-type {\n",
       "        vertical-align: middle;\n",
       "    }\n",
       "\n",
       "    .dataframe tbody tr th {\n",
       "        vertical-align: top;\n",
       "    }\n",
       "\n",
       "    .dataframe thead th {\n",
       "        text-align: right;\n",
       "    }\n",
       "</style>\n",
       "<table border=\"1\" class=\"dataframe\">\n",
       "  <thead>\n",
       "    <tr style=\"text-align: right;\">\n",
       "      <th></th>\n",
       "      <th>index</th>\n",
       "      <th>NM_CANDIDATO</th>\n",
       "      <th>SG_PARTIDO_x</th>\n",
       "      <th>SG_PARTIDO_y</th>\n",
       "    </tr>\n",
       "  </thead>\n",
       "  <tbody>\n",
       "    <tr>\n",
       "      <th>70</th>\n",
       "      <td>71</td>\n",
       "      <td>AMAURI RIBEIRO</td>\n",
       "      <td>UNIÃO</td>\n",
       "      <td>PMN</td>\n",
       "    </tr>\n",
       "    <tr>\n",
       "      <th>71</th>\n",
       "      <td>72</td>\n",
       "      <td>AMAURI RIBEIRO</td>\n",
       "      <td>UNIÃO</td>\n",
       "      <td>PRP</td>\n",
       "    </tr>\n",
       "    <tr>\n",
       "      <th>284</th>\n",
       "      <td>285</td>\n",
       "      <td>LUIZ CARLOS DE PAULA</td>\n",
       "      <td>MDB</td>\n",
       "      <td>PSL</td>\n",
       "    </tr>\n",
       "    <tr>\n",
       "      <th>285</th>\n",
       "      <td>286</td>\n",
       "      <td>LUIZ CARLOS DE PAULA</td>\n",
       "      <td>MDB</td>\n",
       "      <td>PATRIOTA</td>\n",
       "    </tr>\n",
       "    <tr>\n",
       "      <th>677</th>\n",
       "      <td>685</td>\n",
       "      <td>JOSE ANTONIO DA SILVA</td>\n",
       "      <td>PT</td>\n",
       "      <td>PRTB</td>\n",
       "    </tr>\n",
       "    <tr>\n",
       "      <th>...</th>\n",
       "      <td>...</td>\n",
       "      <td>...</td>\n",
       "      <td>...</td>\n",
       "      <td>...</td>\n",
       "    </tr>\n",
       "    <tr>\n",
       "      <th>45740</th>\n",
       "      <td>46028</td>\n",
       "      <td>LEONICE DE OLIVEIRA</td>\n",
       "      <td>(NC)</td>\n",
       "      <td>PROS</td>\n",
       "    </tr>\n",
       "    <tr>\n",
       "      <th>48225</th>\n",
       "      <td>48517</td>\n",
       "      <td>WELLINGTON SILVA</td>\n",
       "      <td>(NC)</td>\n",
       "      <td>REDE</td>\n",
       "    </tr>\n",
       "    <tr>\n",
       "      <th>48226</th>\n",
       "      <td>48518</td>\n",
       "      <td>WELLINGTON SILVA</td>\n",
       "      <td>(NC)</td>\n",
       "      <td>PRTB</td>\n",
       "    </tr>\n",
       "    <tr>\n",
       "      <th>48227</th>\n",
       "      <td>48519</td>\n",
       "      <td>EDMILSON JOSÉ DE CARVALHO</td>\n",
       "      <td>(NC)</td>\n",
       "      <td>PC do B</td>\n",
       "    </tr>\n",
       "    <tr>\n",
       "      <th>48228</th>\n",
       "      <td>48520</td>\n",
       "      <td>EDMILSON JOSÉ DE CARVALHO</td>\n",
       "      <td>(NC)</td>\n",
       "      <td>REDE</td>\n",
       "    </tr>\n",
       "  </tbody>\n",
       "</table>\n",
       "<p>328 rows × 4 columns</p>\n",
       "</div>"
      ],
      "text/plain": [
       "       index               NM_CANDIDATO SG_PARTIDO_x SG_PARTIDO_y\n",
       "70        71             AMAURI RIBEIRO        UNIÃO          PMN\n",
       "71        72             AMAURI RIBEIRO        UNIÃO          PRP\n",
       "284      285       LUIZ CARLOS DE PAULA          MDB          PSL\n",
       "285      286       LUIZ CARLOS DE PAULA          MDB     PATRIOTA\n",
       "677      685      JOSE ANTONIO DA SILVA           PT         PRTB\n",
       "...      ...                        ...          ...          ...\n",
       "45740  46028        LEONICE DE OLIVEIRA         (NC)         PROS\n",
       "48225  48517           WELLINGTON SILVA         (NC)         REDE\n",
       "48226  48518           WELLINGTON SILVA         (NC)         PRTB\n",
       "48227  48519  EDMILSON JOSÉ DE CARVALHO         (NC)      PC do B\n",
       "48228  48520  EDMILSON JOSÉ DE CARVALHO         (NC)         REDE\n",
       "\n",
       "[328 rows x 4 columns]"
      ]
     },
     "execution_count": 39,
     "metadata": {},
     "output_type": "execute_result"
    }
   ],
   "source": [
    "mudancas[mudancas.duplicated(subset='NM_CANDIDATO' , keep=False)]"
   ]
  },
  {
   "cell_type": "code",
   "execution_count": 40,
   "id": "61573f86",
   "metadata": {},
   "outputs": [],
   "source": [
    "mudancas = mudancas.drop_duplicates(subset='NM_CANDIDATO', keep=False).reset_index()"
   ]
  },
  {
   "cell_type": "code",
   "execution_count": 46,
   "id": "267b25cf",
   "metadata": {},
   "outputs": [],
   "source": [
    "mudancas = mudancas[['NM_CANDIDATO', 'SG_PARTIDO_x','SG_PARTIDO_y']]"
   ]
  },
  {
   "cell_type": "code",
   "execution_count": 47,
   "id": "af9e1f0e",
   "metadata": {},
   "outputs": [],
   "source": [
    "mudancas.columns = ['Nome', 'E2022', 'E2018']"
   ]
  },
  {
   "cell_type": "code",
   "execution_count": 49,
   "id": "932441e9",
   "metadata": {},
   "outputs": [],
   "source": [
    "mudancas = mudancas[['Nome', 'E2018', 'E2022']]"
   ]
  },
  {
   "cell_type": "code",
   "execution_count": 81,
   "id": "3271e7ca",
   "metadata": {},
   "outputs": [],
   "source": [
    "# mudancas = mudancas.drop_duplicates(subset=['CPF'], keep='last')"
   ]
  },
  {
   "cell_type": "code",
   "execution_count": 50,
   "id": "9d08ea78",
   "metadata": {},
   "outputs": [
    {
     "data": {
      "text/html": [
       "<div>\n",
       "<style scoped>\n",
       "    .dataframe tbody tr th:only-of-type {\n",
       "        vertical-align: middle;\n",
       "    }\n",
       "\n",
       "    .dataframe tbody tr th {\n",
       "        vertical-align: top;\n",
       "    }\n",
       "\n",
       "    .dataframe thead th {\n",
       "        text-align: right;\n",
       "    }\n",
       "</style>\n",
       "<table border=\"1\" class=\"dataframe\">\n",
       "  <thead>\n",
       "    <tr style=\"text-align: right;\">\n",
       "      <th></th>\n",
       "      <th>Nome</th>\n",
       "      <th>E2018</th>\n",
       "      <th>E2022</th>\n",
       "    </tr>\n",
       "  </thead>\n",
       "  <tbody>\n",
       "    <tr>\n",
       "      <th>0</th>\n",
       "      <td>WANDERSON MENDES FERREIRA</td>\n",
       "      <td>PATRIOTA</td>\n",
       "      <td>UNIÃO</td>\n",
       "    </tr>\n",
       "    <tr>\n",
       "      <th>1</th>\n",
       "      <td>SÔNIA DA SILVA DUTRA CIMARDI</td>\n",
       "      <td>(NC)</td>\n",
       "      <td>SOLIDARIEDADE</td>\n",
       "    </tr>\n",
       "    <tr>\n",
       "      <th>2</th>\n",
       "      <td>AILTON SILVA DOS SANTOS</td>\n",
       "      <td>PSB</td>\n",
       "      <td>PV</td>\n",
       "    </tr>\n",
       "    <tr>\n",
       "      <th>3</th>\n",
       "      <td>DEODORO DE SOUZA</td>\n",
       "      <td>(NC)</td>\n",
       "      <td>PP</td>\n",
       "    </tr>\n",
       "    <tr>\n",
       "      <th>4</th>\n",
       "      <td>EDMILSON AGUIAR DE SOUZA</td>\n",
       "      <td>PSB</td>\n",
       "      <td>PTB</td>\n",
       "    </tr>\n",
       "    <tr>\n",
       "      <th>...</th>\n",
       "      <td>...</td>\n",
       "      <td>...</td>\n",
       "      <td>...</td>\n",
       "    </tr>\n",
       "    <tr>\n",
       "      <th>51987</th>\n",
       "      <td>WILLMAM CAHET MATTOSO MEDEIROS</td>\n",
       "      <td>PPL</td>\n",
       "      <td>(NC)</td>\n",
       "    </tr>\n",
       "    <tr>\n",
       "      <th>51988</th>\n",
       "      <td>CELINA CLAUDIA MENEZES LEMES</td>\n",
       "      <td>PATRIOTA</td>\n",
       "      <td>(NC)</td>\n",
       "    </tr>\n",
       "    <tr>\n",
       "      <th>51989</th>\n",
       "      <td>JOÃO BARBOSA DA SILVA</td>\n",
       "      <td>PRP</td>\n",
       "      <td>(NC)</td>\n",
       "    </tr>\n",
       "    <tr>\n",
       "      <th>51990</th>\n",
       "      <td>RICARDO DA SILVA ALMEIDA</td>\n",
       "      <td>MDB</td>\n",
       "      <td>(NC)</td>\n",
       "    </tr>\n",
       "    <tr>\n",
       "      <th>51991</th>\n",
       "      <td>NAEL SANTOS DE MATOS</td>\n",
       "      <td>AVANTE</td>\n",
       "      <td>(NC)</td>\n",
       "    </tr>\n",
       "  </tbody>\n",
       "</table>\n",
       "<p>51992 rows × 3 columns</p>\n",
       "</div>"
      ],
      "text/plain": [
       "                                  Nome     E2018          E2022\n",
       "0            WANDERSON MENDES FERREIRA  PATRIOTA          UNIÃO\n",
       "1         SÔNIA DA SILVA DUTRA CIMARDI      (NC)  SOLIDARIEDADE\n",
       "2              AILTON SILVA DOS SANTOS       PSB             PV\n",
       "3                     DEODORO DE SOUZA      (NC)             PP\n",
       "4             EDMILSON AGUIAR DE SOUZA       PSB            PTB\n",
       "...                                ...       ...            ...\n",
       "51987  WILLMAM CAHET MATTOSO MEDEIROS        PPL           (NC)\n",
       "51988     CELINA CLAUDIA MENEZES LEMES  PATRIOTA           (NC)\n",
       "51989            JOÃO BARBOSA DA SILVA       PRP           (NC)\n",
       "51990         RICARDO DA SILVA ALMEIDA       MDB           (NC)\n",
       "51991             NAEL SANTOS DE MATOS    AVANTE           (NC)\n",
       "\n",
       "[51992 rows x 3 columns]"
      ]
     },
     "execution_count": 50,
     "metadata": {},
     "output_type": "execute_result"
    }
   ],
   "source": [
    "mudancas"
   ]
  },
  {
   "cell_type": "code",
   "execution_count": 51,
   "id": "a7f74e39",
   "metadata": {},
   "outputs": [],
   "source": [
    "mudancas = mudancas.reset_index(drop=True)"
   ]
  },
  {
   "cell_type": "code",
   "execution_count": 25,
   "id": "ded6264d",
   "metadata": {},
   "outputs": [
    {
     "ename": "SyntaxError",
     "evalue": "invalid syntax (4208741763.py, line 1)",
     "output_type": "error",
     "traceback": [
      "\u001b[1;36m  Input \u001b[1;32mIn [25]\u001b[1;36m\u001b[0m\n\u001b[1;33m    HALT!\u001b[0m\n\u001b[1;37m        ^\u001b[0m\n\u001b[1;31mSyntaxError\u001b[0m\u001b[1;31m:\u001b[0m invalid syntax\n"
     ]
    }
   ],
   "source": [
    "HALT!"
   ]
  },
  {
   "cell_type": "code",
   "execution_count": 52,
   "id": "4865d9a3",
   "metadata": {},
   "outputs": [],
   "source": [
    "nome_partido = {'PR':'PL',\n",
    "                'PPS':'CIDADANIA', \n",
    "                'PRB':'REPUBLICANOS', \n",
    "                # 'DEM':'UNIÃO', \n",
    "                'PTC':'AGIR',\n",
    "                # 'PSL':'UNIÃO',\n",
    "                'PPL': 'PC do B',\n",
    "                'PRP':'PATRIOTA',\n",
    "                'PHS':'PODE'}"
   ]
  },
  {
   "cell_type": "code",
   "execution_count": 53,
   "id": "231db984",
   "metadata": {},
   "outputs": [],
   "source": [
    "mudancas = mudancas.replace(nome_partido)"
   ]
  },
  {
   "cell_type": "code",
   "execution_count": null,
   "id": "85d8f65d",
   "metadata": {},
   "outputs": [],
   "source": []
  },
  {
   "cell_type": "code",
   "execution_count": null,
   "id": "0887a3f2",
   "metadata": {},
   "outputs": [],
   "source": []
  },
  {
   "cell_type": "code",
   "execution_count": null,
   "id": "c0bfea37",
   "metadata": {},
   "outputs": [],
   "source": []
  },
  {
   "cell_type": "code",
   "execution_count": 54,
   "id": "7c59aadd",
   "metadata": {},
   "outputs": [],
   "source": [
    "fluxos = mudancas.groupby(['E2018', 'E2022']).Nome.count().reset_index().sort_values(by='Nome', ascending=False).reset_index(drop=True)"
   ]
  },
  {
   "cell_type": "code",
   "execution_count": 87,
   "id": "52a31241",
   "metadata": {},
   "outputs": [
    {
     "data": {
      "text/html": [
       "<div>\n",
       "<style scoped>\n",
       "    .dataframe tbody tr th:only-of-type {\n",
       "        vertical-align: middle;\n",
       "    }\n",
       "\n",
       "    .dataframe tbody tr th {\n",
       "        vertical-align: top;\n",
       "    }\n",
       "\n",
       "    .dataframe thead th {\n",
       "        text-align: right;\n",
       "    }\n",
       "</style>\n",
       "<table border=\"1\" class=\"dataframe\">\n",
       "  <thead>\n",
       "    <tr style=\"text-align: right;\">\n",
       "      <th></th>\n",
       "      <th>E2018</th>\n",
       "      <th>E2022</th>\n",
       "      <th>CPF</th>\n",
       "    </tr>\n",
       "  </thead>\n",
       "  <tbody>\n",
       "    <tr>\n",
       "      <th>0</th>\n",
       "      <td>PATRIOTA</td>\n",
       "      <td>(NC)</td>\n",
       "      <td>1859</td>\n",
       "    </tr>\n",
       "    <tr>\n",
       "      <th>1</th>\n",
       "      <td>PODE</td>\n",
       "      <td>(NC)</td>\n",
       "      <td>1595</td>\n",
       "    </tr>\n",
       "    <tr>\n",
       "      <th>2</th>\n",
       "      <td>PC do B</td>\n",
       "      <td>(NC)</td>\n",
       "      <td>1230</td>\n",
       "    </tr>\n",
       "    <tr>\n",
       "      <th>3</th>\n",
       "      <td>(NC)</td>\n",
       "      <td>PL</td>\n",
       "      <td>1130</td>\n",
       "    </tr>\n",
       "    <tr>\n",
       "      <th>4</th>\n",
       "      <td>(NC)</td>\n",
       "      <td>PTB</td>\n",
       "      <td>1102</td>\n",
       "    </tr>\n",
       "    <tr>\n",
       "      <th>...</th>\n",
       "      <td>...</td>\n",
       "      <td>...</td>\n",
       "      <td>...</td>\n",
       "    </tr>\n",
       "    <tr>\n",
       "      <th>755</th>\n",
       "      <td>PSOL</td>\n",
       "      <td>PRTB</td>\n",
       "      <td>1</td>\n",
       "    </tr>\n",
       "    <tr>\n",
       "      <th>756</th>\n",
       "      <td>PSOL</td>\n",
       "      <td>PSC</td>\n",
       "      <td>1</td>\n",
       "    </tr>\n",
       "    <tr>\n",
       "      <th>757</th>\n",
       "      <td>PCB</td>\n",
       "      <td>PSD</td>\n",
       "      <td>1</td>\n",
       "    </tr>\n",
       "    <tr>\n",
       "      <th>758</th>\n",
       "      <td>PCB</td>\n",
       "      <td>CIDADANIA</td>\n",
       "      <td>1</td>\n",
       "    </tr>\n",
       "    <tr>\n",
       "      <th>759</th>\n",
       "      <td>DC</td>\n",
       "      <td>PSC</td>\n",
       "      <td>1</td>\n",
       "    </tr>\n",
       "  </tbody>\n",
       "</table>\n",
       "<p>760 rows × 3 columns</p>\n",
       "</div>"
      ],
      "text/plain": [
       "        E2018      E2022   CPF\n",
       "0    PATRIOTA       (NC)  1859\n",
       "1        PODE       (NC)  1595\n",
       "2     PC do B       (NC)  1230\n",
       "3        (NC)         PL  1130\n",
       "4        (NC)        PTB  1102\n",
       "..        ...        ...   ...\n",
       "755      PSOL       PRTB     1\n",
       "756      PSOL        PSC     1\n",
       "757       PCB        PSD     1\n",
       "758       PCB  CIDADANIA     1\n",
       "759        DC        PSC     1\n",
       "\n",
       "[760 rows x 3 columns]"
      ]
     },
     "execution_count": 87,
     "metadata": {},
     "output_type": "execute_result"
    }
   ],
   "source": [
    "fluxos"
   ]
  },
  {
   "cell_type": "code",
   "execution_count": 55,
   "id": "8f400867",
   "metadata": {},
   "outputs": [],
   "source": [
    "fluxos_i = fluxos[(fluxos.E2018 != '(NC)') & (fluxos.E2022 != '(NC)')]"
   ]
  },
  {
   "cell_type": "code",
   "execution_count": 56,
   "id": "4d2cb233",
   "metadata": {},
   "outputs": [
    {
     "data": {
      "text/plain": [
       "5022"
      ]
     },
     "execution_count": 56,
     "metadata": {},
     "output_type": "execute_result"
    }
   ],
   "source": [
    "fluxos_i.Nome.sum()"
   ]
  },
  {
   "cell_type": "code",
   "execution_count": null,
   "id": "a811b6b6",
   "metadata": {},
   "outputs": [],
   "source": []
  },
  {
   "cell_type": "code",
   "execution_count": 93,
   "id": "592a8135",
   "metadata": {},
   "outputs": [],
   "source": [
    "fluxos_i.to_csv('fluxos_partidos_i.csv', index=False)"
   ]
  },
  {
   "cell_type": "code",
   "execution_count": 94,
   "id": "41a99567",
   "metadata": {},
   "outputs": [
    {
     "name": "stderr",
     "output_type": "stream",
     "text": [
      "C:\\Users\\rgarcia\\AppData\\Local\\Temp\\ipykernel_24404\\726548256.py:1: SettingWithCopyWarning: \n",
      "A value is trying to be set on a copy of a slice from a DataFrame.\n",
      "Try using .loc[row_indexer,col_indexer] = value instead\n",
      "\n",
      "See the caveats in the documentation: https://pandas.pydata.org/pandas-docs/stable/user_guide/indexing.html#returning-a-view-versus-a-copy\n",
      "  fluxos_i['Mudou?'] = fluxos_i['E2018'] != fluxos_i['E2022']\n"
     ]
    }
   ],
   "source": [
    "fluxos_i['Mudou?'] = fluxos_i['E2018'] != fluxos_i['E2022'] "
   ]
  },
  {
   "cell_type": "code",
   "execution_count": 95,
   "id": "4549ffb1",
   "metadata": {},
   "outputs": [
    {
     "data": {
      "text/plain": [
       "Mudou?\n",
       "False    2411\n",
       "True     3929\n",
       "Name: CPF, dtype: int64"
      ]
     },
     "execution_count": 95,
     "metadata": {},
     "output_type": "execute_result"
    }
   ],
   "source": [
    "fluxos_i.groupby(['Mudou?']).CPF.sum()"
   ]
  },
  {
   "cell_type": "code",
   "execution_count": 98,
   "id": "4f3214e7",
   "metadata": {},
   "outputs": [],
   "source": [
    "fluxos_o = fluxos[(fluxos.E2018 == '(NC)') | (fluxos.E2022 == '(NC)')]"
   ]
  },
  {
   "cell_type": "code",
   "execution_count": 99,
   "id": "1c74ffbe",
   "metadata": {},
   "outputs": [],
   "source": [
    "fluxos_o.to_csv('candidatos_novos_velhos.csv', index=False)"
   ]
  },
  {
   "cell_type": "code",
   "execution_count": null,
   "id": "02ac8cc4",
   "metadata": {},
   "outputs": [],
   "source": []
  }
 ],
 "metadata": {
  "kernelspec": {
   "display_name": "Python 3 (ipykernel)",
   "language": "python",
   "name": "python3"
  },
  "language_info": {
   "codemirror_mode": {
    "name": "ipython",
    "version": 3
   },
   "file_extension": ".py",
   "mimetype": "text/x-python",
   "name": "python",
   "nbconvert_exporter": "python",
   "pygments_lexer": "ipython3",
   "version": "3.10.5"
  }
 },
 "nbformat": 4,
 "nbformat_minor": 5
}
