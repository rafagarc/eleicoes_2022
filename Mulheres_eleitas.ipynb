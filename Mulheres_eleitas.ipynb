{
 "cells": [
  {
   "cell_type": "code",
   "execution_count": 1,
   "id": "86fa433a",
   "metadata": {},
   "outputs": [],
   "source": [
    "import pandas as pd"
   ]
  },
  {
   "cell_type": "code",
   "execution_count": 2,
   "id": "4973ea4b",
   "metadata": {},
   "outputs": [],
   "source": [
    "import os"
   ]
  },
  {
   "cell_type": "code",
   "execution_count": 82,
   "id": "7758f38d",
   "metadata": {},
   "outputs": [],
   "source": [
    "from playsound import playsound"
   ]
  },
  {
   "cell_type": "code",
   "execution_count": 152,
   "id": "2eeac90f",
   "metadata": {},
   "outputs": [],
   "source": [
    "bell = r'C:\\Users\\rgarcia\\Documents\\Audio\\331567__pac007__bell1.wav'"
   ]
  },
  {
   "cell_type": "code",
   "execution_count": 5,
   "id": "17b69e8c",
   "metadata": {},
   "outputs": [],
   "source": [
    "os.chdir('C:\\\\Users\\\\rgarcia\\\\Documents\\\\Data')"
   ]
  },
  {
   "cell_type": "code",
   "execution_count": null,
   "id": "ff3e4dd0",
   "metadata": {},
   "outputs": [],
   "source": [
    "# cell runs in 1m45s\n",
    "df = pd.read_csv('votacao_candidato_munzona_2018_BRASIL.csv',sep=';', encoding='ISO-8859-1', decimal=',', thousands='.')"
   ]
  },
  {
   "cell_type": "code",
   "execution_count": 88,
   "id": "b5b40849",
   "metadata": {},
   "outputs": [],
   "source": [
    "# playsound(bell)"
   ]
  },
  {
   "cell_type": "code",
   "execution_count": 90,
   "id": "fe9925ab",
   "metadata": {},
   "outputs": [],
   "source": [
    "cand = pd.read_csv('consulta_cand_2018_BRASIL.csv', sep=';', encoding='ISO-8859-1', decimal=',', thousands='.', low_memory=False)"
   ]
  },
  {
   "cell_type": "code",
   "execution_count": 91,
   "id": "8026e283",
   "metadata": {},
   "outputs": [],
   "source": [
    "mjt = df[df.DS_CARGO.isin(['Deputado Federal', 'Deputado Estadual', 'Senador', 'Deputado Distrital'])]"
   ]
  },
  {
   "cell_type": "code",
   "execution_count": 92,
   "id": "e185d15c",
   "metadata": {},
   "outputs": [],
   "source": [
    "mjt = mjt[['SQ_CANDIDATO', 'DS_SIT_TOT_TURNO']].drop_duplicates()"
   ]
  },
  {
   "cell_type": "code",
   "execution_count": 93,
   "id": "12c37182",
   "metadata": {},
   "outputs": [],
   "source": [
    "genero = cand[['SQ_CANDIDATO', 'DS_GENERO']]"
   ]
  },
  {
   "cell_type": "code",
   "execution_count": 94,
   "id": "3fe18c04",
   "metadata": {},
   "outputs": [],
   "source": [
    "mjt = mjt.merge(genero, how='left', on='SQ_CANDIDATO')"
   ]
  },
  {
   "cell_type": "code",
   "execution_count": 95,
   "id": "3ad2e4c0",
   "metadata": {},
   "outputs": [],
   "source": [
    "mjt = mjt.groupby(['DS_SIT_TOT_TURNO', 'DS_GENERO']).SQ_CANDIDATO.count().reset_index()"
   ]
  },
  {
   "cell_type": "code",
   "execution_count": 96,
   "id": "7ada83b6",
   "metadata": {},
   "outputs": [],
   "source": [
    "mjt['RESUMO'] = mjt.DS_SIT_TOT_TURNO.apply(lambda x: 'ELEITO' if x in ['ELEITO', 'ELEITO POR MÉDIA', 'ELEITO POR QP'] else 'NÃO ELEITO')"
   ]
  },
  {
   "cell_type": "code",
   "execution_count": 97,
   "id": "b24c342b",
   "metadata": {},
   "outputs": [],
   "source": [
    "mjt = mjt.groupby(['DS_GENERO', 'RESUMO']).SQ_CANDIDATO.sum().reset_index().pivot(index='DS_GENERO', columns='RESUMO', values='SQ_CANDIDATO').fillna(0).astype(int)[:2]"
   ]
  },
  {
   "cell_type": "code",
   "execution_count": 98,
   "id": "ef846651",
   "metadata": {},
   "outputs": [
    {
     "name": "stdout",
     "output_type": "stream",
     "text": [
      "RESUMO     ELEITO  NÃO ELEITO\n",
      "DS_GENERO                    \n",
      "FEMININO      247        7526\n",
      "MASCULINO    1378       15829\n"
     ]
    }
   ],
   "source": [
    "print(mjt)"
   ]
  },
  {
   "cell_type": "code",
   "execution_count": 146,
   "id": "aa4446f9",
   "metadata": {},
   "outputs": [],
   "source": [
    "#Porcentagem de mulheres candidatas\n",
    "\n",
    "string1 = f'\\n{round(mjt.iloc[0].sum()/mjt.stack().sum()*100,2)}% das candidaturas é feminina, \\\n",
    "mas só {round((mjt.iat[0,0]/mjt.ELEITO.sum())*100,2)}% dos eleitos são mulheres.\\n\\n'"
   ]
  },
  {
   "cell_type": "code",
   "execution_count": 147,
   "id": "f9a47977",
   "metadata": {},
   "outputs": [],
   "source": [
    "string2 = f'Uma em cada {int((mjt.iloc[0].sum()/mjt.iat[0,0]).round())} mulheres candidatas é eleita.\\n\\n'"
   ]
  },
  {
   "cell_type": "code",
   "execution_count": 148,
   "id": "b8ad8821",
   "metadata": {},
   "outputs": [],
   "source": [
    "string3 = f'Um em cada {int((mjt.iloc[1].sum()/mjt.iat[1,0]).round())} homens candidatos é eleito.\\n\\n'"
   ]
  },
  {
   "cell_type": "code",
   "execution_count": 150,
   "id": "99a8041a",
   "metadata": {},
   "outputs": [
    {
     "name": "stdout",
     "output_type": "stream",
     "text": [
      "2018 - Legislativo\n",
      "\n",
      "RESUMO     ELEITO  NÃO ELEITO\n",
      "DS_GENERO                    \n",
      "FEMININO      247        7526\n",
      "MASCULINO    1378       15829\n",
      "\n",
      "31.12% das candidaturas é feminina, mas só 15.2% dos eleitos são mulheres.\n",
      "\n",
      "Uma em cada 31 mulheres candidatas é eleita.\n",
      "\n",
      "Um em cada 12 homens candidatos é eleito.\n",
      "\n",
      "\n"
     ]
    }
   ],
   "source": [
    "print('2018 - Legislativo\\n\\n' + mjt.to_string() + '\\n' + string1 + string2 + string3 )\n"
   ]
  },
  {
   "cell_type": "code",
   "execution_count": 153,
   "id": "45440bb1",
   "metadata": {},
   "outputs": [],
   "source": [
    "playsound(bell)"
   ]
  },
  {
   "cell_type": "code",
   "execution_count": null,
   "id": "37641f29",
   "metadata": {},
   "outputs": [],
   "source": []
  }
 ],
 "metadata": {
  "kernelspec": {
   "display_name": "Python 3 (ipykernel)",
   "language": "python",
   "name": "python3"
  },
  "language_info": {
   "codemirror_mode": {
    "name": "ipython",
    "version": 3
   },
   "file_extension": ".py",
   "mimetype": "text/x-python",
   "name": "python",
   "nbconvert_exporter": "python",
   "pygments_lexer": "ipython3",
   "version": "3.10.5"
  }
 },
 "nbformat": 4,
 "nbformat_minor": 5
}
