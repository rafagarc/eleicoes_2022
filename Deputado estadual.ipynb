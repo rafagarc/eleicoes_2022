{
 "cells": [
  {
   "cell_type": "code",
   "execution_count": 1,
   "id": "6c69377f",
   "metadata": {},
   "outputs": [],
   "source": [
    "import pandas as pd"
   ]
  },
  {
   "cell_type": "code",
   "execution_count": 2,
   "id": "00a030c1",
   "metadata": {},
   "outputs": [],
   "source": [
    "import os"
   ]
  },
  {
   "cell_type": "code",
   "execution_count": 3,
   "id": "036c7cab",
   "metadata": {},
   "outputs": [
    {
     "data": {
      "text/plain": [
       "'C:\\\\Users\\\\rgarcia\\\\Documents\\\\Code'"
      ]
     },
     "execution_count": 3,
     "metadata": {},
     "output_type": "execute_result"
    }
   ],
   "source": [
    "os.getcwd()"
   ]
  },
  {
   "cell_type": "code",
   "execution_count": 4,
   "id": "7ba864db",
   "metadata": {},
   "outputs": [],
   "source": [
    "import brfy"
   ]
  },
  {
   "cell_type": "code",
   "execution_count": 5,
   "id": "3235324a",
   "metadata": {},
   "outputs": [],
   "source": [
    "os.chdir('C:\\\\Users\\\\rgarcia\\\\Documents\\\\Data')"
   ]
  },
  {
   "cell_type": "code",
   "execution_count": 6,
   "id": "ad5811df",
   "metadata": {},
   "outputs": [],
   "source": [
    "dep_est = pd.read_csv('votacao_candidato.csv')"
   ]
  },
  {
   "cell_type": "code",
   "execution_count": 7,
   "id": "b2fa6f05",
   "metadata": {},
   "outputs": [],
   "source": [
    "dep_est_e = dep_est.query('ds_sit_totalizacao == \"Eleito\"').sort_values(by='qt_votos_nominais', ascending=False)"
   ]
  },
  {
   "cell_type": "code",
   "execution_count": 8,
   "id": "ad0ffaa3",
   "metadata": {},
   "outputs": [],
   "source": [
    "dep_est_e['nm_candidato'] = dep_est_e.nm_candidato.str.title()"
   ]
  },
  {
   "cell_type": "code",
   "execution_count": 28,
   "id": "ba241146",
   "metadata": {},
   "outputs": [],
   "source": [
    "def De_to_de(x):\n",
    "    prep_dic = {' Do ':' do ', ' Da ':' da ', ' Dos ':' dos ', ' Das ':' das ', ' De ':' de ', ' E ': ' e '}\n",
    "    for i in prep_dic:\n",
    "        x = x.replace(i,prep_dic[i])\n",
    "    return x"
   ]
  },
  {
   "cell_type": "code",
   "execution_count": 29,
   "id": "cb1900db",
   "metadata": {},
   "outputs": [
    {
     "data": {
      "text/plain": [
       "'Costa e Silva'"
      ]
     },
     "execution_count": 29,
     "metadata": {},
     "output_type": "execute_result"
    }
   ],
   "source": [
    "De_to_de('Costa E Silva')"
   ]
  },
  {
   "cell_type": "code",
   "execution_count": null,
   "id": "13428997",
   "metadata": {},
   "outputs": [],
   "source": []
  },
  {
   "cell_type": "code",
   "execution_count": 15,
   "id": "d709390e",
   "metadata": {},
   "outputs": [],
   "source": [
    "dep_est_e['nm_candidato'] =  dep_est_e.nm_candidato.apply(De_to_de)"
   ]
  },
  {
   "cell_type": "code",
   "execution_count": 17,
   "id": "2ad891d6",
   "metadata": {},
   "outputs": [
    {
     "data": {
      "text/html": [
       "<div>\n",
       "<style scoped>\n",
       "    .dataframe tbody tr th:only-of-type {\n",
       "        vertical-align: middle;\n",
       "    }\n",
       "\n",
       "    .dataframe tbody tr th {\n",
       "        vertical-align: top;\n",
       "    }\n",
       "\n",
       "    .dataframe thead th {\n",
       "        text-align: right;\n",
       "    }\n",
       "</style>\n",
       "<table border=\"1\" class=\"dataframe\">\n",
       "  <thead>\n",
       "    <tr style=\"text-align: right;\">\n",
       "      <th></th>\n",
       "      <th>nm_candidato</th>\n",
       "      <th>sg_partido</th>\n",
       "      <th>qt_votos_nominais</th>\n",
       "    </tr>\n",
       "  </thead>\n",
       "  <tbody>\n",
       "    <tr>\n",
       "      <th>67</th>\n",
       "      <td>Janaina Conceição Paschoal</td>\n",
       "      <td>PSL</td>\n",
       "      <td>2060786</td>\n",
       "    </tr>\n",
       "    <tr>\n",
       "      <th>1</th>\n",
       "      <td>Arthur Moledo do Val</td>\n",
       "      <td>DEM</td>\n",
       "      <td>478280</td>\n",
       "    </tr>\n",
       "    <tr>\n",
       "      <th>75</th>\n",
       "      <td>Carlos Alberto Giannasi</td>\n",
       "      <td>PSOL</td>\n",
       "      <td>218705</td>\n",
       "    </tr>\n",
       "    <tr>\n",
       "      <th>25</th>\n",
       "      <td>Paulo Adriano Lopes Lucinda Telhada</td>\n",
       "      <td>PP</td>\n",
       "      <td>214445</td>\n",
       "    </tr>\n",
       "    <tr>\n",
       "      <th>66</th>\n",
       "      <td>Gildevanio Ilso dos Santos Diniz</td>\n",
       "      <td>PSL</td>\n",
       "      <td>214037</td>\n",
       "    </tr>\n",
       "    <tr>\n",
       "      <th>...</th>\n",
       "      <td>...</td>\n",
       "      <td>...</td>\n",
       "      <td>...</td>\n",
       "    </tr>\n",
       "    <tr>\n",
       "      <th>13</th>\n",
       "      <td>Ricardo Luis Mellao</td>\n",
       "      <td>NOVO</td>\n",
       "      <td>27150</td>\n",
       "    </tr>\n",
       "    <tr>\n",
       "      <th>60</th>\n",
       "      <td>Adalberto Godoy Freitas</td>\n",
       "      <td>PSL</td>\n",
       "      <td>26153</td>\n",
       "    </tr>\n",
       "    <tr>\n",
       "      <th>65</th>\n",
       "      <td>Frederico Braun D'Avila</td>\n",
       "      <td>PSL</td>\n",
       "      <td>24470</td>\n",
       "    </tr>\n",
       "    <tr>\n",
       "      <th>70</th>\n",
       "      <td>Matheus Coimbra Martins de Aguiar</td>\n",
       "      <td>PSL</td>\n",
       "      <td>24109</td>\n",
       "    </tr>\n",
       "    <tr>\n",
       "      <th>72</th>\n",
       "      <td>Paulo Nishikawa</td>\n",
       "      <td>PSL</td>\n",
       "      <td>23094</td>\n",
       "    </tr>\n",
       "  </tbody>\n",
       "</table>\n",
       "<p>94 rows × 3 columns</p>\n",
       "</div>"
      ],
      "text/plain": [
       "                           nm_candidato sg_partido  qt_votos_nominais\n",
       "67           Janaina Conceição Paschoal        PSL            2060786\n",
       "1                  Arthur Moledo do Val        DEM             478280\n",
       "75              Carlos Alberto Giannasi       PSOL             218705\n",
       "25  Paulo Adriano Lopes Lucinda Telhada         PP             214445\n",
       "66     Gildevanio Ilso dos Santos Diniz        PSL             214037\n",
       "..                                  ...        ...                ...\n",
       "13                  Ricardo Luis Mellao       NOVO              27150\n",
       "60              Adalberto Godoy Freitas        PSL              26153\n",
       "65              Frederico Braun D'Avila        PSL              24470\n",
       "70    Matheus Coimbra Martins de Aguiar        PSL              24109\n",
       "72                      Paulo Nishikawa        PSL              23094\n",
       "\n",
       "[94 rows x 3 columns]"
      ]
     },
     "execution_count": 17,
     "metadata": {},
     "output_type": "execute_result"
    }
   ],
   "source": [
    "dep_est_e[['nm_candidato', 'sg_partido', 'qt_votos_nominais']]"
   ]
  },
  {
   "cell_type": "code",
   "execution_count": 25,
   "id": "1a14d17a",
   "metadata": {},
   "outputs": [
    {
     "data": {
      "text/html": [
       "<div>\n",
       "<style scoped>\n",
       "    .dataframe tbody tr th:only-of-type {\n",
       "        vertical-align: middle;\n",
       "    }\n",
       "\n",
       "    .dataframe tbody tr th {\n",
       "        vertical-align: top;\n",
       "    }\n",
       "\n",
       "    .dataframe thead th {\n",
       "        text-align: right;\n",
       "    }\n",
       "</style>\n",
       "<table border=\"1\" class=\"dataframe\">\n",
       "  <thead>\n",
       "    <tr style=\"text-align: right;\">\n",
       "      <th></th>\n",
       "      <th>sg_partido</th>\n",
       "      <th>nm_candidato</th>\n",
       "    </tr>\n",
       "  </thead>\n",
       "  <tbody>\n",
       "    <tr>\n",
       "      <th>0</th>\n",
       "      <td>AVANTE</td>\n",
       "      <td>1</td>\n",
       "    </tr>\n",
       "    <tr>\n",
       "      <th>1</th>\n",
       "      <td>DEM</td>\n",
       "      <td>7</td>\n",
       "    </tr>\n",
       "    <tr>\n",
       "      <th>2</th>\n",
       "      <td>MDB</td>\n",
       "      <td>3</td>\n",
       "    </tr>\n",
       "    <tr>\n",
       "      <th>3</th>\n",
       "      <td>NOVO</td>\n",
       "      <td>4</td>\n",
       "    </tr>\n",
       "    <tr>\n",
       "      <th>4</th>\n",
       "      <td>PATRI</td>\n",
       "      <td>1</td>\n",
       "    </tr>\n",
       "    <tr>\n",
       "      <th>5</th>\n",
       "      <td>PC do B</td>\n",
       "      <td>1</td>\n",
       "    </tr>\n",
       "    <tr>\n",
       "      <th>6</th>\n",
       "      <td>PDT</td>\n",
       "      <td>1</td>\n",
       "    </tr>\n",
       "    <tr>\n",
       "      <th>7</th>\n",
       "      <td>PHS</td>\n",
       "      <td>1</td>\n",
       "    </tr>\n",
       "    <tr>\n",
       "      <th>8</th>\n",
       "      <td>PODE</td>\n",
       "      <td>4</td>\n",
       "    </tr>\n",
       "    <tr>\n",
       "      <th>9</th>\n",
       "      <td>PP</td>\n",
       "      <td>4</td>\n",
       "    </tr>\n",
       "    <tr>\n",
       "      <th>10</th>\n",
       "      <td>PPS</td>\n",
       "      <td>2</td>\n",
       "    </tr>\n",
       "    <tr>\n",
       "      <th>11</th>\n",
       "      <td>PR</td>\n",
       "      <td>6</td>\n",
       "    </tr>\n",
       "    <tr>\n",
       "      <th>12</th>\n",
       "      <td>PRB</td>\n",
       "      <td>6</td>\n",
       "    </tr>\n",
       "    <tr>\n",
       "      <th>13</th>\n",
       "      <td>PROS</td>\n",
       "      <td>1</td>\n",
       "    </tr>\n",
       "    <tr>\n",
       "      <th>14</th>\n",
       "      <td>PSB</td>\n",
       "      <td>8</td>\n",
       "    </tr>\n",
       "    <tr>\n",
       "      <th>15</th>\n",
       "      <td>PSD</td>\n",
       "      <td>2</td>\n",
       "    </tr>\n",
       "    <tr>\n",
       "      <th>16</th>\n",
       "      <td>PSDB</td>\n",
       "      <td>8</td>\n",
       "    </tr>\n",
       "    <tr>\n",
       "      <th>17</th>\n",
       "      <td>PSL</td>\n",
       "      <td>15</td>\n",
       "    </tr>\n",
       "    <tr>\n",
       "      <th>18</th>\n",
       "      <td>PSOL</td>\n",
       "      <td>4</td>\n",
       "    </tr>\n",
       "    <tr>\n",
       "      <th>19</th>\n",
       "      <td>PT</td>\n",
       "      <td>10</td>\n",
       "    </tr>\n",
       "    <tr>\n",
       "      <th>20</th>\n",
       "      <td>PTB</td>\n",
       "      <td>2</td>\n",
       "    </tr>\n",
       "    <tr>\n",
       "      <th>21</th>\n",
       "      <td>PV</td>\n",
       "      <td>1</td>\n",
       "    </tr>\n",
       "    <tr>\n",
       "      <th>22</th>\n",
       "      <td>REDE</td>\n",
       "      <td>1</td>\n",
       "    </tr>\n",
       "    <tr>\n",
       "      <th>23</th>\n",
       "      <td>SOLIDARIEDADE</td>\n",
       "      <td>1</td>\n",
       "    </tr>\n",
       "  </tbody>\n",
       "</table>\n",
       "</div>"
      ],
      "text/plain": [
       "       sg_partido  nm_candidato\n",
       "0          AVANTE             1\n",
       "1             DEM             7\n",
       "2             MDB             3\n",
       "3            NOVO             4\n",
       "4           PATRI             1\n",
       "5         PC do B             1\n",
       "6             PDT             1\n",
       "7             PHS             1\n",
       "8            PODE             4\n",
       "9              PP             4\n",
       "10            PPS             2\n",
       "11             PR             6\n",
       "12            PRB             6\n",
       "13           PROS             1\n",
       "14            PSB             8\n",
       "15            PSD             2\n",
       "16           PSDB             8\n",
       "17            PSL            15\n",
       "18           PSOL             4\n",
       "19             PT            10\n",
       "20            PTB             2\n",
       "21             PV             1\n",
       "22           REDE             1\n",
       "23  SOLIDARIEDADE             1"
      ]
     },
     "execution_count": 25,
     "metadata": {},
     "output_type": "execute_result"
    }
   ],
   "source": [
    "dep_est_e.groupby('sg_partido').nm_candidato.count().reset_index()"
   ]
  },
  {
   "cell_type": "code",
   "execution_count": null,
   "id": "6ac446db",
   "metadata": {},
   "outputs": [],
   "source": []
  }
 ],
 "metadata": {
  "kernelspec": {
   "display_name": "Python 3 (ipykernel)",
   "language": "python",
   "name": "python3"
  },
  "language_info": {
   "codemirror_mode": {
    "name": "ipython",
    "version": 3
   },
   "file_extension": ".py",
   "mimetype": "text/x-python",
   "name": "python",
   "nbconvert_exporter": "python",
   "pygments_lexer": "ipython3",
   "version": "3.10.5"
  }
 },
 "nbformat": 4,
 "nbformat_minor": 5
}
