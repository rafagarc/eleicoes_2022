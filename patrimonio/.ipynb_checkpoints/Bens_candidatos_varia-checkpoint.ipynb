{
 "cells": [
  {
   "cell_type": "code",
   "execution_count": 5,
   "metadata": {
    "id": "V5vZEU04sVxE"
   },
   "outputs": [],
   "source": [
    "import pandas as pd"
   ]
  },
  {
   "cell_type": "code",
   "execution_count": 2,
   "metadata": {
    "id": "XdkUEAGysdDM"
   },
   "outputs": [],
   "source": [
    "# Paths dos datasets\n",
    "\n",
    "bens_2018 = r'C:\\Users\\rgarcia\\Documents\\GitHub\\eleicoes_2022\\patrimonio\\bem_candidato_2018_BRASIL.csv'\n",
    "\n",
    "bens_2022 = r'C:\\Users\\rgarcia\\Documents\\GitHub\\eleicoes_2022\\patrimonio\\bem_candidato_2022_BRASIL.csv'\n",
    "\n",
    "candidatos_2022 = r'C:\\Users\\rgarcia\\Documents\\GitHub\\eleicoes_2022\\consulta_cand_2022_BRASIL.csv'"
   ]
  },
  {
   "cell_type": "code",
   "execution_count": 6,
   "metadata": {},
   "outputs": [],
   "source": [
    "bens_2018 = pd.read_csv(bens_2018, sep=';', encoding='ISO-8859-1', decimal=\",\")"
   ]
  },
  {
   "cell_type": "code",
   "execution_count": 7,
   "metadata": {},
   "outputs": [],
   "source": [
    "bens_2022 = pd.read_csv(bens_2022, sep=';', encoding='ISO-8859-1', decimal=\",\")"
   ]
  },
  {
   "cell_type": "code",
   "execution_count": 14,
   "metadata": {},
   "outputs": [],
   "source": [
    "tem_cash = ['Dinheiro em espécie - moeda estrangeira', 'Dinheiro em espécie - nacional']"
   ]
  },
  {
   "cell_type": "code",
   "execution_count": 17,
   "metadata": {},
   "outputs": [],
   "source": [
    "cash_2018 = bens_2018[bens_2018['DS_TIPO_BEM_CANDIDATO'].isin(tem_cash)]"
   ]
  },
  {
   "cell_type": "code",
   "execution_count": null,
   "metadata": {},
   "outputs": [],
   "source": []
  },
  {
   "cell_type": "code",
   "execution_count": 20,
   "metadata": {},
   "outputs": [
    {
     "data": {
      "text/plain": [
       "7124988.67"
      ]
     },
     "execution_count": 20,
     "metadata": {},
     "output_type": "execute_result"
    }
   ],
   "source": [
    "cash_2018['VR_BEM_CANDIDATO'].sum()"
   ]
  },
  {
   "cell_type": "code",
   "execution_count": null,
   "metadata": {},
   "outputs": [],
   "source": []
  },
  {
   "cell_type": "code",
   "execution_count": null,
   "metadata": {},
   "outputs": [],
   "source": []
  },
  {
   "cell_type": "code",
   "execution_count": null,
   "metadata": {},
   "outputs": [],
   "source": []
  },
  {
   "cell_type": "code",
   "execution_count": null,
   "metadata": {},
   "outputs": [],
   "source": []
  },
  {
   "cell_type": "code",
   "execution_count": 6,
   "metadata": {
    "id": "tzBhVJdwsVtp"
   },
   "outputs": [],
   "source": [
    "bens = pd.read_csv(candidatos_patrimonio, sep=';', encoding='ISO-8859-1', decimal=\",\")"
   ]
  },
  {
   "cell_type": "code",
   "execution_count": 30,
   "metadata": {},
   "outputs": [],
   "source": [
    "bens_2018 = pd.read_csv(candidatos_patrimonio_2018, sep=';', encoding='ISO-8859-1', decimal=\",\")"
   ]
  },
  {
   "cell_type": "code",
   "execution_count": 8,
   "metadata": {
    "id": "ORebEno0pnts"
   },
   "outputs": [],
   "source": [
    "cand = pd.read_csv(candidatos_geral, sep=';', encoding='ISO-8859-1', decimal=\",\")"
   ]
  },
  {
   "cell_type": "code",
   "execution_count": 33,
   "metadata": {},
   "outputs": [
    {
     "data": {
      "text/html": [
       "<div>\n",
       "<style scoped>\n",
       "    .dataframe tbody tr th:only-of-type {\n",
       "        vertical-align: middle;\n",
       "    }\n",
       "\n",
       "    .dataframe tbody tr th {\n",
       "        vertical-align: top;\n",
       "    }\n",
       "\n",
       "    .dataframe thead th {\n",
       "        text-align: right;\n",
       "    }\n",
       "</style>\n",
       "<table border=\"1\" class=\"dataframe\">\n",
       "  <thead>\n",
       "    <tr style=\"text-align: right;\">\n",
       "      <th></th>\n",
       "      <th>DT_GERACAO_x</th>\n",
       "      <th>HH_GERACAO_x</th>\n",
       "      <th>ANO_ELEICAO_x</th>\n",
       "      <th>CD_TIPO_ELEICAO_x</th>\n",
       "      <th>NM_TIPO_ELEICAO_x</th>\n",
       "      <th>NR_TURNO</th>\n",
       "      <th>CD_ELEICAO_x</th>\n",
       "      <th>DS_ELEICAO_x</th>\n",
       "      <th>DT_ELEICAO_x</th>\n",
       "      <th>TP_ABRANGENCIA</th>\n",
       "      <th>...</th>\n",
       "      <th>SG_UF_y</th>\n",
       "      <th>SG_UE_y</th>\n",
       "      <th>NM_UE_y</th>\n",
       "      <th>NR_ORDEM_CANDIDATO</th>\n",
       "      <th>CD_TIPO_BEM_CANDIDATO</th>\n",
       "      <th>DS_TIPO_BEM_CANDIDATO</th>\n",
       "      <th>DS_BEM_CANDIDATO</th>\n",
       "      <th>VR_BEM_CANDIDATO</th>\n",
       "      <th>DT_ULTIMA_ATUALIZACAO</th>\n",
       "      <th>HH_ULTIMA_ATUALIZACAO</th>\n",
       "    </tr>\n",
       "  </thead>\n",
       "  <tbody>\n",
       "    <tr>\n",
       "      <th>0</th>\n",
       "      <td>NaN</td>\n",
       "      <td>NaN</td>\n",
       "      <td>NaN</td>\n",
       "      <td>NaN</td>\n",
       "      <td>NaN</td>\n",
       "      <td>NaN</td>\n",
       "      <td>NaN</td>\n",
       "      <td>NaN</td>\n",
       "      <td>NaN</td>\n",
       "      <td>NaN</td>\n",
       "      <td>...</td>\n",
       "      <td>AM</td>\n",
       "      <td>AM</td>\n",
       "      <td>AMAZONAS</td>\n",
       "      <td>8</td>\n",
       "      <td>61</td>\n",
       "      <td>Depósito bancário em conta corrente no País</td>\n",
       "      <td>BANCO ITAU UNIBANCO S.A CNPJ N. 60.701.190/000...</td>\n",
       "      <td>10.00</td>\n",
       "      <td>19/04/2021</td>\n",
       "      <td>20:13:09</td>\n",
       "    </tr>\n",
       "    <tr>\n",
       "      <th>1</th>\n",
       "      <td>NaN</td>\n",
       "      <td>NaN</td>\n",
       "      <td>NaN</td>\n",
       "      <td>NaN</td>\n",
       "      <td>NaN</td>\n",
       "      <td>NaN</td>\n",
       "      <td>NaN</td>\n",
       "      <td>NaN</td>\n",
       "      <td>NaN</td>\n",
       "      <td>NaN</td>\n",
       "      <td>...</td>\n",
       "      <td>SP</td>\n",
       "      <td>SP</td>\n",
       "      <td>SÃO PAULO</td>\n",
       "      <td>19</td>\n",
       "      <td>11</td>\n",
       "      <td>Apartamento</td>\n",
       "      <td>#NULO#</td>\n",
       "      <td>45766.95</td>\n",
       "      <td>09/07/2020</td>\n",
       "      <td>16:53:39</td>\n",
       "    </tr>\n",
       "    <tr>\n",
       "      <th>2</th>\n",
       "      <td>NaN</td>\n",
       "      <td>NaN</td>\n",
       "      <td>NaN</td>\n",
       "      <td>NaN</td>\n",
       "      <td>NaN</td>\n",
       "      <td>NaN</td>\n",
       "      <td>NaN</td>\n",
       "      <td>NaN</td>\n",
       "      <td>NaN</td>\n",
       "      <td>NaN</td>\n",
       "      <td>...</td>\n",
       "      <td>SP</td>\n",
       "      <td>SP</td>\n",
       "      <td>SÃO PAULO</td>\n",
       "      <td>8</td>\n",
       "      <td>32</td>\n",
       "      <td>Quotas ou quinhões de capital</td>\n",
       "      <td>250 QUOTAS NA EMPRESA FATI PARTICIPAÇÕES LTDA ...</td>\n",
       "      <td>1000.00</td>\n",
       "      <td>09/07/2020</td>\n",
       "      <td>16:56:36</td>\n",
       "    </tr>\n",
       "    <tr>\n",
       "      <th>3</th>\n",
       "      <td>NaN</td>\n",
       "      <td>NaN</td>\n",
       "      <td>NaN</td>\n",
       "      <td>NaN</td>\n",
       "      <td>NaN</td>\n",
       "      <td>NaN</td>\n",
       "      <td>NaN</td>\n",
       "      <td>NaN</td>\n",
       "      <td>NaN</td>\n",
       "      <td>NaN</td>\n",
       "      <td>...</td>\n",
       "      <td>SC</td>\n",
       "      <td>SC</td>\n",
       "      <td>SANTA CATARINA</td>\n",
       "      <td>1</td>\n",
       "      <td>21</td>\n",
       "      <td>Veículo automotor terrestre: caminhão, automóv...</td>\n",
       "      <td>VEICULO STILLO DA FIAT ANO 2011</td>\n",
       "      <td>20000.00</td>\n",
       "      <td>14/12/2018</td>\n",
       "      <td>13:47:16</td>\n",
       "    </tr>\n",
       "    <tr>\n",
       "      <th>4</th>\n",
       "      <td>NaN</td>\n",
       "      <td>NaN</td>\n",
       "      <td>NaN</td>\n",
       "      <td>NaN</td>\n",
       "      <td>NaN</td>\n",
       "      <td>NaN</td>\n",
       "      <td>NaN</td>\n",
       "      <td>NaN</td>\n",
       "      <td>NaN</td>\n",
       "      <td>NaN</td>\n",
       "      <td>...</td>\n",
       "      <td>RS</td>\n",
       "      <td>RS</td>\n",
       "      <td>RIO GRANDE DO SUL</td>\n",
       "      <td>2</td>\n",
       "      <td>11</td>\n",
       "      <td>Apartamento</td>\n",
       "      <td>UM APTO NA RUA DOS ANDRADAS, 261APTO 705 PORTO...</td>\n",
       "      <td>62332.79</td>\n",
       "      <td>08/03/2022</td>\n",
       "      <td>17:29:44</td>\n",
       "    </tr>\n",
       "  </tbody>\n",
       "</table>\n",
       "<p>5 rows × 89 columns</p>\n",
       "</div>"
      ],
      "text/plain": [
       "  DT_GERACAO_x HH_GERACAO_x  ANO_ELEICAO_x  CD_TIPO_ELEICAO_x  \\\n",
       "0          NaN          NaN            NaN                NaN   \n",
       "1          NaN          NaN            NaN                NaN   \n",
       "2          NaN          NaN            NaN                NaN   \n",
       "3          NaN          NaN            NaN                NaN   \n",
       "4          NaN          NaN            NaN                NaN   \n",
       "\n",
       "  NM_TIPO_ELEICAO_x  NR_TURNO  CD_ELEICAO_x DS_ELEICAO_x DT_ELEICAO_x  \\\n",
       "0               NaN       NaN           NaN          NaN          NaN   \n",
       "1               NaN       NaN           NaN          NaN          NaN   \n",
       "2               NaN       NaN           NaN          NaN          NaN   \n",
       "3               NaN       NaN           NaN          NaN          NaN   \n",
       "4               NaN       NaN           NaN          NaN          NaN   \n",
       "\n",
       "  TP_ABRANGENCIA  ... SG_UF_y SG_UE_y            NM_UE_y  NR_ORDEM_CANDIDATO  \\\n",
       "0            NaN  ...      AM      AM           AMAZONAS                   8   \n",
       "1            NaN  ...      SP      SP          SÃO PAULO                  19   \n",
       "2            NaN  ...      SP      SP          SÃO PAULO                   8   \n",
       "3            NaN  ...      SC      SC     SANTA CATARINA                   1   \n",
       "4            NaN  ...      RS      RS  RIO GRANDE DO SUL                   2   \n",
       "\n",
       "  CD_TIPO_BEM_CANDIDATO                              DS_TIPO_BEM_CANDIDATO  \\\n",
       "0                    61        Depósito bancário em conta corrente no País   \n",
       "1                    11                                        Apartamento   \n",
       "2                    32                      Quotas ou quinhões de capital   \n",
       "3                    21  Veículo automotor terrestre: caminhão, automóv...   \n",
       "4                    11                                        Apartamento   \n",
       "\n",
       "                                    DS_BEM_CANDIDATO VR_BEM_CANDIDATO  \\\n",
       "0  BANCO ITAU UNIBANCO S.A CNPJ N. 60.701.190/000...            10.00   \n",
       "1                                             #NULO#         45766.95   \n",
       "2  250 QUOTAS NA EMPRESA FATI PARTICIPAÇÕES LTDA ...          1000.00   \n",
       "3                    VEICULO STILLO DA FIAT ANO 2011         20000.00   \n",
       "4  UM APTO NA RUA DOS ANDRADAS, 261APTO 705 PORTO...         62332.79   \n",
       "\n",
       "  DT_ULTIMA_ATUALIZACAO HH_ULTIMA_ATUALIZACAO  \n",
       "0            19/04/2021              20:13:09  \n",
       "1            09/07/2020              16:53:39  \n",
       "2            09/07/2020              16:56:36  \n",
       "3            14/12/2018              13:47:16  \n",
       "4            08/03/2022              17:29:44  \n",
       "\n",
       "[5 rows x 89 columns]"
      ]
     },
     "execution_count": 33,
     "metadata": {},
     "output_type": "execute_result"
    }
   ],
   "source": [
    "cand_bens.head()"
   ]
  },
  {
   "cell_type": "code",
   "execution_count": 32,
   "metadata": {
    "id": "nzb5eOqPsnM-"
   },
   "outputs": [],
   "source": [
    "cand_bens = cand.merge(bens, how='right', on='SQ_CANDIDATO')"
   ]
  },
  {
   "cell_type": "code",
   "execution_count": 10,
   "metadata": {
    "id": "xciqXeErz5Pg"
   },
   "outputs": [],
   "source": [
    "summary_tables = []"
   ]
  },
  {
   "cell_type": "code",
   "execution_count": 35,
   "metadata": {
    "colab": {
     "base_uri": "https://localhost:8080/"
    },
    "id": "N_CJdvFe6AYK",
    "outputId": "b4e2886c-e066-42f6-c442-74d0424a1051"
   },
   "outputs": [
    {
     "data": {
      "text/plain": [
       "Index(['DT_GERACAO_x', 'HH_GERACAO_x', 'ANO_ELEICAO_x', 'CD_TIPO_ELEICAO_x',\n",
       "       'NM_TIPO_ELEICAO_x', 'NR_TURNO', 'CD_ELEICAO_x', 'DS_ELEICAO_x',\n",
       "       'DT_ELEICAO_x', 'TP_ABRANGENCIA', 'SG_UF_x', 'SG_UE_x', 'NM_UE_x',\n",
       "       'CD_CARGO', 'DS_CARGO', 'SQ_CANDIDATO', 'NR_CANDIDATO', 'NM_CANDIDATO',\n",
       "       'NM_URNA_CANDIDATO', 'NM_SOCIAL_CANDIDATO', 'NR_CPF_CANDIDATO',\n",
       "       'NM_EMAIL', 'CD_SITUACAO_CANDIDATURA', 'DS_SITUACAO_CANDIDATURA',\n",
       "       'CD_DETALHE_SITUACAO_CAND', 'DS_DETALHE_SITUACAO_CAND', 'TP_AGREMIACAO',\n",
       "       'NR_PARTIDO', 'SG_PARTIDO', 'NM_PARTIDO', 'NR_FEDERACAO',\n",
       "       'NM_FEDERACAO', 'SG_FEDERACAO', 'DS_COMPOSICAO_FEDERACAO',\n",
       "       'SQ_COLIGACAO', 'NM_COLIGACAO', 'DS_COMPOSICAO_COLIGACAO',\n",
       "       'CD_NACIONALIDADE', 'DS_NACIONALIDADE', 'SG_UF_NASCIMENTO',\n",
       "       'CD_MUNICIPIO_NASCIMENTO', 'NM_MUNICIPIO_NASCIMENTO', 'DT_NASCIMENTO',\n",
       "       'NR_IDADE_DATA_POSSE', 'NR_TITULO_ELEITORAL_CANDIDATO', 'CD_GENERO',\n",
       "       'DS_GENERO', 'CD_GRAU_INSTRUCAO', 'DS_GRAU_INSTRUCAO',\n",
       "       'CD_ESTADO_CIVIL', 'DS_ESTADO_CIVIL', 'CD_COR_RACA', 'DS_COR_RACA',\n",
       "       'CD_OCUPACAO', 'DS_OCUPACAO', 'VR_DESPESA_MAX_CAMPANHA',\n",
       "       'CD_SIT_TOT_TURNO', 'DS_SIT_TOT_TURNO', 'ST_REELEICAO',\n",
       "       'ST_DECLARAR_BENS', 'NR_PROTOCOLO_CANDIDATURA', 'NR_PROCESSO',\n",
       "       'CD_SITUACAO_CANDIDATO_PLEITO', 'DS_SITUACAO_CANDIDATO_PLEITO',\n",
       "       'CD_SITUACAO_CANDIDATO_URNA', 'DS_SITUACAO_CANDIDATO_URNA',\n",
       "       'ST_CANDIDATO_INSERIDO_URNA', 'NM_TIPO_DESTINACAO_VOTOS',\n",
       "       'CD_SITUACAO_CANDIDATO_TOT', 'DS_SITUACAO_CANDIDATO_TOT',\n",
       "       'ST_PREST_CONTAS', 'DT_GERACAO_y', 'HH_GERACAO_y', 'ANO_ELEICAO_y',\n",
       "       'CD_TIPO_ELEICAO_y', 'NM_TIPO_ELEICAO_y', 'CD_ELEICAO_y',\n",
       "       'DS_ELEICAO_y', 'DT_ELEICAO_y', 'SG_UF_y', 'SG_UE_y', 'NM_UE_y',\n",
       "       'NR_ORDEM_CANDIDATO', 'CD_TIPO_BEM_CANDIDATO', 'DS_TIPO_BEM_CANDIDATO',\n",
       "       'DS_BEM_CANDIDATO', 'VR_BEM_CANDIDATO', 'DT_ULTIMA_ATUALIZACAO',\n",
       "       'HH_ULTIMA_ATUALIZACAO'],\n",
       "      dtype='object')"
      ]
     },
     "execution_count": 35,
     "metadata": {},
     "output_type": "execute_result"
    }
   ],
   "source": [
    "cand_bens.columns"
   ]
  },
  {
   "cell_type": "code",
   "execution_count": 12,
   "metadata": {
    "colab": {
     "base_uri": "https://localhost:8080/"
    },
    "id": "fe-IEsL8H7QZ",
    "outputId": "b53342a8-f2a7-43a2-825f-91b64a429770"
   },
   "outputs": [
    {
     "data": {
      "text/plain": [
       "array(['Depósito bancário em conta corrente no País', 'Apartamento',\n",
       "       'Quotas ou quinhões de capital',\n",
       "       'Veículo automotor terrestre: caminhão, automóvel, moto, etc.',\n",
       "       'Consórcio não contemplado', 'Aeronave', 'Casa',\n",
       "       'OUTROS BENS E DIREITOS', 'Caderneta de poupança',\n",
       "       'Outros créditos e poupança vinculados', 'Benfeitorias', 'Terreno',\n",
       "       'Outros bens imóveis',\n",
       "       'Aplicação de renda fixa (CDB, RDB e outros)',\n",
       "       'Outras aplicações e Investimentos', 'Embarcação', 'Outros fundos',\n",
       "       'Sala ou conjunto', 'Crédito decorrente de empréstimo',\n",
       "       'Ações (inclusive as provenientes de linha telefônica)',\n",
       "       'Dinheiro em espécie - moeda nacional', 'Terra nua',\n",
       "       'Outros bens móveis',\n",
       "       'Poupança para construção ou aquisição de bem imóvel',\n",
       "       'Outras participações societárias',\n",
       "       'VGBL - Vida Gerador de Benefício Livre',\n",
       "       'Bem relacionado com o exercício da atividade autônoma',\n",
       "       'Ouro, ativo financeiro',\n",
       "       'Fundo de Longo Prazo e Fundo de Investimentos em Direitos Creditórios (FIDC)',\n",
       "       'Construção',\n",
       "       'Fundos: Ações, Mútuos de Privatização, Invest. Empresas Emergentes, Invest.Participação e Invest. Índice Mercado',\n",
       "       'Dinheiro em espécie - moeda estrangeira', 'Prédio residencial',\n",
       "       'Outros depósitos à vista e numerário', 'Galpão',\n",
       "       'Prédio comercial',\n",
       "       'Depósito bancário em conta corrente no exterior',\n",
       "       'Linha telefônica', 'Mercado futuros, de opções e a termo',\n",
       "       'Fundo de Investimento Imobiliário',\n",
       "       'Título de clube e assemelhado', 'Loja', 'Fundo de Curto Prazo',\n",
       "       'Crédito decorrente de alienação',\n",
       "       'Jóia, quadro, objeto de arte, de coleção, antiguidade, etc.',\n",
       "       'Licença e concessões especiais',\n",
       "       'Plano PAIT e caderneta de pecúlio',\n",
       "       'Direito de autor, de inventor e patente', 'Leasing',\n",
       "       'Direito de lavra e assemelhado'], dtype=object)"
      ]
     },
     "execution_count": 12,
     "metadata": {},
     "output_type": "execute_result"
    }
   ],
   "source": [
    "cand_bens.DS_TIPO_BEM_CANDIDATO.unique()"
   ]
  },
  {
   "cell_type": "markdown",
   "metadata": {
    "id": "-kS36shw1gaM"
   },
   "source": [
    "## Dataset resumido de patrimonio"
   ]
  },
  {
   "cell_type": "code",
   "execution_count": 20,
   "metadata": {
    "id": "3rR5yvVW6Zm-"
   },
   "outputs": [],
   "source": [
    "patrimonio = cand_bens[['DS_CARGO', 'SQ_CANDIDATO', 'NM_CANDIDATO', 'NM_URNA_CANDIDATO', 'NR_CPF_CANDIDATO',\n",
    "                        'NM_EMAIL', 'SG_PARTIDO', 'NR_IDADE_DATA_POSSE', 'DS_GENERO', 'DS_GRAU_INSTRUCAO',\n",
    "                        'DS_ESTADO_CIVIL', 'DS_COR_RACA', 'CD_OCUPACAO', 'DS_OCUPACAO', 'VR_DESPESA_MAX_CAMPANHA',\n",
    "                        'ST_DECLARAR_BENS', 'ST_PREST_CONTAS', 'SG_UF_y', 'NR_ORDEM_CANDIDATO', 'CD_TIPO_BEM_CANDIDATO', \n",
    "                        'DS_TIPO_BEM_CANDIDATO', 'DS_BEM_CANDIDATO', 'VR_BEM_CANDIDATO']]"
   ]
  },
  {
   "cell_type": "markdown",
   "metadata": {
    "id": "VuRDE86W1G67"
   },
   "source": [
    "### Ranking de patrimônio"
   ]
  },
  {
   "cell_type": "code",
   "execution_count": 21,
   "metadata": {
    "id": "EsGv1ozy8Ue_"
   },
   "outputs": [],
   "source": [
    "ranking_patrimonio = patrimonio.groupby(['NR_CPF_CANDIDATO', 'NM_CANDIDATO', 'NM_URNA_CANDIDATO', 'DS_CARGO', 'SG_PARTIDO', 'SG_UF_y']).VR_BEM_CANDIDATO.sum().reset_index()"
   ]
  },
  {
   "cell_type": "code",
   "execution_count": 22,
   "metadata": {
    "id": "VkfcgdxjwXaB"
   },
   "outputs": [],
   "source": [
    "top10_patrimonios = ranking_patrimonio.sort_values(by='VR_BEM_CANDIDATO', ascending=False).head(10).reset_index(drop=True)"
   ]
  },
  {
   "cell_type": "code",
   "execution_count": 23,
   "metadata": {
    "id": "3ssWmS5fwXW6"
   },
   "outputs": [],
   "source": [
    "top10_patrimonios.columns = ['CPF', 'Nome', 'Nome de urna', 'Cargo ao qual concorre',\n",
    "       'Partido', 'Estado', 'Patrimônio declarado (R$)']\n",
    "       \n",
    "top10_patrimonios['Nome'] = top10_patrimonios['Nome'].str.title()\n",
    "top10_patrimonios['Nome de urna'] = top10_patrimonios['Nome de urna'].str.title()\n",
    "top10_patrimonios['Cargo ao qual concorre'] = top10_patrimonios['Cargo ao qual concorre'].str.title()"
   ]
  },
  {
   "cell_type": "code",
   "execution_count": 24,
   "metadata": {
    "id": "CSVPuATO0MEn"
   },
   "outputs": [],
   "source": [
    "top10_patrimonios['Patrimônio declarado (R$)'] = top10_patrimonios['Patrimônio declarado (R$)'].round(2)"
   ]
  },
  {
   "cell_type": "code",
   "execution_count": 26,
   "metadata": {
    "colab": {
     "base_uri": "https://localhost:8080/",
     "height": 581
    },
    "id": "uZ5ZinKa0hC-",
    "outputId": "a17d0ec5-a3d9-4105-ffa5-eba7b2bd6e5f"
   },
   "outputs": [
    {
     "data": {
      "text/html": [
       "<div>\n",
       "<style scoped>\n",
       "    .dataframe tbody tr th:only-of-type {\n",
       "        vertical-align: middle;\n",
       "    }\n",
       "\n",
       "    .dataframe tbody tr th {\n",
       "        vertical-align: top;\n",
       "    }\n",
       "\n",
       "    .dataframe thead th {\n",
       "        text-align: right;\n",
       "    }\n",
       "</style>\n",
       "<table border=\"1\" class=\"dataframe\">\n",
       "  <thead>\n",
       "    <tr style=\"text-align: right;\">\n",
       "      <th></th>\n",
       "      <th>CPF</th>\n",
       "      <th>Nome</th>\n",
       "      <th>Nome de urna</th>\n",
       "      <th>Cargo ao qual concorre</th>\n",
       "      <th>Partido</th>\n",
       "      <th>Estado</th>\n",
       "      <th>Patrimônio declarado (R$)</th>\n",
       "    </tr>\n",
       "  </thead>\n",
       "  <tbody>\n",
       "  </tbody>\n",
       "</table>\n",
       "</div>"
      ],
      "text/plain": [
       "Empty DataFrame\n",
       "Columns: [CPF, Nome, Nome de urna, Cargo ao qual concorre, Partido, Estado, Patrimônio declarado (R$)]\n",
       "Index: []"
      ]
     },
     "execution_count": 26,
     "metadata": {},
     "output_type": "execute_result"
    }
   ],
   "source": [
    "top10_patrimonios.head()"
   ]
  },
  {
   "cell_type": "code",
   "execution_count": null,
   "metadata": {
    "id": "L6dGrT0Kzh2V"
   },
   "outputs": [],
   "source": [
    "summary_tables.append('top10_patrimonios')"
   ]
  },
  {
   "cell_type": "markdown",
   "metadata": {
    "id": "QWsimvwz04db"
   },
   "source": [
    "### Patrimônios em dinheiro vivo"
   ]
  },
  {
   "cell_type": "code",
   "execution_count": null,
   "metadata": {
    "id": "w2Q1_mll8YdH"
   },
   "outputs": [],
   "source": [
    "cash_BRL = patrimonio[patrimonio['DS_TIPO_BEM_CANDIDATO'].isin(['Dinheiro em espécie - moeda nacional'])].reset_index(drop=False)"
   ]
  },
  {
   "cell_type": "code",
   "execution_count": null,
   "metadata": {
    "id": "mRI3GTmRNb4Y"
   },
   "outputs": [],
   "source": [
    "cash_USD = patrimonio[patrimonio['DS_TIPO_BEM_CANDIDATO'].isin(['Dinheiro em espécie - moeda estrangeira'])].reset_index(drop=False)"
   ]
  },
  {
   "cell_type": "code",
   "execution_count": null,
   "metadata": {
    "id": "3yXWS6NnL-Yh"
   },
   "outputs": [],
   "source": [
    "cash_USD = cash_USD[['SQ_CANDIDATO', 'NR_CPF_CANDIDATO', 'NM_CANDIDATO', 'NM_URNA_CANDIDATO', 'DS_CARGO', 'SG_PARTIDO', 'SG_UF_y', 'VR_BEM_CANDIDATO']].reset_index(drop=True)"
   ]
  },
  {
   "cell_type": "code",
   "execution_count": null,
   "metadata": {
    "id": "6dgy6xzD90je"
   },
   "outputs": [],
   "source": [
    "cash_BRL = cash_BRL[['SQ_CANDIDATO', 'NR_CPF_CANDIDATO', 'NM_CANDIDATO', 'NM_URNA_CANDIDATO', 'DS_CARGO', 'SG_PARTIDO', 'SG_UF_y', 'VR_BEM_CANDIDATO']].reset_index(drop=True)"
   ]
  },
  {
   "cell_type": "code",
   "execution_count": null,
   "metadata": {
    "id": "EQnQ5r--319Q"
   },
   "outputs": [],
   "source": [
    "cash = pd.concat([cash_BRL, cash_USD]).reset_index(drop=True)"
   ]
  },
  {
   "cell_type": "code",
   "execution_count": null,
   "metadata": {
    "colab": {
     "base_uri": "https://localhost:8080/"
    },
    "id": "-2II5DoJ5Qgq",
    "outputId": "81fe899c-e551-44a7-88ad-814b0e7f97fb"
   },
   "outputs": [
    {
     "data": {
      "text/plain": [
       "2250"
      ]
     },
     "execution_count": 27,
     "metadata": {},
     "output_type": "execute_result"
    }
   ],
   "source": [
    "len(cash.NR_CPF_CANDIDATO.unique())"
   ]
  },
  {
   "cell_type": "code",
   "execution_count": null,
   "metadata": {
    "id": "OmNQf2oN3-Kk"
   },
   "outputs": [],
   "source": [
    "consolida = cash.groupby(['NR_CPF_CANDIDATO']).VR_BEM_CANDIDATO.sum().reset_index()"
   ]
  },
  {
   "cell_type": "code",
   "execution_count": null,
   "metadata": {
    "id": "pLOWwR4_4Be7"
   },
   "outputs": [],
   "source": [
    "consolida_tenta = consolida.merge(cash, how='left', on='NR_CPF_CANDIDATO')"
   ]
  },
  {
   "cell_type": "code",
   "execution_count": null,
   "metadata": {
    "id": "EdI43x035IIT"
   },
   "outputs": [],
   "source": [
    "consolida_VA = consolida_tenta[['NR_CPF_CANDIDATO', 'NM_CANDIDATO', 'NM_URNA_CANDIDATO', 'DS_CARGO', 'SG_PARTIDO', 'SG_UF_y', 'VR_BEM_CANDIDATO_x']].drop_duplicates().reset_index(drop=True)"
   ]
  },
  {
   "cell_type": "code",
   "execution_count": null,
   "metadata": {
    "id": "A0BtAv4o6AcY"
   },
   "outputs": [],
   "source": [
    "consolida_VA = consolida_VA.sort_values(by='VR_BEM_CANDIDATO_x', ascending=False)"
   ]
  },
  {
   "cell_type": "code",
   "execution_count": null,
   "metadata": {
    "colab": {
     "base_uri": "https://localhost:8080/"
    },
    "id": "h8nOQlNe7n40",
    "outputId": "b6d8e29a-1eed-4dde-9f92-5c505510a9de"
   },
   "outputs": [
    {
     "data": {
      "text/plain": [
       "Index(['NR_CPF_CANDIDATO', 'NM_CANDIDATO', 'NM_URNA_CANDIDATO', 'DS_CARGO',\n",
       "       'SG_PARTIDO', 'SG_UF_y', 'VR_BEM_CANDIDATO_x'],\n",
       "      dtype='object')"
      ]
     },
     "execution_count": 32,
     "metadata": {},
     "output_type": "execute_result"
    }
   ],
   "source": [
    "consolida_VA.columns"
   ]
  },
  {
   "cell_type": "code",
   "execution_count": null,
   "metadata": {
    "id": "AabuM48J7DY9"
   },
   "outputs": [],
   "source": [
    "consolida_VA.columns = ['CPF', 'Nome', 'Nome de urna', 'Cargo ao qual concorre',\n",
    "       'Partido', 'Estado', 'Patrimônio declarado em cash (R$)']\n",
    "       \n",
    "consolida_VA['Nome'] = consolida_VA['Nome'].str.title()\n",
    "consolida_VA['Nome de urna'] = consolida_VA['Nome de urna'].str.title()\n",
    "consolida_VA['Cargo ao qual concorre'] = consolida_VA['Cargo ao qual concorre'].str.title()"
   ]
  },
  {
   "cell_type": "code",
   "execution_count": null,
   "metadata": {
    "colab": {
     "base_uri": "https://localhost:8080/",
     "height": 694
    },
    "id": "Dx5C2ZZe72v7",
    "outputId": "143a5742-4dc7-4178-960f-20ddabed00aa"
   },
   "outputs": [
    {
     "data": {
      "text/html": [
       "\n",
       "  <div id=\"df-b94c1b4b-45a9-4763-92cd-d5735abf1916\">\n",
       "    <div class=\"colab-df-container\">\n",
       "      <div>\n",
       "<style scoped>\n",
       "    .dataframe tbody tr th:only-of-type {\n",
       "        vertical-align: middle;\n",
       "    }\n",
       "\n",
       "    .dataframe tbody tr th {\n",
       "        vertical-align: top;\n",
       "    }\n",
       "\n",
       "    .dataframe thead th {\n",
       "        text-align: right;\n",
       "    }\n",
       "</style>\n",
       "<table border=\"1\" class=\"dataframe\">\n",
       "  <thead>\n",
       "    <tr style=\"text-align: right;\">\n",
       "      <th></th>\n",
       "      <th>CPF</th>\n",
       "      <th>Nome</th>\n",
       "      <th>Nome de urna</th>\n",
       "      <th>Cargo ao qual concorre</th>\n",
       "      <th>Partido</th>\n",
       "      <th>Estado</th>\n",
       "      <th>Patrimônio declarado em cash (R$)</th>\n",
       "    </tr>\n",
       "  </thead>\n",
       "  <tbody>\n",
       "    <tr>\n",
       "      <th>0</th>\n",
       "      <td>73978752204</td>\n",
       "      <td>Ailson Souto Da Trindade</td>\n",
       "      <td>Ailson Souto</td>\n",
       "      <td>Deputado Estadual</td>\n",
       "      <td>PP</td>\n",
       "      <td>PA</td>\n",
       "      <td>39564300.03</td>\n",
       "    </tr>\n",
       "    <tr>\n",
       "      <th>1</th>\n",
       "      <td>5279010758</td>\n",
       "      <td>Clebio Lopes Pereira</td>\n",
       "      <td>Clébio Lopes Jacaré</td>\n",
       "      <td>Deputado Federal</td>\n",
       "      <td>UNIÃO</td>\n",
       "      <td>RJ</td>\n",
       "      <td>5150000.00</td>\n",
       "    </tr>\n",
       "    <tr>\n",
       "      <th>2</th>\n",
       "      <td>88134555934</td>\n",
       "      <td>Rodrigo Martins De Mello</td>\n",
       "      <td>Rodrigo Cataratas</td>\n",
       "      <td>Deputado Federal</td>\n",
       "      <td>PL</td>\n",
       "      <td>RR</td>\n",
       "      <td>4500000.00</td>\n",
       "    </tr>\n",
       "    <tr>\n",
       "      <th>3</th>\n",
       "      <td>62518046534</td>\n",
       "      <td>Felipe Gabriel Duarte</td>\n",
       "      <td>Felipe Duarte</td>\n",
       "      <td>Deputado Estadual</td>\n",
       "      <td>PP</td>\n",
       "      <td>BA</td>\n",
       "      <td>3580000.00</td>\n",
       "    </tr>\n",
       "    <tr>\n",
       "      <th>4</th>\n",
       "      <td>17220521391</td>\n",
       "      <td>Juraci Pessoa De Carvalho</td>\n",
       "      <td>Juraci Tesoura De Ouro</td>\n",
       "      <td>Deputado Federal</td>\n",
       "      <td>REPUBLICANOS</td>\n",
       "      <td>GO</td>\n",
       "      <td>3000000.00</td>\n",
       "    </tr>\n",
       "    <tr>\n",
       "      <th>...</th>\n",
       "      <td>...</td>\n",
       "      <td>...</td>\n",
       "      <td>...</td>\n",
       "      <td>...</td>\n",
       "      <td>...</td>\n",
       "      <td>...</td>\n",
       "      <td>...</td>\n",
       "    </tr>\n",
       "    <tr>\n",
       "      <th>2247</th>\n",
       "      <td>48615196591</td>\n",
       "      <td>Aroldo Alves De Santana Filho</td>\n",
       "      <td>Aroldo Alves</td>\n",
       "      <td>Deputado Estadual</td>\n",
       "      <td>PATRIOTA</td>\n",
       "      <td>BA</td>\n",
       "      <td>100.00</td>\n",
       "    </tr>\n",
       "    <tr>\n",
       "      <th>2248</th>\n",
       "      <td>72918985600</td>\n",
       "      <td>Herica Veloso Ribeiro Mont Alvão</td>\n",
       "      <td>Dra. Herica</td>\n",
       "      <td>Deputado Federal</td>\n",
       "      <td>PSC</td>\n",
       "      <td>SP</td>\n",
       "      <td>99.86</td>\n",
       "    </tr>\n",
       "    <tr>\n",
       "      <th>2249</th>\n",
       "      <td>4628137978</td>\n",
       "      <td>Diego Acir Perussolo Reichelt</td>\n",
       "      <td>Diego Reichelt</td>\n",
       "      <td>Deputado Federal</td>\n",
       "      <td>REPUBLICANOS</td>\n",
       "      <td>PR</td>\n",
       "      <td>62.40</td>\n",
       "    </tr>\n",
       "    <tr>\n",
       "      <th>2250</th>\n",
       "      <td>26090826812</td>\n",
       "      <td>Edney Benedito Sampaio Duarte Júnior</td>\n",
       "      <td>Edney Duarte Jr</td>\n",
       "      <td>Deputado Estadual</td>\n",
       "      <td>NOVO</td>\n",
       "      <td>SP</td>\n",
       "      <td>40.00</td>\n",
       "    </tr>\n",
       "    <tr>\n",
       "      <th>2251</th>\n",
       "      <td>70167699687</td>\n",
       "      <td>Joel Milão Filho</td>\n",
       "      <td>Joel De Bicas</td>\n",
       "      <td>Deputado Estadual</td>\n",
       "      <td>PTB</td>\n",
       "      <td>MG</td>\n",
       "      <td>0.00</td>\n",
       "    </tr>\n",
       "  </tbody>\n",
       "</table>\n",
       "<p>2252 rows × 7 columns</p>\n",
       "</div>\n",
       "      <button class=\"colab-df-convert\" onclick=\"convertToInteractive('df-b94c1b4b-45a9-4763-92cd-d5735abf1916')\"\n",
       "              title=\"Convert this dataframe to an interactive table.\"\n",
       "              style=\"display:none;\">\n",
       "        \n",
       "  <svg xmlns=\"http://www.w3.org/2000/svg\" height=\"24px\"viewBox=\"0 0 24 24\"\n",
       "       width=\"24px\">\n",
       "    <path d=\"M0 0h24v24H0V0z\" fill=\"none\"/>\n",
       "    <path d=\"M18.56 5.44l.94 2.06.94-2.06 2.06-.94-2.06-.94-.94-2.06-.94 2.06-2.06.94zm-11 1L8.5 8.5l.94-2.06 2.06-.94-2.06-.94L8.5 2.5l-.94 2.06-2.06.94zm10 10l.94 2.06.94-2.06 2.06-.94-2.06-.94-.94-2.06-.94 2.06-2.06.94z\"/><path d=\"M17.41 7.96l-1.37-1.37c-.4-.4-.92-.59-1.43-.59-.52 0-1.04.2-1.43.59L10.3 9.45l-7.72 7.72c-.78.78-.78 2.05 0 2.83L4 21.41c.39.39.9.59 1.41.59.51 0 1.02-.2 1.41-.59l7.78-7.78 2.81-2.81c.8-.78.8-2.07 0-2.86zM5.41 20L4 18.59l7.72-7.72 1.47 1.35L5.41 20z\"/>\n",
       "  </svg>\n",
       "      </button>\n",
       "      \n",
       "  <style>\n",
       "    .colab-df-container {\n",
       "      display:flex;\n",
       "      flex-wrap:wrap;\n",
       "      gap: 12px;\n",
       "    }\n",
       "\n",
       "    .colab-df-convert {\n",
       "      background-color: #E8F0FE;\n",
       "      border: none;\n",
       "      border-radius: 50%;\n",
       "      cursor: pointer;\n",
       "      display: none;\n",
       "      fill: #1967D2;\n",
       "      height: 32px;\n",
       "      padding: 0 0 0 0;\n",
       "      width: 32px;\n",
       "    }\n",
       "\n",
       "    .colab-df-convert:hover {\n",
       "      background-color: #E2EBFA;\n",
       "      box-shadow: 0px 1px 2px rgba(60, 64, 67, 0.3), 0px 1px 3px 1px rgba(60, 64, 67, 0.15);\n",
       "      fill: #174EA6;\n",
       "    }\n",
       "\n",
       "    [theme=dark] .colab-df-convert {\n",
       "      background-color: #3B4455;\n",
       "      fill: #D2E3FC;\n",
       "    }\n",
       "\n",
       "    [theme=dark] .colab-df-convert:hover {\n",
       "      background-color: #434B5C;\n",
       "      box-shadow: 0px 1px 3px 1px rgba(0, 0, 0, 0.15);\n",
       "      filter: drop-shadow(0px 1px 2px rgba(0, 0, 0, 0.3));\n",
       "      fill: #FFFFFF;\n",
       "    }\n",
       "  </style>\n",
       "\n",
       "      <script>\n",
       "        const buttonEl =\n",
       "          document.querySelector('#df-b94c1b4b-45a9-4763-92cd-d5735abf1916 button.colab-df-convert');\n",
       "        buttonEl.style.display =\n",
       "          google.colab.kernel.accessAllowed ? 'block' : 'none';\n",
       "\n",
       "        async function convertToInteractive(key) {\n",
       "          const element = document.querySelector('#df-b94c1b4b-45a9-4763-92cd-d5735abf1916');\n",
       "          const dataTable =\n",
       "            await google.colab.kernel.invokeFunction('convertToInteractive',\n",
       "                                                     [key], {});\n",
       "          if (!dataTable) return;\n",
       "\n",
       "          const docLinkHtml = 'Like what you see? Visit the ' +\n",
       "            '<a target=\"_blank\" href=https://colab.research.google.com/notebooks/data_table.ipynb>data table notebook</a>'\n",
       "            + ' to learn more about interactive tables.';\n",
       "          element.innerHTML = '';\n",
       "          dataTable['output_type'] = 'display_data';\n",
       "          await google.colab.output.renderOutput(dataTable, element);\n",
       "          const docLink = document.createElement('div');\n",
       "          docLink.innerHTML = docLinkHtml;\n",
       "          element.appendChild(docLink);\n",
       "        }\n",
       "      </script>\n",
       "    </div>\n",
       "  </div>\n",
       "  "
      ],
      "text/plain": [
       "              CPF                                  Nome  \\\n",
       "0     73978752204              Ailson Souto Da Trindade   \n",
       "1      5279010758                  Clebio Lopes Pereira   \n",
       "2     88134555934              Rodrigo Martins De Mello   \n",
       "3     62518046534                 Felipe Gabriel Duarte   \n",
       "4     17220521391             Juraci Pessoa De Carvalho   \n",
       "...           ...                                   ...   \n",
       "2247  48615196591         Aroldo Alves De Santana Filho   \n",
       "2248  72918985600      Herica Veloso Ribeiro Mont Alvão   \n",
       "2249   4628137978         Diego Acir Perussolo Reichelt   \n",
       "2250  26090826812  Edney Benedito Sampaio Duarte Júnior   \n",
       "2251  70167699687                      Joel Milão Filho   \n",
       "\n",
       "                Nome de urna Cargo ao qual concorre       Partido Estado  \\\n",
       "0               Ailson Souto      Deputado Estadual            PP     PA   \n",
       "1        Clébio Lopes Jacaré       Deputado Federal         UNIÃO     RJ   \n",
       "2          Rodrigo Cataratas       Deputado Federal            PL     RR   \n",
       "3              Felipe Duarte      Deputado Estadual            PP     BA   \n",
       "4     Juraci Tesoura De Ouro       Deputado Federal  REPUBLICANOS     GO   \n",
       "...                      ...                    ...           ...    ...   \n",
       "2247            Aroldo Alves      Deputado Estadual      PATRIOTA     BA   \n",
       "2248             Dra. Herica       Deputado Federal           PSC     SP   \n",
       "2249          Diego Reichelt       Deputado Federal  REPUBLICANOS     PR   \n",
       "2250         Edney Duarte Jr      Deputado Estadual          NOVO     SP   \n",
       "2251           Joel De Bicas      Deputado Estadual           PTB     MG   \n",
       "\n",
       "      Patrimônio declarado em cash (R$)  \n",
       "0                           39564300.03  \n",
       "1                            5150000.00  \n",
       "2                            4500000.00  \n",
       "3                            3580000.00  \n",
       "4                            3000000.00  \n",
       "...                                 ...  \n",
       "2247                             100.00  \n",
       "2248                              99.86  \n",
       "2249                              62.40  \n",
       "2250                              40.00  \n",
       "2251                               0.00  \n",
       "\n",
       "[2252 rows x 7 columns]"
      ]
     },
     "execution_count": 34,
     "metadata": {},
     "output_type": "execute_result"
    }
   ],
   "source": [
    "consolida_VA.reset_index(drop=True)"
   ]
  },
  {
   "cell_type": "code",
   "execution_count": null,
   "metadata": {
    "id": "SnL52CZJ74Cg"
   },
   "outputs": [],
   "source": [
    "patrimonio_cash = consolida_VA"
   ]
  },
  {
   "cell_type": "code",
   "execution_count": null,
   "metadata": {
    "id": "YECMedyA8WoF"
   },
   "outputs": [],
   "source": [
    "del consolida_VA"
   ]
  },
  {
   "cell_type": "code",
   "execution_count": null,
   "metadata": {
    "id": "kKC2INq_8YjL"
   },
   "outputs": [],
   "source": [
    "patrimonio_cash = patrimonio_cash.reset_index(drop=True)"
   ]
  },
  {
   "cell_type": "code",
   "execution_count": null,
   "metadata": {
    "id": "KXGFd1Es89fJ"
   },
   "outputs": [],
   "source": [
    "cpf_email = patrimonio[['NR_CPF_CANDIDATO','NM_EMAIL']].drop_duplicates()"
   ]
  },
  {
   "cell_type": "code",
   "execution_count": null,
   "metadata": {
    "id": "OoA-cfGiEy3J"
   },
   "outputs": [],
   "source": [
    "cpf_email.columns = ['CPF', 'E-mail']"
   ]
  },
  {
   "cell_type": "code",
   "execution_count": null,
   "metadata": {
    "id": "mAOklFiw8v10"
   },
   "outputs": [],
   "source": [
    "patrimonio_cash = patrimonio_cash.merge(cpf_email, how='left', on='CPF')"
   ]
  },
  {
   "cell_type": "code",
   "execution_count": null,
   "metadata": {
    "id": "vaFWDbSyFUCI"
   },
   "outputs": [],
   "source": [
    "patrimonio_cash['E-mail'] = patrimonio_cash['E-mail'].str.lower()"
   ]
  },
  {
   "cell_type": "code",
   "execution_count": null,
   "metadata": {
    "id": "I0jsL9dj0x1P"
   },
   "outputs": [],
   "source": [
    "patrimonio_cash['Patrimônio declarado em cash (R$)'] = patrimonio_cash['Patrimônio declarado em cash (R$)'].round(2)"
   ]
  },
  {
   "cell_type": "code",
   "execution_count": null,
   "metadata": {
    "id": "OcWIGIrFFsnn"
   },
   "outputs": [],
   "source": [
    "# patrimonio_cash.to_csv('patrimonio_cash.csv', index=False)"
   ]
  },
  {
   "cell_type": "code",
   "execution_count": null,
   "metadata": {
    "id": "OVsab1x58aY3"
   },
   "outputs": [],
   "source": [
    "summary_tables.append('patrimonio_cash')"
   ]
  },
  {
   "cell_type": "code",
   "execution_count": null,
   "metadata": {
    "id": "qxaDTmEYQf-Q"
   },
   "outputs": [],
   "source": [
    "million_top = len(patrimonio_cash[patrimonio_cash['Patrimônio declarado em cash (R$)'] >= 1000000])"
   ]
  },
  {
   "cell_type": "code",
   "execution_count": null,
   "metadata": {
    "colab": {
     "base_uri": "https://localhost:8080/"
    },
    "id": "-94xZ1KiNRyg",
    "outputId": "0639902d-58fc-48da-d4fe-0d7a48f45f23"
   },
   "outputs": [
    {
     "name": "stdout",
     "output_type": "stream",
     "text": [
      "R$ 296.884.567,87\n"
     ]
    }
   ],
   "source": [
    "print(f\"R$ \" + f\"{patrimonio_cash['Patrimônio declarado em cash (R$)'].sum():,}\".replace('.', '*').replace(',', '.').replace('*', ','))\n",
    "\n",
    "# SOMA DOS PATRIMÔNIOS EM CASH"
   ]
  },
  {
   "cell_type": "code",
   "execution_count": null,
   "metadata": {
    "colab": {
     "base_uri": "https://localhost:8080/"
    },
    "id": "L63ch8uYOmsx",
    "outputId": "3c4e13c9-af5f-453f-9c75-8dec34cc819d"
   },
   "outputs": [
    {
     "name": "stdout",
     "output_type": "stream",
     "text": [
      "Candidatos: 22\n"
     ]
    }
   ],
   "source": [
    "print('Candidatos: ' + str(million_top))\n",
    "\n",
    "# NÚMERO DE CANDIDATOS COM\n",
    "# MAIS DE R$ 1 MILHÃO EM CASH"
   ]
  },
  {
   "cell_type": "code",
   "execution_count": null,
   "metadata": {
    "id": "pUhFJU1FSUiT"
   },
   "outputs": [],
   "source": [
    "patrimonio_cash.columns = ['CPF', 'Nome', 'Nome de urna', 'Cargo', 'Partido',\n",
    "       'Estado', 'Cash', 'E-mail']"
   ]
  },
  {
   "cell_type": "code",
   "execution_count": null,
   "metadata": {
    "colab": {
     "base_uri": "https://localhost:8080/"
    },
    "id": "i5Y1FXKVelqB",
    "outputId": "55fb547c-d00f-40f8-c166-88002f9e849d"
   },
   "outputs": [
    {
     "data": {
      "text/plain": [
       "131423.00481186365"
      ]
     },
     "execution_count": 101,
     "metadata": {},
     "output_type": "execute_result"
    }
   ],
   "source": [
    "patrimonio_cash.Cash.mean()"
   ]
  },
  {
   "cell_type": "code",
   "execution_count": null,
   "metadata": {
    "id": "U6KUYN8CellG"
   },
   "outputs": [],
   "source": []
  },
  {
   "cell_type": "code",
   "execution_count": null,
   "metadata": {
    "id": "F1KsA_uxelhW"
   },
   "outputs": [],
   "source": []
  },
  {
   "cell_type": "markdown",
   "metadata": {
    "id": "hNkP35j0ZL_N"
   },
   "source": [
    "#### Tabelão divide USD e BRL"
   ]
  },
  {
   "cell_type": "code",
   "execution_count": null,
   "metadata": {
    "colab": {
     "base_uri": "https://localhost:8080/"
    },
    "id": "ptWS8iF8ZLRW",
    "outputId": "8040f8b9-51e7-4684-8bfe-6a7bb52ad107"
   },
   "outputs": [
    {
     "data": {
      "text/plain": [
       "Index(['DS_CARGO', 'SQ_CANDIDATO', 'NM_CANDIDATO', 'NM_URNA_CANDIDATO',\n",
       "       'NR_CPF_CANDIDATO', 'NM_EMAIL', 'SG_PARTIDO', 'NR_IDADE_DATA_POSSE',\n",
       "       'DS_GENERO', 'DS_GRAU_INSTRUCAO', 'DS_ESTADO_CIVIL', 'DS_COR_RACA',\n",
       "       'CD_OCUPACAO', 'DS_OCUPACAO', 'VR_DESPESA_MAX_CAMPANHA',\n",
       "       'ST_DECLARAR_BENS', 'ST_PREST_CONTAS', 'SG_UF_y', 'NR_ORDEM_CANDIDATO',\n",
       "       'CD_TIPO_BEM_CANDIDATO', 'DS_TIPO_BEM_CANDIDATO', 'DS_BEM_CANDIDATO',\n",
       "       'VR_BEM_CANDIDATO'],\n",
       "      dtype='object')"
      ]
     },
     "execution_count": 100,
     "metadata": {},
     "output_type": "execute_result"
    }
   ],
   "source": [
    "patrimonio.columns"
   ]
  },
  {
   "cell_type": "code",
   "execution_count": null,
   "metadata": {
    "id": "tnax2f7sZLOz"
   },
   "outputs": [],
   "source": []
  },
  {
   "cell_type": "code",
   "execution_count": null,
   "metadata": {
    "id": "4Ha-vtuiZLLn"
   },
   "outputs": [],
   "source": []
  },
  {
   "cell_type": "code",
   "execution_count": null,
   "metadata": {
    "id": "NIYlpc1bZLIx"
   },
   "outputs": [],
   "source": []
  },
  {
   "cell_type": "code",
   "execution_count": null,
   "metadata": {
    "id": "1wY7JcsYZLGJ"
   },
   "outputs": [],
   "source": []
  },
  {
   "cell_type": "code",
   "execution_count": null,
   "metadata": {
    "id": "AFlC6veIZLD7"
   },
   "outputs": [],
   "source": []
  },
  {
   "cell_type": "code",
   "execution_count": null,
   "metadata": {
    "id": "YEHL726pZLBH"
   },
   "outputs": [],
   "source": []
  },
  {
   "cell_type": "code",
   "execution_count": null,
   "metadata": {
    "id": "jJtAYooYSUY_"
   },
   "outputs": [],
   "source": []
  },
  {
   "cell_type": "markdown",
   "metadata": {
    "id": "QyxhU9SlS4MM"
   },
   "source": [
    "### Partidos com mais cash"
   ]
  },
  {
   "cell_type": "code",
   "execution_count": null,
   "metadata": {
    "id": "33hbAMJTR8xe"
   },
   "outputs": [],
   "source": [
    "partido_cash = patrimonio_cash.groupby(['Partido']).Cash.sum().reset_index().sort_values(by='Cash', ascending=False).reset_index(drop=True)"
   ]
  },
  {
   "cell_type": "code",
   "execution_count": null,
   "metadata": {
    "colab": {
     "base_uri": "https://localhost:8080/",
     "height": 363
    },
    "id": "zAh0RvzOR8o-",
    "outputId": "a9051144-4282-4037-f9e0-73dc8ed4c557"
   },
   "outputs": [
    {
     "data": {
      "text/html": [
       "\n",
       "  <div id=\"df-80fe4f53-72ee-44b8-82b7-b0c3796e8794\">\n",
       "    <div class=\"colab-df-container\">\n",
       "      <div>\n",
       "<style scoped>\n",
       "    .dataframe tbody tr th:only-of-type {\n",
       "        vertical-align: middle;\n",
       "    }\n",
       "\n",
       "    .dataframe tbody tr th {\n",
       "        vertical-align: top;\n",
       "    }\n",
       "\n",
       "    .dataframe thead th {\n",
       "        text-align: right;\n",
       "    }\n",
       "</style>\n",
       "<table border=\"1\" class=\"dataframe\">\n",
       "  <thead>\n",
       "    <tr style=\"text-align: right;\">\n",
       "      <th></th>\n",
       "      <th>Partido</th>\n",
       "      <th>Cash</th>\n",
       "    </tr>\n",
       "  </thead>\n",
       "  <tbody>\n",
       "    <tr>\n",
       "      <th>0</th>\n",
       "      <td>PP</td>\n",
       "      <td>63120075.13</td>\n",
       "    </tr>\n",
       "    <tr>\n",
       "      <th>1</th>\n",
       "      <td>UNIÃO</td>\n",
       "      <td>28314972.40</td>\n",
       "    </tr>\n",
       "    <tr>\n",
       "      <th>2</th>\n",
       "      <td>PL</td>\n",
       "      <td>27138802.99</td>\n",
       "    </tr>\n",
       "    <tr>\n",
       "      <th>3</th>\n",
       "      <td>PSD</td>\n",
       "      <td>22671242.02</td>\n",
       "    </tr>\n",
       "    <tr>\n",
       "      <th>4</th>\n",
       "      <td>MDB</td>\n",
       "      <td>15834643.06</td>\n",
       "    </tr>\n",
       "    <tr>\n",
       "      <th>5</th>\n",
       "      <td>REPUBLICANOS</td>\n",
       "      <td>15379164.65</td>\n",
       "    </tr>\n",
       "    <tr>\n",
       "      <th>6</th>\n",
       "      <td>PDT</td>\n",
       "      <td>15295293.89</td>\n",
       "    </tr>\n",
       "    <tr>\n",
       "      <th>7</th>\n",
       "      <td>PSDB</td>\n",
       "      <td>12596411.91</td>\n",
       "    </tr>\n",
       "    <tr>\n",
       "      <th>8</th>\n",
       "      <td>PSC</td>\n",
       "      <td>8934294.94</td>\n",
       "    </tr>\n",
       "    <tr>\n",
       "      <th>9</th>\n",
       "      <td>PSB</td>\n",
       "      <td>8795203.79</td>\n",
       "    </tr>\n",
       "  </tbody>\n",
       "</table>\n",
       "</div>\n",
       "      <button class=\"colab-df-convert\" onclick=\"convertToInteractive('df-80fe4f53-72ee-44b8-82b7-b0c3796e8794')\"\n",
       "              title=\"Convert this dataframe to an interactive table.\"\n",
       "              style=\"display:none;\">\n",
       "        \n",
       "  <svg xmlns=\"http://www.w3.org/2000/svg\" height=\"24px\"viewBox=\"0 0 24 24\"\n",
       "       width=\"24px\">\n",
       "    <path d=\"M0 0h24v24H0V0z\" fill=\"none\"/>\n",
       "    <path d=\"M18.56 5.44l.94 2.06.94-2.06 2.06-.94-2.06-.94-.94-2.06-.94 2.06-2.06.94zm-11 1L8.5 8.5l.94-2.06 2.06-.94-2.06-.94L8.5 2.5l-.94 2.06-2.06.94zm10 10l.94 2.06.94-2.06 2.06-.94-2.06-.94-.94-2.06-.94 2.06-2.06.94z\"/><path d=\"M17.41 7.96l-1.37-1.37c-.4-.4-.92-.59-1.43-.59-.52 0-1.04.2-1.43.59L10.3 9.45l-7.72 7.72c-.78.78-.78 2.05 0 2.83L4 21.41c.39.39.9.59 1.41.59.51 0 1.02-.2 1.41-.59l7.78-7.78 2.81-2.81c.8-.78.8-2.07 0-2.86zM5.41 20L4 18.59l7.72-7.72 1.47 1.35L5.41 20z\"/>\n",
       "  </svg>\n",
       "      </button>\n",
       "      \n",
       "  <style>\n",
       "    .colab-df-container {\n",
       "      display:flex;\n",
       "      flex-wrap:wrap;\n",
       "      gap: 12px;\n",
       "    }\n",
       "\n",
       "    .colab-df-convert {\n",
       "      background-color: #E8F0FE;\n",
       "      border: none;\n",
       "      border-radius: 50%;\n",
       "      cursor: pointer;\n",
       "      display: none;\n",
       "      fill: #1967D2;\n",
       "      height: 32px;\n",
       "      padding: 0 0 0 0;\n",
       "      width: 32px;\n",
       "    }\n",
       "\n",
       "    .colab-df-convert:hover {\n",
       "      background-color: #E2EBFA;\n",
       "      box-shadow: 0px 1px 2px rgba(60, 64, 67, 0.3), 0px 1px 3px 1px rgba(60, 64, 67, 0.15);\n",
       "      fill: #174EA6;\n",
       "    }\n",
       "\n",
       "    [theme=dark] .colab-df-convert {\n",
       "      background-color: #3B4455;\n",
       "      fill: #D2E3FC;\n",
       "    }\n",
       "\n",
       "    [theme=dark] .colab-df-convert:hover {\n",
       "      background-color: #434B5C;\n",
       "      box-shadow: 0px 1px 3px 1px rgba(0, 0, 0, 0.15);\n",
       "      filter: drop-shadow(0px 1px 2px rgba(0, 0, 0, 0.3));\n",
       "      fill: #FFFFFF;\n",
       "    }\n",
       "  </style>\n",
       "\n",
       "      <script>\n",
       "        const buttonEl =\n",
       "          document.querySelector('#df-80fe4f53-72ee-44b8-82b7-b0c3796e8794 button.colab-df-convert');\n",
       "        buttonEl.style.display =\n",
       "          google.colab.kernel.accessAllowed ? 'block' : 'none';\n",
       "\n",
       "        async function convertToInteractive(key) {\n",
       "          const element = document.querySelector('#df-80fe4f53-72ee-44b8-82b7-b0c3796e8794');\n",
       "          const dataTable =\n",
       "            await google.colab.kernel.invokeFunction('convertToInteractive',\n",
       "                                                     [key], {});\n",
       "          if (!dataTable) return;\n",
       "\n",
       "          const docLinkHtml = 'Like what you see? Visit the ' +\n",
       "            '<a target=\"_blank\" href=https://colab.research.google.com/notebooks/data_table.ipynb>data table notebook</a>'\n",
       "            + ' to learn more about interactive tables.';\n",
       "          element.innerHTML = '';\n",
       "          dataTable['output_type'] = 'display_data';\n",
       "          await google.colab.output.renderOutput(dataTable, element);\n",
       "          const docLink = document.createElement('div');\n",
       "          docLink.innerHTML = docLinkHtml;\n",
       "          element.appendChild(docLink);\n",
       "        }\n",
       "      </script>\n",
       "    </div>\n",
       "  </div>\n",
       "  "
      ],
      "text/plain": [
       "        Partido         Cash\n",
       "0            PP  63120075.13\n",
       "1         UNIÃO  28314972.40\n",
       "2            PL  27138802.99\n",
       "3           PSD  22671242.02\n",
       "4           MDB  15834643.06\n",
       "5  REPUBLICANOS  15379164.65\n",
       "6           PDT  15295293.89\n",
       "7          PSDB  12596411.91\n",
       "8           PSC   8934294.94\n",
       "9           PSB   8795203.79"
      ]
     },
     "execution_count": 70,
     "metadata": {},
     "output_type": "execute_result"
    }
   ],
   "source": [
    "partido_cash.head(10)"
   ]
  },
  {
   "cell_type": "code",
   "execution_count": null,
   "metadata": {
    "id": "0d2RKTCJR8hR"
   },
   "outputs": [],
   "source": [
    "summary_tables.append('partido_cash')"
   ]
  },
  {
   "cell_type": "code",
   "execution_count": null,
   "metadata": {
    "colab": {
     "base_uri": "https://localhost:8080/"
    },
    "id": "1UAXcVIcR8Xu",
    "outputId": "f0095341-095e-4d81-c770-7d79cb221f4c"
   },
   "outputs": [
    {
     "data": {
      "text/plain": [
       "True"
      ]
     },
     "execution_count": 97,
     "metadata": {},
     "output_type": "execute_result"
    }
   ],
   "source": [
    "partido_cash.head(13).Cash.sum() > partido_cash.Cash.sum() * 0.8"
   ]
  },
  {
   "cell_type": "code",
   "execution_count": null,
   "metadata": {
    "id": "xVNpet-eY4U8"
   },
   "outputs": [],
   "source": []
  },
  {
   "cell_type": "markdown",
   "metadata": {
    "id": "Veofb83sIsQC"
   },
   "source": [
    "### Maior soma de patrimonio de candidatos por partido"
   ]
  },
  {
   "cell_type": "code",
   "execution_count": null,
   "metadata": {
    "id": "8mw7K29xI2-N"
   },
   "outputs": [],
   "source": [
    "bolo_patrimonio = ranking_patrimonio.groupby(['SG_PARTIDO']).VR_BEM_CANDIDATO.sum().reset_index().sort_values(by='VR_BEM_CANDIDATO', ascending=False).reset_index(drop=True)\n"
   ]
  },
  {
   "cell_type": "code",
   "execution_count": null,
   "metadata": {
    "id": "Q-W1wTtLJCfi"
   },
   "outputs": [],
   "source": [
    "bolo_patrimonio.columns = ['Partido', 'Patrimônio somado dos candidatos (R$)']"
   ]
  },
  {
   "cell_type": "code",
   "execution_count": null,
   "metadata": {
    "id": "4LD7D0c21DrG"
   },
   "outputs": [],
   "source": [
    "bolo_patrimonio['Patrimônio somado dos candidatos (R$)'] = bolo_patrimonio['Patrimônio somado dos candidatos (R$)'].round(2)"
   ]
  },
  {
   "cell_type": "code",
   "execution_count": null,
   "metadata": {
    "id": "uLwWvybgKtBr"
   },
   "outputs": [],
   "source": [
    "summary_tables.append('bolo_patrimonio')"
   ]
  },
  {
   "cell_type": "markdown",
   "metadata": {
    "id": "vbcG29WqLE_u"
   },
   "source": [
    "### Média de patrimônio dos candidatos do partido"
   ]
  },
  {
   "cell_type": "code",
   "execution_count": null,
   "metadata": {
    "id": "6_XRjgu8K9Fu"
   },
   "outputs": [],
   "source": [
    "candidatos_partido = cand.groupby(['SG_PARTIDO']).SQ_CANDIDATO.count().reset_index()"
   ]
  },
  {
   "cell_type": "code",
   "execution_count": null,
   "metadata": {
    "id": "VXGRdQ5RLOGI"
   },
   "outputs": [],
   "source": [
    "candidatos_partido.columns = ['Partido', 'Número de candidatos']"
   ]
  },
  {
   "cell_type": "code",
   "execution_count": null,
   "metadata": {
    "id": "S9W6Jr_SLlUK"
   },
   "outputs": [],
   "source": [
    "media_patrimonio = candidatos_partido.merge(bolo_patrimonio, how='left', on='Partido')"
   ]
  },
  {
   "cell_type": "code",
   "execution_count": null,
   "metadata": {
    "id": "CIBR2dfqL7cK"
   },
   "outputs": [],
   "source": [
    "media_patrimonio['Patrimônio médio dos candidatos (R$)'] = (media_patrimonio['Patrimônio somado dos candidatos (R$)']/media_patrimonio['Número de candidatos']).round(2)"
   ]
  },
  {
   "cell_type": "code",
   "execution_count": null,
   "metadata": {
    "id": "zZJhEerxMKCB"
   },
   "outputs": [],
   "source": [
    "media_patrimonio = media_patrimonio.sort_values(by='Patrimônio médio dos candidatos (R$)', ascending=False).reset_index(drop=True)"
   ]
  },
  {
   "cell_type": "code",
   "execution_count": null,
   "metadata": {
    "id": "cgKzog1w1hbV"
   },
   "outputs": [],
   "source": [
    "media_patrimonio['Patrimônio médio dos candidatos (R$)'] = media_patrimonio['Patrimônio médio dos candidatos (R$)'].round(2)"
   ]
  },
  {
   "cell_type": "code",
   "execution_count": null,
   "metadata": {
    "id": "8vFeH88hMhye"
   },
   "outputs": [],
   "source": [
    "summary_tables.append('media_patrimonio')  # .to_csv('media_patrimonio.csv', index=False)"
   ]
  },
  {
   "cell_type": "markdown",
   "metadata": {
    "id": "tKyvomjgOeJT"
   },
   "source": [
    "### Exporta tabelas"
   ]
  },
  {
   "cell_type": "code",
   "execution_count": null,
   "metadata": {
    "colab": {
     "base_uri": "https://localhost:8080/",
     "height": 17
    },
    "id": "_pp7QaXHS6lA",
    "outputId": "43ba78a1-fb5b-43c3-c9d7-8c3c02dcacdf"
   },
   "outputs": [
    {
     "data": {
      "application/javascript": [
       "\n",
       "    async function download(id, filename, size) {\n",
       "      if (!google.colab.kernel.accessAllowed) {\n",
       "        return;\n",
       "      }\n",
       "      const div = document.createElement('div');\n",
       "      const label = document.createElement('label');\n",
       "      label.textContent = `Downloading \"${filename}\": `;\n",
       "      div.appendChild(label);\n",
       "      const progress = document.createElement('progress');\n",
       "      progress.max = size;\n",
       "      div.appendChild(progress);\n",
       "      document.body.appendChild(div);\n",
       "\n",
       "      const buffers = [];\n",
       "      let downloaded = 0;\n",
       "\n",
       "      const channel = await google.colab.kernel.comms.open(id);\n",
       "      // Send a message to notify the kernel that we're ready.\n",
       "      channel.send({})\n",
       "\n",
       "      for await (const message of channel.messages) {\n",
       "        // Send a message to notify the kernel that we're ready.\n",
       "        channel.send({})\n",
       "        if (message.buffers) {\n",
       "          for (const buffer of message.buffers) {\n",
       "            buffers.push(buffer);\n",
       "            downloaded += buffer.byteLength;\n",
       "            progress.value = downloaded;\n",
       "          }\n",
       "        }\n",
       "      }\n",
       "      const blob = new Blob(buffers, {type: 'application/binary'});\n",
       "      const a = document.createElement('a');\n",
       "      a.href = window.URL.createObjectURL(blob);\n",
       "      a.download = filename;\n",
       "      div.appendChild(a);\n",
       "      a.click();\n",
       "      div.remove();\n",
       "    }\n",
       "  "
      ],
      "text/plain": [
       "<IPython.core.display.Javascript object>"
      ]
     },
     "metadata": {},
     "output_type": "display_data"
    },
    {
     "data": {
      "application/javascript": [
       "download(\"download_6b34624f-fdd6-4821-8d98-25306f5c59e9\", \"top10_patrimonios.csv\", 953)"
      ],
      "text/plain": [
       "<IPython.core.display.Javascript object>"
      ]
     },
     "metadata": {},
     "output_type": "display_data"
    },
    {
     "data": {
      "application/javascript": [
       "\n",
       "    async function download(id, filename, size) {\n",
       "      if (!google.colab.kernel.accessAllowed) {\n",
       "        return;\n",
       "      }\n",
       "      const div = document.createElement('div');\n",
       "      const label = document.createElement('label');\n",
       "      label.textContent = `Downloading \"${filename}\": `;\n",
       "      div.appendChild(label);\n",
       "      const progress = document.createElement('progress');\n",
       "      progress.max = size;\n",
       "      div.appendChild(progress);\n",
       "      document.body.appendChild(div);\n",
       "\n",
       "      const buffers = [];\n",
       "      let downloaded = 0;\n",
       "\n",
       "      const channel = await google.colab.kernel.comms.open(id);\n",
       "      // Send a message to notify the kernel that we're ready.\n",
       "      channel.send({})\n",
       "\n",
       "      for await (const message of channel.messages) {\n",
       "        // Send a message to notify the kernel that we're ready.\n",
       "        channel.send({})\n",
       "        if (message.buffers) {\n",
       "          for (const buffer of message.buffers) {\n",
       "            buffers.push(buffer);\n",
       "            downloaded += buffer.byteLength;\n",
       "            progress.value = downloaded;\n",
       "          }\n",
       "        }\n",
       "      }\n",
       "      const blob = new Blob(buffers, {type: 'application/binary'});\n",
       "      const a = document.createElement('a');\n",
       "      a.href = window.URL.createObjectURL(blob);\n",
       "      a.download = filename;\n",
       "      div.appendChild(a);\n",
       "      a.click();\n",
       "      div.remove();\n",
       "    }\n",
       "  "
      ],
      "text/plain": [
       "<IPython.core.display.Javascript object>"
      ]
     },
     "metadata": {},
     "output_type": "display_data"
    },
    {
     "data": {
      "application/javascript": [
       "download(\"download_9e300ccb-4d1a-4f24-85ef-7581026d4a8b\", \"partido_cash.csv\", 488)"
      ],
      "text/plain": [
       "<IPython.core.display.Javascript object>"
      ]
     },
     "metadata": {},
     "output_type": "display_data"
    },
    {
     "data": {
      "application/javascript": [
       "\n",
       "    async function download(id, filename, size) {\n",
       "      if (!google.colab.kernel.accessAllowed) {\n",
       "        return;\n",
       "      }\n",
       "      const div = document.createElement('div');\n",
       "      const label = document.createElement('label');\n",
       "      label.textContent = `Downloading \"${filename}\": `;\n",
       "      div.appendChild(label);\n",
       "      const progress = document.createElement('progress');\n",
       "      progress.max = size;\n",
       "      div.appendChild(progress);\n",
       "      document.body.appendChild(div);\n",
       "\n",
       "      const buffers = [];\n",
       "      let downloaded = 0;\n",
       "\n",
       "      const channel = await google.colab.kernel.comms.open(id);\n",
       "      // Send a message to notify the kernel that we're ready.\n",
       "      channel.send({})\n",
       "\n",
       "      for await (const message of channel.messages) {\n",
       "        // Send a message to notify the kernel that we're ready.\n",
       "        channel.send({})\n",
       "        if (message.buffers) {\n",
       "          for (const buffer of message.buffers) {\n",
       "            buffers.push(buffer);\n",
       "            downloaded += buffer.byteLength;\n",
       "            progress.value = downloaded;\n",
       "          }\n",
       "        }\n",
       "      }\n",
       "      const blob = new Blob(buffers, {type: 'application/binary'});\n",
       "      const a = document.createElement('a');\n",
       "      a.href = window.URL.createObjectURL(blob);\n",
       "      a.download = filename;\n",
       "      div.appendChild(a);\n",
       "      a.click();\n",
       "      div.remove();\n",
       "    }\n",
       "  "
      ],
      "text/plain": [
       "<IPython.core.display.Javascript object>"
      ]
     },
     "metadata": {},
     "output_type": "display_data"
    },
    {
     "data": {
      "application/javascript": [
       "download(\"download_d8ae9b01-a5b7-48e5-9971-60d4e8a6b846\", \"bolo_patrimonio.csv\", 630)"
      ],
      "text/plain": [
       "<IPython.core.display.Javascript object>"
      ]
     },
     "metadata": {},
     "output_type": "display_data"
    },
    {
     "data": {
      "application/javascript": [
       "\n",
       "    async function download(id, filename, size) {\n",
       "      if (!google.colab.kernel.accessAllowed) {\n",
       "        return;\n",
       "      }\n",
       "      const div = document.createElement('div');\n",
       "      const label = document.createElement('label');\n",
       "      label.textContent = `Downloading \"${filename}\": `;\n",
       "      div.appendChild(label);\n",
       "      const progress = document.createElement('progress');\n",
       "      progress.max = size;\n",
       "      div.appendChild(progress);\n",
       "      document.body.appendChild(div);\n",
       "\n",
       "      const buffers = [];\n",
       "      let downloaded = 0;\n",
       "\n",
       "      const channel = await google.colab.kernel.comms.open(id);\n",
       "      // Send a message to notify the kernel that we're ready.\n",
       "      channel.send({})\n",
       "\n",
       "      for await (const message of channel.messages) {\n",
       "        // Send a message to notify the kernel that we're ready.\n",
       "        channel.send({})\n",
       "        if (message.buffers) {\n",
       "          for (const buffer of message.buffers) {\n",
       "            buffers.push(buffer);\n",
       "            downloaded += buffer.byteLength;\n",
       "            progress.value = downloaded;\n",
       "          }\n",
       "        }\n",
       "      }\n",
       "      const blob = new Blob(buffers, {type: 'application/binary'});\n",
       "      const a = document.createElement('a');\n",
       "      a.href = window.URL.createObjectURL(blob);\n",
       "      a.download = filename;\n",
       "      div.appendChild(a);\n",
       "      a.click();\n",
       "      div.remove();\n",
       "    }\n",
       "  "
      ],
      "text/plain": [
       "<IPython.core.display.Javascript object>"
      ]
     },
     "metadata": {},
     "output_type": "display_data"
    },
    {
     "data": {
      "application/javascript": [
       "download(\"download_3bbb1e56-821d-4d95-809f-3303c93ed302\", \"media_patrimonio.csv\", 1152)"
      ],
      "text/plain": [
       "<IPython.core.display.Javascript object>"
      ]
     },
     "metadata": {},
     "output_type": "display_data"
    }
   ],
   "source": [
    "for i in summary_tables:\n",
    "    exec(f'{i}.to_csv(\"{i}.csv\", index=False)')\n",
    "    files.download(f\"/content/{i}.csv\")"
   ]
  },
  {
   "cell_type": "code",
   "execution_count": null,
   "metadata": {
    "colab": {
     "base_uri": "https://localhost:8080/"
    },
    "id": "ISY0SNkBNq_5",
    "outputId": "0e4cf9cc-6e0b-4893-f145-c1bfb71d2d27"
   },
   "outputs": [
    {
     "name": "stdout",
     "output_type": "stream",
     "text": [
      "TABELAS EXPORTADAS:\n",
      "\n",
      "top10_patrimonios\n",
      "partido_cash\n",
      "bolo_patrimonio\n",
      "media_patrimonio\n"
     ]
    }
   ],
   "source": [
    "print('TABELAS EXPORTADAS:\\n')\n",
    "\n",
    "for i in summary_tables:\n",
    "    print(i)"
   ]
  },
  {
   "cell_type": "code",
   "execution_count": null,
   "metadata": {
    "id": "ClLH2tX9S8Ts"
   },
   "outputs": [],
   "source": []
  }
 ],
 "metadata": {
  "colab": {
   "collapsed_sections": [],
   "name": "Bens_candidatos.ipynb",
   "provenance": [],
   "toc_visible": true
  },
  "kernelspec": {
   "display_name": "Python 3 (ipykernel)",
   "language": "python",
   "name": "python3"
  },
  "language_info": {
   "codemirror_mode": {
    "name": "ipython",
    "version": 3
   },
   "file_extension": ".py",
   "mimetype": "text/x-python",
   "name": "python",
   "nbconvert_exporter": "python",
   "pygments_lexer": "ipython3",
   "version": "3.10.5"
  }
 },
 "nbformat": 4,
 "nbformat_minor": 1
}
