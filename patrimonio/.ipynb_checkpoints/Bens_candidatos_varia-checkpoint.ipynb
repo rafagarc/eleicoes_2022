{
 "cells": [
  {
   "cell_type": "code",
   "execution_count": 5,
   "metadata": {
    "id": "V5vZEU04sVxE"
   },
   "outputs": [],
   "source": [
    "import pandas as pd"
   ]
  },
  {
   "cell_type": "code",
   "execution_count": 30,
   "metadata": {
    "id": "XdkUEAGysdDM"
   },
   "outputs": [],
   "source": [
    "# Paths dos datasets\n",
    "\n",
    "bens_2018 = r'C:\\Users\\rgarcia\\Documents\\GitHub\\eleicoes_2022\\patrimonio\\bem_candidato_2018_BRASIL.csv'\n",
    "\n",
    "bens_2022 = r'C:\\Users\\rgarcia\\Documents\\GitHub\\eleicoes_2022\\patrimonio\\bem_candidato_2022_BRASIL.csv'\n",
    "\n",
    "candidatos_2022 = r'C:\\Users\\rgarcia\\Documents\\GitHub\\eleicoes_2022\\consulta_cand_2022_BRASIL.csv'"
   ]
  },
  {
   "cell_type": "code",
   "execution_count": 31,
   "metadata": {},
   "outputs": [],
   "source": [
    "bens_2018 = pd.read_csv(bens_2018, sep=';', encoding='ISO-8859-1', decimal=\",\")"
   ]
  },
  {
   "cell_type": "code",
   "execution_count": 32,
   "metadata": {},
   "outputs": [],
   "source": [
    "bens_2022 = pd.read_csv(bens_2022, sep=';', encoding='ISO-8859-1', decimal=\",\")"
   ]
  },
  {
   "cell_type": "code",
   "execution_count": 52,
   "metadata": {},
   "outputs": [],
   "source": [
    "candidatos_2022 = pd.read_csv(candidatos_2022, sep=';', encoding='ISO-8859-1', decimal=\",\")"
   ]
  },
  {
   "cell_type": "code",
   "execution_count": 33,
   "metadata": {},
   "outputs": [],
   "source": [
    "tem_cash = ['Dinheiro em espécie - moeda estrangeira', 'Dinheiro em espécie - moeda nacional']"
   ]
  },
  {
   "cell_type": "code",
   "execution_count": 34,
   "metadata": {},
   "outputs": [],
   "source": [
    "cash_2018 = bens_2018[bens_2018['DS_TIPO_BEM_CANDIDATO'].isin(tem_cash)]"
   ]
  },
  {
   "cell_type": "code",
   "execution_count": 35,
   "metadata": {},
   "outputs": [
    {
     "data": {
      "text/plain": [
       "313025222.78000003"
      ]
     },
     "execution_count": 35,
     "metadata": {},
     "output_type": "execute_result"
    }
   ],
   "source": [
    "cash_2018['VR_BEM_CANDIDATO'].sum()"
   ]
  },
  {
   "cell_type": "code",
   "execution_count": 36,
   "metadata": {},
   "outputs": [],
   "source": [
    "cash_2022 = bens_2022[bens_2022['DS_TIPO_BEM_CANDIDATO'].isin(tem_cash)]"
   ]
  },
  {
   "cell_type": "code",
   "execution_count": 37,
   "metadata": {},
   "outputs": [
    {
     "data": {
      "text/plain": [
       "294643267.87"
      ]
     },
     "execution_count": 37,
     "metadata": {},
     "output_type": "execute_result"
    }
   ],
   "source": [
    "cash_2022['VR_BEM_CANDIDATO'].sum()"
   ]
  },
  {
   "cell_type": "code",
   "execution_count": 46,
   "metadata": {},
   "outputs": [],
   "source": [
    "USD_vs_BRL = cash_2022.groupby(['SQ_CANDIDATO',\n",
    "                   'DS_TIPO_BEM_CANDIDATO'\n",
    "                  ]).VR_BEM_CANDIDATO.sum().reset_index().pivot(index='SQ_CANDIDATO', \n",
    "                                                                columns='DS_TIPO_BEM_CANDIDATO', \n",
    "                                                                values='VR_BEM_CANDIDATO').fillna(0)"
   ]
  },
  {
   "cell_type": "code",
   "execution_count": 50,
   "metadata": {},
   "outputs": [],
   "source": [
    "USD_vs_BRL = USD_vs_BRL.reset_index().sort_values(by='Dinheiro em espécie - moeda estrangeira', ascending=False)"
   ]
  },
  {
   "cell_type": "code",
   "execution_count": 55,
   "metadata": {},
   "outputs": [],
   "source": [
    "fichas = candidatos_2022[[ 'SQ_CANDIDATO', 'NM_CANDIDATO', 'NM_URNA_CANDIDATO', 'DS_CARGO', 'SG_PARTIDO', 'SG_UF',  \n",
    "                 'NR_CPF_CANDIDATO', 'NM_EMAIL']]"
   ]
  },
  {
   "cell_type": "code",
   "execution_count": 58,
   "metadata": {},
   "outputs": [],
   "source": [
    "USD_vs_BRL = USD_vs_BRL.merge(fichas, how='left', on='SQ_CANDIDATO')"
   ]
  },
  {
   "cell_type": "code",
   "execution_count": 61,
   "metadata": {
    "collapsed": true
   },
   "outputs": [
    {
     "data": {
      "text/plain": [
       "246062272.51999998"
      ]
     },
     "execution_count": 61,
     "metadata": {},
     "output_type": "execute_result"
    }
   ],
   "source": [
    "USD_vs_BRL['Dinheiro em espécie - moeda nacional'].sum()"
   ]
  },
  {
   "cell_type": "code",
   "execution_count": 62,
   "metadata": {},
   "outputs": [
    {
     "data": {
      "text/plain": [
       "294643267.87"
      ]
     },
     "execution_count": 62,
     "metadata": {},
     "output_type": "execute_result"
    }
   ],
   "source": [
    "48580995.35 + 246062272.52"
   ]
  },
  {
   "cell_type": "code",
   "execution_count": 63,
   "metadata": {},
   "outputs": [
    {
     "data": {
      "text/plain": [
       "16.488072407422013"
      ]
     },
     "execution_count": 63,
     "metadata": {},
     "output_type": "execute_result"
    }
   ],
   "source": [
    "48580995.35/294643267.87*100"
   ]
  },
  {
   "cell_type": "code",
   "execution_count": 65,
   "metadata": {},
   "outputs": [],
   "source": [
    "USD_vs_BRL.to_csv('Dolar_vs_Real.csv', index=False)"
   ]
  },
  {
   "cell_type": "code",
   "execution_count": 67,
   "metadata": {},
   "outputs": [],
   "source": [
    "agregadao = bens_2022.merge(candidatos_2022, how='left', on='SQ_CANDIDATO')"
   ]
  },
  {
   "cell_type": "code",
   "execution_count": 68,
   "metadata": {},
   "outputs": [
    {
     "data": {
      "text/plain": [
       "Index(['DT_GERACAO_x', 'HH_GERACAO_x', 'ANO_ELEICAO_x', 'CD_TIPO_ELEICAO_x',\n",
       "       'NM_TIPO_ELEICAO_x', 'CD_ELEICAO_x', 'DS_ELEICAO_x', 'DT_ELEICAO_x',\n",
       "       'SG_UF_x', 'SG_UE_x', 'NM_UE_x', 'SQ_CANDIDATO', 'NR_ORDEM_CANDIDATO',\n",
       "       'CD_TIPO_BEM_CANDIDATO', 'DS_TIPO_BEM_CANDIDATO', 'DS_BEM_CANDIDATO',\n",
       "       'VR_BEM_CANDIDATO', 'DT_ULTIMA_ATUALIZACAO', 'HH_ULTIMA_ATUALIZACAO',\n",
       "       'DT_GERACAO_y', 'HH_GERACAO_y', 'ANO_ELEICAO_y', 'CD_TIPO_ELEICAO_y',\n",
       "       'NM_TIPO_ELEICAO_y', 'NR_TURNO', 'CD_ELEICAO_y', 'DS_ELEICAO_y',\n",
       "       'DT_ELEICAO_y', 'TP_ABRANGENCIA', 'SG_UF_y', 'SG_UE_y', 'NM_UE_y',\n",
       "       'CD_CARGO', 'DS_CARGO', 'NR_CANDIDATO', 'NM_CANDIDATO',\n",
       "       'NM_URNA_CANDIDATO', 'NM_SOCIAL_CANDIDATO', 'NR_CPF_CANDIDATO',\n",
       "       'NM_EMAIL', 'CD_SITUACAO_CANDIDATURA', 'DS_SITUACAO_CANDIDATURA',\n",
       "       'CD_DETALHE_SITUACAO_CAND', 'DS_DETALHE_SITUACAO_CAND', 'TP_AGREMIACAO',\n",
       "       'NR_PARTIDO', 'SG_PARTIDO', 'NM_PARTIDO', 'NR_FEDERACAO',\n",
       "       'NM_FEDERACAO', 'SG_FEDERACAO', 'DS_COMPOSICAO_FEDERACAO',\n",
       "       'SQ_COLIGACAO', 'NM_COLIGACAO', 'DS_COMPOSICAO_COLIGACAO',\n",
       "       'CD_NACIONALIDADE', 'DS_NACIONALIDADE', 'SG_UF_NASCIMENTO',\n",
       "       'CD_MUNICIPIO_NASCIMENTO', 'NM_MUNICIPIO_NASCIMENTO', 'DT_NASCIMENTO',\n",
       "       'NR_IDADE_DATA_POSSE', 'NR_TITULO_ELEITORAL_CANDIDATO', 'CD_GENERO',\n",
       "       'DS_GENERO', 'CD_GRAU_INSTRUCAO', 'DS_GRAU_INSTRUCAO',\n",
       "       'CD_ESTADO_CIVIL', 'DS_ESTADO_CIVIL', 'CD_COR_RACA', 'DS_COR_RACA',\n",
       "       'CD_OCUPACAO', 'DS_OCUPACAO', 'VR_DESPESA_MAX_CAMPANHA',\n",
       "       'CD_SIT_TOT_TURNO', 'DS_SIT_TOT_TURNO', 'ST_REELEICAO',\n",
       "       'ST_DECLARAR_BENS', 'NR_PROTOCOLO_CANDIDATURA', 'NR_PROCESSO',\n",
       "       'CD_SITUACAO_CANDIDATO_PLEITO', 'DS_SITUACAO_CANDIDATO_PLEITO',\n",
       "       'CD_SITUACAO_CANDIDATO_URNA', 'DS_SITUACAO_CANDIDATO_URNA',\n",
       "       'ST_CANDIDATO_INSERIDO_URNA', 'NM_TIPO_DESTINACAO_VOTOS',\n",
       "       'CD_SITUACAO_CANDIDATO_TOT', 'DS_SITUACAO_CANDIDATO_TOT',\n",
       "       'ST_PREST_CONTAS'],\n",
       "      dtype='object')"
      ]
     },
     "execution_count": 68,
     "metadata": {},
     "output_type": "execute_result"
    }
   ],
   "source": [
    "agregadao.columns"
   ]
  },
  {
   "cell_type": "code",
   "execution_count": 71,
   "metadata": {},
   "outputs": [],
   "source": [
    "agregadao_resumido = agregadao[['SG_UF_x', 'SQ_CANDIDATO', 'NR_ORDEM_CANDIDATO',\n",
    "       'DS_TIPO_BEM_CANDIDATO', 'DS_BEM_CANDIDATO',\n",
    "       'VR_BEM_CANDIDATO', 'DT_ULTIMA_ATUALIZACAO', 'HH_ULTIMA_ATUALIZACAO',\n",
    "       'CD_CARGO', 'DS_CARGO', 'NR_CANDIDATO', 'NM_CANDIDATO',\n",
    "       'NM_URNA_CANDIDATO', 'NM_SOCIAL_CANDIDATO', 'NR_CPF_CANDIDATO',\n",
    "       'NM_EMAIL', 'DS_SITUACAO_CANDIDATURA',\n",
    "       'DS_DETALHE_SITUACAO_CAND', 'TP_AGREMIACAO',\n",
    "       'SG_PARTIDO', 'SG_FEDERACAO', 'DS_COMPOSICAO_FEDERACAO',\n",
    "       'NM_COLIGACAO', 'DS_COMPOSICAO_COLIGACAO',\n",
    "       'DS_NACIONALIDADE', 'NR_IDADE_DATA_POSSE', 'DS_GENERO', 'DS_GRAU_INSTRUCAO',\n",
    "       'DS_ESTADO_CIVIL', 'DS_COR_RACA',\n",
    "       'DS_OCUPACAO', 'DS_SITUACAO_CANDIDATO_PLEITO']]"
   ]
  },
  {
   "cell_type": "code",
   "execution_count": 72,
   "metadata": {},
   "outputs": [],
   "source": [
    "agregadao_resumido.to_csv('patrimonio_candidatos_2022.csv', index=False)"
   ]
  },
  {
   "cell_type": "code",
   "execution_count": null,
   "metadata": {},
   "outputs": [],
   "source": []
  }
 ],
 "metadata": {
  "colab": {
   "collapsed_sections": [],
   "name": "Bens_candidatos.ipynb",
   "provenance": [],
   "toc_visible": true
  },
  "kernelspec": {
   "display_name": "Python 3 (ipykernel)",
   "language": "python",
   "name": "python3"
  },
  "language_info": {
   "codemirror_mode": {
    "name": "ipython",
    "version": 3
   },
   "file_extension": ".py",
   "mimetype": "text/x-python",
   "name": "python",
   "nbconvert_exporter": "python",
   "pygments_lexer": "ipython3",
   "version": "3.10.5"
  }
 },
 "nbformat": 4,
 "nbformat_minor": 1
}
