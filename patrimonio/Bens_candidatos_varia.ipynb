{
 "cells": [
  {
   "cell_type": "code",
   "execution_count": 5,
   "metadata": {
    "id": "V5vZEU04sVxE"
   },
   "outputs": [],
   "source": [
    "import pandas as pd"
   ]
  },
  {
   "cell_type": "code",
   "execution_count": 30,
   "metadata": {
    "id": "XdkUEAGysdDM"
   },
   "outputs": [],
   "source": [
    "# Paths dos datasets\n",
    "\n",
    "bens_2018 = r'C:\\Users\\rgarcia\\Documents\\GitHub\\eleicoes_2022\\patrimonio\\bem_candidato_2018_BRASIL.csv'\n",
    "\n",
    "bens_2022 = r'C:\\Users\\rgarcia\\Documents\\GitHub\\eleicoes_2022\\patrimonio\\bem_candidato_2022_BRASIL.csv'\n",
    "\n",
    "candidatos_2022 = r'C:\\Users\\rgarcia\\Documents\\GitHub\\eleicoes_2022\\consulta_cand_2022_BRASIL.csv'"
   ]
  },
  {
   "cell_type": "code",
   "execution_count": 31,
   "metadata": {},
   "outputs": [],
   "source": [
    "bens_2018 = pd.read_csv(bens_2018, sep=';', encoding='ISO-8859-1', decimal=\",\")"
   ]
  },
  {
   "cell_type": "code",
   "execution_count": 32,
   "metadata": {},
   "outputs": [],
   "source": [
    "bens_2022 = pd.read_csv(bens_2022, sep=';', encoding='ISO-8859-1', decimal=\",\")"
   ]
  },
  {
   "cell_type": "code",
   "execution_count": 52,
   "metadata": {},
   "outputs": [],
   "source": [
    "candidatos_2022 = pd.read_csv(candidatos_2022, sep=';', encoding='ISO-8859-1', decimal=\",\")"
   ]
  },
  {
   "cell_type": "code",
   "execution_count": 33,
   "metadata": {},
   "outputs": [],
   "source": [
    "tem_cash = ['Dinheiro em espécie - moeda estrangeira', 'Dinheiro em espécie - moeda nacional']"
   ]
  },
  {
   "cell_type": "code",
   "execution_count": 34,
   "metadata": {},
   "outputs": [],
   "source": [
    "cash_2018 = bens_2018[bens_2018['DS_TIPO_BEM_CANDIDATO'].isin(tem_cash)]"
   ]
  },
  {
   "cell_type": "code",
   "execution_count": 35,
   "metadata": {},
   "outputs": [
    {
     "data": {
      "text/plain": [
       "313025222.78000003"
      ]
     },
     "execution_count": 35,
     "metadata": {},
     "output_type": "execute_result"
    }
   ],
   "source": [
    "cash_2018['VR_BEM_CANDIDATO'].sum()"
   ]
  },
  {
   "cell_type": "code",
   "execution_count": 36,
   "metadata": {},
   "outputs": [],
   "source": [
    "cash_2022 = bens_2022[bens_2022['DS_TIPO_BEM_CANDIDATO'].isin(tem_cash)]"
   ]
  },
  {
   "cell_type": "code",
   "execution_count": 37,
   "metadata": {},
   "outputs": [
    {
     "data": {
      "text/plain": [
       "294643267.87"
      ]
     },
     "execution_count": 37,
     "metadata": {},
     "output_type": "execute_result"
    }
   ],
   "source": [
    "cash_2022['VR_BEM_CANDIDATO'].sum()"
   ]
  },
  {
   "cell_type": "code",
   "execution_count": 46,
   "metadata": {},
   "outputs": [],
   "source": [
    "USD_vs_BRL = cash_2022.groupby(['SQ_CANDIDATO',\n",
    "                   'DS_TIPO_BEM_CANDIDATO'\n",
    "                  ]).VR_BEM_CANDIDATO.sum().reset_index().pivot(index='SQ_CANDIDATO', \n",
    "                                                                columns='DS_TIPO_BEM_CANDIDATO', \n",
    "                                                                values='VR_BEM_CANDIDATO').fillna(0)"
   ]
  },
  {
   "cell_type": "code",
   "execution_count": 50,
   "metadata": {},
   "outputs": [],
   "source": [
    "USD_vs_BRL = USD_vs_BRL.reset_index().sort_values(by='Dinheiro em espécie - moeda estrangeira', ascending=False)"
   ]
  },
  {
   "cell_type": "code",
   "execution_count": 55,
   "metadata": {},
   "outputs": [],
   "source": [
    "fichas = candidatos_2022[[ 'SQ_CANDIDATO', 'NM_CANDIDATO', 'NM_URNA_CANDIDATO', 'DS_CARGO', 'SG_PARTIDO', 'SG_UF',  \n",
    "                 'NR_CPF_CANDIDATO', 'NM_EMAIL']]"
   ]
  },
  {
   "cell_type": "code",
   "execution_count": 58,
   "metadata": {},
   "outputs": [],
   "source": [
    "USD_vs_BRL = USD_vs_BRL.merge(fichas, how='left', on='SQ_CANDIDATO')"
   ]
  },
  {
   "cell_type": "code",
   "execution_count": 61,
   "metadata": {
    "collapsed": true
   },
   "outputs": [
    {
     "data": {
      "text/plain": [
       "246062272.51999998"
      ]
     },
     "execution_count": 61,
     "metadata": {},
     "output_type": "execute_result"
    }
   ],
   "source": [
    "USD_vs_BRL['Dinheiro em espécie - moeda nacional'].sum()"
   ]
  },
  {
   "cell_type": "code",
   "execution_count": 62,
   "metadata": {},
   "outputs": [
    {
     "data": {
      "text/plain": [
       "294643267.87"
      ]
     },
     "execution_count": 62,
     "metadata": {},
     "output_type": "execute_result"
    }
   ],
   "source": [
    "48580995.35 + 246062272.52"
   ]
  },
  {
   "cell_type": "code",
   "execution_count": 63,
   "metadata": {},
   "outputs": [
    {
     "data": {
      "text/plain": [
       "16.488072407422013"
      ]
     },
     "execution_count": 63,
     "metadata": {},
     "output_type": "execute_result"
    }
   ],
   "source": [
    "48580995.35/294643267.87*100"
   ]
  },
  {
   "cell_type": "code",
   "execution_count": 64,
   "metadata": {},
   "outputs": [
    {
     "data": {
      "text/html": [
       "<div>\n",
       "<style scoped>\n",
       "    .dataframe tbody tr th:only-of-type {\n",
       "        vertical-align: middle;\n",
       "    }\n",
       "\n",
       "    .dataframe tbody tr th {\n",
       "        vertical-align: top;\n",
       "    }\n",
       "\n",
       "    .dataframe thead th {\n",
       "        text-align: right;\n",
       "    }\n",
       "</style>\n",
       "<table border=\"1\" class=\"dataframe\">\n",
       "  <thead>\n",
       "    <tr style=\"text-align: right;\">\n",
       "      <th></th>\n",
       "      <th>SQ_CANDIDATO</th>\n",
       "      <th>Dinheiro em espécie - moeda estrangeira</th>\n",
       "      <th>Dinheiro em espécie - moeda nacional</th>\n",
       "      <th>NM_CANDIDATO</th>\n",
       "      <th>NM_URNA_CANDIDATO</th>\n",
       "      <th>DS_CARGO</th>\n",
       "      <th>SG_PARTIDO</th>\n",
       "      <th>SG_UF</th>\n",
       "      <th>NR_CPF_CANDIDATO</th>\n",
       "      <th>NM_EMAIL</th>\n",
       "    </tr>\n",
       "  </thead>\n",
       "  <tbody>\n",
       "    <tr>\n",
       "      <th>0</th>\n",
       "      <td>140001611624</td>\n",
       "      <td>39564300.03</td>\n",
       "      <td>0.0</td>\n",
       "      <td>AILSON SOUTO DA TRINDADE</td>\n",
       "      <td>AILSON SOUTO</td>\n",
       "      <td>DEPUTADO ESTADUAL</td>\n",
       "      <td>PP</td>\n",
       "      <td>PA</td>\n",
       "      <td>7.397875e+10</td>\n",
       "      <td>AILSONSOUTO@HOTMAIL.COM</td>\n",
       "    </tr>\n",
       "    <tr>\n",
       "      <th>1</th>\n",
       "      <td>90001611926</td>\n",
       "      <td>813000.00</td>\n",
       "      <td>0.0</td>\n",
       "      <td>MILTON JUSTUS</td>\n",
       "      <td>MILTON JUSTUS</td>\n",
       "      <td>DEPUTADO ESTADUAL</td>\n",
       "      <td>PDT</td>\n",
       "      <td>GO</td>\n",
       "      <td>6.420683e+10</td>\n",
       "      <td>MILTON12DIRETOR@GMAIL.COM</td>\n",
       "    </tr>\n",
       "    <tr>\n",
       "      <th>2</th>\n",
       "      <td>190001722071</td>\n",
       "      <td>603500.00</td>\n",
       "      <td>65000.0</td>\n",
       "      <td>CAROLINE MARQUES</td>\n",
       "      <td>CACAU MARQUES</td>\n",
       "      <td>DEPUTADO ESTADUAL</td>\n",
       "      <td>DC</td>\n",
       "      <td>RJ</td>\n",
       "      <td>8.503971e+09</td>\n",
       "      <td>CACAUREPRESENTACOES@GMAIL.COM</td>\n",
       "    </tr>\n",
       "    <tr>\n",
       "      <th>3</th>\n",
       "      <td>180001602555</td>\n",
       "      <td>480000.00</td>\n",
       "      <td>0.0</td>\n",
       "      <td>MARCOS NUNES CHAVES</td>\n",
       "      <td>MARQUINHOS CHAVES</td>\n",
       "      <td>DEPUTADO FEDERAL</td>\n",
       "      <td>PSD</td>\n",
       "      <td>PI</td>\n",
       "      <td>4.701259e+10</td>\n",
       "      <td>REGIANEMS1@OUTLOOK.COM</td>\n",
       "    </tr>\n",
       "    <tr>\n",
       "      <th>4</th>\n",
       "      <td>250001602134</td>\n",
       "      <td>450000.00</td>\n",
       "      <td>0.0</td>\n",
       "      <td>FERNANDO HENRIQUE CURY</td>\n",
       "      <td>FERNANDO CURY</td>\n",
       "      <td>DEPUTADO ESTADUAL</td>\n",
       "      <td>UNIÃO</td>\n",
       "      <td>SP</td>\n",
       "      <td>2.456014e+10</td>\n",
       "      <td>FHCURY@UOL.COM.BR</td>\n",
       "    </tr>\n",
       "    <tr>\n",
       "      <th>...</th>\n",
       "      <td>...</td>\n",
       "      <td>...</td>\n",
       "      <td>...</td>\n",
       "      <td>...</td>\n",
       "      <td>...</td>\n",
       "      <td>...</td>\n",
       "      <td>...</td>\n",
       "      <td>...</td>\n",
       "      <td>...</td>\n",
       "      <td>...</td>\n",
       "    </tr>\n",
       "    <tr>\n",
       "      <th>2257</th>\n",
       "      <td>130001607702</td>\n",
       "      <td>0.00</td>\n",
       "      <td>162000.0</td>\n",
       "      <td>HELI GERALDO DE ANDRADE</td>\n",
       "      <td>DELEGADO HELI GRILO</td>\n",
       "      <td>DEPUTADO ESTADUAL</td>\n",
       "      <td>UNIÃO</td>\n",
       "      <td>MG</td>\n",
       "      <td>3.620818e+10</td>\n",
       "      <td>DELEGADOHELI.GRILO44190@GMAIL.COM</td>\n",
       "    </tr>\n",
       "    <tr>\n",
       "      <th>2258</th>\n",
       "      <td>130001607673</td>\n",
       "      <td>0.00</td>\n",
       "      <td>1000.0</td>\n",
       "      <td>ARNALDO SILVA JÚNIOR</td>\n",
       "      <td>ARNALDO</td>\n",
       "      <td>DEPUTADO ESTADUAL</td>\n",
       "      <td>UNIÃO</td>\n",
       "      <td>MG</td>\n",
       "      <td>7.196954e+10</td>\n",
       "      <td>RAFAEL@RIBEIROSILVA.COM.BR</td>\n",
       "    </tr>\n",
       "    <tr>\n",
       "      <th>2259</th>\n",
       "      <td>130001607672</td>\n",
       "      <td>0.00</td>\n",
       "      <td>48560.0</td>\n",
       "      <td>ANTONIO SANTOS DE AGUIAR</td>\n",
       "      <td>ANTONIO AGUIAR</td>\n",
       "      <td>DEPUTADO ESTADUAL</td>\n",
       "      <td>UNIÃO</td>\n",
       "      <td>MG</td>\n",
       "      <td>3.337832e+10</td>\n",
       "      <td>UNIAOBRASILMG@GMAIL.COM</td>\n",
       "    </tr>\n",
       "    <tr>\n",
       "      <th>2260</th>\n",
       "      <td>130001607658</td>\n",
       "      <td>0.00</td>\n",
       "      <td>490000.0</td>\n",
       "      <td>OSMANDO PEREIRA DA SILVA</td>\n",
       "      <td>OSMANDO PEREIRA</td>\n",
       "      <td>DEPUTADO FEDERAL</td>\n",
       "      <td>UNIÃO</td>\n",
       "      <td>MG</td>\n",
       "      <td>1.270832e+10</td>\n",
       "      <td>UNIAOBRASILMG@GMAIL.COM</td>\n",
       "    </tr>\n",
       "    <tr>\n",
       "      <th>2261</th>\n",
       "      <td>280001644128</td>\n",
       "      <td>0.00</td>\n",
       "      <td>250000.0</td>\n",
       "      <td>SORAYA VIEIRA THRONICKE</td>\n",
       "      <td>SORAYA THRONICKE</td>\n",
       "      <td>PRESIDENTE</td>\n",
       "      <td>UNIÃO</td>\n",
       "      <td>BR</td>\n",
       "      <td>6.083897e+10</td>\n",
       "      <td>SORAYATHRONICKE@GMAIL.COM</td>\n",
       "    </tr>\n",
       "  </tbody>\n",
       "</table>\n",
       "<p>2262 rows × 10 columns</p>\n",
       "</div>"
      ],
      "text/plain": [
       "      SQ_CANDIDATO  Dinheiro em espécie - moeda estrangeira  \\\n",
       "0     140001611624                              39564300.03   \n",
       "1      90001611926                                813000.00   \n",
       "2     190001722071                                603500.00   \n",
       "3     180001602555                                480000.00   \n",
       "4     250001602134                                450000.00   \n",
       "...            ...                                      ...   \n",
       "2257  130001607702                                     0.00   \n",
       "2258  130001607673                                     0.00   \n",
       "2259  130001607672                                     0.00   \n",
       "2260  130001607658                                     0.00   \n",
       "2261  280001644128                                     0.00   \n",
       "\n",
       "      Dinheiro em espécie - moeda nacional              NM_CANDIDATO  \\\n",
       "0                                      0.0  AILSON SOUTO DA TRINDADE   \n",
       "1                                      0.0             MILTON JUSTUS   \n",
       "2                                  65000.0          CAROLINE MARQUES   \n",
       "3                                      0.0       MARCOS NUNES CHAVES   \n",
       "4                                      0.0    FERNANDO HENRIQUE CURY   \n",
       "...                                    ...                       ...   \n",
       "2257                              162000.0   HELI GERALDO DE ANDRADE   \n",
       "2258                                1000.0      ARNALDO SILVA JÚNIOR   \n",
       "2259                               48560.0  ANTONIO SANTOS DE AGUIAR   \n",
       "2260                              490000.0  OSMANDO PEREIRA DA SILVA   \n",
       "2261                              250000.0   SORAYA VIEIRA THRONICKE   \n",
       "\n",
       "        NM_URNA_CANDIDATO           DS_CARGO SG_PARTIDO SG_UF  \\\n",
       "0            AILSON SOUTO  DEPUTADO ESTADUAL         PP    PA   \n",
       "1           MILTON JUSTUS  DEPUTADO ESTADUAL        PDT    GO   \n",
       "2           CACAU MARQUES  DEPUTADO ESTADUAL         DC    RJ   \n",
       "3       MARQUINHOS CHAVES   DEPUTADO FEDERAL        PSD    PI   \n",
       "4           FERNANDO CURY  DEPUTADO ESTADUAL      UNIÃO    SP   \n",
       "...                   ...                ...        ...   ...   \n",
       "2257  DELEGADO HELI GRILO  DEPUTADO ESTADUAL      UNIÃO    MG   \n",
       "2258              ARNALDO  DEPUTADO ESTADUAL      UNIÃO    MG   \n",
       "2259       ANTONIO AGUIAR  DEPUTADO ESTADUAL      UNIÃO    MG   \n",
       "2260      OSMANDO PEREIRA   DEPUTADO FEDERAL      UNIÃO    MG   \n",
       "2261     SORAYA THRONICKE         PRESIDENTE      UNIÃO    BR   \n",
       "\n",
       "      NR_CPF_CANDIDATO                           NM_EMAIL  \n",
       "0         7.397875e+10            AILSONSOUTO@HOTMAIL.COM  \n",
       "1         6.420683e+10          MILTON12DIRETOR@GMAIL.COM  \n",
       "2         8.503971e+09      CACAUREPRESENTACOES@GMAIL.COM  \n",
       "3         4.701259e+10             REGIANEMS1@OUTLOOK.COM  \n",
       "4         2.456014e+10                  FHCURY@UOL.COM.BR  \n",
       "...                ...                                ...  \n",
       "2257      3.620818e+10  DELEGADOHELI.GRILO44190@GMAIL.COM  \n",
       "2258      7.196954e+10         RAFAEL@RIBEIROSILVA.COM.BR  \n",
       "2259      3.337832e+10            UNIAOBRASILMG@GMAIL.COM  \n",
       "2260      1.270832e+10            UNIAOBRASILMG@GMAIL.COM  \n",
       "2261      6.083897e+10          SORAYATHRONICKE@GMAIL.COM  \n",
       "\n",
       "[2262 rows x 10 columns]"
      ]
     },
     "execution_count": 64,
     "metadata": {},
     "output_type": "execute_result"
    }
   ],
   "source": [
    "USD_vs_BRL.to_csv('Dolar_vs_Real.csv', index=False)"
   ]
  },
  {
   "cell_type": "code",
   "execution_count": null,
   "metadata": {},
   "outputs": [],
   "source": []
  }
 ],
 "metadata": {
  "colab": {
   "collapsed_sections": [],
   "name": "Bens_candidatos.ipynb",
   "provenance": [],
   "toc_visible": true
  },
  "kernelspec": {
   "display_name": "Python 3 (ipykernel)",
   "language": "python",
   "name": "python3"
  },
  "language_info": {
   "codemirror_mode": {
    "name": "ipython",
    "version": 3
   },
   "file_extension": ".py",
   "mimetype": "text/x-python",
   "name": "python",
   "nbconvert_exporter": "python",
   "pygments_lexer": "ipython3",
   "version": "3.10.5"
  }
 },
 "nbformat": 4,
 "nbformat_minor": 1
}
