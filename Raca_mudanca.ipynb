{
 "cells": [
  {
   "cell_type": "code",
   "execution_count": 45,
   "id": "6370107e",
   "metadata": {},
   "outputs": [],
   "source": [
    "import os\n",
    "import pandas as pd"
   ]
  },
  {
   "cell_type": "code",
   "execution_count": 46,
   "id": "e035bffb",
   "metadata": {},
   "outputs": [],
   "source": [
    "dataset_2022_url = 'https://cdn.tse.jus.br/estatistica/sead/odsele/consulta_cand/consulta_cand_2022.zip'"
   ]
  },
  {
   "cell_type": "code",
   "execution_count": 47,
   "id": "3aa126dc",
   "metadata": {},
   "outputs": [],
   "source": [
    "user_agent = 'Mozilla/5.0 (Macintosh; Intel Mac OS X 10_10_0) AppleWebKit/600.1.17\\\n",
    " (KHTML, like Gecko) Version/8.0 Safari/600.1.17'"
   ]
  },
  {
   "cell_type": "code",
   "execution_count": 48,
   "id": "89128f55",
   "metadata": {},
   "outputs": [
    {
     "data": {
      "text/plain": [
       "'C:\\\\Users\\\\rgarcia\\\\Documents\\\\data'"
      ]
     },
     "execution_count": 48,
     "metadata": {},
     "output_type": "execute_result"
    }
   ],
   "source": [
    "os.chdir(r'C:\\Users\\rgarcia\\Documents\\data') ; os.getcwd()"
   ]
  },
  {
   "cell_type": "code",
   "execution_count": 49,
   "id": "5395694b",
   "metadata": {},
   "outputs": [
    {
     "name": "stdout",
     "output_type": "stream",
     "text": [
      "C:\\Users\\rgarcia\\Documents\\code\n"
     ]
    }
   ],
   "source": [
    "os.system(f'wget --header=\"User-Agent: {user_agent}\" {dataset_2022_url}')\n",
    "os.system('unzip -p consulta_cand_2022.zip consulta_cand_2022_BRASIL.csv > consulta_cand_2022_BRASIL.csv')\n",
    "os.system(f'del consulta_cand_2022.zip')\n",
    "os.chdir(r'C:\\Users\\rgarcia\\Documents\\code') ; print(os.getcwd())"
   ]
  },
  {
   "cell_type": "code",
   "execution_count": 50,
   "id": "c78747be",
   "metadata": {},
   "outputs": [],
   "source": [
    "dataset_2022 = r'C:\\Users\\rgarcia\\Documents\\Data\\consulta_cand_2022_BRASIL.csv'"
   ]
  },
  {
   "cell_type": "code",
   "execution_count": 175,
   "id": "8d5959af",
   "metadata": {},
   "outputs": [],
   "source": [
    "df = pd.read_csv(dataset_2022, sep=';', encoding='ISO-8859-1', decimal=',', low_memory=False)"
   ]
  },
  {
   "cell_type": "code",
   "execution_count": 176,
   "id": "41e1ec50",
   "metadata": {},
   "outputs": [
    {
     "data": {
      "text/plain": [
       "Index(['DT_GERACAO', 'HH_GERACAO', 'ANO_ELEICAO', 'CD_TIPO_ELEICAO',\n",
       "       'NM_TIPO_ELEICAO', 'NR_TURNO', 'CD_ELEICAO', 'DS_ELEICAO', 'DT_ELEICAO',\n",
       "       'TP_ABRANGENCIA', 'SG_UF', 'SG_UE', 'NM_UE', 'CD_CARGO', 'DS_CARGO',\n",
       "       'SQ_CANDIDATO', 'NR_CANDIDATO', 'NM_CANDIDATO', 'NM_URNA_CANDIDATO',\n",
       "       'NM_SOCIAL_CANDIDATO', 'NR_CPF_CANDIDATO', 'NM_EMAIL',\n",
       "       'CD_SITUACAO_CANDIDATURA', 'DS_SITUACAO_CANDIDATURA',\n",
       "       'CD_DETALHE_SITUACAO_CAND', 'DS_DETALHE_SITUACAO_CAND', 'TP_AGREMIACAO',\n",
       "       'NR_PARTIDO', 'SG_PARTIDO', 'NM_PARTIDO', 'NR_FEDERACAO',\n",
       "       'NM_FEDERACAO', 'SG_FEDERACAO', 'DS_COMPOSICAO_FEDERACAO',\n",
       "       'SQ_COLIGACAO', 'NM_COLIGACAO', 'DS_COMPOSICAO_COLIGACAO',\n",
       "       'CD_NACIONALIDADE', 'DS_NACIONALIDADE', 'SG_UF_NASCIMENTO',\n",
       "       'CD_MUNICIPIO_NASCIMENTO', 'NM_MUNICIPIO_NASCIMENTO', 'DT_NASCIMENTO',\n",
       "       'NR_IDADE_DATA_POSSE', 'NR_TITULO_ELEITORAL_CANDIDATO', 'CD_GENERO',\n",
       "       'DS_GENERO', 'CD_GRAU_INSTRUCAO', 'DS_GRAU_INSTRUCAO',\n",
       "       'CD_ESTADO_CIVIL', 'DS_ESTADO_CIVIL', 'CD_COR_RACA', 'DS_COR_RACA',\n",
       "       'CD_OCUPACAO', 'DS_OCUPACAO', 'VR_DESPESA_MAX_CAMPANHA',\n",
       "       'CD_SIT_TOT_TURNO', 'DS_SIT_TOT_TURNO', 'ST_REELEICAO',\n",
       "       'ST_DECLARAR_BENS', 'NR_PROTOCOLO_CANDIDATURA', 'NR_PROCESSO',\n",
       "       'CD_SITUACAO_CANDIDATO_PLEITO', 'DS_SITUACAO_CANDIDATO_PLEITO',\n",
       "       'CD_SITUACAO_CANDIDATO_URNA', 'DS_SITUACAO_CANDIDATO_URNA',\n",
       "       'ST_CANDIDATO_INSERIDO_URNA', 'NM_TIPO_DESTINACAO_VOTOS',\n",
       "       'CD_SITUACAO_CANDIDATO_TOT', 'DS_SITUACAO_CANDIDATO_TOT',\n",
       "       'ST_PREST_CONTAS'],\n",
       "      dtype='object')"
      ]
     },
     "execution_count": 176,
     "metadata": {},
     "output_type": "execute_result"
    }
   ],
   "source": [
    "df.columns"
   ]
  },
  {
   "cell_type": "code",
   "execution_count": 177,
   "id": "9cbe13f4",
   "metadata": {},
   "outputs": [],
   "source": [
    "cand_cor = df[['DT_GERACAO', 'SQ_CANDIDATO', 'NM_CANDIDATO', 'NM_URNA_CANDIDATO', 'DS_CARGO', 'SG_UF', 'DS_COR_RACA']]"
   ]
  },
  {
   "cell_type": "code",
   "execution_count": 178,
   "id": "40edba73",
   "metadata": {},
   "outputs": [],
   "source": [
    "cand_cor_x = df[['DT_GERACAO', 'SQ_CANDIDATO', 'DS_COR_RACA']]"
   ]
  },
  {
   "cell_type": "code",
   "execution_count": 179,
   "id": "40fa717a",
   "metadata": {},
   "outputs": [
    {
     "data": {
      "text/html": [
       "<div>\n",
       "<style scoped>\n",
       "    .dataframe tbody tr th:only-of-type {\n",
       "        vertical-align: middle;\n",
       "    }\n",
       "\n",
       "    .dataframe tbody tr th {\n",
       "        vertical-align: top;\n",
       "    }\n",
       "\n",
       "    .dataframe thead th {\n",
       "        text-align: right;\n",
       "    }\n",
       "</style>\n",
       "<table border=\"1\" class=\"dataframe\">\n",
       "  <thead>\n",
       "    <tr style=\"text-align: right;\">\n",
       "      <th></th>\n",
       "      <th>DT_GERACAO</th>\n",
       "      <th>SQ_CANDIDATO</th>\n",
       "      <th>DS_COR_RACA</th>\n",
       "    </tr>\n",
       "  </thead>\n",
       "  <tbody>\n",
       "    <tr>\n",
       "      <th>0</th>\n",
       "      <td>09/09/2022</td>\n",
       "      <td>210001621490</td>\n",
       "      <td>PARDA</td>\n",
       "    </tr>\n",
       "    <tr>\n",
       "      <th>1</th>\n",
       "      <td>09/09/2022</td>\n",
       "      <td>90001651102</td>\n",
       "      <td>BRANCA</td>\n",
       "    </tr>\n",
       "    <tr>\n",
       "      <th>2</th>\n",
       "      <td>09/09/2022</td>\n",
       "      <td>60001646929</td>\n",
       "      <td>BRANCA</td>\n",
       "    </tr>\n",
       "    <tr>\n",
       "      <th>3</th>\n",
       "      <td>09/09/2022</td>\n",
       "      <td>190001619502</td>\n",
       "      <td>BRANCA</td>\n",
       "    </tr>\n",
       "    <tr>\n",
       "      <th>4</th>\n",
       "      <td>09/09/2022</td>\n",
       "      <td>130001619039</td>\n",
       "      <td>BRANCA</td>\n",
       "    </tr>\n",
       "    <tr>\n",
       "      <th>...</th>\n",
       "      <td>...</td>\n",
       "      <td>...</td>\n",
       "      <td>...</td>\n",
       "    </tr>\n",
       "    <tr>\n",
       "      <th>29118</th>\n",
       "      <td>09/09/2022</td>\n",
       "      <td>90001650886</td>\n",
       "      <td>BRANCA</td>\n",
       "    </tr>\n",
       "    <tr>\n",
       "      <th>29119</th>\n",
       "      <td>09/09/2022</td>\n",
       "      <td>150001621391</td>\n",
       "      <td>PARDA</td>\n",
       "    </tr>\n",
       "    <tr>\n",
       "      <th>29120</th>\n",
       "      <td>09/09/2022</td>\n",
       "      <td>120001672864</td>\n",
       "      <td>BRANCA</td>\n",
       "    </tr>\n",
       "    <tr>\n",
       "      <th>29121</th>\n",
       "      <td>09/09/2022</td>\n",
       "      <td>240001679866</td>\n",
       "      <td>BRANCA</td>\n",
       "    </tr>\n",
       "    <tr>\n",
       "      <th>29122</th>\n",
       "      <td>09/09/2022</td>\n",
       "      <td>250001611491</td>\n",
       "      <td>BRANCA</td>\n",
       "    </tr>\n",
       "  </tbody>\n",
       "</table>\n",
       "<p>29123 rows × 3 columns</p>\n",
       "</div>"
      ],
      "text/plain": [
       "       DT_GERACAO  SQ_CANDIDATO DS_COR_RACA\n",
       "0      09/09/2022  210001621490       PARDA\n",
       "1      09/09/2022   90001651102      BRANCA\n",
       "2      09/09/2022   60001646929      BRANCA\n",
       "3      09/09/2022  190001619502      BRANCA\n",
       "4      09/09/2022  130001619039      BRANCA\n",
       "...           ...           ...         ...\n",
       "29118  09/09/2022   90001650886      BRANCA\n",
       "29119  09/09/2022  150001621391       PARDA\n",
       "29120  09/09/2022  120001672864      BRANCA\n",
       "29121  09/09/2022  240001679866      BRANCA\n",
       "29122  09/09/2022  250001611491      BRANCA\n",
       "\n",
       "[29123 rows x 3 columns]"
      ]
     },
     "execution_count": 179,
     "metadata": {},
     "output_type": "execute_result"
    }
   ],
   "source": [
    "cand_cor_x"
   ]
  },
  {
   "cell_type": "code",
   "execution_count": null,
   "id": "eb108761",
   "metadata": {},
   "outputs": [],
   "source": []
  },
  {
   "cell_type": "code",
   "execution_count": 180,
   "id": "871bb23c",
   "metadata": {},
   "outputs": [
    {
     "data": {
      "text/plain": [
       "'C:\\\\Users\\\\rgarcia\\\\Documents\\\\data'"
      ]
     },
     "execution_count": 180,
     "metadata": {},
     "output_type": "execute_result"
    }
   ],
   "source": [
    "os.chdir('C:\\\\Users\\\\rgarcia\\\\Documents\\\\data') ;os.getcwd()"
   ]
  },
  {
   "cell_type": "code",
   "execution_count": 181,
   "id": "40415b3d",
   "metadata": {},
   "outputs": [
    {
     "data": {
      "text/plain": [
       "['bands.csv',\n",
       " 'brasil_coverage_2021.tif',\n",
       " 'brasil_coverage_2021.tif.aux.xml',\n",
       " 'brazil-states.geojson',\n",
       " 'brazil-states_lo_res.json',\n",
       " 'cargo.csv',\n",
       " 'consulta_cand_2018_BRASIL.csv',\n",
       " 'consulta_cand_2022_BRASIL.csv',\n",
       " 'consulta_cand_2022_BRASIL_08_19.csv',\n",
       " 'consulta_cand_2022_BRASIL_OLD.csv',\n",
       " 'consulta_cand_2022_BRASIL_VEI.csv',\n",
       " 'Códigos_Classes_Mapbiomas_Coleção_7.pdf',\n",
       " 'dep_est_partido.csv',\n",
       " 'dep_est_uf.csv',\n",
       " 'dep_fed_partido.csv',\n",
       " 'dep_fed_uf.csv',\n",
       " 'forest_only.clr',\n",
       " 'Hidrovias.json',\n",
       " 'historico.csv',\n",
       " 'mapbiomas.clr',\n",
       " 'mapbiomas.qgz',\n",
       " 'Mapbiomas_colormap.csv',\n",
       " 'muda_cor_candidato.csv',\n",
       " 'muda_cor_partido.csv',\n",
       " 'programa_lula.pdf',\n",
       " 'redes_candidatos.csv',\n",
       " 'Rodovias.json',\n",
       " 'science.abp9723-f1.jpg',\n",
       " 'TB_provisional_notifications_2022-09-04.csv',\n",
       " 'test_df.csv',\n",
       " 'test_df_2022-09-05_22h00.csv',\n",
       " 'test_df_2022-09-05_22h34.csv']"
      ]
     },
     "execution_count": 181,
     "metadata": {},
     "output_type": "execute_result"
    }
   ],
   "source": [
    "os.listdir()"
   ]
  },
  {
   "cell_type": "code",
   "execution_count": null,
   "id": "18c57d00",
   "metadata": {},
   "outputs": [],
   "source": []
  },
  {
   "cell_type": "code",
   "execution_count": 182,
   "id": "b53e7c96",
   "metadata": {},
   "outputs": [],
   "source": [
    "old = pd.read_csv(r'consulta_cand_2022_BRASIL_08_19.csv', encoding='ISO-8859-1', decimal=',', low_memory=False, sep=';')"
   ]
  },
  {
   "cell_type": "code",
   "execution_count": 183,
   "id": "777fe68b",
   "metadata": {},
   "outputs": [
    {
     "data": {
      "text/html": [
       "<div>\n",
       "<style scoped>\n",
       "    .dataframe tbody tr th:only-of-type {\n",
       "        vertical-align: middle;\n",
       "    }\n",
       "\n",
       "    .dataframe tbody tr th {\n",
       "        vertical-align: top;\n",
       "    }\n",
       "\n",
       "    .dataframe thead th {\n",
       "        text-align: right;\n",
       "    }\n",
       "</style>\n",
       "<table border=\"1\" class=\"dataframe\">\n",
       "  <thead>\n",
       "    <tr style=\"text-align: right;\">\n",
       "      <th></th>\n",
       "      <th>DT_GERACAO</th>\n",
       "      <th>HH_GERACAO</th>\n",
       "      <th>ANO_ELEICAO</th>\n",
       "      <th>CD_TIPO_ELEICAO</th>\n",
       "      <th>NM_TIPO_ELEICAO</th>\n",
       "      <th>NR_TURNO</th>\n",
       "      <th>CD_ELEICAO</th>\n",
       "      <th>DS_ELEICAO</th>\n",
       "      <th>DT_ELEICAO</th>\n",
       "      <th>TP_ABRANGENCIA</th>\n",
       "      <th>...</th>\n",
       "      <th>NR_PROCESSO</th>\n",
       "      <th>CD_SITUACAO_CANDIDATO_PLEITO</th>\n",
       "      <th>DS_SITUACAO_CANDIDATO_PLEITO</th>\n",
       "      <th>CD_SITUACAO_CANDIDATO_URNA</th>\n",
       "      <th>DS_SITUACAO_CANDIDATO_URNA</th>\n",
       "      <th>ST_CANDIDATO_INSERIDO_URNA</th>\n",
       "      <th>NM_TIPO_DESTINACAO_VOTOS</th>\n",
       "      <th>CD_SITUACAO_CANDIDATO_TOT</th>\n",
       "      <th>DS_SITUACAO_CANDIDATO_TOT</th>\n",
       "      <th>ST_PREST_CONTAS</th>\n",
       "    </tr>\n",
       "  </thead>\n",
       "  <tbody>\n",
       "    <tr>\n",
       "      <th>0</th>\n",
       "      <td>19/08/2022</td>\n",
       "      <td>07:05:37</td>\n",
       "      <td>2022</td>\n",
       "      <td>2</td>\n",
       "      <td>ELEIÇÃO ORDINÁRIA</td>\n",
       "      <td>1</td>\n",
       "      <td>546</td>\n",
       "      <td>Eleições Gerais Estaduais 2022</td>\n",
       "      <td>02/10/2022</td>\n",
       "      <td>ESTADUAL</td>\n",
       "      <td>...</td>\n",
       "      <td>6004986120226040000</td>\n",
       "      <td>-1</td>\n",
       "      <td>#NULO#</td>\n",
       "      <td>-1</td>\n",
       "      <td>#NULO#</td>\n",
       "      <td>NÃO</td>\n",
       "      <td>#NULO#</td>\n",
       "      <td>-1</td>\n",
       "      <td>#NULO#</td>\n",
       "      <td>N</td>\n",
       "    </tr>\n",
       "    <tr>\n",
       "      <th>1</th>\n",
       "      <td>19/08/2022</td>\n",
       "      <td>07:05:37</td>\n",
       "      <td>2022</td>\n",
       "      <td>2</td>\n",
       "      <td>ELEIÇÃO ORDINÁRIA</td>\n",
       "      <td>1</td>\n",
       "      <td>546</td>\n",
       "      <td>Eleições Gerais Estaduais 2022</td>\n",
       "      <td>02/10/2022</td>\n",
       "      <td>ESTADUAL</td>\n",
       "      <td>...</td>\n",
       "      <td>6015088520226240000</td>\n",
       "      <td>-1</td>\n",
       "      <td>#NULO#</td>\n",
       "      <td>-1</td>\n",
       "      <td>#NULO#</td>\n",
       "      <td>NÃO</td>\n",
       "      <td>#NULO#</td>\n",
       "      <td>-1</td>\n",
       "      <td>#NULO#</td>\n",
       "      <td>N</td>\n",
       "    </tr>\n",
       "    <tr>\n",
       "      <th>2</th>\n",
       "      <td>19/08/2022</td>\n",
       "      <td>07:05:37</td>\n",
       "      <td>2022</td>\n",
       "      <td>2</td>\n",
       "      <td>ELEIÇÃO ORDINÁRIA</td>\n",
       "      <td>1</td>\n",
       "      <td>546</td>\n",
       "      <td>Eleições Gerais Estaduais 2022</td>\n",
       "      <td>02/10/2022</td>\n",
       "      <td>ESTADUAL</td>\n",
       "      <td>...</td>\n",
       "      <td>6003759020226030000</td>\n",
       "      <td>-1</td>\n",
       "      <td>#NULO#</td>\n",
       "      <td>-1</td>\n",
       "      <td>#NULO#</td>\n",
       "      <td>NÃO</td>\n",
       "      <td>#NULO#</td>\n",
       "      <td>-1</td>\n",
       "      <td>#NULO#</td>\n",
       "      <td>N</td>\n",
       "    </tr>\n",
       "    <tr>\n",
       "      <th>3</th>\n",
       "      <td>19/08/2022</td>\n",
       "      <td>07:05:37</td>\n",
       "      <td>2022</td>\n",
       "      <td>2</td>\n",
       "      <td>ELEIÇÃO ORDINÁRIA</td>\n",
       "      <td>1</td>\n",
       "      <td>546</td>\n",
       "      <td>Eleições Gerais Estaduais 2022</td>\n",
       "      <td>02/10/2022</td>\n",
       "      <td>ESTADUAL</td>\n",
       "      <td>...</td>\n",
       "      <td>6022459420226130000</td>\n",
       "      <td>-1</td>\n",
       "      <td>#NULO#</td>\n",
       "      <td>-1</td>\n",
       "      <td>#NULO#</td>\n",
       "      <td>NÃO</td>\n",
       "      <td>#NULO#</td>\n",
       "      <td>-1</td>\n",
       "      <td>#NULO#</td>\n",
       "      <td>N</td>\n",
       "    </tr>\n",
       "    <tr>\n",
       "      <th>4</th>\n",
       "      <td>19/08/2022</td>\n",
       "      <td>07:05:37</td>\n",
       "      <td>2022</td>\n",
       "      <td>2</td>\n",
       "      <td>ELEIÇÃO ORDINÁRIA</td>\n",
       "      <td>1</td>\n",
       "      <td>546</td>\n",
       "      <td>Eleições Gerais Estaduais 2022</td>\n",
       "      <td>02/10/2022</td>\n",
       "      <td>ESTADUAL</td>\n",
       "      <td>...</td>\n",
       "      <td>6006890920226040000</td>\n",
       "      <td>-1</td>\n",
       "      <td>#NULO#</td>\n",
       "      <td>-1</td>\n",
       "      <td>#NULO#</td>\n",
       "      <td>NÃO</td>\n",
       "      <td>#NULO#</td>\n",
       "      <td>-1</td>\n",
       "      <td>#NULO#</td>\n",
       "      <td>N</td>\n",
       "    </tr>\n",
       "  </tbody>\n",
       "</table>\n",
       "<p>5 rows × 71 columns</p>\n",
       "</div>"
      ],
      "text/plain": [
       "   DT_GERACAO HH_GERACAO  ANO_ELEICAO  CD_TIPO_ELEICAO    NM_TIPO_ELEICAO  \\\n",
       "0  19/08/2022   07:05:37         2022                2  ELEIÇÃO ORDINÁRIA   \n",
       "1  19/08/2022   07:05:37         2022                2  ELEIÇÃO ORDINÁRIA   \n",
       "2  19/08/2022   07:05:37         2022                2  ELEIÇÃO ORDINÁRIA   \n",
       "3  19/08/2022   07:05:37         2022                2  ELEIÇÃO ORDINÁRIA   \n",
       "4  19/08/2022   07:05:37         2022                2  ELEIÇÃO ORDINÁRIA   \n",
       "\n",
       "   NR_TURNO  CD_ELEICAO                      DS_ELEICAO  DT_ELEICAO  \\\n",
       "0         1         546  Eleições Gerais Estaduais 2022  02/10/2022   \n",
       "1         1         546  Eleições Gerais Estaduais 2022  02/10/2022   \n",
       "2         1         546  Eleições Gerais Estaduais 2022  02/10/2022   \n",
       "3         1         546  Eleições Gerais Estaduais 2022  02/10/2022   \n",
       "4         1         546  Eleições Gerais Estaduais 2022  02/10/2022   \n",
       "\n",
       "  TP_ABRANGENCIA  ...          NR_PROCESSO CD_SITUACAO_CANDIDATO_PLEITO  \\\n",
       "0       ESTADUAL  ...  6004986120226040000                           -1   \n",
       "1       ESTADUAL  ...  6015088520226240000                           -1   \n",
       "2       ESTADUAL  ...  6003759020226030000                           -1   \n",
       "3       ESTADUAL  ...  6022459420226130000                           -1   \n",
       "4       ESTADUAL  ...  6006890920226040000                           -1   \n",
       "\n",
       "  DS_SITUACAO_CANDIDATO_PLEITO  CD_SITUACAO_CANDIDATO_URNA  \\\n",
       "0                       #NULO#                          -1   \n",
       "1                       #NULO#                          -1   \n",
       "2                       #NULO#                          -1   \n",
       "3                       #NULO#                          -1   \n",
       "4                       #NULO#                          -1   \n",
       "\n",
       "  DS_SITUACAO_CANDIDATO_URNA  ST_CANDIDATO_INSERIDO_URNA  \\\n",
       "0                     #NULO#                         NÃO   \n",
       "1                     #NULO#                         NÃO   \n",
       "2                     #NULO#                         NÃO   \n",
       "3                     #NULO#                         NÃO   \n",
       "4                     #NULO#                         NÃO   \n",
       "\n",
       "   NM_TIPO_DESTINACAO_VOTOS CD_SITUACAO_CANDIDATO_TOT  \\\n",
       "0                    #NULO#                        -1   \n",
       "1                    #NULO#                        -1   \n",
       "2                    #NULO#                        -1   \n",
       "3                    #NULO#                        -1   \n",
       "4                    #NULO#                        -1   \n",
       "\n",
       "  DS_SITUACAO_CANDIDATO_TOT ST_PREST_CONTAS  \n",
       "0                    #NULO#               N  \n",
       "1                    #NULO#               N  \n",
       "2                    #NULO#               N  \n",
       "3                    #NULO#               N  \n",
       "4                    #NULO#               N  \n",
       "\n",
       "[5 rows x 71 columns]"
      ]
     },
     "execution_count": 183,
     "metadata": {},
     "output_type": "execute_result"
    }
   ],
   "source": [
    "old.head()"
   ]
  },
  {
   "cell_type": "code",
   "execution_count": 184,
   "id": "caae3b63",
   "metadata": {},
   "outputs": [],
   "source": [
    "old_cand_cor = old[['DT_GERACAO', 'SQ_CANDIDATO', 'NM_CANDIDATO', 'NM_URNA_CANDIDATO', 'DS_CARGO', 'SG_UF', 'DS_COR_RACA']]"
   ]
  },
  {
   "cell_type": "code",
   "execution_count": 185,
   "id": "ae0725da",
   "metadata": {},
   "outputs": [],
   "source": [
    "old_cand_cor_x = old[['DT_GERACAO', 'SQ_CANDIDATO', 'DS_COR_RACA']]"
   ]
  },
  {
   "cell_type": "code",
   "execution_count": 186,
   "id": "3491f2b9",
   "metadata": {},
   "outputs": [],
   "source": [
    "agrega = pd.concat([old_cand_cor_x, cand_cor_x]).reset_index()"
   ]
  },
  {
   "cell_type": "code",
   "execution_count": 187,
   "id": "74ff346b",
   "metadata": {},
   "outputs": [],
   "source": [
    "cor_espelha = agrega.pivot(index='SQ_CANDIDATO', columns='DT_GERACAO', values='DS_COR_RACA')"
   ]
  },
  {
   "cell_type": "code",
   "execution_count": 188,
   "id": "53ac3d74",
   "metadata": {},
   "outputs": [],
   "source": [
    "cor_espelha = cor_espelha[['19/08/2022','09/09/2022']]"
   ]
  },
  {
   "cell_type": "code",
   "execution_count": 189,
   "id": "287b2f5e",
   "metadata": {},
   "outputs": [],
   "source": [
    "cor_espelha.columns = ['2022-08-19', '2022-09-09']"
   ]
  },
  {
   "cell_type": "code",
   "execution_count": 190,
   "id": "c53cb70d",
   "metadata": {},
   "outputs": [],
   "source": [
    "cor_espelha = cor_espelha.reset_index().fillna('(NÃO PREENCHIDO)')"
   ]
  },
  {
   "cell_type": "code",
   "execution_count": 191,
   "id": "797d9595",
   "metadata": {},
   "outputs": [],
   "source": [
    "muda_cor = cor_espelha[(cor_espelha['2022-08-19'] != cor_espelha['2022-09-09'])].reset_index(drop=True)"
   ]
  },
  {
   "cell_type": "code",
   "execution_count": 192,
   "id": "3d8d1765",
   "metadata": {},
   "outputs": [],
   "source": [
    "muda_cor = muda_cor.merge(df, how='left', on='SQ_CANDIDATO')"
   ]
  },
  {
   "cell_type": "code",
   "execution_count": 193,
   "id": "e99f719b",
   "metadata": {},
   "outputs": [],
   "source": [
    "muda_cor_filtra = muda_cor[['SQ_CANDIDATO', '2022-08-19', '2022-09-09', 'SG_UF',\n",
    "       'DS_CARGO', 'NM_CANDIDATO', 'NM_URNA_CANDIDATO', 'SG_PARTIDO']]"
   ]
  },
  {
   "cell_type": "code",
   "execution_count": 194,
   "id": "fc5867aa",
   "metadata": {},
   "outputs": [],
   "source": [
    "# PLACE HERE"
   ]
  },
  {
   "cell_type": "code",
   "execution_count": 195,
   "id": "d9d059e0",
   "metadata": {},
   "outputs": [],
   "source": [
    "rank_partido = muda_cor_filtra.groupby(['SG_PARTIDO']).SQ_CANDIDATO.count().reset_index().sort_values(by='SQ_CANDIDATO', ascending=False)"
   ]
  },
  {
   "cell_type": "code",
   "execution_count": 196,
   "id": "4d9578ad",
   "metadata": {},
   "outputs": [],
   "source": [
    "rank_partido.to_csv('muda_cor_partido.csv', index=False)"
   ]
  },
  {
   "cell_type": "code",
   "execution_count": 197,
   "id": "e2a2f7f8",
   "metadata": {},
   "outputs": [],
   "source": [
    "muda_cor_filtra.to_csv('muda_cor_candidato.csv', index=False)"
   ]
  },
  {
   "cell_type": "code",
   "execution_count": 198,
   "id": "a3b28530",
   "metadata": {},
   "outputs": [
    {
     "data": {
      "text/plain": [
       "'C:\\\\Users\\\\rgarcia\\\\Documents\\\\data'"
      ]
     },
     "execution_count": 198,
     "metadata": {},
     "output_type": "execute_result"
    }
   ],
   "source": [
    "os.getcwd()"
   ]
  },
  {
   "cell_type": "code",
   "execution_count": 199,
   "id": "c1d41533",
   "metadata": {},
   "outputs": [
    {
     "name": "stderr",
     "output_type": "stream",
     "text": [
      "C:\\Users\\rgarcia\\AppData\\Local\\Temp\\ipykernel_10288\\3176983346.py:1: SettingWithCopyWarning: \n",
      "A value is trying to be set on a copy of a slice from a DataFrame.\n",
      "Try using .loc[row_indexer,col_indexer] = value instead\n",
      "\n",
      "See the caveats in the documentation: https://pandas.pydata.org/pandas-docs/stable/user_guide/indexing.html#returning-a-view-versus-a-copy\n",
      "  muda_cor_filtra['mudanca'] = muda_cor_filtra['2022-08-19'] + ' → ' + muda_cor_filtra['2022-09-09']\n"
     ]
    }
   ],
   "source": [
    "muda_cor_filtra['mudanca'] = muda_cor_filtra['2022-08-19'] + ' → ' + muda_cor_filtra['2022-09-09']"
   ]
  },
  {
   "cell_type": "code",
   "execution_count": 200,
   "id": "93405e1b",
   "metadata": {},
   "outputs": [],
   "source": [
    "muda_cor_filtra = muda_cor_filtra[muda_cor_filtra['2022-08-19'] != '(NÃO PREENCHIDO)']"
   ]
  },
  {
   "cell_type": "code",
   "execution_count": 201,
   "id": "20659852",
   "metadata": {},
   "outputs": [],
   "source": [
    "change_log = muda_cor_filtra.groupby(['mudanca']).SQ_CANDIDATO.count().reset_index().sort_values(by='SQ_CANDIDATO', ascending=False).reset_index(drop=True)"
   ]
  },
  {
   "cell_type": "code",
   "execution_count": 202,
   "id": "04bf6cd1",
   "metadata": {},
   "outputs": [],
   "source": [
    "rank_partido = rank_partido.reset_index(drop=True)"
   ]
  },
  {
   "cell_type": "code",
   "execution_count": 203,
   "id": "abf36d53",
   "metadata": {},
   "outputs": [],
   "source": [
    "rank_partido.columns = ['Partido', 'Candidatos']"
   ]
  },
  {
   "cell_type": "code",
   "execution_count": 204,
   "id": "fe040246",
   "metadata": {},
   "outputs": [],
   "source": [
    "change_log.columns = ['Mudança', 'Candidatos']"
   ]
  },
  {
   "cell_type": "code",
   "execution_count": 205,
   "id": "c7796ac9",
   "metadata": {},
   "outputs": [
    {
     "name": "stdout",
     "output_type": "stream",
     "text": [
      "Candidatos que trocaram declaração de cor/raça\n",
      "          Partido  Candidatos\n",
      "0            PROS          83\n",
      "1             PTB          66\n",
      "2           UNIÃO          58\n",
      "3             MDB          52\n",
      "4             PDT          48\n",
      "5            PSDB          42\n",
      "6              PP          40\n",
      "7              PL          40\n",
      "8             PSD          35\n",
      "9        PATRIOTA          33\n",
      "10             DC          32\n",
      "11           PODE          32\n",
      "12   REPUBLICANOS          31\n",
      "13            PSB          31\n",
      "14         AVANTE          31\n",
      "15           AGIR          28\n",
      "16           PRTB          27\n",
      "17             PT          27\n",
      "18            PMB          26\n",
      "19           PSOL          25\n",
      "20      CIDADANIA          25\n",
      "21            PSC          23\n",
      "22             PV          23\n",
      "23  SOLIDARIEDADE          18\n",
      "24            PCO          13\n",
      "25        PC do B          12\n",
      "26            PMN           9\n",
      "27           REDE           8\n",
      "28             UP           6\n",
      "29            PCB           2\n",
      "30           PSTU           2\n",
      "31           NOVO           2\n"
     ]
    }
   ],
   "source": [
    "print('Candidatos que trocaram declaração de cor/raça')\n",
    "print(rank_partido)"
   ]
  },
  {
   "cell_type": "code",
   "execution_count": 206,
   "id": "30faf004",
   "metadata": {},
   "outputs": [
    {
     "name": "stdout",
     "output_type": "stream",
     "text": [
      "Pedidos de mudança mais comuns\n",
      "                      Mudança  Candidatos\n",
      "0              BRANCA → PARDA         126\n",
      "1              PARDA → BRANCA          86\n",
      "2               PARDA → PRETA          22\n",
      "3              BRANCA → PRETA          16\n",
      "4               PRETA → PARDA          13\n",
      "5      NÃO INFORMADO → BRANCA           7\n",
      "6     NÃO DIVULGÁVEL → BRANCA           6\n",
      "7       NÃO INFORMADO → PARDA           5\n",
      "8       NÃO INFORMADO → PRETA           4\n",
      "9   BRANCA → (NÃO PREENCHIDO)           4\n",
      "10             PRETA → BRANCA           4\n",
      "11            AMARELA → PARDA           3\n",
      "12   PARDA → (NÃO PREENCHIDO)           3\n",
      "13           PARDA → INDÍGENA           3\n",
      "14           INDÍGENA → PARDA           2\n",
      "15    BRANCA → NÃO DIVULGÁVEL           2\n",
      "16     PARDA → NÃO DIVULGÁVEL           2\n",
      "17     NÃO DIVULGÁVEL → PARDA           1\n",
      "18            PARDA → AMARELA           1\n",
      "19   PRETA → (NÃO PREENCHIDO)           1\n",
      "20           AMARELA → BRANCA           1\n"
     ]
    }
   ],
   "source": [
    "print('Pedidos de mudança mais comuns')\n",
    "print(change_log)"
   ]
  },
  {
   "cell_type": "code",
   "execution_count": 207,
   "id": "98752a74",
   "metadata": {},
   "outputs": [
    {
     "data": {
      "text/html": [
       "<div>\n",
       "<style scoped>\n",
       "    .dataframe tbody tr th:only-of-type {\n",
       "        vertical-align: middle;\n",
       "    }\n",
       "\n",
       "    .dataframe tbody tr th {\n",
       "        vertical-align: top;\n",
       "    }\n",
       "\n",
       "    .dataframe thead th {\n",
       "        text-align: right;\n",
       "    }\n",
       "</style>\n",
       "<table border=\"1\" class=\"dataframe\">\n",
       "  <thead>\n",
       "    <tr style=\"text-align: right;\">\n",
       "      <th></th>\n",
       "      <th>mudanca</th>\n",
       "      <th>SQ_CANDIDATO</th>\n",
       "    </tr>\n",
       "  </thead>\n",
       "  <tbody>\n",
       "    <tr>\n",
       "      <th>0</th>\n",
       "      <td>PARDA → BRANCA</td>\n",
       "      <td>6</td>\n",
       "    </tr>\n",
       "    <tr>\n",
       "      <th>1</th>\n",
       "      <td>BRANCA → PARDA</td>\n",
       "      <td>4</td>\n",
       "    </tr>\n",
       "    <tr>\n",
       "      <th>2</th>\n",
       "      <td>BRANCA → PRETA</td>\n",
       "      <td>4</td>\n",
       "    </tr>\n",
       "    <tr>\n",
       "      <th>3</th>\n",
       "      <td>INDÍGENA → PARDA</td>\n",
       "      <td>1</td>\n",
       "    </tr>\n",
       "    <tr>\n",
       "      <th>4</th>\n",
       "      <td>PARDA → PRETA</td>\n",
       "      <td>1</td>\n",
       "    </tr>\n",
       "  </tbody>\n",
       "</table>\n",
       "</div>"
      ],
      "text/plain": [
       "            mudanca  SQ_CANDIDATO\n",
       "0    PARDA → BRANCA             6\n",
       "1    BRANCA → PARDA             4\n",
       "2    BRANCA → PRETA             4\n",
       "3  INDÍGENA → PARDA             1\n",
       "4     PARDA → PRETA             1"
      ]
     },
     "execution_count": 207,
     "metadata": {},
     "output_type": "execute_result"
    }
   ],
   "source": [
    "muda_cor_filtra[muda_cor_filtra.SG_PARTIDO == 'PT'].groupby(['mudanca']).SQ_CANDIDATO.count().reset_index().sort_values(by='SQ_CANDIDATO', ascending=False).reset_index(drop=True)"
   ]
  },
  {
   "cell_type": "code",
   "execution_count": 208,
   "id": "9bf7a976",
   "metadata": {},
   "outputs": [
    {
     "data": {
      "text/html": [
       "<div>\n",
       "<style scoped>\n",
       "    .dataframe tbody tr th:only-of-type {\n",
       "        vertical-align: middle;\n",
       "    }\n",
       "\n",
       "    .dataframe tbody tr th {\n",
       "        vertical-align: top;\n",
       "    }\n",
       "\n",
       "    .dataframe thead th {\n",
       "        text-align: right;\n",
       "    }\n",
       "</style>\n",
       "<table border=\"1\" class=\"dataframe\">\n",
       "  <thead>\n",
       "    <tr style=\"text-align: right;\">\n",
       "      <th></th>\n",
       "      <th>SQ_CANDIDATO</th>\n",
       "      <th>2022-08-19</th>\n",
       "      <th>2022-09-09</th>\n",
       "      <th>SG_UF</th>\n",
       "      <th>DS_CARGO</th>\n",
       "      <th>NM_CANDIDATO</th>\n",
       "      <th>NM_URNA_CANDIDATO</th>\n",
       "      <th>SG_PARTIDO</th>\n",
       "      <th>mudanca</th>\n",
       "    </tr>\n",
       "  </thead>\n",
       "  <tbody>\n",
       "    <tr>\n",
       "      <th>0</th>\n",
       "      <td>10001606210</td>\n",
       "      <td>NÃO INFORMADO</td>\n",
       "      <td>BRANCA</td>\n",
       "      <td>AC</td>\n",
       "      <td>DEPUTADO ESTADUAL</td>\n",
       "      <td>VILSEU FERREIRA DA SILVA</td>\n",
       "      <td>VILSEU FERREIRA</td>\n",
       "      <td>PROS</td>\n",
       "      <td>NÃO INFORMADO → BRANCA</td>\n",
       "    </tr>\n",
       "    <tr>\n",
       "      <th>1</th>\n",
       "      <td>10001606214</td>\n",
       "      <td>NÃO INFORMADO</td>\n",
       "      <td>PARDA</td>\n",
       "      <td>AC</td>\n",
       "      <td>DEPUTADO ESTADUAL</td>\n",
       "      <td>GILSOMAR OLIVEIRA GOMES</td>\n",
       "      <td>GILSOMAR OLIVEIRA</td>\n",
       "      <td>PROS</td>\n",
       "      <td>NÃO INFORMADO → PARDA</td>\n",
       "    </tr>\n",
       "    <tr>\n",
       "      <th>2</th>\n",
       "      <td>10001606217</td>\n",
       "      <td>NÃO INFORMADO</td>\n",
       "      <td>PARDA</td>\n",
       "      <td>AC</td>\n",
       "      <td>DEPUTADO ESTADUAL</td>\n",
       "      <td>RAIMUNDO CORREIA DA COSTA</td>\n",
       "      <td>RAIMUNDINHO DA SAUDE</td>\n",
       "      <td>PROS</td>\n",
       "      <td>NÃO INFORMADO → PARDA</td>\n",
       "    </tr>\n",
       "    <tr>\n",
       "      <th>3</th>\n",
       "      <td>10001649255</td>\n",
       "      <td>PARDA</td>\n",
       "      <td>NÃO DIVULGÁVEL</td>\n",
       "      <td>AC</td>\n",
       "      <td>2º SUPLENTE</td>\n",
       "      <td>RUI ÓSCAR DE SOUZA ABRANTES GUEDES</td>\n",
       "      <td>RUI ÓSCAR</td>\n",
       "      <td>PODE</td>\n",
       "      <td>PARDA → NÃO DIVULGÁVEL</td>\n",
       "    </tr>\n",
       "    <tr>\n",
       "      <th>4</th>\n",
       "      <td>10001649257</td>\n",
       "      <td>BRANCA</td>\n",
       "      <td>NÃO DIVULGÁVEL</td>\n",
       "      <td>AC</td>\n",
       "      <td>1º SUPLENTE</td>\n",
       "      <td>RENNAN BITHS DE LIMA LIMA</td>\n",
       "      <td>RENNAN BITHS</td>\n",
       "      <td>PDT</td>\n",
       "      <td>BRANCA → NÃO DIVULGÁVEL</td>\n",
       "    </tr>\n",
       "    <tr>\n",
       "      <th>...</th>\n",
       "      <td>...</td>\n",
       "      <td>...</td>\n",
       "      <td>...</td>\n",
       "      <td>...</td>\n",
       "      <td>...</td>\n",
       "      <td>...</td>\n",
       "      <td>...</td>\n",
       "      <td>...</td>\n",
       "      <td>...</td>\n",
       "    </tr>\n",
       "    <tr>\n",
       "      <th>920</th>\n",
       "      <td>270001643526</td>\n",
       "      <td>BRANCA</td>\n",
       "      <td>PARDA</td>\n",
       "      <td>TO</td>\n",
       "      <td>DEPUTADO FEDERAL</td>\n",
       "      <td>SOLANY MARIA SOUZA MOREIRA</td>\n",
       "      <td>ENFERMEIRA SOL</td>\n",
       "      <td>UNIÃO</td>\n",
       "      <td>BRANCA → PARDA</td>\n",
       "    </tr>\n",
       "    <tr>\n",
       "      <th>921</th>\n",
       "      <td>270001643568</td>\n",
       "      <td>BRANCA</td>\n",
       "      <td>PARDA</td>\n",
       "      <td>TO</td>\n",
       "      <td>DEPUTADO ESTADUAL</td>\n",
       "      <td>KALENE CRISTINA SANTOS CARDOSO</td>\n",
       "      <td>KALENE CARDOSO</td>\n",
       "      <td>PL</td>\n",
       "      <td>BRANCA → PARDA</td>\n",
       "    </tr>\n",
       "    <tr>\n",
       "      <th>922</th>\n",
       "      <td>270001643579</td>\n",
       "      <td>BRANCA</td>\n",
       "      <td>PARDA</td>\n",
       "      <td>TO</td>\n",
       "      <td>DEPUTADO ESTADUAL</td>\n",
       "      <td>LILIAN MARA MOURA LIMA CURSINO</td>\n",
       "      <td>LILIAN MARA</td>\n",
       "      <td>PL</td>\n",
       "      <td>BRANCA → PARDA</td>\n",
       "    </tr>\n",
       "    <tr>\n",
       "      <th>923</th>\n",
       "      <td>270001675991</td>\n",
       "      <td>BRANCA</td>\n",
       "      <td>PARDA</td>\n",
       "      <td>TO</td>\n",
       "      <td>DEPUTADO FEDERAL</td>\n",
       "      <td>FRANCISCO MENDES BRAGA</td>\n",
       "      <td>GALEGO</td>\n",
       "      <td>PTB</td>\n",
       "      <td>BRANCA → PARDA</td>\n",
       "    </tr>\n",
       "    <tr>\n",
       "      <th>924</th>\n",
       "      <td>270001700069</td>\n",
       "      <td>BRANCA</td>\n",
       "      <td>PARDA</td>\n",
       "      <td>TO</td>\n",
       "      <td>DEPUTADO FEDERAL</td>\n",
       "      <td>JOSÉ FERREIRA BARROS FILHO</td>\n",
       "      <td>FERREIRINHA</td>\n",
       "      <td>MDB</td>\n",
       "      <td>BRANCA → PARDA</td>\n",
       "    </tr>\n",
       "  </tbody>\n",
       "</table>\n",
       "<p>312 rows × 9 columns</p>\n",
       "</div>"
      ],
      "text/plain": [
       "     SQ_CANDIDATO     2022-08-19      2022-09-09 SG_UF           DS_CARGO  \\\n",
       "0     10001606210  NÃO INFORMADO          BRANCA    AC  DEPUTADO ESTADUAL   \n",
       "1     10001606214  NÃO INFORMADO           PARDA    AC  DEPUTADO ESTADUAL   \n",
       "2     10001606217  NÃO INFORMADO           PARDA    AC  DEPUTADO ESTADUAL   \n",
       "3     10001649255          PARDA  NÃO DIVULGÁVEL    AC        2º SUPLENTE   \n",
       "4     10001649257         BRANCA  NÃO DIVULGÁVEL    AC        1º SUPLENTE   \n",
       "..            ...            ...             ...   ...                ...   \n",
       "920  270001643526         BRANCA           PARDA    TO   DEPUTADO FEDERAL   \n",
       "921  270001643568         BRANCA           PARDA    TO  DEPUTADO ESTADUAL   \n",
       "922  270001643579         BRANCA           PARDA    TO  DEPUTADO ESTADUAL   \n",
       "923  270001675991         BRANCA           PARDA    TO   DEPUTADO FEDERAL   \n",
       "924  270001700069         BRANCA           PARDA    TO   DEPUTADO FEDERAL   \n",
       "\n",
       "                           NM_CANDIDATO     NM_URNA_CANDIDATO SG_PARTIDO  \\\n",
       "0              VILSEU FERREIRA DA SILVA       VILSEU FERREIRA       PROS   \n",
       "1               GILSOMAR OLIVEIRA GOMES     GILSOMAR OLIVEIRA       PROS   \n",
       "2             RAIMUNDO CORREIA DA COSTA  RAIMUNDINHO DA SAUDE       PROS   \n",
       "3    RUI ÓSCAR DE SOUZA ABRANTES GUEDES             RUI ÓSCAR       PODE   \n",
       "4             RENNAN BITHS DE LIMA LIMA          RENNAN BITHS        PDT   \n",
       "..                                  ...                   ...        ...   \n",
       "920          SOLANY MARIA SOUZA MOREIRA        ENFERMEIRA SOL      UNIÃO   \n",
       "921      KALENE CRISTINA SANTOS CARDOSO        KALENE CARDOSO         PL   \n",
       "922      LILIAN MARA MOURA LIMA CURSINO           LILIAN MARA         PL   \n",
       "923              FRANCISCO MENDES BRAGA                GALEGO        PTB   \n",
       "924          JOSÉ FERREIRA BARROS FILHO           FERREIRINHA        MDB   \n",
       "\n",
       "                     mudanca  \n",
       "0     NÃO INFORMADO → BRANCA  \n",
       "1      NÃO INFORMADO → PARDA  \n",
       "2      NÃO INFORMADO → PARDA  \n",
       "3     PARDA → NÃO DIVULGÁVEL  \n",
       "4    BRANCA → NÃO DIVULGÁVEL  \n",
       "..                       ...  \n",
       "920           BRANCA → PARDA  \n",
       "921           BRANCA → PARDA  \n",
       "922           BRANCA → PARDA  \n",
       "923           BRANCA → PARDA  \n",
       "924           BRANCA → PARDA  \n",
       "\n",
       "[312 rows x 9 columns]"
      ]
     },
     "execution_count": 208,
     "metadata": {},
     "output_type": "execute_result"
    }
   ],
   "source": [
    "muda_cor_filtra"
   ]
  },
  {
   "cell_type": "code",
   "execution_count": null,
   "id": "8ec6b5c4",
   "metadata": {},
   "outputs": [],
   "source": []
  }
 ],
 "metadata": {
  "kernelspec": {
   "display_name": "Python 3 (ipykernel)",
   "language": "python",
   "name": "python3"
  },
  "language_info": {
   "codemirror_mode": {
    "name": "ipython",
    "version": 3
   },
   "file_extension": ".py",
   "mimetype": "text/x-python",
   "name": "python",
   "nbconvert_exporter": "python",
   "pygments_lexer": "ipython3",
   "version": "3.10.5"
  }
 },
 "nbformat": 4,
 "nbformat_minor": 5
}
