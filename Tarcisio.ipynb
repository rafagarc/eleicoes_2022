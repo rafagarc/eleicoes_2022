{
 "cells": [
  {
   "cell_type": "code",
   "execution_count": 1,
   "id": "2b4f2aa9",
   "metadata": {},
   "outputs": [],
   "source": [
    "import pandas as pd"
   ]
  },
  {
   "cell_type": "code",
   "execution_count": 2,
   "id": "e5b6efb9",
   "metadata": {},
   "outputs": [],
   "source": [
    "import os"
   ]
  },
  {
   "cell_type": "code",
   "execution_count": 6,
   "id": "668d65b0",
   "metadata": {},
   "outputs": [
    {
     "data": {
      "text/plain": [
       "'C:\\\\Users\\\\rgarcia\\\\Documents\\\\data'"
      ]
     },
     "execution_count": 6,
     "metadata": {},
     "output_type": "execute_result"
    }
   ],
   "source": [
    "os.getcwd()"
   ]
  },
  {
   "cell_type": "code",
   "execution_count": 9,
   "id": "44376169",
   "metadata": {},
   "outputs": [],
   "source": [
    "os.chdir(r'..\\data\\Servidores')"
   ]
  },
  {
   "cell_type": "code",
   "execution_count": 16,
   "id": "9ff0c326",
   "metadata": {},
   "outputs": [
    {
     "data": {
      "text/plain": [
       "['201901_Remuneracao.csv',\n",
       " '201902_Remuneracao.csv',\n",
       " '201903_Remuneracao.csv',\n",
       " '201904_Remuneracao.csv',\n",
       " '201905_Remuneracao.csv',\n",
       " '201906_Remuneracao.csv',\n",
       " '201907_Remuneracao.csv',\n",
       " '201908_Remuneracao.csv',\n",
       " '201909_Remuneracao.csv',\n",
       " '201910_Remuneracao.csv',\n",
       " '201911_Remuneracao.csv',\n",
       " '201912_Remuneracao.csv',\n",
       " '202001_Remuneracao.csv',\n",
       " '202002_Remuneracao.csv',\n",
       " '202003_Remuneracao.csv',\n",
       " '202004_Remuneracao.csv',\n",
       " '202005_Remuneracao.csv',\n",
       " '202006_Remuneracao.csv',\n",
       " '202007_Remuneracao.csv',\n",
       " '202008_Remuneracao.csv',\n",
       " '202009_Remuneracao.csv',\n",
       " '202010_Remuneracao.csv',\n",
       " '202011_Remuneracao.csv',\n",
       " '202012_Remuneracao.csv',\n",
       " '202101_Remuneracao.csv',\n",
       " '202102_Remuneracao.csv',\n",
       " '202103_Remuneracao.csv',\n",
       " '202104_Remuneracao.csv',\n",
       " '202105_Remuneracao.csv',\n",
       " '202106_Remuneracao.csv',\n",
       " '202107_Remuneracao.csv',\n",
       " '202108_Remuneracao.csv',\n",
       " '202109_Remuneracao.csv',\n",
       " '202110_Remuneracao.csv',\n",
       " '202111_Remuneracao.csv',\n",
       " '202112_Remuneracao.csv',\n",
       " '202201_Remuneracao.csv',\n",
       " '202202_Remuneracao.csv',\n",
       " '202203_Remuneracao.csv',\n",
       " '202204_Remuneracao.csv']"
      ]
     },
     "execution_count": 16,
     "metadata": {},
     "output_type": "execute_result"
    }
   ],
   "source": [
    "os.listdir()"
   ]
  },
  {
   "cell_type": "code",
   "execution_count": 12,
   "id": "b1cc8314",
   "metadata": {},
   "outputs": [],
   "source": [
    "df1 = pd.read_csv('201901_Remuneracao.csv', sep=';', encoding='ISO-8859-1', decimal=',', low_memory=False)"
   ]
  },
  {
   "cell_type": "code",
   "execution_count": 15,
   "id": "853fbd1a",
   "metadata": {},
   "outputs": [],
   "source": [
    "os.remove('.~lock.202204_Remuneracao.csv#')"
   ]
  },
  {
   "cell_type": "code",
   "execution_count": 18,
   "id": "fb69b2d1",
   "metadata": {},
   "outputs": [],
   "source": [
    "df = df1[df1.NOME == 'NONE']"
   ]
  },
  {
   "cell_type": "code",
   "execution_count": 23,
   "id": "535dc250",
   "metadata": {},
   "outputs": [],
   "source": [
    "for i in os.listdir():\n",
    "    temp_df = pd.read_csv(i, sep=';', encoding='ISO-8859-1', decimal=',', low_memory=False)\n",
    "    temp_df = temp_df[temp_df.NOME == 'TARCISIO GOMES DE FREITAS']\n",
    "    df = pd.concat([df,temp_df])"
   ]
  },
  {
   "cell_type": "code",
   "execution_count": 36,
   "id": "bcff0932",
   "metadata": {},
   "outputs": [],
   "source": [
    "tarcisio = df[['ANO', 'MES',\n",
    "       'REMUNERAÇÃO BÁSICA BRUTA (R$)', 'ABATE-TETO (R$)', 'GRATIFICAÇÃO NATALINA (R$)',\n",
    "       'ABATE-TETO DA GRATIFICAÇÃO NATALINA (R$)',\n",
    "       'FÉRIAS (R$)',\n",
    "       'OUTRAS REMUNERAÇÕES EVENTUAIS (R$)',\n",
    "       'IRRF (R$)',\n",
    "       'PSS/RPGS (R$)', 'DEMAIS DEDUÇÕES (R$)',\n",
    "       'PENSÃO MILITAR (R$)',\n",
    "       'FUNDO DE SAÚDE (R$)',\n",
    "       'TAXA DE OCUPAÇÃO IMÓVEL FUNCIONAL (R$)',\n",
    "       'REMUNERAÇÃO APÓS DEDUÇÕES OBRIGATÓRIAS (R$)',\n",
    "       'VERBAS INDENIZATÓRIAS REGISTRADAS EM SISTEMAS DE PESSOAL - CIVIL (R$)(*)',\n",
    "       'VERBAS INDENIZATÓRIAS REGISTRADAS EM SISTEMAS DE PESSOAL - MILITAR (R$)(*)',\n",
    "       'VERBAS INDENIZATÓRIAS PROGRAMA DESLIGAMENTO VOLUNTÁRIO  MP 792/2017 (R$)',\n",
    "       'TOTAL DE VERBAS INDENIZATÓRIAS (R$)(*)']]"
   ]
  },
  {
   "cell_type": "code",
   "execution_count": 37,
   "id": "8c396445",
   "metadata": {},
   "outputs": [],
   "source": [
    "tarcisio = tarcisio.reset_index(drop=True)"
   ]
  },
  {
   "cell_type": "code",
   "execution_count": 39,
   "id": "07d3bb5b",
   "metadata": {},
   "outputs": [],
   "source": [
    "tarcisio.to_csv('tarcisio_remuneracao.csv', index=False)"
   ]
  },
  {
   "cell_type": "code",
   "execution_count": 63,
   "id": "59c9d2c6",
   "metadata": {},
   "outputs": [],
   "source": [
    "anos = list(range(2015,2023))"
   ]
  },
  {
   "cell_type": "code",
   "execution_count": 58,
   "id": "1ed16925",
   "metadata": {},
   "outputs": [],
   "source": [
    "meses = list(range(1,13))"
   ]
  },
  {
   "cell_type": "code",
   "execution_count": 60,
   "id": "b519ac3d",
   "metadata": {},
   "outputs": [
    {
     "data": {
      "text/plain": [
       "[1, 2, 3, 4, 5, 6, 7, 8]"
      ]
     },
     "execution_count": 60,
     "metadata": {},
     "output_type": "execute_result"
    }
   ],
   "source": [
    "meses[0:8]"
   ]
  },
  {
   "cell_type": "code",
   "execution_count": null,
   "id": "73d610b0",
   "metadata": {},
   "outputs": [],
   "source": []
  },
  {
   "cell_type": "code",
   "execution_count": 65,
   "id": "07469c14",
   "metadata": {},
   "outputs": [],
   "source": [
    "queries = []"
   ]
  },
  {
   "cell_type": "code",
   "execution_count": 66,
   "id": "42f4feec",
   "metadata": {},
   "outputs": [],
   "source": [
    "for ano in anos:\n",
    "    if ano != 2022:\n",
    "        for mes in meses:\n",
    "            queries.append(f'ano={ano}&mes={mes}#')\n",
    "    elif ano == 2022:\n",
    "        for mes in meses[0:8]:\n",
    "            queries.append(f'ano={ano}&mes={mes}#')\n",
    "    "
   ]
  },
  {
   "cell_type": "code",
   "execution_count": 67,
   "id": "05da702a",
   "metadata": {},
   "outputs": [
    {
     "data": {
      "text/plain": [
       "['ano=2015&mes=1#',\n",
       " 'ano=2015&mes=2#',\n",
       " 'ano=2015&mes=3#',\n",
       " 'ano=2015&mes=4#',\n",
       " 'ano=2015&mes=5#',\n",
       " 'ano=2015&mes=6#',\n",
       " 'ano=2015&mes=7#',\n",
       " 'ano=2015&mes=8#',\n",
       " 'ano=2015&mes=9#',\n",
       " 'ano=2015&mes=10#',\n",
       " 'ano=2015&mes=11#',\n",
       " 'ano=2015&mes=12#',\n",
       " 'ano=2016&mes=1#',\n",
       " 'ano=2016&mes=2#',\n",
       " 'ano=2016&mes=3#',\n",
       " 'ano=2016&mes=4#',\n",
       " 'ano=2016&mes=5#',\n",
       " 'ano=2016&mes=6#',\n",
       " 'ano=2016&mes=7#',\n",
       " 'ano=2016&mes=8#',\n",
       " 'ano=2016&mes=9#',\n",
       " 'ano=2016&mes=10#',\n",
       " 'ano=2016&mes=11#',\n",
       " 'ano=2016&mes=12#',\n",
       " 'ano=2017&mes=1#',\n",
       " 'ano=2017&mes=2#',\n",
       " 'ano=2017&mes=3#',\n",
       " 'ano=2017&mes=4#',\n",
       " 'ano=2017&mes=5#',\n",
       " 'ano=2017&mes=6#',\n",
       " 'ano=2017&mes=7#',\n",
       " 'ano=2017&mes=8#',\n",
       " 'ano=2017&mes=9#',\n",
       " 'ano=2017&mes=10#',\n",
       " 'ano=2017&mes=11#',\n",
       " 'ano=2017&mes=12#',\n",
       " 'ano=2018&mes=1#',\n",
       " 'ano=2018&mes=2#',\n",
       " 'ano=2018&mes=3#',\n",
       " 'ano=2018&mes=4#',\n",
       " 'ano=2018&mes=5#',\n",
       " 'ano=2018&mes=6#',\n",
       " 'ano=2018&mes=7#',\n",
       " 'ano=2018&mes=8#',\n",
       " 'ano=2018&mes=9#',\n",
       " 'ano=2018&mes=10#',\n",
       " 'ano=2018&mes=11#',\n",
       " 'ano=2018&mes=12#',\n",
       " 'ano=2019&mes=1#',\n",
       " 'ano=2019&mes=2#',\n",
       " 'ano=2019&mes=3#',\n",
       " 'ano=2019&mes=4#',\n",
       " 'ano=2019&mes=5#',\n",
       " 'ano=2019&mes=6#',\n",
       " 'ano=2019&mes=7#',\n",
       " 'ano=2019&mes=8#',\n",
       " 'ano=2019&mes=9#',\n",
       " 'ano=2019&mes=10#',\n",
       " 'ano=2019&mes=11#',\n",
       " 'ano=2019&mes=12#',\n",
       " 'ano=2020&mes=1#',\n",
       " 'ano=2020&mes=2#',\n",
       " 'ano=2020&mes=3#',\n",
       " 'ano=2020&mes=4#',\n",
       " 'ano=2020&mes=5#',\n",
       " 'ano=2020&mes=6#',\n",
       " 'ano=2020&mes=7#',\n",
       " 'ano=2020&mes=8#',\n",
       " 'ano=2020&mes=9#',\n",
       " 'ano=2020&mes=10#',\n",
       " 'ano=2020&mes=11#',\n",
       " 'ano=2020&mes=12#',\n",
       " 'ano=2021&mes=1#',\n",
       " 'ano=2021&mes=2#',\n",
       " 'ano=2021&mes=3#',\n",
       " 'ano=2021&mes=4#',\n",
       " 'ano=2021&mes=5#',\n",
       " 'ano=2021&mes=6#',\n",
       " 'ano=2021&mes=7#',\n",
       " 'ano=2021&mes=8#',\n",
       " 'ano=2021&mes=9#',\n",
       " 'ano=2021&mes=10#',\n",
       " 'ano=2021&mes=11#',\n",
       " 'ano=2021&mes=12#',\n",
       " 'ano=2022&mes=1#',\n",
       " 'ano=2022&mes=2#',\n",
       " 'ano=2022&mes=3#',\n",
       " 'ano=2022&mes=4#',\n",
       " 'ano=2022&mes=5#',\n",
       " 'ano=2022&mes=6#',\n",
       " 'ano=2022&mes=7#',\n",
       " 'ano=2022&mes=8#']"
      ]
     },
     "execution_count": 67,
     "metadata": {},
     "output_type": "execute_result"
    }
   ],
   "source": [
    "queries"
   ]
  },
  {
   "cell_type": "code",
   "execution_count": 115,
   "id": "d9f19466",
   "metadata": {},
   "outputs": [],
   "source": [
    "table = pd.read_html('https://www.camara.leg.br/transparencia/recursos-humanos/remuneracao/oa3nvYQ8oydZjdmDNxZj?ano=2015&mes=1#')[0]"
   ]
  },
  {
   "cell_type": "code",
   "execution_count": 116,
   "id": "ea91de55",
   "metadata": {},
   "outputs": [
    {
     "data": {
      "text/html": [
       "<div>\n",
       "<style scoped>\n",
       "    .dataframe tbody tr th:only-of-type {\n",
       "        vertical-align: middle;\n",
       "    }\n",
       "\n",
       "    .dataframe tbody tr th {\n",
       "        vertical-align: top;\n",
       "    }\n",
       "\n",
       "    .dataframe thead th {\n",
       "        text-align: right;\n",
       "    }\n",
       "</style>\n",
       "<table border=\"1\" class=\"dataframe\">\n",
       "  <thead>\n",
       "    <tr style=\"text-align: right;\">\n",
       "      <th></th>\n",
       "      <th>Descrição</th>\n",
       "      <th>Valor R$</th>\n",
       "    </tr>\n",
       "  </thead>\n",
       "  <tbody>\n",
       "    <tr>\n",
       "      <th>0</th>\n",
       "      <td>a - 1 - Remuneração Básica</td>\n",
       "      <td>a - 1 - Remuneração Básica</td>\n",
       "    </tr>\n",
       "    <tr>\n",
       "      <th>1</th>\n",
       "      <td>a - Remuneração Fixa</td>\n",
       "      <td>11.551,18</td>\n",
       "    </tr>\n",
       "    <tr>\n",
       "      <th>2</th>\n",
       "      <td>b - Vantagens de Natureza Pessoal</td>\n",
       "      <td>0</td>\n",
       "    </tr>\n",
       "    <tr>\n",
       "      <th>3</th>\n",
       "      <td>2 - Remuneração Eventual/Provisória</td>\n",
       "      <td>2 - Remuneração Eventual/Provisória</td>\n",
       "    </tr>\n",
       "    <tr>\n",
       "      <th>4</th>\n",
       "      <td>a - Função ou Cargo em Comissão</td>\n",
       "      <td>3.796,67</td>\n",
       "    </tr>\n",
       "    <tr>\n",
       "      <th>5</th>\n",
       "      <td>b - Gratificação Natalina</td>\n",
       "      <td>0</td>\n",
       "    </tr>\n",
       "    <tr>\n",
       "      <th>6</th>\n",
       "      <td>c - Férias (1/3 Constitucional)</td>\n",
       "      <td>0</td>\n",
       "    </tr>\n",
       "    <tr>\n",
       "      <th>7</th>\n",
       "      <td>d - Outras Remunerações Eventuais/Provisórias(*)</td>\n",
       "      <td>0</td>\n",
       "    </tr>\n",
       "    <tr>\n",
       "      <th>8</th>\n",
       "      <td>3 - Abono Permanência</td>\n",
       "      <td>3 - Abono Permanência</td>\n",
       "    </tr>\n",
       "    <tr>\n",
       "      <th>9</th>\n",
       "      <td>a - Abono Permanência</td>\n",
       "      <td>0</td>\n",
       "    </tr>\n",
       "    <tr>\n",
       "      <th>10</th>\n",
       "      <td>4 - Descontos Obrigatórios(-)</td>\n",
       "      <td>4 - Descontos Obrigatórios(-)</td>\n",
       "    </tr>\n",
       "    <tr>\n",
       "      <th>11</th>\n",
       "      <td>a - Redutor Constitucional</td>\n",
       "      <td>0</td>\n",
       "    </tr>\n",
       "    <tr>\n",
       "      <th>12</th>\n",
       "      <td>b - Contribuição Previdenciária</td>\n",
       "      <td>-1.682,53</td>\n",
       "    </tr>\n",
       "    <tr>\n",
       "      <th>13</th>\n",
       "      <td>c - Imposto de Renda</td>\n",
       "      <td>-2.931,81</td>\n",
       "    </tr>\n",
       "    <tr>\n",
       "      <th>14</th>\n",
       "      <td>5 - Remuneração após Descontos Obrigatórios</td>\n",
       "      <td>5 - Remuneração após Descontos Obrigatórios</td>\n",
       "    </tr>\n",
       "    <tr>\n",
       "      <th>15</th>\n",
       "      <td>a - Remuneração após Descontos Obrigatórios</td>\n",
       "      <td>10.733,51</td>\n",
       "    </tr>\n",
       "    <tr>\n",
       "      <th>16</th>\n",
       "      <td>6 - Outros</td>\n",
       "      <td>6 - Outros</td>\n",
       "    </tr>\n",
       "    <tr>\n",
       "      <th>17</th>\n",
       "      <td>a - Diárias</td>\n",
       "      <td>0</td>\n",
       "    </tr>\n",
       "    <tr>\n",
       "      <th>18</th>\n",
       "      <td>b - Auxílios</td>\n",
       "      <td>42805</td>\n",
       "    </tr>\n",
       "    <tr>\n",
       "      <th>19</th>\n",
       "      <td>c - Vantagens Indenizatórias</td>\n",
       "      <td>0</td>\n",
       "    </tr>\n",
       "  </tbody>\n",
       "</table>\n",
       "</div>"
      ],
      "text/plain": [
       "                                           Descrição  \\\n",
       "0                         a - 1 - Remuneração Básica   \n",
       "1                               a - Remuneração Fixa   \n",
       "2                  b - Vantagens de Natureza Pessoal   \n",
       "3                2 - Remuneração Eventual/Provisória   \n",
       "4                    a - Função ou Cargo em Comissão   \n",
       "5                          b - Gratificação Natalina   \n",
       "6                    c - Férias (1/3 Constitucional)   \n",
       "7   d - Outras Remunerações Eventuais/Provisórias(*)   \n",
       "8                              3 - Abono Permanência   \n",
       "9                              a - Abono Permanência   \n",
       "10                     4 - Descontos Obrigatórios(-)   \n",
       "11                        a - Redutor Constitucional   \n",
       "12                   b - Contribuição Previdenciária   \n",
       "13                              c - Imposto de Renda   \n",
       "14       5 - Remuneração após Descontos Obrigatórios   \n",
       "15       a - Remuneração após Descontos Obrigatórios   \n",
       "16                                        6 - Outros   \n",
       "17                                       a - Diárias   \n",
       "18                                      b - Auxílios   \n",
       "19                      c - Vantagens Indenizatórias   \n",
       "\n",
       "                                       Valor R$  \n",
       "0                    a - 1 - Remuneração Básica  \n",
       "1                                     11.551,18  \n",
       "2                                             0  \n",
       "3           2 - Remuneração Eventual/Provisória  \n",
       "4                                      3.796,67  \n",
       "5                                             0  \n",
       "6                                             0  \n",
       "7                                             0  \n",
       "8                         3 - Abono Permanência  \n",
       "9                                             0  \n",
       "10                4 - Descontos Obrigatórios(-)  \n",
       "11                                            0  \n",
       "12                                    -1.682,53  \n",
       "13                                    -2.931,81  \n",
       "14  5 - Remuneração após Descontos Obrigatórios  \n",
       "15                                    10.733,51  \n",
       "16                                   6 - Outros  \n",
       "17                                            0  \n",
       "18                                        42805  \n",
       "19                                            0  "
      ]
     },
     "execution_count": 116,
     "metadata": {},
     "output_type": "execute_result"
    }
   ],
   "source": [
    "table"
   ]
  },
  {
   "cell_type": "code",
   "execution_count": 117,
   "id": "6d0214d1",
   "metadata": {},
   "outputs": [],
   "source": [
    "def flatten(x):\n",
    "    try:\n",
    "        y = float(x.replace('.','').replace(',', '.'))\n",
    "    except:\n",
    "        y = x\n",
    "    return y"
   ]
  },
  {
   "cell_type": "code",
   "execution_count": 118,
   "id": "fe187f57",
   "metadata": {},
   "outputs": [],
   "source": [
    "table['Valor R$'] = table['Valor R$'].apply(flatten)"
   ]
  },
  {
   "cell_type": "code",
   "execution_count": 119,
   "id": "97f4a520",
   "metadata": {},
   "outputs": [],
   "source": [
    "table = table[table['Valor R$'].str.isnumeric().fillna(True)]"
   ]
  },
  {
   "cell_type": "code",
   "execution_count": 121,
   "id": "73e076b7",
   "metadata": {},
   "outputs": [],
   "source": [
    "table = table.transpose()"
   ]
  },
  {
   "cell_type": "code",
   "execution_count": 122,
   "id": "1e41eb28",
   "metadata": {},
   "outputs": [],
   "source": [
    "table.columns = table.iloc[0]"
   ]
  },
  {
   "cell_type": "code",
   "execution_count": 130,
   "id": "aedd250a",
   "metadata": {},
   "outputs": [],
   "source": [
    "table = table[1:].reset_index(drop=True)"
   ]
  },
  {
   "cell_type": "code",
   "execution_count": 131,
   "id": "b4100a9a",
   "metadata": {},
   "outputs": [],
   "source": [
    "table['Ano-Mês'] = f'{ano}-{mes}'"
   ]
  },
  {
   "cell_type": "code",
   "execution_count": 161,
   "id": "a6e54946",
   "metadata": {},
   "outputs": [],
   "source": [
    "final_table = table[1:]"
   ]
  },
  {
   "cell_type": "code",
   "execution_count": 157,
   "id": "4ddca858",
   "metadata": {},
   "outputs": [
    {
     "data": {
      "text/plain": [
       "'1'"
      ]
     },
     "execution_count": 157,
     "metadata": {},
     "output_type": "execute_result"
    }
   ],
   "source": [
    "queries[0].split('=')[2].replace('#','')"
   ]
  },
  {
   "cell_type": "code",
   "execution_count": 163,
   "id": "12aa035f",
   "metadata": {},
   "outputs": [],
   "source": [
    "for i in queries:\n",
    "    table = pd.read_html(f'https://www.camara.leg.br/transparencia/recursos-humanos/remuneracao/oa3nvYQ8oydZjdmDNxZj?{i}')[0]\n",
    "    table['Valor R$'] = table['Valor R$'].apply(flatten)\n",
    "    table = table[table['Valor R$'].str.isnumeric().fillna(True)]\n",
    "    table = table.transpose()\n",
    "    table.columns = table.iloc[0]\n",
    "    table = table[1:].reset_index(drop=True)\n",
    "    table['Ano-Mês'] = f'{i[4:8]}-{i.split(\"=\")[2].replace(\"#\",\"\")}'\n",
    "    final_table = pd.concat([final_table,table])"
   ]
  },
  {
   "cell_type": "code",
   "execution_count": 165,
   "id": "abadfa0a",
   "metadata": {},
   "outputs": [],
   "source": [
    "final_table.to_csv('tarc.csv', index=False)"
   ]
  },
  {
   "cell_type": "code",
   "execution_count": 172,
   "id": "a0e9bb4d",
   "metadata": {},
   "outputs": [],
   "source": [
    "final_table = final_table[['Ano-Mês', 'a - Remuneração Fixa', 'b - Vantagens de Natureza Pessoal',\n",
    "       'a - Função ou Cargo em Comissão', 'b - Gratificação Natalina',\n",
    "       'c - Férias (1/3 Constitucional)',\n",
    "       'd - Outras Remunerações Eventuais/Provisórias(*)',\n",
    "       'a - Abono Permanência', 'a - Redutor Constitucional',\n",
    "       'b - Contribuição Previdenciária', 'c - Imposto de Renda',\n",
    "       'a - Remuneração após Descontos Obrigatórios', 'a - Diárias',\n",
    "       'b - Auxílios', 'c - Vantagens Indenizatórias']].reset_index(drop=True)"
   ]
  },
  {
   "cell_type": "code",
   "execution_count": 173,
   "id": "234236dd",
   "metadata": {},
   "outputs": [],
   "source": [
    "final_table.to_csv('tarcisio_camara.csv', index=False)"
   ]
  },
  {
   "cell_type": "code",
   "execution_count": 178,
   "id": "214090f3",
   "metadata": {},
   "outputs": [
    {
     "data": {
      "text/plain": [
       "Descrição    a - Remuneração Fixab - Vantagens de Natureza ...\n",
       "0                                                   12585841.7\n",
       "dtype: object"
      ]
     },
     "execution_count": 178,
     "metadata": {},
     "output_type": "execute_result"
    }
   ],
   "source": [
    "final_table.sum().reset_index()[2:].sum()"
   ]
  },
  {
   "cell_type": "code",
   "execution_count": null,
   "id": "0db262bf",
   "metadata": {},
   "outputs": [],
   "source": []
  }
 ],
 "metadata": {
  "kernelspec": {
   "display_name": "Python 3 (ipykernel)",
   "language": "python",
   "name": "python3"
  },
  "language_info": {
   "codemirror_mode": {
    "name": "ipython",
    "version": 3
   },
   "file_extension": ".py",
   "mimetype": "text/x-python",
   "name": "python",
   "nbconvert_exporter": "python",
   "pygments_lexer": "ipython3",
   "version": "3.10.6"
  }
 },
 "nbformat": 4,
 "nbformat_minor": 5
}
