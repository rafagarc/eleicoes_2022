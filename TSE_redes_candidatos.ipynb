{
 "cells": [
  {
   "cell_type": "code",
   "execution_count": 1,
   "metadata": {
    "id": "muUlB8E4aA_X"
   },
   "outputs": [],
   "source": [
    "import os"
   ]
  },
  {
   "cell_type": "code",
   "execution_count": 2,
   "metadata": {},
   "outputs": [
    {
     "name": "stdout",
     "output_type": "stream",
     "text": [
      "C:\\Users\\rgarcia\\Documents\\code\n"
     ]
    }
   ],
   "source": [
    "print(os.getcwd())"
   ]
  },
  {
   "cell_type": "code",
   "execution_count": 3,
   "metadata": {
    "id": "Z7r5PcaEi0D1"
   },
   "outputs": [],
   "source": [
    "import pandas as pd"
   ]
  },
  {
   "cell_type": "code",
   "execution_count": 4,
   "metadata": {
    "id": "yNBp_2JqFtIa"
   },
   "outputs": [],
   "source": [
    "from urllib.parse import urlparse"
   ]
  },
  {
   "cell_type": "code",
   "execution_count": 5,
   "metadata": {},
   "outputs": [],
   "source": [
    "from IPython.display import display, Markdown"
   ]
  },
  {
   "cell_type": "code",
   "execution_count": 6,
   "metadata": {
    "id": "9l5956P_V1qj"
   },
   "outputs": [],
   "source": [
    "UF_list = ['AC', 'AL', 'AP', 'AM', 'BA', 'CE', 'DF', 'ES', 'GO', 'MA', 'MS', 'MT', 'MG', 'PA', 'PB', 'PR', 'PE', 'PI', \n",
    "           'RJ', 'RN', 'RS', 'RO', 'RR', 'SC', 'SP', 'SE', 'TO']\n"
   ]
  },
  {
   "cell_type": "code",
   "execution_count": 7,
   "metadata": {
    "id": "20eNJdTFe1Fi"
   },
   "outputs": [],
   "source": [
    "user_agent = 'Mozilla/5.0 (Macintosh; Intel Mac OS X 10_10_0) AppleWebKit/600.1.17\\\n",
    " (KHTML, like Gecko) Version/8.0 Safari/600.1.17'"
   ]
  },
  {
   "cell_type": "code",
   "execution_count": 8,
   "metadata": {
    "id": "6vY4MD3qe06i"
   },
   "outputs": [],
   "source": [
    "consulta_cand = 'https://cdn.tse.jus.br/estatistica/sead/odsele/consulta_cand/'"
   ]
  },
  {
   "cell_type": "code",
   "execution_count": 9,
   "metadata": {},
   "outputs": [
    {
     "data": {
      "text/plain": [
       "'C:\\\\Users\\\\rgarcia\\\\Documents\\\\code'"
      ]
     },
     "execution_count": 9,
     "metadata": {},
     "output_type": "execute_result"
    }
   ],
   "source": [
    "os.getcwd()"
   ]
  },
  {
   "cell_type": "code",
   "execution_count": 11,
   "metadata": {},
   "outputs": [],
   "source": [
    "os.chdir('C:\\\\Users\\\\rgarcia\\\\Documents\\\\data')"
   ]
  },
  {
   "cell_type": "code",
   "execution_count": 12,
   "metadata": {},
   "outputs": [
    {
     "data": {
      "text/plain": [
       "'C:\\\\Users\\\\rgarcia\\\\Documents\\\\data'"
      ]
     },
     "execution_count": 12,
     "metadata": {},
     "output_type": "execute_result"
    }
   ],
   "source": [
    "os.getcwd()"
   ]
  },
  {
   "cell_type": "code",
   "execution_count": 13,
   "metadata": {
    "id": "tURGfmefV1na"
   },
   "outputs": [],
   "source": [
    "for i in UF_list:\n",
    "    os.system(f'wget --header=\"User-Agent: {user_agent}\" {consulta_cand}rede_social_candidato_2022_{i}.zip')\n",
    "    os.system(f'unzip -p rede_social_candidato_2022_{i}.zip rede_social_candidato_2022_{i}.csv > SocNet_{i}.csv')\n",
    "    os.system(f'del rede_social_candidato_2022_{i}.zip')\n",
    "    "
   ]
  },
  {
   "cell_type": "code",
   "execution_count": 14,
   "metadata": {
    "id": "MbEaiAiHqJ6X"
   },
   "outputs": [],
   "source": [
    "all_files = [i for i in os.listdir() if i[0:6] == 'SocNet']"
   ]
  },
  {
   "cell_type": "code",
   "execution_count": 15,
   "metadata": {
    "id": "YKUBSnFMqJ24"
   },
   "outputs": [],
   "source": [
    "li = []\n",
    "\n",
    "for filename in all_files:\n",
    "    df = pd.read_csv(filename, index_col=None, header=0, sep=';', encoding='ISO-8859-1', decimal=',', low_memory=False)\n",
    "    li.append(df)\n",
    "\n",
    "frame = pd.concat(li, axis=0, ignore_index=True)"
   ]
  },
  {
   "cell_type": "code",
   "execution_count": 16,
   "metadata": {
    "id": "TykzVGP8muDS"
   },
   "outputs": [],
   "source": [
    "for i in all_files:\n",
    "    os.system(f'del {i}')"
   ]
  },
  {
   "cell_type": "code",
   "execution_count": 17,
   "metadata": {
    "colab": {
     "base_uri": "https://localhost:8080/"
    },
    "id": "ynQbB9S0qJzU",
    "outputId": "77da7ed1-8c37-4014-ae14-ecc1878cb791"
   },
   "outputs": [],
   "source": [
    "frame.shape ; frame.to_csv('candidato_redes_total.csv', index=False)"
   ]
  },
  {
   "cell_type": "code",
   "execution_count": 18,
   "metadata": {
    "id": "-ii1uMbhleqM"
   },
   "outputs": [],
   "source": [
    "frame['domain'] = frame['DS_URL'].apply(lambda x: urlparse(x).netloc)"
   ]
  },
  {
   "cell_type": "code",
   "execution_count": 19,
   "metadata": {
    "id": "hVuD0wlUokjN"
   },
   "outputs": [],
   "source": [
    "frame['domain'] = frame['domain'].str.lower()"
   ]
  },
  {
   "cell_type": "code",
   "execution_count": 20,
   "metadata": {
    "colab": {
     "base_uri": "https://localhost:8080/"
    },
    "id": "J2NbpkHro1Jk",
    "outputId": "563b5bbd-5e11-4cd9-9be5-981b5f9d9c55"
   },
   "outputs": [
    {
     "name": "stderr",
     "output_type": "stream",
     "text": [
      "C:\\Users\\rgarcia\\AppData\\Local\\Temp\\ipykernel_6760\\4068980154.py:1: FutureWarning: The default value of regex will change from True to False in a future version.\n",
      "  frame['domain'] = frame.domain.str.replace('www.', '')\n"
     ]
    }
   ],
   "source": [
    "frame['domain'] = frame.domain.str.replace('www.', '')"
   ]
  },
  {
   "cell_type": "code",
   "execution_count": 21,
   "metadata": {
    "id": "0nOl2-Ise9hW"
   },
   "outputs": [],
   "source": [
    "df = frame[['SQ_CANDIDATO', 'NR_ORDEM', 'DS_URL', 'domain']].sort_values(by=['SQ_CANDIDATO', 'NR_ORDEM'])"
   ]
  },
  {
   "cell_type": "code",
   "execution_count": 22,
   "metadata": {
    "id": "xLoPrRPrkBsp"
   },
   "outputs": [],
   "source": [
    "df.DS_URL = df.DS_URL.str.lower()"
   ]
  },
  {
   "cell_type": "code",
   "execution_count": 23,
   "metadata": {},
   "outputs": [],
   "source": [
    "def md(x):\n",
    "     display(Markdown(x))"
   ]
  },
  {
   "cell_type": "code",
   "execution_count": 24,
   "metadata": {},
   "outputs": [
    {
     "data": {
      "text/markdown": [
       "> ### Quantidade de sites/perfis de rede registrados: \n",
       " > # <u>43716</u> \n"
      ],
      "text/plain": [
       "<IPython.core.display.Markdown object>"
      ]
     },
     "metadata": {},
     "output_type": "display_data"
    }
   ],
   "source": [
    "md(f'> ### Quantidade de sites/perfis de rede registrados: \\n > # <u>{frame.shape[0]}</u> \\n')"
   ]
  },
  {
   "cell_type": "code",
   "execution_count": 25,
   "metadata": {},
   "outputs": [],
   "source": [
    "# Filtros para identificação das redes"
   ]
  },
  {
   "cell_type": "code",
   "execution_count": 26,
   "metadata": {
    "id": "60P3DelfHGET"
   },
   "outputs": [],
   "source": [
    "facebook_id = ['facebook', 'faceoo', 'fecebo', 'feicib', 'fb.me', 'fb.com', 'acebook', \n",
    "               'faacebook', 'facebbook', 'fb.audio', 'fb.gg', 'fb.me', 'fb.watch', 'facebbok',\n",
    "               'faceboo', 'facebok']"
   ]
  },
  {
   "cell_type": "code",
   "execution_count": 27,
   "metadata": {
    "id": "ujhE6NY0Iogp"
   },
   "outputs": [],
   "source": [
    "twitter_id = ['twitter', 'twiter', 'tweet', 'twiit']"
   ]
  },
  {
   "cell_type": "code",
   "execution_count": 28,
   "metadata": {
    "id": "zQM4RNtjTYka"
   },
   "outputs": [],
   "source": [
    "instagram_id = ['instagram', 'instrag', 'istagra', 'istragra', 'instragam', 'instragram',\n",
    "                'intagram', 'intragra', 'instagran', 'tagran', 'tragran', 'instragran',\n",
    "                'instagam', 'instgram', 'istragam', 'www.instagram', 'www.instagram.com', 'insta',\n",
    "                'insagram']"
   ]
  },
  {
   "cell_type": "code",
   "execution_count": 29,
   "metadata": {
    "id": "i8RXuk4hU3PU"
   },
   "outputs": [],
   "source": [
    "youtube_id = ['youtube', 'yotube', 'yutub', 'outube', 'youtobe', 'youtu.be']"
   ]
  },
  {
   "cell_type": "code",
   "execution_count": 30,
   "metadata": {
    "id": "2H5UlY87U3LV"
   },
   "outputs": [],
   "source": [
    "tiktok_id = ['tiktok', 'tictoc', 'tictok', 'tiktoc', 'iktok', 'iktock', 'ictock', 'tktok',\n",
    "             'tiktk', 'tiktik', 'tiktak', 'Douyin']"
   ]
  },
  {
   "cell_type": "code",
   "execution_count": 31,
   "metadata": {
    "id": "5Ry-WwOwVzJL"
   },
   "outputs": [],
   "source": [
    "gettr_id = ['gettr']; snapchat_id = ['snapchat'] ; blogger_id = ['blogger']\n",
    "kwai_id = ['kwai', 'kw.ai', 'kuaishou'] ; telegram_id = ['telegram', 't.me'] ; linkedin_id = ['linkedin']\n",
    "pinterest_id = ['pinterest'] ; flickr_id = ['flickr'] ; whatsapp_id = ['whatsapp', 'wa.me']"
   ]
  },
  {
   "cell_type": "code",
   "execution_count": 32,
   "metadata": {
    "id": "exOQPIGYJEDD"
   },
   "outputs": [],
   "source": [
    "id_labels = [facebook_id, twitter_id, instagram_id, youtube_id, tiktok_id,\n",
    "             gettr_id, snapchat_id, blogger_id, kwai_id, telegram_id, linkedin_id,\n",
    "             pinterest_id, flickr_id, whatsapp_id, ['spotify'], ['wechat', 'weixin'],\n",
    "             ['reddit'], ['quora'], ['github'], ['tencent', 'qq.com'], ['twitch'],\n",
    "             ['discord'], ['parler'], ['soundcloud'], ['sina weibo', 'weibo'],\n",
    "             ['facebook messenger', 'messenger.com'], ['skype'], ['4chan'],\n",
    "             ['gab.com'], ['linktree', 'linktr.ee'], ['myspace'], ['tumblr'],\n",
    "             ['wordpress'], ['wixsite'], ['wikipedia'], ['tinder'], ['last.fm'], ['deezer'],\n",
    "            ['triller'], ['periscope'], ['vimeo'], ['baidu'], ['badoo']]"
   ]
  },
  {
   "cell_type": "code",
   "execution_count": 33,
   "metadata": {
    "id": "5SlcjhLxGlAy"
   },
   "outputs": [],
   "source": [
    "# Função para classificar as redes\n",
    "\n",
    "def id_network(x):\n",
    "    \n",
    "    net_id = ''\n",
    "\n",
    "    for j in id_labels:\n",
    "        if any(i in x for i in j):\n",
    "            net_id = j[0].title() \n",
    "        else:\n",
    "            pass\n",
    "\n",
    "    if net_id == '':\n",
    "        net_id = 'Outros'\n",
    "\n",
    "    return net_id"
   ]
  },
  {
   "cell_type": "code",
   "execution_count": 34,
   "metadata": {
    "id": "49Fe3SQDGkyH"
   },
   "outputs": [],
   "source": [
    "df['rede_social'] = df.DS_URL.apply(id_network)"
   ]
  },
  {
   "cell_type": "code",
   "execution_count": 35,
   "metadata": {
    "id": "3m0IB2GF5IeF"
   },
   "outputs": [],
   "source": [
    "valida_redes = df[['SQ_CANDIDATO',\n",
    "                          'domain', 'rede_social']].drop_duplicates().groupby(['domain', 'rede_social'\n",
    "                          ]).SQ_CANDIDATO.count().reset_index().sort_values(by='SQ_CANDIDATO', ascending=False)"
   ]
  },
  {
   "cell_type": "code",
   "execution_count": 36,
   "metadata": {
    "colab": {
     "base_uri": "https://localhost:8080/",
     "height": 677
    },
    "id": "78cHDSzB5Soy",
    "outputId": "750a00e5-397d-4410-f991-f64355763251"
   },
   "outputs": [
    {
     "data": {
      "text/html": [
       "<div>\n",
       "<style scoped>\n",
       "    .dataframe tbody tr th:only-of-type {\n",
       "        vertical-align: middle;\n",
       "    }\n",
       "\n",
       "    .dataframe tbody tr th {\n",
       "        vertical-align: top;\n",
       "    }\n",
       "\n",
       "    .dataframe thead th {\n",
       "        text-align: right;\n",
       "    }\n",
       "</style>\n",
       "<table border=\"1\" class=\"dataframe\">\n",
       "  <thead>\n",
       "    <tr style=\"text-align: right;\">\n",
       "      <th></th>\n",
       "      <th>domain</th>\n",
       "      <th>rede_social</th>\n",
       "      <th>SQ_CANDIDATO</th>\n",
       "    </tr>\n",
       "  </thead>\n",
       "  <tbody>\n",
       "    <tr>\n",
       "      <th>2006</th>\n",
       "      <td>instagram.com</td>\n",
       "      <td>Instagram</td>\n",
       "      <td>13082</td>\n",
       "    </tr>\n",
       "    <tr>\n",
       "      <th>1568</th>\n",
       "      <td>facebook.com</td>\n",
       "      <td>Facebook</td>\n",
       "      <td>11153</td>\n",
       "    </tr>\n",
       "    <tr>\n",
       "      <th>3986</th>\n",
       "      <td>twitter.com</td>\n",
       "      <td>Twitter</td>\n",
       "      <td>3196</td>\n",
       "    </tr>\n",
       "    <tr>\n",
       "      <th>4216</th>\n",
       "      <td>youtube.com</td>\n",
       "      <td>Youtube</td>\n",
       "      <td>2365</td>\n",
       "    </tr>\n",
       "    <tr>\n",
       "      <th>3924</th>\n",
       "      <td>tiktok.com</td>\n",
       "      <td>Tiktok</td>\n",
       "      <td>2070</td>\n",
       "    </tr>\n",
       "    <tr>\n",
       "      <th>2448</th>\n",
       "      <td>linkedin.com</td>\n",
       "      <td>Linkedin</td>\n",
       "      <td>509</td>\n",
       "    </tr>\n",
       "    <tr>\n",
       "      <th>2574</th>\n",
       "      <td>m.facebook.com</td>\n",
       "      <td>Facebook</td>\n",
       "      <td>338</td>\n",
       "    </tr>\n",
       "    <tr>\n",
       "      <th>3338</th>\n",
       "      <td>pt-br.facebook.com</td>\n",
       "      <td>Facebook</td>\n",
       "      <td>292</td>\n",
       "    </tr>\n",
       "    <tr>\n",
       "      <th>4144</th>\n",
       "      <td>web.facebook.com</td>\n",
       "      <td>Facebook</td>\n",
       "      <td>291</td>\n",
       "    </tr>\n",
       "    <tr>\n",
       "      <th>3813</th>\n",
       "      <td>t.me</td>\n",
       "      <td>Telegram</td>\n",
       "      <td>187</td>\n",
       "    </tr>\n",
       "    <tr>\n",
       "      <th>2885</th>\n",
       "      <td>mobile.twitter.com</td>\n",
       "      <td>Twitter</td>\n",
       "      <td>177</td>\n",
       "    </tr>\n",
       "    <tr>\n",
       "      <th>4098</th>\n",
       "      <td>vm.tiktok.com</td>\n",
       "      <td>Tiktok</td>\n",
       "      <td>157</td>\n",
       "    </tr>\n",
       "    <tr>\n",
       "      <th>2455</th>\n",
       "      <td>linktr.ee</td>\n",
       "      <td>Linktree</td>\n",
       "      <td>137</td>\n",
       "    </tr>\n",
       "    <tr>\n",
       "      <th>3620</th>\n",
       "      <td>s.kw.ai</td>\n",
       "      <td>Kwai</td>\n",
       "      <td>129</td>\n",
       "    </tr>\n",
       "    <tr>\n",
       "      <th>2029</th>\n",
       "      <td>instagran.com</td>\n",
       "      <td>Instagram</td>\n",
       "      <td>92</td>\n",
       "    </tr>\n",
       "    <tr>\n",
       "      <th>2004</th>\n",
       "      <td>instagram</td>\n",
       "      <td>Instagram</td>\n",
       "      <td>67</td>\n",
       "    </tr>\n",
       "    <tr>\n",
       "      <th>1704</th>\n",
       "      <td>flickr.com</td>\n",
       "      <td>Flickr</td>\n",
       "      <td>63</td>\n",
       "    </tr>\n",
       "    <tr>\n",
       "      <th>4113</th>\n",
       "      <td>wa.me</td>\n",
       "      <td>Whatsapp</td>\n",
       "      <td>61</td>\n",
       "    </tr>\n",
       "    <tr>\n",
       "      <th>1573</th>\n",
       "      <td>facebook.com.br</td>\n",
       "      <td>Facebook</td>\n",
       "      <td>58</td>\n",
       "    </tr>\n",
       "    <tr>\n",
       "      <th>1806</th>\n",
       "      <td>gettr.com</td>\n",
       "      <td>Gettr</td>\n",
       "      <td>55</td>\n",
       "    </tr>\n",
       "    <tr>\n",
       "      <th>493</th>\n",
       "      <td>br.linkedin.com</td>\n",
       "      <td>Linkedin</td>\n",
       "      <td>43</td>\n",
       "    </tr>\n",
       "    <tr>\n",
       "      <th>1565</th>\n",
       "      <td>facebook</td>\n",
       "      <td>Facebook</td>\n",
       "      <td>41</td>\n",
       "    </tr>\n",
       "    <tr>\n",
       "      <th>3982</th>\n",
       "      <td>twiter.com</td>\n",
       "      <td>Twitter</td>\n",
       "      <td>37</td>\n",
       "    </tr>\n",
       "    <tr>\n",
       "      <th>341</th>\n",
       "      <td>api.whatsapp.com</td>\n",
       "      <td>Whatsapp</td>\n",
       "      <td>32</td>\n",
       "    </tr>\n",
       "    <tr>\n",
       "      <th>2045</th>\n",
       "      <td>intagram.com</td>\n",
       "      <td>Instagram</td>\n",
       "      <td>31</td>\n",
       "    </tr>\n",
       "    <tr>\n",
       "      <th>2008</th>\n",
       "      <td>instagram.com.br</td>\n",
       "      <td>Instagram</td>\n",
       "      <td>28</td>\n",
       "    </tr>\n",
       "    <tr>\n",
       "      <th>2042</th>\n",
       "      <td>instragram.com</td>\n",
       "      <td>Instagram</td>\n",
       "      <td>28</td>\n",
       "    </tr>\n",
       "    <tr>\n",
       "      <th>2578</th>\n",
       "      <td>m.youtube.com</td>\n",
       "      <td>Youtube</td>\n",
       "      <td>28</td>\n",
       "    </tr>\n",
       "    <tr>\n",
       "      <th>3186</th>\n",
       "      <td>podemos.org.br</td>\n",
       "      <td>Outros</td>\n",
       "      <td>25</td>\n",
       "    </tr>\n",
       "    <tr>\n",
       "      <th>3017</th>\n",
       "      <td>open.spotify.com</td>\n",
       "      <td>Spotify</td>\n",
       "      <td>24</td>\n",
       "    </tr>\n",
       "    <tr>\n",
       "      <th>3336</th>\n",
       "      <td>pstu.org.br</td>\n",
       "      <td>Outros</td>\n",
       "      <td>24</td>\n",
       "    </tr>\n",
       "    <tr>\n",
       "      <th>2576</th>\n",
       "      <td>m.kwai.com</td>\n",
       "      <td>Kwai</td>\n",
       "      <td>20</td>\n",
       "    </tr>\n",
       "    <tr>\n",
       "      <th>3138</th>\n",
       "      <td>pco.org.br</td>\n",
       "      <td>Outros</td>\n",
       "      <td>17</td>\n",
       "    </tr>\n",
       "    <tr>\n",
       "      <th>3983</th>\n",
       "      <td>twitter</td>\n",
       "      <td>Twitter</td>\n",
       "      <td>16</td>\n",
       "    </tr>\n",
       "    <tr>\n",
       "      <th>4213</th>\n",
       "      <td>youtu.be</td>\n",
       "      <td>Youtube</td>\n",
       "      <td>15</td>\n",
       "    </tr>\n",
       "    <tr>\n",
       "      <th>4165</th>\n",
       "      <td>whatsapp.com</td>\n",
       "      <td>Whatsapp</td>\n",
       "      <td>15</td>\n",
       "    </tr>\n",
       "    <tr>\n",
       "      <th>2357</th>\n",
       "      <td>kwai.com</td>\n",
       "      <td>Kwai</td>\n",
       "      <td>15</td>\n",
       "    </tr>\n",
       "    <tr>\n",
       "      <th>687</th>\n",
       "      <td>chat.whatsapp.com</td>\n",
       "      <td>Whatsapp</td>\n",
       "      <td>14</td>\n",
       "    </tr>\n",
       "    <tr>\n",
       "      <th>459</th>\n",
       "      <td>bit.ly</td>\n",
       "      <td>Outros</td>\n",
       "      <td>14</td>\n",
       "    </tr>\n",
       "    <tr>\n",
       "      <th>3923</th>\n",
       "      <td>tiktok</td>\n",
       "      <td>Tiktok</td>\n",
       "      <td>14</td>\n",
       "    </tr>\n",
       "  </tbody>\n",
       "</table>\n",
       "</div>"
      ],
      "text/plain": [
       "                  domain rede_social  SQ_CANDIDATO\n",
       "2006       instagram.com   Instagram         13082\n",
       "1568        facebook.com    Facebook         11153\n",
       "3986         twitter.com     Twitter          3196\n",
       "4216         youtube.com     Youtube          2365\n",
       "3924          tiktok.com      Tiktok          2070\n",
       "2448        linkedin.com    Linkedin           509\n",
       "2574      m.facebook.com    Facebook           338\n",
       "3338  pt-br.facebook.com    Facebook           292\n",
       "4144    web.facebook.com    Facebook           291\n",
       "3813                t.me    Telegram           187\n",
       "2885  mobile.twitter.com     Twitter           177\n",
       "4098       vm.tiktok.com      Tiktok           157\n",
       "2455           linktr.ee    Linktree           137\n",
       "3620             s.kw.ai        Kwai           129\n",
       "2029       instagran.com   Instagram            92\n",
       "2004           instagram   Instagram            67\n",
       "1704          flickr.com      Flickr            63\n",
       "4113               wa.me    Whatsapp            61\n",
       "1573     facebook.com.br    Facebook            58\n",
       "1806           gettr.com       Gettr            55\n",
       "493      br.linkedin.com    Linkedin            43\n",
       "1565            facebook    Facebook            41\n",
       "3982          twiter.com     Twitter            37\n",
       "341     api.whatsapp.com    Whatsapp            32\n",
       "2045        intagram.com   Instagram            31\n",
       "2008    instagram.com.br   Instagram            28\n",
       "2042      instragram.com   Instagram            28\n",
       "2578       m.youtube.com     Youtube            28\n",
       "3186      podemos.org.br      Outros            25\n",
       "3017    open.spotify.com     Spotify            24\n",
       "3336         pstu.org.br      Outros            24\n",
       "2576          m.kwai.com        Kwai            20\n",
       "3138          pco.org.br      Outros            17\n",
       "3983             twitter     Twitter            16\n",
       "4213            youtu.be     Youtube            15\n",
       "4165        whatsapp.com    Whatsapp            15\n",
       "2357            kwai.com        Kwai            15\n",
       "687    chat.whatsapp.com    Whatsapp            14\n",
       "459               bit.ly      Outros            14\n",
       "3923              tiktok      Tiktok            14"
      ]
     },
     "execution_count": 36,
     "metadata": {},
     "output_type": "execute_result"
    }
   ],
   "source": [
    "valida_redes.head(40)"
   ]
  },
  {
   "cell_type": "code",
   "execution_count": 37,
   "metadata": {},
   "outputs": [],
   "source": [
    "valida_redes_rank = valida_redes.groupby(['rede_social']).SQ_CANDIDATO.sum().reset_index().sort_values(by='SQ_CANDIDATO', ascending=False).reset_index(drop=True)"
   ]
  },
  {
   "cell_type": "code",
   "execution_count": 38,
   "metadata": {},
   "outputs": [
    {
     "name": "stdout",
     "output_type": "stream",
     "text": [
      "           rede_social  SQ_CANDIDATO\n",
      "0            Instagram         13419\n",
      "1             Facebook         12311\n",
      "2               Outros          4206\n",
      "3              Twitter          3452\n",
      "4              Youtube          2431\n",
      "5               Tiktok          2263\n",
      "6             Linkedin           555\n",
      "7             Telegram           218\n",
      "8                 Kwai           168\n",
      "9             Linktree           138\n",
      "10            Whatsapp           125\n",
      "11              Flickr            63\n",
      "12               Gettr            57\n",
      "13             Spotify            25\n",
      "14             Wixsite            24\n",
      "15           Pinterest            10\n",
      "16            Snapchat             8\n",
      "17           Wordpress             7\n",
      "18          Soundcloud             6\n",
      "19              Parler             6\n",
      "20              Twitch             4\n",
      "21           Wikipedia             4\n",
      "22             Blogger             2\n",
      "23              Tinder             2\n",
      "24              Tumblr             2\n",
      "25  Facebook Messenger             2\n",
      "26              Reddit             1\n",
      "27              Github             1\n",
      "28             Gab.Com             1\n",
      "29              Deezer             1\n",
      "30               Badoo             1\n"
     ]
    }
   ],
   "source": [
    "print(valida_redes_rank)"
   ]
  },
  {
   "cell_type": "code",
   "execution_count": 39,
   "metadata": {},
   "outputs": [
    {
     "data": {
      "text/html": [
       "<div>\n",
       "<style scoped>\n",
       "    .dataframe tbody tr th:only-of-type {\n",
       "        vertical-align: middle;\n",
       "    }\n",
       "\n",
       "    .dataframe tbody tr th {\n",
       "        vertical-align: top;\n",
       "    }\n",
       "\n",
       "    .dataframe thead th {\n",
       "        text-align: right;\n",
       "    }\n",
       "</style>\n",
       "<table border=\"1\" class=\"dataframe\">\n",
       "  <thead>\n",
       "    <tr style=\"text-align: right;\">\n",
       "      <th></th>\n",
       "      <th>SQ_CANDIDATO</th>\n",
       "      <th>NR_ORDEM</th>\n",
       "      <th>DS_URL</th>\n",
       "      <th>domain</th>\n",
       "      <th>rede_social</th>\n",
       "    </tr>\n",
       "  </thead>\n",
       "  <tbody>\n",
       "    <tr>\n",
       "      <th>13155</th>\n",
       "      <td>120001650955</td>\n",
       "      <td>1</td>\n",
       "      <td>https://twitter.com/andrelacerdams</td>\n",
       "      <td>twitter.com</td>\n",
       "      <td>Twitter</td>\n",
       "    </tr>\n",
       "    <tr>\n",
       "      <th>13153</th>\n",
       "      <td>120001650955</td>\n",
       "      <td>2</td>\n",
       "      <td>https://www.tiktok.com/@andrelacerdams?_t=8uhp...</td>\n",
       "      <td>tiktok.com</td>\n",
       "      <td>Tiktok</td>\n",
       "    </tr>\n",
       "    <tr>\n",
       "      <th>13156</th>\n",
       "      <td>120001650955</td>\n",
       "      <td>3</td>\n",
       "      <td>https://tinder.com/@andrelacerdams</td>\n",
       "      <td>tinder.com</td>\n",
       "      <td>Tinder</td>\n",
       "    </tr>\n",
       "    <tr>\n",
       "      <th>13157</th>\n",
       "      <td>120001650955</td>\n",
       "      <td>4</td>\n",
       "      <td>https://www.linkedin.com/mwlite/in/andrelacerdams</td>\n",
       "      <td>linkedin.com</td>\n",
       "      <td>Linkedin</td>\n",
       "    </tr>\n",
       "    <tr>\n",
       "      <th>13154</th>\n",
       "      <td>120001650955</td>\n",
       "      <td>5</td>\n",
       "      <td>https://www.facebook.com/andrelacerdams</td>\n",
       "      <td>facebook.com</td>\n",
       "      <td>Facebook</td>\n",
       "    </tr>\n",
       "    <tr>\n",
       "      <th>13152</th>\n",
       "      <td>120001650955</td>\n",
       "      <td>6</td>\n",
       "      <td>https://www.instagram.com/andrelacerdams</td>\n",
       "      <td>instagram.com</td>\n",
       "      <td>Instagram</td>\n",
       "    </tr>\n",
       "    <tr>\n",
       "      <th>11543</th>\n",
       "      <td>130001615155</td>\n",
       "      <td>1</td>\n",
       "      <td>https://www.instagram.com/mercio.m.antunes/</td>\n",
       "      <td>instagram.com</td>\n",
       "      <td>Instagram</td>\n",
       "    </tr>\n",
       "    <tr>\n",
       "      <th>11544</th>\n",
       "      <td>130001615155</td>\n",
       "      <td>2</td>\n",
       "      <td>https://twitter.com/merciomotamg</td>\n",
       "      <td>twitter.com</td>\n",
       "      <td>Twitter</td>\n",
       "    </tr>\n",
       "    <tr>\n",
       "      <th>11545</th>\n",
       "      <td>130001615155</td>\n",
       "      <td>3</td>\n",
       "      <td>https://www.facebook.com/profile.php?id=100084...</td>\n",
       "      <td>facebook.com</td>\n",
       "      <td>Facebook</td>\n",
       "    </tr>\n",
       "    <tr>\n",
       "      <th>11542</th>\n",
       "      <td>130001615155</td>\n",
       "      <td>4</td>\n",
       "      <td>https://www.youtube.com/channel/uc2fkkbb-logun...</td>\n",
       "      <td>youtube.com</td>\n",
       "      <td>Youtube</td>\n",
       "    </tr>\n",
       "    <tr>\n",
       "      <th>11541</th>\n",
       "      <td>130001615155</td>\n",
       "      <td>5</td>\n",
       "      <td>https://go.tinder.com/ilc4oml_lk4-m%c3%a9rcio</td>\n",
       "      <td>go.tinder.com</td>\n",
       "      <td>Tinder</td>\n",
       "    </tr>\n",
       "  </tbody>\n",
       "</table>\n",
       "</div>"
      ],
      "text/plain": [
       "       SQ_CANDIDATO  NR_ORDEM  \\\n",
       "13155  120001650955         1   \n",
       "13153  120001650955         2   \n",
       "13156  120001650955         3   \n",
       "13157  120001650955         4   \n",
       "13154  120001650955         5   \n",
       "13152  120001650955         6   \n",
       "11543  130001615155         1   \n",
       "11544  130001615155         2   \n",
       "11545  130001615155         3   \n",
       "11542  130001615155         4   \n",
       "11541  130001615155         5   \n",
       "\n",
       "                                                  DS_URL         domain  \\\n",
       "13155                 https://twitter.com/andrelacerdams    twitter.com   \n",
       "13153  https://www.tiktok.com/@andrelacerdams?_t=8uhp...     tiktok.com   \n",
       "13156                 https://tinder.com/@andrelacerdams     tinder.com   \n",
       "13157  https://www.linkedin.com/mwlite/in/andrelacerdams   linkedin.com   \n",
       "13154            https://www.facebook.com/andrelacerdams   facebook.com   \n",
       "13152           https://www.instagram.com/andrelacerdams  instagram.com   \n",
       "11543        https://www.instagram.com/mercio.m.antunes/  instagram.com   \n",
       "11544                   https://twitter.com/merciomotamg    twitter.com   \n",
       "11545  https://www.facebook.com/profile.php?id=100084...   facebook.com   \n",
       "11542  https://www.youtube.com/channel/uc2fkkbb-logun...    youtube.com   \n",
       "11541      https://go.tinder.com/ilc4oml_lk4-m%c3%a9rcio  go.tinder.com   \n",
       "\n",
       "      rede_social  \n",
       "13155     Twitter  \n",
       "13153      Tiktok  \n",
       "13156      Tinder  \n",
       "13157    Linkedin  \n",
       "13154    Facebook  \n",
       "13152   Instagram  \n",
       "11543   Instagram  \n",
       "11544     Twitter  \n",
       "11545    Facebook  \n",
       "11542     Youtube  \n",
       "11541      Tinder  "
      ]
     },
     "execution_count": 39,
     "metadata": {},
     "output_type": "execute_result"
    }
   ],
   "source": [
    "# Os candidatos com Tinder\n",
    "\n",
    "df[(df.SQ_CANDIDATO == 120001650955) | (df.SQ_CANDIDATO == 130001615155)]"
   ]
  },
  {
   "cell_type": "code",
   "execution_count": 40,
   "metadata": {
    "id": "GlOuvvMGoOhB"
   },
   "outputs": [],
   "source": [
    "df_dd = df[['SQ_CANDIDATO', 'rede_social']].reset_index(drop=True)"
   ]
  },
  {
   "cell_type": "code",
   "execution_count": 41,
   "metadata": {
    "colab": {
     "base_uri": "https://localhost:8080/"
    },
    "id": "qa3d0XbkwBVT",
    "outputId": "8c5a4439-5896-4df0-dfc8-1dedde0c9003"
   },
   "outputs": [
    {
     "data": {
      "text/markdown": [
       "> ### Total de candidatos com pelo menos uma rede/site: \n",
       " > # 15544"
      ],
      "text/plain": [
       "<IPython.core.display.Markdown object>"
      ]
     },
     "metadata": {},
     "output_type": "display_data"
    }
   ],
   "source": [
    "md(f'> ### Total de candidatos com pelo menos uma rede/site: \\n > # {str(len(df.SQ_CANDIDATO.unique()))}')"
   ]
  },
  {
   "cell_type": "code",
   "execution_count": 47,
   "metadata": {},
   "outputs": [
    {
     "name": "stdout",
     "output_type": "stream",
     "text": [
      "52.7 %\n"
     ]
    }
   ],
   "source": [
    "print(str(round(((15409/29259)*100),1)) + ' %')"
   ]
  },
  {
   "cell_type": "code",
   "execution_count": 48,
   "metadata": {
    "id": "P5DsQv9lm9dx"
   },
   "outputs": [],
   "source": [
    "ranking_redes = df_dd.groupby('rede_social').SQ_CANDIDATO.count().reset_index().sort_values(by='SQ_CANDIDATO', ascending=False).reset_index(drop=True)"
   ]
  },
  {
   "cell_type": "code",
   "execution_count": 49,
   "metadata": {
    "id": "1ZQY3P7mm9Uu"
   },
   "outputs": [],
   "source": [
    "ranking_outros = ranking_redes[ranking_redes.rede_social == 'Outros'].reset_index(drop=True)"
   ]
  },
  {
   "cell_type": "code",
   "execution_count": 50,
   "metadata": {
    "id": "ABRZhFl4m9Ra"
   },
   "outputs": [],
   "source": [
    "ranking_com_id = ranking_redes[ranking_redes.rede_social != 'Outros'].reset_index(drop=True)"
   ]
  },
  {
   "cell_type": "code",
   "execution_count": 51,
   "metadata": {
    "colab": {
     "base_uri": "https://localhost:8080/",
     "height": 928
    },
    "id": "q8TagxjLm9N1",
    "outputId": "49e34f3f-348d-46de-b571-63cf25558ba2"
   },
   "outputs": [],
   "source": [
    "ranking_redes = pd.concat([ranking_com_id, ranking_outros]).reset_index(drop=True)"
   ]
  },
  {
   "cell_type": "code",
   "execution_count": 52,
   "metadata": {},
   "outputs": [],
   "source": [
    "del ranking_com_id ; del ranking_outros"
   ]
  },
  {
   "cell_type": "code",
   "execution_count": 66,
   "metadata": {},
   "outputs": [
    {
     "name": "stdout",
     "output_type": "stream",
     "text": [
      "      Rede Social/Site  Registros de candidatos\n",
      "0            Instagram                    13419\n",
      "1             Facebook                    12311\n",
      "2               Outros                     4206\n",
      "3              Twitter                     3452\n",
      "4              Youtube                     2431\n",
      "5               Tiktok                     2263\n",
      "6             Linkedin                      555\n",
      "7             Telegram                      218\n",
      "8                 Kwai                      168\n",
      "9             Linktree                      138\n",
      "10            Whatsapp                      125\n",
      "11              Flickr                       63\n",
      "12               Gettr                       57\n",
      "13             Spotify                       25\n",
      "14             Wixsite                       24\n",
      "15           Pinterest                       10\n",
      "16            Snapchat                        8\n",
      "17           Wordpress                        7\n",
      "18          Soundcloud                        6\n",
      "19              Parler                        6\n",
      "20              Twitch                        4\n",
      "21           Wikipedia                        4\n",
      "22             Blogger                        2\n",
      "23              Tinder                        2\n",
      "24              Tumblr                        2\n",
      "25  Facebook Messenger                        2\n",
      "26              Reddit                        1\n",
      "27              Github                        1\n",
      "28             Gab.Com                        1\n",
      "29              Deezer                        1\n",
      "30               Badoo                        1\n"
     ]
    }
   ],
   "source": [
    "print(valida_redes_rank)"
   ]
  },
  {
   "cell_type": "code",
   "execution_count": null,
   "metadata": {},
   "outputs": [],
   "source": []
  },
  {
   "cell_type": "code",
   "execution_count": 54,
   "metadata": {
    "id": "jEn1CuXm7NdW"
   },
   "outputs": [],
   "source": [
    "twiteiros = df[df.rede_social == 'Twitter']"
   ]
  },
  {
   "cell_type": "code",
   "execution_count": 55,
   "metadata": {
    "colab": {
     "base_uri": "https://localhost:8080/"
    },
    "id": "8oDQMZ9jBqPN",
    "outputId": "ed4f3e0f-5687-479e-b578-4e412fd3a4cd"
   },
   "outputs": [
    {
     "name": "stderr",
     "output_type": "stream",
     "text": [
      "C:\\Users\\rgarcia\\AppData\\Local\\Temp\\ipykernel_6760\\4169020061.py:1: SettingWithCopyWarning: \n",
      "A value is trying to be set on a copy of a slice from a DataFrame.\n",
      "Try using .loc[row_indexer,col_indexer] = value instead\n",
      "\n",
      "See the caveats in the documentation: https://pandas.pydata.org/pandas-docs/stable/user_guide/indexing.html#returning-a-view-versus-a-copy\n",
      "  twiteiros['handle'] = twiteiros.DS_URL.apply(lambda x: x.split('.com/')[-1].split(\"?\")[0].replace(':','').replace('@','').split(\"/\")[0])\n"
     ]
    }
   ],
   "source": [
    "twiteiros['handle'] = twiteiros.DS_URL.apply(lambda x: x.split('.com/')[-1].split(\"?\")[0].replace(':','').replace('@','').split(\"/\")[0])"
   ]
  },
  {
   "cell_type": "code",
   "execution_count": 56,
   "metadata": {
    "colab": {
     "base_uri": "https://localhost:8080/",
     "height": 1000
    },
    "id": "0taryFN7B5g4",
    "outputId": "9d5b6ca0-4da1-480f-94db-d048d03a3695"
   },
   "outputs": [
    {
     "data": {
      "text/html": [
       "<div>\n",
       "<style scoped>\n",
       "    .dataframe tbody tr th:only-of-type {\n",
       "        vertical-align: middle;\n",
       "    }\n",
       "\n",
       "    .dataframe tbody tr th {\n",
       "        vertical-align: top;\n",
       "    }\n",
       "\n",
       "    .dataframe thead th {\n",
       "        text-align: right;\n",
       "    }\n",
       "</style>\n",
       "<table border=\"1\" class=\"dataframe\">\n",
       "  <thead>\n",
       "    <tr style=\"text-align: right;\">\n",
       "      <th></th>\n",
       "      <th>SQ_CANDIDATO</th>\n",
       "      <th>NR_ORDEM</th>\n",
       "      <th>DS_URL</th>\n",
       "      <th>domain</th>\n",
       "      <th>rede_social</th>\n",
       "      <th>handle</th>\n",
       "    </tr>\n",
       "  </thead>\n",
       "  <tbody>\n",
       "    <tr>\n",
       "      <th>330</th>\n",
       "      <td>10001601430</td>\n",
       "      <td>3</td>\n",
       "      <td>https://twitter.com/eduribeiroac</td>\n",
       "      <td>twitter.com</td>\n",
       "      <td>Twitter</td>\n",
       "      <td>eduribeiroac</td>\n",
       "    </tr>\n",
       "    <tr>\n",
       "      <th>213</th>\n",
       "      <td>10001606307</td>\n",
       "      <td>3</td>\n",
       "      <td>https://twitter.com/odavidhall36</td>\n",
       "      <td>twitter.com</td>\n",
       "      <td>Twitter</td>\n",
       "      <td>odavidhall36</td>\n",
       "    </tr>\n",
       "    <tr>\n",
       "      <th>123</th>\n",
       "      <td>10001606585</td>\n",
       "      <td>2</td>\n",
       "      <td>https://twitter.com/dimassandas</td>\n",
       "      <td>twitter.com</td>\n",
       "      <td>Twitter</td>\n",
       "      <td>dimassandas</td>\n",
       "    </tr>\n",
       "    <tr>\n",
       "      <th>133</th>\n",
       "      <td>10001613550</td>\n",
       "      <td>3</td>\n",
       "      <td>https://twitter.com/leodebritoac</td>\n",
       "      <td>twitter.com</td>\n",
       "      <td>Twitter</td>\n",
       "      <td>leodebritoac</td>\n",
       "    </tr>\n",
       "    <tr>\n",
       "      <th>9</th>\n",
       "      <td>10001622769</td>\n",
       "      <td>3</td>\n",
       "      <td>https://twitter.com/dramichellemelo</td>\n",
       "      <td>twitter.com</td>\n",
       "      <td>Twitter</td>\n",
       "      <td>dramichellemelo</td>\n",
       "    </tr>\n",
       "    <tr>\n",
       "      <th>...</th>\n",
       "      <td>...</td>\n",
       "      <td>...</td>\n",
       "      <td>...</td>\n",
       "      <td>...</td>\n",
       "      <td>...</td>\n",
       "      <td>...</td>\n",
       "    </tr>\n",
       "    <tr>\n",
       "      <th>43353</th>\n",
       "      <td>270001697127</td>\n",
       "      <td>2</td>\n",
       "      <td>https://twitter.com/irajasenador?t=u3e5yrd3lkd...</td>\n",
       "      <td>twitter.com</td>\n",
       "      <td>Twitter</td>\n",
       "      <td>irajasenador</td>\n",
       "    </tr>\n",
       "    <tr>\n",
       "      <th>43586</th>\n",
       "      <td>270001700073</td>\n",
       "      <td>2</td>\n",
       "      <td>https://twitter.com/tiaodaelka?s=11&amp;t=o6zi-ovk...</td>\n",
       "      <td>twitter.com</td>\n",
       "      <td>Twitter</td>\n",
       "      <td>tiaodaelka</td>\n",
       "    </tr>\n",
       "    <tr>\n",
       "      <th>43490</th>\n",
       "      <td>270001700076</td>\n",
       "      <td>3</td>\n",
       "      <td>https://twitter.com/deputadoelenil?s=11&amp;t=mhp_...</td>\n",
       "      <td>twitter.com</td>\n",
       "      <td>Twitter</td>\n",
       "      <td>deputadoelenil</td>\n",
       "    </tr>\n",
       "    <tr>\n",
       "      <th>43368</th>\n",
       "      <td>270001713170</td>\n",
       "      <td>3</td>\n",
       "      <td>https://twitter.com/katiaabreu</td>\n",
       "      <td>twitter.com</td>\n",
       "      <td>Twitter</td>\n",
       "      <td>katiaabreu</td>\n",
       "    </tr>\n",
       "    <tr>\n",
       "      <th>43418</th>\n",
       "      <td>270001732242</td>\n",
       "      <td>2</td>\n",
       "      <td>https://twitter.com/luterlima?t=k70_d24enisaj4...</td>\n",
       "      <td>twitter.com</td>\n",
       "      <td>Twitter</td>\n",
       "      <td>luterlima</td>\n",
       "    </tr>\n",
       "  </tbody>\n",
       "</table>\n",
       "<p>3538 rows × 6 columns</p>\n",
       "</div>"
      ],
      "text/plain": [
       "       SQ_CANDIDATO  NR_ORDEM  \\\n",
       "330     10001601430         3   \n",
       "213     10001606307         3   \n",
       "123     10001606585         2   \n",
       "133     10001613550         3   \n",
       "9       10001622769         3   \n",
       "...             ...       ...   \n",
       "43353  270001697127         2   \n",
       "43586  270001700073         2   \n",
       "43490  270001700076         3   \n",
       "43368  270001713170         3   \n",
       "43418  270001732242         2   \n",
       "\n",
       "                                                  DS_URL       domain  \\\n",
       "330                     https://twitter.com/eduribeiroac  twitter.com   \n",
       "213                     https://twitter.com/odavidhall36  twitter.com   \n",
       "123                      https://twitter.com/dimassandas  twitter.com   \n",
       "133                     https://twitter.com/leodebritoac  twitter.com   \n",
       "9                    https://twitter.com/dramichellemelo  twitter.com   \n",
       "...                                                  ...          ...   \n",
       "43353  https://twitter.com/irajasenador?t=u3e5yrd3lkd...  twitter.com   \n",
       "43586  https://twitter.com/tiaodaelka?s=11&t=o6zi-ovk...  twitter.com   \n",
       "43490  https://twitter.com/deputadoelenil?s=11&t=mhp_...  twitter.com   \n",
       "43368                     https://twitter.com/katiaabreu  twitter.com   \n",
       "43418  https://twitter.com/luterlima?t=k70_d24enisaj4...  twitter.com   \n",
       "\n",
       "      rede_social           handle  \n",
       "330       Twitter     eduribeiroac  \n",
       "213       Twitter     odavidhall36  \n",
       "123       Twitter      dimassandas  \n",
       "133       Twitter     leodebritoac  \n",
       "9         Twitter  dramichellemelo  \n",
       "...           ...              ...  \n",
       "43353     Twitter     irajasenador  \n",
       "43586     Twitter       tiaodaelka  \n",
       "43490     Twitter   deputadoelenil  \n",
       "43368     Twitter       katiaabreu  \n",
       "43418     Twitter        luterlima  \n",
       "\n",
       "[3538 rows x 6 columns]"
      ]
     },
     "execution_count": 56,
     "metadata": {},
     "output_type": "execute_result"
    }
   ],
   "source": [
    "twiteiros"
   ]
  },
  {
   "cell_type": "code",
   "execution_count": 57,
   "metadata": {
    "id": "Qy1ECxvFGIT1"
   },
   "outputs": [],
   "source": [
    "facebookeiros = df[df.rede_social == 'Facebook'].reset_index(drop=True)"
   ]
  },
  {
   "cell_type": "code",
   "execution_count": 58,
   "metadata": {},
   "outputs": [
    {
     "data": {
      "text/html": [
       "<div>\n",
       "<style scoped>\n",
       "    .dataframe tbody tr th:only-of-type {\n",
       "        vertical-align: middle;\n",
       "    }\n",
       "\n",
       "    .dataframe tbody tr th {\n",
       "        vertical-align: top;\n",
       "    }\n",
       "\n",
       "    .dataframe thead th {\n",
       "        text-align: right;\n",
       "    }\n",
       "</style>\n",
       "<table border=\"1\" class=\"dataframe\">\n",
       "  <thead>\n",
       "    <tr style=\"text-align: right;\">\n",
       "      <th></th>\n",
       "      <th>SQ_CANDIDATO</th>\n",
       "      <th>NR_ORDEM</th>\n",
       "      <th>DS_URL</th>\n",
       "      <th>domain</th>\n",
       "      <th>rede_social</th>\n",
       "    </tr>\n",
       "  </thead>\n",
       "  <tbody>\n",
       "    <tr>\n",
       "      <th>0</th>\n",
       "      <td>10001601425</td>\n",
       "      <td>2</td>\n",
       "      <td>https://www.facebook.com/driellemendes.pereira</td>\n",
       "      <td>facebook.com</td>\n",
       "      <td>Facebook</td>\n",
       "    </tr>\n",
       "    <tr>\n",
       "      <th>1</th>\n",
       "      <td>10001601427</td>\n",
       "      <td>2</td>\n",
       "      <td>https://www.facebook.com/pablobregense</td>\n",
       "      <td>facebook.com</td>\n",
       "      <td>Facebook</td>\n",
       "    </tr>\n",
       "    <tr>\n",
       "      <th>2</th>\n",
       "      <td>10001601430</td>\n",
       "      <td>2</td>\n",
       "      <td>https://www.facebook.com/eduribeiroac/</td>\n",
       "      <td>facebook.com</td>\n",
       "      <td>Facebook</td>\n",
       "    </tr>\n",
       "    <tr>\n",
       "      <th>3</th>\n",
       "      <td>10001601444</td>\n",
       "      <td>2</td>\n",
       "      <td>https://www.facebook.com/cleo.meneses.9</td>\n",
       "      <td>facebook.com</td>\n",
       "      <td>Facebook</td>\n",
       "    </tr>\n",
       "    <tr>\n",
       "      <th>4</th>\n",
       "      <td>10001601615</td>\n",
       "      <td>3</td>\n",
       "      <td>https://www.facebook.com/vandamilani.ac</td>\n",
       "      <td>facebook.com</td>\n",
       "      <td>Facebook</td>\n",
       "    </tr>\n",
       "    <tr>\n",
       "      <th>...</th>\n",
       "      <td>...</td>\n",
       "      <td>...</td>\n",
       "      <td>...</td>\n",
       "      <td>...</td>\n",
       "      <td>...</td>\n",
       "    </tr>\n",
       "    <tr>\n",
       "      <th>15078</th>\n",
       "      <td>270001700731</td>\n",
       "      <td>1</td>\n",
       "      <td>https://www.facebook.com/simone.alves.54772</td>\n",
       "      <td>facebook.com</td>\n",
       "      <td>Facebook</td>\n",
       "    </tr>\n",
       "    <tr>\n",
       "      <th>15079</th>\n",
       "      <td>270001700732</td>\n",
       "      <td>2</td>\n",
       "      <td>https://www.facebook.com/josyanne.fenelon.7</td>\n",
       "      <td>facebook.com</td>\n",
       "      <td>Facebook</td>\n",
       "    </tr>\n",
       "    <tr>\n",
       "      <th>15080</th>\n",
       "      <td>270001713170</td>\n",
       "      <td>2</td>\n",
       "      <td>https://www.facebook.com/senadorakatiaoficial</td>\n",
       "      <td>facebook.com</td>\n",
       "      <td>Facebook</td>\n",
       "    </tr>\n",
       "    <tr>\n",
       "      <th>15081</th>\n",
       "      <td>270001725829</td>\n",
       "      <td>1</td>\n",
       "      <td>https://www.facebook.com/profile.php?id=100010...</td>\n",
       "      <td>facebook.com</td>\n",
       "      <td>Facebook</td>\n",
       "    </tr>\n",
       "    <tr>\n",
       "      <th>15082</th>\n",
       "      <td>270001737722</td>\n",
       "      <td>2</td>\n",
       "      <td>https://www.facebook.com/mauricio.buffon.7</td>\n",
       "      <td>facebook.com</td>\n",
       "      <td>Facebook</td>\n",
       "    </tr>\n",
       "  </tbody>\n",
       "</table>\n",
       "<p>15083 rows × 5 columns</p>\n",
       "</div>"
      ],
      "text/plain": [
       "       SQ_CANDIDATO  NR_ORDEM  \\\n",
       "0       10001601425         2   \n",
       "1       10001601427         2   \n",
       "2       10001601430         2   \n",
       "3       10001601444         2   \n",
       "4       10001601615         3   \n",
       "...             ...       ...   \n",
       "15078  270001700731         1   \n",
       "15079  270001700732         2   \n",
       "15080  270001713170         2   \n",
       "15081  270001725829         1   \n",
       "15082  270001737722         2   \n",
       "\n",
       "                                                  DS_URL        domain  \\\n",
       "0         https://www.facebook.com/driellemendes.pereira  facebook.com   \n",
       "1                 https://www.facebook.com/pablobregense  facebook.com   \n",
       "2                 https://www.facebook.com/eduribeiroac/  facebook.com   \n",
       "3                https://www.facebook.com/cleo.meneses.9  facebook.com   \n",
       "4                https://www.facebook.com/vandamilani.ac  facebook.com   \n",
       "...                                                  ...           ...   \n",
       "15078        https://www.facebook.com/simone.alves.54772  facebook.com   \n",
       "15079        https://www.facebook.com/josyanne.fenelon.7  facebook.com   \n",
       "15080      https://www.facebook.com/senadorakatiaoficial  facebook.com   \n",
       "15081  https://www.facebook.com/profile.php?id=100010...  facebook.com   \n",
       "15082         https://www.facebook.com/mauricio.buffon.7  facebook.com   \n",
       "\n",
       "      rede_social  \n",
       "0        Facebook  \n",
       "1        Facebook  \n",
       "2        Facebook  \n",
       "3        Facebook  \n",
       "4        Facebook  \n",
       "...           ...  \n",
       "15078    Facebook  \n",
       "15079    Facebook  \n",
       "15080    Facebook  \n",
       "15081    Facebook  \n",
       "15082    Facebook  \n",
       "\n",
       "[15083 rows x 5 columns]"
      ]
     },
     "execution_count": 58,
     "metadata": {},
     "output_type": "execute_result"
    }
   ],
   "source": [
    "facebookeiros"
   ]
  },
  {
   "cell_type": "code",
   "execution_count": 59,
   "metadata": {},
   "outputs": [
    {
     "data": {
      "text/html": [
       "<div>\n",
       "<style scoped>\n",
       "    .dataframe tbody tr th:only-of-type {\n",
       "        vertical-align: middle;\n",
       "    }\n",
       "\n",
       "    .dataframe tbody tr th {\n",
       "        vertical-align: top;\n",
       "    }\n",
       "\n",
       "    .dataframe thead th {\n",
       "        text-align: right;\n",
       "    }\n",
       "</style>\n",
       "<table border=\"1\" class=\"dataframe\">\n",
       "  <thead>\n",
       "    <tr style=\"text-align: right;\">\n",
       "      <th></th>\n",
       "      <th>SQ_CANDIDATO</th>\n",
       "      <th>NR_ORDEM</th>\n",
       "      <th>DS_URL</th>\n",
       "      <th>domain</th>\n",
       "      <th>rede_social</th>\n",
       "    </tr>\n",
       "  </thead>\n",
       "  <tbody>\n",
       "    <tr>\n",
       "      <th>252</th>\n",
       "      <td>10001639519</td>\n",
       "      <td>8</td>\n",
       "      <td>https://chat.whatsapp.com/ibvuca8u5qeepgdkpvkwa4</td>\n",
       "      <td>chat.whatsapp.com</td>\n",
       "      <td>Whatsapp</td>\n",
       "    </tr>\n",
       "    <tr>\n",
       "      <th>198</th>\n",
       "      <td>10001649256</td>\n",
       "      <td>8</td>\n",
       "      <td>https://api.whatsapp.com/send?phone=11999023378</td>\n",
       "      <td>api.whatsapp.com</td>\n",
       "      <td>Whatsapp</td>\n",
       "    </tr>\n",
       "    <tr>\n",
       "      <th>1618</th>\n",
       "      <td>40001609310</td>\n",
       "      <td>8</td>\n",
       "      <td>https://wa.me/message/ocweirm5hwkye1</td>\n",
       "      <td>wa.me</td>\n",
       "      <td>Whatsapp</td>\n",
       "    </tr>\n",
       "    <tr>\n",
       "      <th>1212</th>\n",
       "      <td>40001609314</td>\n",
       "      <td>5</td>\n",
       "      <td>https://wa.me/qr/bfa6wf5j2hw4l</td>\n",
       "      <td>wa.me</td>\n",
       "      <td>Whatsapp</td>\n",
       "    </tr>\n",
       "    <tr>\n",
       "      <th>1284</th>\n",
       "      <td>40001609326</td>\n",
       "      <td>1</td>\n",
       "      <td>https://web.whatsapp.com/</td>\n",
       "      <td>web.whatsapp.com</td>\n",
       "      <td>Whatsapp</td>\n",
       "    </tr>\n",
       "    <tr>\n",
       "      <th>...</th>\n",
       "      <td>...</td>\n",
       "      <td>...</td>\n",
       "      <td>...</td>\n",
       "      <td>...</td>\n",
       "      <td>...</td>\n",
       "    </tr>\n",
       "    <tr>\n",
       "      <th>41352</th>\n",
       "      <td>250001619358</td>\n",
       "      <td>2</td>\n",
       "      <td>https://whatsapp.com/dl/.</td>\n",
       "      <td>whatsapp.com</td>\n",
       "      <td>Whatsapp</td>\n",
       "    </tr>\n",
       "    <tr>\n",
       "      <th>38944</th>\n",
       "      <td>250001619382</td>\n",
       "      <td>6</td>\n",
       "      <td>https://api.whatsapp.com/send/?phone=551191410...</td>\n",
       "      <td>api.whatsapp.com</td>\n",
       "      <td>Whatsapp</td>\n",
       "    </tr>\n",
       "    <tr>\n",
       "      <th>39751</th>\n",
       "      <td>250001620641</td>\n",
       "      <td>6</td>\n",
       "      <td>https://wa.me/message/lcoz3opcshweo1</td>\n",
       "      <td>wa.me</td>\n",
       "      <td>Whatsapp</td>\n",
       "    </tr>\n",
       "    <tr>\n",
       "      <th>41085</th>\n",
       "      <td>250001639592</td>\n",
       "      <td>6</td>\n",
       "      <td>https://api.whatsapp.com/send/?phone=551999861...</td>\n",
       "      <td>api.whatsapp.com</td>\n",
       "      <td>Whatsapp</td>\n",
       "    </tr>\n",
       "    <tr>\n",
       "      <th>43206</th>\n",
       "      <td>270001643553</td>\n",
       "      <td>7</td>\n",
       "      <td>https://api.whatsapp.com/send?1=ptbr&amp;phone=556...</td>\n",
       "      <td>api.whatsapp.com</td>\n",
       "      <td>Whatsapp</td>\n",
       "    </tr>\n",
       "  </tbody>\n",
       "</table>\n",
       "<p>140 rows × 5 columns</p>\n",
       "</div>"
      ],
      "text/plain": [
       "       SQ_CANDIDATO  NR_ORDEM  \\\n",
       "252     10001639519         8   \n",
       "198     10001649256         8   \n",
       "1618    40001609310         8   \n",
       "1212    40001609314         5   \n",
       "1284    40001609326         1   \n",
       "...             ...       ...   \n",
       "41352  250001619358         2   \n",
       "38944  250001619382         6   \n",
       "39751  250001620641         6   \n",
       "41085  250001639592         6   \n",
       "43206  270001643553         7   \n",
       "\n",
       "                                                  DS_URL             domain  \\\n",
       "252     https://chat.whatsapp.com/ibvuca8u5qeepgdkpvkwa4  chat.whatsapp.com   \n",
       "198      https://api.whatsapp.com/send?phone=11999023378   api.whatsapp.com   \n",
       "1618                https://wa.me/message/ocweirm5hwkye1              wa.me   \n",
       "1212                      https://wa.me/qr/bfa6wf5j2hw4l              wa.me   \n",
       "1284                           https://web.whatsapp.com/   web.whatsapp.com   \n",
       "...                                                  ...                ...   \n",
       "41352                          https://whatsapp.com/dl/.       whatsapp.com   \n",
       "38944  https://api.whatsapp.com/send/?phone=551191410...   api.whatsapp.com   \n",
       "39751               https://wa.me/message/lcoz3opcshweo1              wa.me   \n",
       "41085  https://api.whatsapp.com/send/?phone=551999861...   api.whatsapp.com   \n",
       "43206  https://api.whatsapp.com/send?1=ptbr&phone=556...   api.whatsapp.com   \n",
       "\n",
       "      rede_social  \n",
       "252      Whatsapp  \n",
       "198      Whatsapp  \n",
       "1618     Whatsapp  \n",
       "1212     Whatsapp  \n",
       "1284     Whatsapp  \n",
       "...           ...  \n",
       "41352    Whatsapp  \n",
       "38944    Whatsapp  \n",
       "39751    Whatsapp  \n",
       "41085    Whatsapp  \n",
       "43206    Whatsapp  \n",
       "\n",
       "[140 rows x 5 columns]"
      ]
     },
     "execution_count": 59,
     "metadata": {},
     "output_type": "execute_result"
    }
   ],
   "source": [
    "df[df.rede_social == 'Whatsapp']"
   ]
  },
  {
   "cell_type": "code",
   "execution_count": 60,
   "metadata": {},
   "outputs": [
    {
     "name": "stdout",
     "output_type": "stream",
     "text": [
      "   SQ_CANDIDATO  NR_ORDEM                                         DS_URL  \\\n",
      "0  120001650955         3             https://tinder.com/@andrelacerdams   \n",
      "1  130001615155         5  https://go.tinder.com/ilc4oml_lk4-m%c3%a9rcio   \n",
      "\n",
      "          domain rede_social  \n",
      "0     tinder.com      Tinder  \n",
      "1  go.tinder.com      Tinder  \n"
     ]
    }
   ],
   "source": [
    "print(df[df.rede_social == 'Tinder'].reset_index(drop=True))\n",
    "\n",
    "# 0  120001650955         3             https://tinder.com/@andrelacerdams   \n",
    "# 1  130001615155         5  https://go.tinder.com/ilc4oml_lk4-m%c3%a9rcio"
   ]
  },
  {
   "cell_type": "code",
   "execution_count": 61,
   "metadata": {},
   "outputs": [],
   "source": [
    "# exporta itens"
   ]
  },
  {
   "cell_type": "code",
   "execution_count": 63,
   "metadata": {},
   "outputs": [],
   "source": [
    "valida_redes_rank.columns = ['Rede Social/Site', 'Registros de candidatos']"
   ]
  },
  {
   "cell_type": "code",
   "execution_count": 65,
   "metadata": {},
   "outputs": [],
   "source": [
    "valida_redes_rank.to_csv('redes_sociais_candidatos.csv', index='False')"
   ]
  },
  {
   "cell_type": "code",
   "execution_count": null,
   "metadata": {},
   "outputs": [],
   "source": []
  }
 ],
 "metadata": {
  "colab": {
   "collapsed_sections": [],
   "provenance": []
  },
  "kernelspec": {
   "display_name": "Python 3 (ipykernel)",
   "language": "python",
   "name": "python3"
  },
  "language_info": {
   "codemirror_mode": {
    "name": "ipython",
    "version": 3
   },
   "file_extension": ".py",
   "mimetype": "text/x-python",
   "name": "python",
   "nbconvert_exporter": "python",
   "pygments_lexer": "ipython3",
   "version": "3.10.6"
  }
 },
 "nbformat": 4,
 "nbformat_minor": 1
}
