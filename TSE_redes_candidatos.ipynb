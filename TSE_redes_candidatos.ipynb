{
 "cells": [
  {
   "cell_type": "code",
   "execution_count": 1,
   "metadata": {
    "id": "muUlB8E4aA_X"
   },
   "outputs": [],
   "source": [
    "import os"
   ]
  },
  {
   "cell_type": "code",
   "execution_count": 2,
   "metadata": {},
   "outputs": [
    {
     "name": "stdout",
     "output_type": "stream",
     "text": [
      "C:\\Users\\rgarcia\\Documents\\Code\n"
     ]
    }
   ],
   "source": [
    "print(os.getcwd())"
   ]
  },
  {
   "cell_type": "code",
   "execution_count": 3,
   "metadata": {
    "id": "Z7r5PcaEi0D1"
   },
   "outputs": [],
   "source": [
    "import pandas as pd"
   ]
  },
  {
   "cell_type": "code",
   "execution_count": 4,
   "metadata": {
    "id": "yNBp_2JqFtIa"
   },
   "outputs": [],
   "source": [
    "from urllib.parse import urlparse"
   ]
  },
  {
   "cell_type": "code",
   "execution_count": 5,
   "metadata": {},
   "outputs": [],
   "source": [
    "from IPython.display import display, Markdown"
   ]
  },
  {
   "cell_type": "markdown",
   "metadata": {
    "id": "zomCL5ZN0RLL"
   },
   "source": [
    "PODER 360: [Sobe número de candidatos nas redes sociais; saiba as preferidas](https://www.poder360.com.br/eleicoes/sobe-numero-de-candidatos-nas-redes-sociais-saiba-as-preferidas/)\n",
    "\n",
    "G1: [Facebook e Instagram são redes mais populares entre candidatos; Twitter, TikTok e Spotify também estão na lista](https://g1.globo.com/politica/eleicoes/2022/eleicao-em-numeros/noticia/2022/08/24/facebook-e-instagram-sao-redes-mais-populares-entre-candidatos-twitter-tiktok-e-spotify-tambem-estao-na-lista.ghtml)\n",
    "\n",
    "TSE: [RESOLUÇÃO Nº 23.671, DE 14 DE DEZEMBRO DE 2021](https://www.tse.jus.br/legislacao/compilada/res/2021/resolucao-no-23-671-de-14-de-dezembro-de-2021)\n",
    "\n"
   ]
  },
  {
   "cell_type": "code",
   "execution_count": 6,
   "metadata": {
    "id": "9l5956P_V1qj"
   },
   "outputs": [],
   "source": [
    "UF_list = ['AC', 'AL', 'AP', 'AM', 'BA', 'CE', 'DF', 'ES', 'GO', 'MA', 'MS', 'MT', 'MG', 'PA', 'PB', 'PR', 'PE', 'PI', \n",
    "           'RJ', 'RN', 'RS', 'RO', 'RR', 'SC', 'SP', 'SE', 'TO']\n"
   ]
  },
  {
   "cell_type": "code",
   "execution_count": 7,
   "metadata": {
    "id": "20eNJdTFe1Fi"
   },
   "outputs": [],
   "source": [
    "user_agent = 'Mozilla/5.0 (Macintosh; Intel Mac OS X 10_10_0) AppleWebKit/600.1.17\\\n",
    " (KHTML, like Gecko) Version/8.0 Safari/600.1.17'"
   ]
  },
  {
   "cell_type": "code",
   "execution_count": 8,
   "metadata": {
    "id": "6vY4MD3qe06i"
   },
   "outputs": [],
   "source": [
    "consulta_cand = 'https://cdn.tse.jus.br/estatistica/sead/odsele/consulta_cand/'"
   ]
  },
  {
   "cell_type": "code",
   "execution_count": 9,
   "metadata": {
    "id": "tURGfmefV1na"
   },
   "outputs": [],
   "source": [
    "for i in UF_list:\n",
    "    os.system(f'wget --header=\"User-Agent: {user_agent}\" {consulta_cand}rede_social_candidato_2022_{i}.zip')\n",
    "    os.system(f'unzip -p rede_social_candidato_2022_{i}.zip rede_social_candidato_2022_{i}.csv > SocNet_{i}.csv')\n",
    "    os.system(f'del rede_social_candidato_2022_{i}.zip')\n",
    "    "
   ]
  },
  {
   "cell_type": "code",
   "execution_count": 10,
   "metadata": {
    "id": "MbEaiAiHqJ6X"
   },
   "outputs": [],
   "source": [
    "all_files = [i for i in os.listdir() if i[0:6] == 'SocNet']"
   ]
  },
  {
   "cell_type": "code",
   "execution_count": 11,
   "metadata": {
    "id": "YKUBSnFMqJ24"
   },
   "outputs": [],
   "source": [
    "li = []\n",
    "\n",
    "for filename in all_files:\n",
    "    df = pd.read_csv(filename, index_col=None, header=0, sep=';', encoding='ISO-8859-1', decimal=',', low_memory=False)\n",
    "    li.append(df)\n",
    "\n",
    "frame = pd.concat(li, axis=0, ignore_index=True)"
   ]
  },
  {
   "cell_type": "code",
   "execution_count": 12,
   "metadata": {
    "id": "TykzVGP8muDS"
   },
   "outputs": [],
   "source": [
    "for i in all_files:\n",
    "    os.system(f'del {i}')"
   ]
  },
  {
   "cell_type": "code",
   "execution_count": 13,
   "metadata": {
    "colab": {
     "base_uri": "https://localhost:8080/"
    },
    "id": "ynQbB9S0qJzU",
    "outputId": "77da7ed1-8c37-4014-ae14-ecc1878cb791"
   },
   "outputs": [],
   "source": [
    "frame.shape ; frame.to_csv('candidato_redes_total.csv', index=False)"
   ]
  },
  {
   "cell_type": "code",
   "execution_count": 14,
   "metadata": {
    "id": "-ii1uMbhleqM"
   },
   "outputs": [],
   "source": [
    "frame['domain'] = frame['DS_URL'].apply(lambda x: urlparse(x).netloc)"
   ]
  },
  {
   "cell_type": "code",
   "execution_count": 15,
   "metadata": {
    "id": "hVuD0wlUokjN"
   },
   "outputs": [],
   "source": [
    "frame['domain'] = frame['domain'].str.lower()"
   ]
  },
  {
   "cell_type": "code",
   "execution_count": 16,
   "metadata": {
    "colab": {
     "base_uri": "https://localhost:8080/"
    },
    "id": "J2NbpkHro1Jk",
    "outputId": "563b5bbd-5e11-4cd9-9be5-981b5f9d9c55"
   },
   "outputs": [
    {
     "name": "stderr",
     "output_type": "stream",
     "text": [
      "C:\\Users\\rgarcia\\AppData\\Local\\Temp\\ipykernel_22832\\4068980154.py:1: FutureWarning: The default value of regex will change from True to False in a future version.\n",
      "  frame['domain'] = frame.domain.str.replace('www.', '')\n"
     ]
    }
   ],
   "source": [
    "frame['domain'] = frame.domain.str.replace('www.', '')"
   ]
  },
  {
   "cell_type": "code",
   "execution_count": 17,
   "metadata": {
    "id": "0nOl2-Ise9hW"
   },
   "outputs": [],
   "source": [
    "df = frame[['SQ_CANDIDATO', 'NR_ORDEM', 'DS_URL', 'domain']].sort_values(by=['SQ_CANDIDATO', 'NR_ORDEM'])"
   ]
  },
  {
   "cell_type": "code",
   "execution_count": 18,
   "metadata": {
    "id": "xLoPrRPrkBsp"
   },
   "outputs": [],
   "source": [
    "df.DS_URL = df.DS_URL.str.lower()"
   ]
  },
  {
   "cell_type": "code",
   "execution_count": 62,
   "metadata": {},
   "outputs": [],
   "source": [
    "def md(x):\n",
    "     display(Markdown(x))"
   ]
  },
  {
   "cell_type": "code",
   "execution_count": 63,
   "metadata": {},
   "outputs": [
    {
     "data": {
      "text/markdown": [
       "> ### Quantidade de sites/perfis de rede registrados: \n",
       " > # <u>42088</u> \n"
      ],
      "text/plain": [
       "<IPython.core.display.Markdown object>"
      ]
     },
     "metadata": {},
     "output_type": "display_data"
    }
   ],
   "source": [
    "md(f'> ### Quantidade de sites/perfis de rede registrados: \\n > # <u>{frame.shape[0]}</u> \\n')"
   ]
  },
  {
   "cell_type": "code",
   "execution_count": 64,
   "metadata": {},
   "outputs": [],
   "source": [
    "# Filtros para identificação das redes"
   ]
  },
  {
   "cell_type": "code",
   "execution_count": 65,
   "metadata": {
    "id": "60P3DelfHGET"
   },
   "outputs": [],
   "source": [
    "facebook_id = ['facebook', 'faceoo', 'fecebo', 'feicib', 'fb.me', 'fb.com', 'acebook', \n",
    "               'faacebook', 'facebbook', 'fb.audio', 'fb.gg', 'fb.me', 'fb.watch', 'facebbok',\n",
    "               'faceboo', 'facebok']"
   ]
  },
  {
   "cell_type": "code",
   "execution_count": 66,
   "metadata": {
    "id": "ujhE6NY0Iogp"
   },
   "outputs": [],
   "source": [
    "twitter_id = ['twitter', 'twiter', 'tweet', 'twiit']"
   ]
  },
  {
   "cell_type": "code",
   "execution_count": 67,
   "metadata": {
    "id": "zQM4RNtjTYka"
   },
   "outputs": [],
   "source": [
    "instagram_id = ['instagram', 'instrag', 'istagra', 'istragra', 'instragam', 'instragram',\n",
    "                'intagram', 'intragra', 'instagran', 'tagran', 'tragran', 'instragran',\n",
    "                'instagam', 'instgram', 'istragam', 'www.instagram', 'www.instagram.com', 'insta',\n",
    "                'insagram']"
   ]
  },
  {
   "cell_type": "code",
   "execution_count": 68,
   "metadata": {
    "id": "i8RXuk4hU3PU"
   },
   "outputs": [],
   "source": [
    "youtube_id = ['youtube', 'yotube', 'yutub', 'outube', 'youtobe', 'youtu.be']"
   ]
  },
  {
   "cell_type": "code",
   "execution_count": 69,
   "metadata": {
    "id": "2H5UlY87U3LV"
   },
   "outputs": [],
   "source": [
    "tiktok_id = ['tiktok', 'tictoc', 'tictok', 'tiktoc', 'iktok', 'iktock', 'ictock', 'tktok',\n",
    "             'tiktk', 'tiktik', 'tiktak', 'Douyin']"
   ]
  },
  {
   "cell_type": "code",
   "execution_count": 70,
   "metadata": {
    "id": "5Ry-WwOwVzJL"
   },
   "outputs": [],
   "source": [
    "gettr_id = ['gettr']; snapchat_id = ['snapchat'] ; blogger_id = ['blogger']\n",
    "kwai_id = ['kwai', 'kw.ai', 'kuaishou'] ; telegram_id = ['telegram', 't.me'] ; linkedin_id = ['linkedin']\n",
    "pinterest_id = ['pinterest'] ; flickr_id = ['flickr'] ; whatsapp_id = ['whatsapp', 'wa.me']"
   ]
  },
  {
   "cell_type": "code",
   "execution_count": 71,
   "metadata": {
    "id": "exOQPIGYJEDD"
   },
   "outputs": [],
   "source": [
    "id_labels = [facebook_id, twitter_id, instagram_id, youtube_id, tiktok_id,\n",
    "             gettr_id, snapchat_id, blogger_id, kwai_id, telegram_id, linkedin_id,\n",
    "             pinterest_id, flickr_id, whatsapp_id, ['spotify'], ['wechat', 'weixin'],\n",
    "             ['reddit'], ['quora'], ['github'], ['tencent', 'qq.com'], ['twitch'],\n",
    "             ['discord'], ['parler'], ['soundcloud'], ['sina weibo', 'weibo'],\n",
    "             ['facebook messenger', 'messenger.com'], ['skype'], ['4chan'],\n",
    "             ['gab.com'], ['linktree', 'linktr.ee'], ['myspace'], ['tumblr'],\n",
    "             ['wordpress'], ['wixsite'], ['wikipedia'], ['tinder'], ['last,fm'], ['deezer'],\n",
    "            ['triller'], ['periscope'], ['vimeo'], ['baidu'], ['badoo']]"
   ]
  },
  {
   "cell_type": "code",
   "execution_count": 72,
   "metadata": {
    "id": "5SlcjhLxGlAy"
   },
   "outputs": [],
   "source": [
    "# Função para classificar as redes\n",
    "\n",
    "def id_network(x):\n",
    "    \n",
    "    net_id = ''\n",
    "\n",
    "    for j in id_labels:\n",
    "        if any(i in x for i in j):\n",
    "            net_id = j[0].title() \n",
    "        else:\n",
    "            pass\n",
    "\n",
    "    if net_id == '':\n",
    "        net_id = 'Outros'\n",
    "\n",
    "    return net_id"
   ]
  },
  {
   "cell_type": "code",
   "execution_count": 73,
   "metadata": {
    "id": "49Fe3SQDGkyH"
   },
   "outputs": [],
   "source": [
    "df['rede_social'] = df.DS_URL.apply(id_network)"
   ]
  },
  {
   "cell_type": "code",
   "execution_count": 32,
   "metadata": {
    "id": "3m0IB2GF5IeF"
   },
   "outputs": [],
   "source": [
    "valida_redes = df[['SQ_CANDIDATO',\n",
    "                          'domain', 'rede_social']].drop_duplicates().groupby(['domain', 'rede_social'\n",
    "                          ]).SQ_CANDIDATO.count().reset_index().sort_values(by='SQ_CANDIDATO', ascending=False)"
   ]
  },
  {
   "cell_type": "code",
   "execution_count": 33,
   "metadata": {
    "colab": {
     "base_uri": "https://localhost:8080/",
     "height": 677
    },
    "id": "78cHDSzB5Soy",
    "outputId": "750a00e5-397d-4410-f991-f64355763251"
   },
   "outputs": [
    {
     "data": {
      "text/html": [
       "<div>\n",
       "<style scoped>\n",
       "    .dataframe tbody tr th:only-of-type {\n",
       "        vertical-align: middle;\n",
       "    }\n",
       "\n",
       "    .dataframe tbody tr th {\n",
       "        vertical-align: top;\n",
       "    }\n",
       "\n",
       "    .dataframe thead th {\n",
       "        text-align: right;\n",
       "    }\n",
       "</style>\n",
       "<table border=\"1\" class=\"dataframe\">\n",
       "  <thead>\n",
       "    <tr style=\"text-align: right;\">\n",
       "      <th></th>\n",
       "      <th>domain</th>\n",
       "      <th>rede_social</th>\n",
       "      <th>SQ_CANDIDATO</th>\n",
       "    </tr>\n",
       "  </thead>\n",
       "  <tbody>\n",
       "    <tr>\n",
       "      <th>1885</th>\n",
       "      <td>instagram.com</td>\n",
       "      <td>Instagram</td>\n",
       "      <td>12753</td>\n",
       "    </tr>\n",
       "    <tr>\n",
       "      <th>1480</th>\n",
       "      <td>facebook.com</td>\n",
       "      <td>Facebook</td>\n",
       "      <td>10833</td>\n",
       "    </tr>\n",
       "    <tr>\n",
       "      <th>3744</th>\n",
       "      <td>twitter.com</td>\n",
       "      <td>Twitter</td>\n",
       "      <td>3124</td>\n",
       "    </tr>\n",
       "    <tr>\n",
       "      <th>3961</th>\n",
       "      <td>youtube.com</td>\n",
       "      <td>Youtube</td>\n",
       "      <td>2226</td>\n",
       "    </tr>\n",
       "    <tr>\n",
       "      <th>3685</th>\n",
       "      <td>tiktok.com</td>\n",
       "      <td>Tiktok</td>\n",
       "      <td>1987</td>\n",
       "    </tr>\n",
       "    <tr>\n",
       "      <th>2292</th>\n",
       "      <td>linkedin.com</td>\n",
       "      <td>Linkedin</td>\n",
       "      <td>495</td>\n",
       "    </tr>\n",
       "    <tr>\n",
       "      <th>2412</th>\n",
       "      <td>m.facebook.com</td>\n",
       "      <td>Facebook</td>\n",
       "      <td>322</td>\n",
       "    </tr>\n",
       "    <tr>\n",
       "      <th>3893</th>\n",
       "      <td>web.facebook.com</td>\n",
       "      <td>Facebook</td>\n",
       "      <td>286</td>\n",
       "    </tr>\n",
       "    <tr>\n",
       "      <th>3126</th>\n",
       "      <td>pt-br.facebook.com</td>\n",
       "      <td>Facebook</td>\n",
       "      <td>282</td>\n",
       "    </tr>\n",
       "    <tr>\n",
       "      <th>3577</th>\n",
       "      <td>t.me</td>\n",
       "      <td>Telegram</td>\n",
       "      <td>176</td>\n",
       "    </tr>\n",
       "    <tr>\n",
       "      <th>2702</th>\n",
       "      <td>mobile.twitter.com</td>\n",
       "      <td>Twitter</td>\n",
       "      <td>173</td>\n",
       "    </tr>\n",
       "    <tr>\n",
       "      <th>3851</th>\n",
       "      <td>vm.tiktok.com</td>\n",
       "      <td>Tiktok</td>\n",
       "      <td>154</td>\n",
       "    </tr>\n",
       "    <tr>\n",
       "      <th>2299</th>\n",
       "      <td>linktr.ee</td>\n",
       "      <td>Linktree</td>\n",
       "      <td>126</td>\n",
       "    </tr>\n",
       "    <tr>\n",
       "      <th>3391</th>\n",
       "      <td>s.kw.ai</td>\n",
       "      <td>Kwai</td>\n",
       "      <td>120</td>\n",
       "    </tr>\n",
       "    <tr>\n",
       "      <th>1907</th>\n",
       "      <td>instagran.com</td>\n",
       "      <td>Instagram</td>\n",
       "      <td>91</td>\n",
       "    </tr>\n",
       "    <tr>\n",
       "      <th>1883</th>\n",
       "      <td>instagram</td>\n",
       "      <td>Instagram</td>\n",
       "      <td>67</td>\n",
       "    </tr>\n",
       "    <tr>\n",
       "      <th>3864</th>\n",
       "      <td>wa.me</td>\n",
       "      <td>Whatsapp</td>\n",
       "      <td>59</td>\n",
       "    </tr>\n",
       "    <tr>\n",
       "      <th>1485</th>\n",
       "      <td>facebook.com.br</td>\n",
       "      <td>Facebook</td>\n",
       "      <td>58</td>\n",
       "    </tr>\n",
       "    <tr>\n",
       "      <th>1605</th>\n",
       "      <td>flickr.com</td>\n",
       "      <td>Flickr</td>\n",
       "      <td>57</td>\n",
       "    </tr>\n",
       "    <tr>\n",
       "      <th>1703</th>\n",
       "      <td>gettr.com</td>\n",
       "      <td>Gettr</td>\n",
       "      <td>52</td>\n",
       "    </tr>\n",
       "  </tbody>\n",
       "</table>\n",
       "</div>"
      ],
      "text/plain": [
       "                  domain rede_social  SQ_CANDIDATO\n",
       "1885       instagram.com   Instagram         12753\n",
       "1480        facebook.com    Facebook         10833\n",
       "3744         twitter.com     Twitter          3124\n",
       "3961         youtube.com     Youtube          2226\n",
       "3685          tiktok.com      Tiktok          1987\n",
       "2292        linkedin.com    Linkedin           495\n",
       "2412      m.facebook.com    Facebook           322\n",
       "3893    web.facebook.com    Facebook           286\n",
       "3126  pt-br.facebook.com    Facebook           282\n",
       "3577                t.me    Telegram           176\n",
       "2702  mobile.twitter.com     Twitter           173\n",
       "3851       vm.tiktok.com      Tiktok           154\n",
       "2299           linktr.ee    Linktree           126\n",
       "3391             s.kw.ai        Kwai           120\n",
       "1907       instagran.com   Instagram            91\n",
       "1883           instagram   Instagram            67\n",
       "3864               wa.me    Whatsapp            59\n",
       "1485     facebook.com.br    Facebook            58\n",
       "1605          flickr.com      Flickr            57\n",
       "1703           gettr.com       Gettr            52"
      ]
     },
     "execution_count": 33,
     "metadata": {},
     "output_type": "execute_result"
    }
   ],
   "source": [
    "valida_redes.head(20)"
   ]
  },
  {
   "cell_type": "code",
   "execution_count": 34,
   "metadata": {},
   "outputs": [],
   "source": [
    "valida_redes_rank = valida_redes.groupby(['rede_social']).SQ_CANDIDATO.sum().reset_index().sort_values(by='SQ_CANDIDATO', ascending=False).reset_index(drop=True)"
   ]
  },
  {
   "cell_type": "code",
   "execution_count": 35,
   "metadata": {},
   "outputs": [
    {
     "name": "stdout",
     "output_type": "stream",
     "text": [
      "           rede_social  SQ_CANDIDATO\n",
      "0            Instagram         13083\n",
      "1             Facebook         11951\n",
      "2               Outros          3937\n",
      "3              Twitter          3373\n",
      "4              Youtube          2291\n",
      "5               Tiktok          2177\n",
      "6             Linkedin           542\n",
      "7             Telegram           206\n",
      "8                 Kwai           157\n",
      "9             Linktree           127\n",
      "10            Whatsapp           122\n",
      "11              Flickr            57\n",
      "12               Gettr            54\n",
      "13             Wixsite            23\n",
      "14             Spotify            22\n",
      "15           Pinterest            10\n",
      "16            Snapchat             8\n",
      "17           Wordpress             7\n",
      "18              Parler             6\n",
      "19          Soundcloud             4\n",
      "20              Twitch             4\n",
      "21           Wikipedia             4\n",
      "22             Blogger             2\n",
      "23              Tinder             2\n",
      "24              Tumblr             2\n",
      "25  Facebook Messenger             2\n",
      "26              Reddit             1\n",
      "27              Github             1\n",
      "28             Gab.Com             1\n",
      "29              Deezer             1\n",
      "30               Badoo             1\n"
     ]
    }
   ],
   "source": [
    "print(valida_redes_rank)"
   ]
  },
  {
   "cell_type": "code",
   "execution_count": 37,
   "metadata": {},
   "outputs": [
    {
     "data": {
      "text/html": [
       "<div>\n",
       "<style scoped>\n",
       "    .dataframe tbody tr th:only-of-type {\n",
       "        vertical-align: middle;\n",
       "    }\n",
       "\n",
       "    .dataframe tbody tr th {\n",
       "        vertical-align: top;\n",
       "    }\n",
       "\n",
       "    .dataframe thead th {\n",
       "        text-align: right;\n",
       "    }\n",
       "</style>\n",
       "<table border=\"1\" class=\"dataframe\">\n",
       "  <thead>\n",
       "    <tr style=\"text-align: right;\">\n",
       "      <th></th>\n",
       "      <th>SQ_CANDIDATO</th>\n",
       "      <th>NR_ORDEM</th>\n",
       "      <th>DS_URL</th>\n",
       "      <th>domain</th>\n",
       "      <th>rede_social</th>\n",
       "    </tr>\n",
       "  </thead>\n",
       "  <tbody>\n",
       "    <tr>\n",
       "      <th>11763</th>\n",
       "      <td>120001650955</td>\n",
       "      <td>1</td>\n",
       "      <td>https://twitter.com/andrelacerdams</td>\n",
       "      <td>twitter.com</td>\n",
       "      <td>Twitter</td>\n",
       "    </tr>\n",
       "    <tr>\n",
       "      <th>11766</th>\n",
       "      <td>120001650955</td>\n",
       "      <td>2</td>\n",
       "      <td>https://www.tiktok.com/@andrelacerdams?_t=8uhp...</td>\n",
       "      <td>tiktok.com</td>\n",
       "      <td>Tiktok</td>\n",
       "    </tr>\n",
       "    <tr>\n",
       "      <th>11764</th>\n",
       "      <td>120001650955</td>\n",
       "      <td>3</td>\n",
       "      <td>https://tinder.com/@andrelacerdams</td>\n",
       "      <td>tinder.com</td>\n",
       "      <td>Tinder</td>\n",
       "    </tr>\n",
       "    <tr>\n",
       "      <th>11765</th>\n",
       "      <td>120001650955</td>\n",
       "      <td>4</td>\n",
       "      <td>https://www.linkedin.com/mwlite/in/andrelacerdams</td>\n",
       "      <td>linkedin.com</td>\n",
       "      <td>Linkedin</td>\n",
       "    </tr>\n",
       "    <tr>\n",
       "      <th>11767</th>\n",
       "      <td>120001650955</td>\n",
       "      <td>5</td>\n",
       "      <td>https://www.facebook.com/andrelacerdams</td>\n",
       "      <td>facebook.com</td>\n",
       "      <td>Facebook</td>\n",
       "    </tr>\n",
       "    <tr>\n",
       "      <th>11762</th>\n",
       "      <td>120001650955</td>\n",
       "      <td>6</td>\n",
       "      <td>https://www.instagram.com/andrelacerdams</td>\n",
       "      <td>instagram.com</td>\n",
       "      <td>Instagram</td>\n",
       "    </tr>\n",
       "    <tr>\n",
       "      <th>10184</th>\n",
       "      <td>130001615155</td>\n",
       "      <td>1</td>\n",
       "      <td>https://www.instagram.com/mercio.m.antunes/</td>\n",
       "      <td>instagram.com</td>\n",
       "      <td>Instagram</td>\n",
       "    </tr>\n",
       "    <tr>\n",
       "      <th>10185</th>\n",
       "      <td>130001615155</td>\n",
       "      <td>2</td>\n",
       "      <td>https://twitter.com/merciomotamg</td>\n",
       "      <td>twitter.com</td>\n",
       "      <td>Twitter</td>\n",
       "    </tr>\n",
       "    <tr>\n",
       "      <th>10186</th>\n",
       "      <td>130001615155</td>\n",
       "      <td>3</td>\n",
       "      <td>https://www.facebook.com/profile.php?id=100084...</td>\n",
       "      <td>facebook.com</td>\n",
       "      <td>Facebook</td>\n",
       "    </tr>\n",
       "    <tr>\n",
       "      <th>10183</th>\n",
       "      <td>130001615155</td>\n",
       "      <td>4</td>\n",
       "      <td>https://www.youtube.com/channel/uc2fkkbb-logun...</td>\n",
       "      <td>youtube.com</td>\n",
       "      <td>Youtube</td>\n",
       "    </tr>\n",
       "    <tr>\n",
       "      <th>10182</th>\n",
       "      <td>130001615155</td>\n",
       "      <td>5</td>\n",
       "      <td>https://go.tinder.com/ilc4oml_lk4-m%c3%a9rcio</td>\n",
       "      <td>go.tinder.com</td>\n",
       "      <td>Tinder</td>\n",
       "    </tr>\n",
       "  </tbody>\n",
       "</table>\n",
       "</div>"
      ],
      "text/plain": [
       "       SQ_CANDIDATO  NR_ORDEM  \\\n",
       "11763  120001650955         1   \n",
       "11766  120001650955         2   \n",
       "11764  120001650955         3   \n",
       "11765  120001650955         4   \n",
       "11767  120001650955         5   \n",
       "11762  120001650955         6   \n",
       "10184  130001615155         1   \n",
       "10185  130001615155         2   \n",
       "10186  130001615155         3   \n",
       "10183  130001615155         4   \n",
       "10182  130001615155         5   \n",
       "\n",
       "                                                  DS_URL         domain  \\\n",
       "11763                 https://twitter.com/andrelacerdams    twitter.com   \n",
       "11766  https://www.tiktok.com/@andrelacerdams?_t=8uhp...     tiktok.com   \n",
       "11764                 https://tinder.com/@andrelacerdams     tinder.com   \n",
       "11765  https://www.linkedin.com/mwlite/in/andrelacerdams   linkedin.com   \n",
       "11767            https://www.facebook.com/andrelacerdams   facebook.com   \n",
       "11762           https://www.instagram.com/andrelacerdams  instagram.com   \n",
       "10184        https://www.instagram.com/mercio.m.antunes/  instagram.com   \n",
       "10185                   https://twitter.com/merciomotamg    twitter.com   \n",
       "10186  https://www.facebook.com/profile.php?id=100084...   facebook.com   \n",
       "10183  https://www.youtube.com/channel/uc2fkkbb-logun...    youtube.com   \n",
       "10182      https://go.tinder.com/ilc4oml_lk4-m%c3%a9rcio  go.tinder.com   \n",
       "\n",
       "      rede_social  \n",
       "11763     Twitter  \n",
       "11766      Tiktok  \n",
       "11764      Tinder  \n",
       "11765    Linkedin  \n",
       "11767    Facebook  \n",
       "11762   Instagram  \n",
       "10184   Instagram  \n",
       "10185     Twitter  \n",
       "10186    Facebook  \n",
       "10183     Youtube  \n",
       "10182      Tinder  "
      ]
     },
     "execution_count": 37,
     "metadata": {},
     "output_type": "execute_result"
    }
   ],
   "source": [
    "# Os candidatos com Tinder\n",
    "\n",
    "df[(df.SQ_CANDIDATO == 120001650955) | (df.SQ_CANDIDATO == 130001615155)]"
   ]
  },
  {
   "cell_type": "code",
   "execution_count": 38,
   "metadata": {
    "id": "GlOuvvMGoOhB"
   },
   "outputs": [],
   "source": [
    "df_dd = df[['SQ_CANDIDATO', 'rede_social']].reset_index(drop=True)"
   ]
  },
  {
   "cell_type": "code",
   "execution_count": 43,
   "metadata": {
    "colab": {
     "base_uri": "https://localhost:8080/"
    },
    "id": "qa3d0XbkwBVT",
    "outputId": "8c5a4439-5896-4df0-dfc8-1dedde0c9003"
   },
   "outputs": [
    {
     "data": {
      "text/markdown": [
       "> ### Total de candidatos com pelo menos uma rede/site: \n",
       " > # 15215"
      ],
      "text/plain": [
       "<IPython.core.display.Markdown object>"
      ]
     },
     "metadata": {},
     "output_type": "display_data"
    }
   ],
   "source": [
    "md(f'> ### Total de candidatos com pelo menos uma rede/site: \\n > # {str(len(df.SQ_CANDIDATO.unique()))}')"
   ]
  },
  {
   "cell_type": "code",
   "execution_count": 44,
   "metadata": {
    "id": "P5DsQv9lm9dx"
   },
   "outputs": [],
   "source": [
    "ranking_redes = df_dd.groupby('rede_social').SQ_CANDIDATO.count().reset_index().sort_values(by='SQ_CANDIDATO', ascending=False).reset_index(drop=True)"
   ]
  },
  {
   "cell_type": "code",
   "execution_count": 45,
   "metadata": {
    "id": "1ZQY3P7mm9Uu"
   },
   "outputs": [],
   "source": [
    "ranking_outros = ranking_redes[ranking_redes.rede_social == 'Outros'].reset_index(drop=True)"
   ]
  },
  {
   "cell_type": "code",
   "execution_count": 46,
   "metadata": {
    "id": "ABRZhFl4m9Ra"
   },
   "outputs": [],
   "source": [
    "ranking_com_id = ranking_redes[ranking_redes.rede_social != 'Outros'].reset_index(drop=True)"
   ]
  },
  {
   "cell_type": "code",
   "execution_count": 47,
   "metadata": {
    "colab": {
     "base_uri": "https://localhost:8080/",
     "height": 928
    },
    "id": "q8TagxjLm9N1",
    "outputId": "49e34f3f-348d-46de-b571-63cf25558ba2"
   },
   "outputs": [],
   "source": [
    "ranking_redes = pd.concat([ranking_com_id, ranking_outros]).reset_index(drop=True)"
   ]
  },
  {
   "cell_type": "code",
   "execution_count": 48,
   "metadata": {},
   "outputs": [],
   "source": [
    "del ranking_com_id ; del ranking_outros"
   ]
  },
  {
   "cell_type": "code",
   "execution_count": 51,
   "metadata": {},
   "outputs": [
    {
     "data": {
      "text/html": [
       "<div>\n",
       "<style scoped>\n",
       "    .dataframe tbody tr th:only-of-type {\n",
       "        vertical-align: middle;\n",
       "    }\n",
       "\n",
       "    .dataframe tbody tr th {\n",
       "        vertical-align: top;\n",
       "    }\n",
       "\n",
       "    .dataframe thead th {\n",
       "        text-align: right;\n",
       "    }\n",
       "</style>\n",
       "<table border=\"1\" class=\"dataframe\">\n",
       "  <thead>\n",
       "    <tr style=\"text-align: right;\">\n",
       "      <th></th>\n",
       "      <th>rede_social</th>\n",
       "      <th>SQ_CANDIDATO</th>\n",
       "    </tr>\n",
       "  </thead>\n",
       "  <tbody>\n",
       "    <tr>\n",
       "      <th>0</th>\n",
       "      <td>Facebook</td>\n",
       "      <td>14512</td>\n",
       "    </tr>\n",
       "    <tr>\n",
       "      <th>1</th>\n",
       "      <td>Instagram</td>\n",
       "      <td>14073</td>\n",
       "    </tr>\n",
       "    <tr>\n",
       "      <th>2</th>\n",
       "      <td>Twitter</td>\n",
       "      <td>3458</td>\n",
       "    </tr>\n",
       "    <tr>\n",
       "      <th>3</th>\n",
       "      <td>Youtube</td>\n",
       "      <td>2378</td>\n",
       "    </tr>\n",
       "    <tr>\n",
       "      <th>4</th>\n",
       "      <td>Tiktok</td>\n",
       "      <td>2232</td>\n",
       "    </tr>\n",
       "    <tr>\n",
       "      <th>5</th>\n",
       "      <td>Linkedin</td>\n",
       "      <td>549</td>\n",
       "    </tr>\n",
       "    <tr>\n",
       "      <th>6</th>\n",
       "      <td>Telegram</td>\n",
       "      <td>216</td>\n",
       "    </tr>\n",
       "    <tr>\n",
       "      <th>7</th>\n",
       "      <td>Kwai</td>\n",
       "      <td>160</td>\n",
       "    </tr>\n",
       "    <tr>\n",
       "      <th>8</th>\n",
       "      <td>Whatsapp</td>\n",
       "      <td>137</td>\n",
       "    </tr>\n",
       "    <tr>\n",
       "      <th>9</th>\n",
       "      <td>Linktree</td>\n",
       "      <td>130</td>\n",
       "    </tr>\n",
       "    <tr>\n",
       "      <th>10</th>\n",
       "      <td>Flickr</td>\n",
       "      <td>58</td>\n",
       "    </tr>\n",
       "    <tr>\n",
       "      <th>11</th>\n",
       "      <td>Gettr</td>\n",
       "      <td>54</td>\n",
       "    </tr>\n",
       "    <tr>\n",
       "      <th>12</th>\n",
       "      <td>Wixsite</td>\n",
       "      <td>25</td>\n",
       "    </tr>\n",
       "    <tr>\n",
       "      <th>13</th>\n",
       "      <td>Spotify</td>\n",
       "      <td>22</td>\n",
       "    </tr>\n",
       "    <tr>\n",
       "      <th>14</th>\n",
       "      <td>Pinterest</td>\n",
       "      <td>11</td>\n",
       "    </tr>\n",
       "    <tr>\n",
       "      <th>15</th>\n",
       "      <td>Snapchat</td>\n",
       "      <td>9</td>\n",
       "    </tr>\n",
       "    <tr>\n",
       "      <th>16</th>\n",
       "      <td>Wordpress</td>\n",
       "      <td>7</td>\n",
       "    </tr>\n",
       "    <tr>\n",
       "      <th>17</th>\n",
       "      <td>Parler</td>\n",
       "      <td>6</td>\n",
       "    </tr>\n",
       "    <tr>\n",
       "      <th>18</th>\n",
       "      <td>Soundcloud</td>\n",
       "      <td>4</td>\n",
       "    </tr>\n",
       "    <tr>\n",
       "      <th>19</th>\n",
       "      <td>Twitch</td>\n",
       "      <td>4</td>\n",
       "    </tr>\n",
       "    <tr>\n",
       "      <th>20</th>\n",
       "      <td>Wikipedia</td>\n",
       "      <td>4</td>\n",
       "    </tr>\n",
       "    <tr>\n",
       "      <th>21</th>\n",
       "      <td>Blogger</td>\n",
       "      <td>2</td>\n",
       "    </tr>\n",
       "    <tr>\n",
       "      <th>22</th>\n",
       "      <td>Tinder</td>\n",
       "      <td>2</td>\n",
       "    </tr>\n",
       "    <tr>\n",
       "      <th>23</th>\n",
       "      <td>Tumblr</td>\n",
       "      <td>2</td>\n",
       "    </tr>\n",
       "    <tr>\n",
       "      <th>24</th>\n",
       "      <td>Facebook Messenger</td>\n",
       "      <td>2</td>\n",
       "    </tr>\n",
       "    <tr>\n",
       "      <th>25</th>\n",
       "      <td>Reddit</td>\n",
       "      <td>1</td>\n",
       "    </tr>\n",
       "    <tr>\n",
       "      <th>26</th>\n",
       "      <td>Github</td>\n",
       "      <td>1</td>\n",
       "    </tr>\n",
       "    <tr>\n",
       "      <th>27</th>\n",
       "      <td>Gab.Com</td>\n",
       "      <td>1</td>\n",
       "    </tr>\n",
       "    <tr>\n",
       "      <th>28</th>\n",
       "      <td>Deezer</td>\n",
       "      <td>1</td>\n",
       "    </tr>\n",
       "    <tr>\n",
       "      <th>29</th>\n",
       "      <td>Badoo</td>\n",
       "      <td>1</td>\n",
       "    </tr>\n",
       "    <tr>\n",
       "      <th>30</th>\n",
       "      <td>Outros</td>\n",
       "      <td>4026</td>\n",
       "    </tr>\n",
       "  </tbody>\n",
       "</table>\n",
       "</div>"
      ],
      "text/plain": [
       "           rede_social  SQ_CANDIDATO\n",
       "0             Facebook         14512\n",
       "1            Instagram         14073\n",
       "2              Twitter          3458\n",
       "3              Youtube          2378\n",
       "4               Tiktok          2232\n",
       "5             Linkedin           549\n",
       "6             Telegram           216\n",
       "7                 Kwai           160\n",
       "8             Whatsapp           137\n",
       "9             Linktree           130\n",
       "10              Flickr            58\n",
       "11               Gettr            54\n",
       "12             Wixsite            25\n",
       "13             Spotify            22\n",
       "14           Pinterest            11\n",
       "15            Snapchat             9\n",
       "16           Wordpress             7\n",
       "17              Parler             6\n",
       "18          Soundcloud             4\n",
       "19              Twitch             4\n",
       "20           Wikipedia             4\n",
       "21             Blogger             2\n",
       "22              Tinder             2\n",
       "23              Tumblr             2\n",
       "24  Facebook Messenger             2\n",
       "25              Reddit             1\n",
       "26              Github             1\n",
       "27             Gab.Com             1\n",
       "28              Deezer             1\n",
       "29               Badoo             1\n",
       "30              Outros          4026"
      ]
     },
     "execution_count": 51,
     "metadata": {},
     "output_type": "execute_result"
    }
   ],
   "source": [
    "ranking_redes"
   ]
  },
  {
   "cell_type": "code",
   "execution_count": null,
   "metadata": {},
   "outputs": [],
   "source": []
  },
  {
   "cell_type": "code",
   "execution_count": 52,
   "metadata": {
    "id": "jEn1CuXm7NdW"
   },
   "outputs": [],
   "source": [
    "twiteiros = df[df.rede_social == 'Twitter']"
   ]
  },
  {
   "cell_type": "code",
   "execution_count": 53,
   "metadata": {
    "colab": {
     "base_uri": "https://localhost:8080/"
    },
    "id": "8oDQMZ9jBqPN",
    "outputId": "ed4f3e0f-5687-479e-b578-4e412fd3a4cd"
   },
   "outputs": [
    {
     "name": "stderr",
     "output_type": "stream",
     "text": [
      "C:\\Users\\rgarcia\\AppData\\Local\\Temp\\ipykernel_22832\\4169020061.py:1: SettingWithCopyWarning: \n",
      "A value is trying to be set on a copy of a slice from a DataFrame.\n",
      "Try using .loc[row_indexer,col_indexer] = value instead\n",
      "\n",
      "See the caveats in the documentation: https://pandas.pydata.org/pandas-docs/stable/user_guide/indexing.html#returning-a-view-versus-a-copy\n",
      "  twiteiros['handle'] = twiteiros.DS_URL.apply(lambda x: x.split('.com/')[-1].split(\"?\")[0].replace(':','').replace('@','').split(\"/\")[0])\n"
     ]
    }
   ],
   "source": [
    "twiteiros['handle'] = twiteiros.DS_URL.apply(lambda x: x.split('.com/')[-1].split(\"?\")[0].replace(':','').replace('@','').split(\"/\")[0])"
   ]
  },
  {
   "cell_type": "code",
   "execution_count": 55,
   "metadata": {
    "colab": {
     "base_uri": "https://localhost:8080/",
     "height": 1000
    },
    "id": "0taryFN7B5g4",
    "outputId": "9d5b6ca0-4da1-480f-94db-d048d03a3695"
   },
   "outputs": [
    {
     "data": {
      "text/html": [
       "<div>\n",
       "<style scoped>\n",
       "    .dataframe tbody tr th:only-of-type {\n",
       "        vertical-align: middle;\n",
       "    }\n",
       "\n",
       "    .dataframe tbody tr th {\n",
       "        vertical-align: top;\n",
       "    }\n",
       "\n",
       "    .dataframe thead th {\n",
       "        text-align: right;\n",
       "    }\n",
       "</style>\n",
       "<table border=\"1\" class=\"dataframe\">\n",
       "  <thead>\n",
       "    <tr style=\"text-align: right;\">\n",
       "      <th></th>\n",
       "      <th>SQ_CANDIDATO</th>\n",
       "      <th>NR_ORDEM</th>\n",
       "      <th>DS_URL</th>\n",
       "      <th>domain</th>\n",
       "      <th>rede_social</th>\n",
       "      <th>handle</th>\n",
       "    </tr>\n",
       "  </thead>\n",
       "  <tbody>\n",
       "    <tr>\n",
       "      <th>415</th>\n",
       "      <td>10001601430</td>\n",
       "      <td>3</td>\n",
       "      <td>https://twitter.com/eduribeiroac</td>\n",
       "      <td>twitter.com</td>\n",
       "      <td>Twitter</td>\n",
       "      <td>eduribeiroac</td>\n",
       "    </tr>\n",
       "    <tr>\n",
       "      <th>402</th>\n",
       "      <td>10001606307</td>\n",
       "      <td>3</td>\n",
       "      <td>https://twitter.com/odavidhall36</td>\n",
       "      <td>twitter.com</td>\n",
       "      <td>Twitter</td>\n",
       "      <td>odavidhall36</td>\n",
       "    </tr>\n",
       "    <tr>\n",
       "      <th>292</th>\n",
       "      <td>10001606585</td>\n",
       "      <td>2</td>\n",
       "      <td>https://twitter.com/dimassandas</td>\n",
       "      <td>twitter.com</td>\n",
       "      <td>Twitter</td>\n",
       "      <td>dimassandas</td>\n",
       "    </tr>\n",
       "    <tr>\n",
       "      <th>380</th>\n",
       "      <td>10001613550</td>\n",
       "      <td>3</td>\n",
       "      <td>https://twitter.com/leodebritoac</td>\n",
       "      <td>twitter.com</td>\n",
       "      <td>Twitter</td>\n",
       "      <td>leodebritoac</td>\n",
       "    </tr>\n",
       "    <tr>\n",
       "      <th>21</th>\n",
       "      <td>10001622769</td>\n",
       "      <td>3</td>\n",
       "      <td>https://twitter.com/dramichellemelo</td>\n",
       "      <td>twitter.com</td>\n",
       "      <td>Twitter</td>\n",
       "      <td>dramichellemelo</td>\n",
       "    </tr>\n",
       "    <tr>\n",
       "      <th>...</th>\n",
       "      <td>...</td>\n",
       "      <td>...</td>\n",
       "      <td>...</td>\n",
       "      <td>...</td>\n",
       "      <td>...</td>\n",
       "      <td>...</td>\n",
       "    </tr>\n",
       "    <tr>\n",
       "      <th>41929</th>\n",
       "      <td>270001697127</td>\n",
       "      <td>2</td>\n",
       "      <td>https://twitter.com/irajasenador?t=u3e5yrd3lkd...</td>\n",
       "      <td>twitter.com</td>\n",
       "      <td>Twitter</td>\n",
       "      <td>irajasenador</td>\n",
       "    </tr>\n",
       "    <tr>\n",
       "      <th>41768</th>\n",
       "      <td>270001700073</td>\n",
       "      <td>2</td>\n",
       "      <td>https://twitter.com/tiaodaelka?s=11&amp;t=o6zi-ovk...</td>\n",
       "      <td>twitter.com</td>\n",
       "      <td>Twitter</td>\n",
       "      <td>tiaodaelka</td>\n",
       "    </tr>\n",
       "    <tr>\n",
       "      <th>41996</th>\n",
       "      <td>270001700076</td>\n",
       "      <td>3</td>\n",
       "      <td>https://twitter.com/deputadoelenil?s=11&amp;t=mhp_...</td>\n",
       "      <td>twitter.com</td>\n",
       "      <td>Twitter</td>\n",
       "      <td>deputadoelenil</td>\n",
       "    </tr>\n",
       "    <tr>\n",
       "      <th>41543</th>\n",
       "      <td>270001713170</td>\n",
       "      <td>3</td>\n",
       "      <td>https://twitter.com/katiaabreu</td>\n",
       "      <td>twitter.com</td>\n",
       "      <td>Twitter</td>\n",
       "      <td>katiaabreu</td>\n",
       "    </tr>\n",
       "    <tr>\n",
       "      <th>42067</th>\n",
       "      <td>270001732242</td>\n",
       "      <td>2</td>\n",
       "      <td>https://twitter.com/luterlima?t=k70_d24enisaj4...</td>\n",
       "      <td>twitter.com</td>\n",
       "      <td>Twitter</td>\n",
       "      <td>luterlima</td>\n",
       "    </tr>\n",
       "  </tbody>\n",
       "</table>\n",
       "<p>3458 rows × 6 columns</p>\n",
       "</div>"
      ],
      "text/plain": [
       "       SQ_CANDIDATO  NR_ORDEM  \\\n",
       "415     10001601430         3   \n",
       "402     10001606307         3   \n",
       "292     10001606585         2   \n",
       "380     10001613550         3   \n",
       "21      10001622769         3   \n",
       "...             ...       ...   \n",
       "41929  270001697127         2   \n",
       "41768  270001700073         2   \n",
       "41996  270001700076         3   \n",
       "41543  270001713170         3   \n",
       "42067  270001732242         2   \n",
       "\n",
       "                                                  DS_URL       domain  \\\n",
       "415                     https://twitter.com/eduribeiroac  twitter.com   \n",
       "402                     https://twitter.com/odavidhall36  twitter.com   \n",
       "292                      https://twitter.com/dimassandas  twitter.com   \n",
       "380                     https://twitter.com/leodebritoac  twitter.com   \n",
       "21                   https://twitter.com/dramichellemelo  twitter.com   \n",
       "...                                                  ...          ...   \n",
       "41929  https://twitter.com/irajasenador?t=u3e5yrd3lkd...  twitter.com   \n",
       "41768  https://twitter.com/tiaodaelka?s=11&t=o6zi-ovk...  twitter.com   \n",
       "41996  https://twitter.com/deputadoelenil?s=11&t=mhp_...  twitter.com   \n",
       "41543                     https://twitter.com/katiaabreu  twitter.com   \n",
       "42067  https://twitter.com/luterlima?t=k70_d24enisaj4...  twitter.com   \n",
       "\n",
       "      rede_social           handle  \n",
       "415       Twitter     eduribeiroac  \n",
       "402       Twitter     odavidhall36  \n",
       "292       Twitter      dimassandas  \n",
       "380       Twitter     leodebritoac  \n",
       "21        Twitter  dramichellemelo  \n",
       "...           ...              ...  \n",
       "41929     Twitter     irajasenador  \n",
       "41768     Twitter       tiaodaelka  \n",
       "41996     Twitter   deputadoelenil  \n",
       "41543     Twitter       katiaabreu  \n",
       "42067     Twitter        luterlima  \n",
       "\n",
       "[3458 rows x 6 columns]"
      ]
     },
     "execution_count": 55,
     "metadata": {},
     "output_type": "execute_result"
    }
   ],
   "source": [
    "twiteiros"
   ]
  },
  {
   "cell_type": "code",
   "execution_count": 56,
   "metadata": {
    "id": "Qy1ECxvFGIT1"
   },
   "outputs": [],
   "source": [
    "facebookeiros = df[df.rede_social == 'Facebook'].reset_index(drop=True)"
   ]
  },
  {
   "cell_type": "code",
   "execution_count": 57,
   "metadata": {},
   "outputs": [
    {
     "data": {
      "text/html": [
       "<div>\n",
       "<style scoped>\n",
       "    .dataframe tbody tr th:only-of-type {\n",
       "        vertical-align: middle;\n",
       "    }\n",
       "\n",
       "    .dataframe tbody tr th {\n",
       "        vertical-align: top;\n",
       "    }\n",
       "\n",
       "    .dataframe thead th {\n",
       "        text-align: right;\n",
       "    }\n",
       "</style>\n",
       "<table border=\"1\" class=\"dataframe\">\n",
       "  <thead>\n",
       "    <tr style=\"text-align: right;\">\n",
       "      <th></th>\n",
       "      <th>SQ_CANDIDATO</th>\n",
       "      <th>NR_ORDEM</th>\n",
       "      <th>DS_URL</th>\n",
       "      <th>domain</th>\n",
       "      <th>rede_social</th>\n",
       "    </tr>\n",
       "  </thead>\n",
       "  <tbody>\n",
       "    <tr>\n",
       "      <th>0</th>\n",
       "      <td>10001601425</td>\n",
       "      <td>2</td>\n",
       "      <td>https://www.facebook.com/driellemendes.pereira</td>\n",
       "      <td>facebook.com</td>\n",
       "      <td>Facebook</td>\n",
       "    </tr>\n",
       "    <tr>\n",
       "      <th>1</th>\n",
       "      <td>10001601427</td>\n",
       "      <td>2</td>\n",
       "      <td>https://www.facebook.com/pablobregense</td>\n",
       "      <td>facebook.com</td>\n",
       "      <td>Facebook</td>\n",
       "    </tr>\n",
       "    <tr>\n",
       "      <th>2</th>\n",
       "      <td>10001601430</td>\n",
       "      <td>2</td>\n",
       "      <td>https://www.facebook.com/eduribeiroac/</td>\n",
       "      <td>facebook.com</td>\n",
       "      <td>Facebook</td>\n",
       "    </tr>\n",
       "    <tr>\n",
       "      <th>3</th>\n",
       "      <td>10001601444</td>\n",
       "      <td>2</td>\n",
       "      <td>https://www.facebook.com/cleo.meneses.9</td>\n",
       "      <td>facebook.com</td>\n",
       "      <td>Facebook</td>\n",
       "    </tr>\n",
       "    <tr>\n",
       "      <th>4</th>\n",
       "      <td>10001601615</td>\n",
       "      <td>3</td>\n",
       "      <td>https://www.facebook.com/vandamilani.ac</td>\n",
       "      <td>facebook.com</td>\n",
       "      <td>Facebook</td>\n",
       "    </tr>\n",
       "    <tr>\n",
       "      <th>...</th>\n",
       "      <td>...</td>\n",
       "      <td>...</td>\n",
       "      <td>...</td>\n",
       "      <td>...</td>\n",
       "      <td>...</td>\n",
       "    </tr>\n",
       "    <tr>\n",
       "      <th>14507</th>\n",
       "      <td>270001700710</td>\n",
       "      <td>1</td>\n",
       "      <td>https://www.facebook.com/sileiamonteiro.monteiro</td>\n",
       "      <td>facebook.com</td>\n",
       "      <td>Facebook</td>\n",
       "    </tr>\n",
       "    <tr>\n",
       "      <th>14508</th>\n",
       "      <td>270001700731</td>\n",
       "      <td>1</td>\n",
       "      <td>https://www.facebook.com/simone.alves.54772</td>\n",
       "      <td>facebook.com</td>\n",
       "      <td>Facebook</td>\n",
       "    </tr>\n",
       "    <tr>\n",
       "      <th>14509</th>\n",
       "      <td>270001700732</td>\n",
       "      <td>2</td>\n",
       "      <td>https://www.facebook.com/josyanne.fenelon.7</td>\n",
       "      <td>facebook.com</td>\n",
       "      <td>Facebook</td>\n",
       "    </tr>\n",
       "    <tr>\n",
       "      <th>14510</th>\n",
       "      <td>270001713170</td>\n",
       "      <td>2</td>\n",
       "      <td>https://www.facebook.com/senadorakatiaoficial</td>\n",
       "      <td>facebook.com</td>\n",
       "      <td>Facebook</td>\n",
       "    </tr>\n",
       "    <tr>\n",
       "      <th>14511</th>\n",
       "      <td>270001725829</td>\n",
       "      <td>1</td>\n",
       "      <td>https://www.facebook.com/profile.php?id=100010...</td>\n",
       "      <td>facebook.com</td>\n",
       "      <td>Facebook</td>\n",
       "    </tr>\n",
       "  </tbody>\n",
       "</table>\n",
       "<p>14512 rows × 5 columns</p>\n",
       "</div>"
      ],
      "text/plain": [
       "       SQ_CANDIDATO  NR_ORDEM  \\\n",
       "0       10001601425         2   \n",
       "1       10001601427         2   \n",
       "2       10001601430         2   \n",
       "3       10001601444         2   \n",
       "4       10001601615         3   \n",
       "...             ...       ...   \n",
       "14507  270001700710         1   \n",
       "14508  270001700731         1   \n",
       "14509  270001700732         2   \n",
       "14510  270001713170         2   \n",
       "14511  270001725829         1   \n",
       "\n",
       "                                                  DS_URL        domain  \\\n",
       "0         https://www.facebook.com/driellemendes.pereira  facebook.com   \n",
       "1                 https://www.facebook.com/pablobregense  facebook.com   \n",
       "2                 https://www.facebook.com/eduribeiroac/  facebook.com   \n",
       "3                https://www.facebook.com/cleo.meneses.9  facebook.com   \n",
       "4                https://www.facebook.com/vandamilani.ac  facebook.com   \n",
       "...                                                  ...           ...   \n",
       "14507   https://www.facebook.com/sileiamonteiro.monteiro  facebook.com   \n",
       "14508        https://www.facebook.com/simone.alves.54772  facebook.com   \n",
       "14509        https://www.facebook.com/josyanne.fenelon.7  facebook.com   \n",
       "14510      https://www.facebook.com/senadorakatiaoficial  facebook.com   \n",
       "14511  https://www.facebook.com/profile.php?id=100010...  facebook.com   \n",
       "\n",
       "      rede_social  \n",
       "0        Facebook  \n",
       "1        Facebook  \n",
       "2        Facebook  \n",
       "3        Facebook  \n",
       "4        Facebook  \n",
       "...           ...  \n",
       "14507    Facebook  \n",
       "14508    Facebook  \n",
       "14509    Facebook  \n",
       "14510    Facebook  \n",
       "14511    Facebook  \n",
       "\n",
       "[14512 rows x 5 columns]"
      ]
     },
     "execution_count": 57,
     "metadata": {},
     "output_type": "execute_result"
    }
   ],
   "source": [
    "facebookeiros"
   ]
  },
  {
   "cell_type": "code",
   "execution_count": 58,
   "metadata": {},
   "outputs": [
    {
     "data": {
      "text/html": [
       "<div>\n",
       "<style scoped>\n",
       "    .dataframe tbody tr th:only-of-type {\n",
       "        vertical-align: middle;\n",
       "    }\n",
       "\n",
       "    .dataframe tbody tr th {\n",
       "        vertical-align: top;\n",
       "    }\n",
       "\n",
       "    .dataframe thead th {\n",
       "        text-align: right;\n",
       "    }\n",
       "</style>\n",
       "<table border=\"1\" class=\"dataframe\">\n",
       "  <thead>\n",
       "    <tr style=\"text-align: right;\">\n",
       "      <th></th>\n",
       "      <th>SQ_CANDIDATO</th>\n",
       "      <th>NR_ORDEM</th>\n",
       "      <th>DS_URL</th>\n",
       "      <th>domain</th>\n",
       "      <th>rede_social</th>\n",
       "    </tr>\n",
       "  </thead>\n",
       "  <tbody>\n",
       "    <tr>\n",
       "      <th>215</th>\n",
       "      <td>10001639519</td>\n",
       "      <td>8</td>\n",
       "      <td>https://chat.whatsapp.com/ibvuca8u5qeepgdkpvkwa4</td>\n",
       "      <td>chat.whatsapp.com</td>\n",
       "      <td>Whatsapp</td>\n",
       "    </tr>\n",
       "    <tr>\n",
       "      <th>52</th>\n",
       "      <td>10001649256</td>\n",
       "      <td>8</td>\n",
       "      <td>https://api.whatsapp.com/send?phone=11999023378</td>\n",
       "      <td>api.whatsapp.com</td>\n",
       "      <td>Whatsapp</td>\n",
       "    </tr>\n",
       "    <tr>\n",
       "      <th>899</th>\n",
       "      <td>40001609310</td>\n",
       "      <td>8</td>\n",
       "      <td>https://wa.me/message/ocweirm5hwkye1</td>\n",
       "      <td>wa.me</td>\n",
       "      <td>Whatsapp</td>\n",
       "    </tr>\n",
       "    <tr>\n",
       "      <th>1296</th>\n",
       "      <td>40001609314</td>\n",
       "      <td>5</td>\n",
       "      <td>https://wa.me/qr/bfa6wf5j2hw4l</td>\n",
       "      <td>wa.me</td>\n",
       "      <td>Whatsapp</td>\n",
       "    </tr>\n",
       "    <tr>\n",
       "      <th>1126</th>\n",
       "      <td>40001609326</td>\n",
       "      <td>1</td>\n",
       "      <td>https://web.whatsapp.com/</td>\n",
       "      <td>web.whatsapp.com</td>\n",
       "      <td>Whatsapp</td>\n",
       "    </tr>\n",
       "    <tr>\n",
       "      <th>...</th>\n",
       "      <td>...</td>\n",
       "      <td>...</td>\n",
       "      <td>...</td>\n",
       "      <td>...</td>\n",
       "      <td>...</td>\n",
       "    </tr>\n",
       "    <tr>\n",
       "      <th>35208</th>\n",
       "      <td>250001619358</td>\n",
       "      <td>2</td>\n",
       "      <td>https://whatsapp.com/dl/.</td>\n",
       "      <td>whatsapp.com</td>\n",
       "      <td>Whatsapp</td>\n",
       "    </tr>\n",
       "    <tr>\n",
       "      <th>35928</th>\n",
       "      <td>250001619382</td>\n",
       "      <td>6</td>\n",
       "      <td>https://api.whatsapp.com/send/?phone=551191410...</td>\n",
       "      <td>api.whatsapp.com</td>\n",
       "      <td>Whatsapp</td>\n",
       "    </tr>\n",
       "    <tr>\n",
       "      <th>36308</th>\n",
       "      <td>250001620641</td>\n",
       "      <td>6</td>\n",
       "      <td>https://wa.me/message/lcoz3opcshweo1</td>\n",
       "      <td>wa.me</td>\n",
       "      <td>Whatsapp</td>\n",
       "    </tr>\n",
       "    <tr>\n",
       "      <th>37494</th>\n",
       "      <td>250001639592</td>\n",
       "      <td>6</td>\n",
       "      <td>https://api.whatsapp.com/send/?phone=551999861...</td>\n",
       "      <td>api.whatsapp.com</td>\n",
       "      <td>Whatsapp</td>\n",
       "    </tr>\n",
       "    <tr>\n",
       "      <th>41893</th>\n",
       "      <td>270001643553</td>\n",
       "      <td>7</td>\n",
       "      <td>https://api.whatsapp.com/send?1=ptbr&amp;phone=556...</td>\n",
       "      <td>api.whatsapp.com</td>\n",
       "      <td>Whatsapp</td>\n",
       "    </tr>\n",
       "  </tbody>\n",
       "</table>\n",
       "<p>137 rows × 5 columns</p>\n",
       "</div>"
      ],
      "text/plain": [
       "       SQ_CANDIDATO  NR_ORDEM  \\\n",
       "215     10001639519         8   \n",
       "52      10001649256         8   \n",
       "899     40001609310         8   \n",
       "1296    40001609314         5   \n",
       "1126    40001609326         1   \n",
       "...             ...       ...   \n",
       "35208  250001619358         2   \n",
       "35928  250001619382         6   \n",
       "36308  250001620641         6   \n",
       "37494  250001639592         6   \n",
       "41893  270001643553         7   \n",
       "\n",
       "                                                  DS_URL             domain  \\\n",
       "215     https://chat.whatsapp.com/ibvuca8u5qeepgdkpvkwa4  chat.whatsapp.com   \n",
       "52       https://api.whatsapp.com/send?phone=11999023378   api.whatsapp.com   \n",
       "899                 https://wa.me/message/ocweirm5hwkye1              wa.me   \n",
       "1296                      https://wa.me/qr/bfa6wf5j2hw4l              wa.me   \n",
       "1126                           https://web.whatsapp.com/   web.whatsapp.com   \n",
       "...                                                  ...                ...   \n",
       "35208                          https://whatsapp.com/dl/.       whatsapp.com   \n",
       "35928  https://api.whatsapp.com/send/?phone=551191410...   api.whatsapp.com   \n",
       "36308               https://wa.me/message/lcoz3opcshweo1              wa.me   \n",
       "37494  https://api.whatsapp.com/send/?phone=551999861...   api.whatsapp.com   \n",
       "41893  https://api.whatsapp.com/send?1=ptbr&phone=556...   api.whatsapp.com   \n",
       "\n",
       "      rede_social  \n",
       "215      Whatsapp  \n",
       "52       Whatsapp  \n",
       "899      Whatsapp  \n",
       "1296     Whatsapp  \n",
       "1126     Whatsapp  \n",
       "...           ...  \n",
       "35208    Whatsapp  \n",
       "35928    Whatsapp  \n",
       "36308    Whatsapp  \n",
       "37494    Whatsapp  \n",
       "41893    Whatsapp  \n",
       "\n",
       "[137 rows x 5 columns]"
      ]
     },
     "execution_count": 58,
     "metadata": {},
     "output_type": "execute_result"
    }
   ],
   "source": [
    "df[df.rede_social == 'Whatsapp']"
   ]
  },
  {
   "cell_type": "code",
   "execution_count": 59,
   "metadata": {},
   "outputs": [
    {
     "name": "stdout",
     "output_type": "stream",
     "text": [
      "   SQ_CANDIDATO  NR_ORDEM                                         DS_URL  \\\n",
      "0  120001650955         3             https://tinder.com/@andrelacerdams   \n",
      "1  130001615155         5  https://go.tinder.com/ilc4oml_lk4-m%c3%a9rcio   \n",
      "\n",
      "          domain rede_social  \n",
      "0     tinder.com      Tinder  \n",
      "1  go.tinder.com      Tinder  \n"
     ]
    }
   ],
   "source": [
    "print(df[df.rede_social == 'Tinder'].reset_index(drop=True))\n",
    "\n",
    "# 0  120001650955         3             https://tinder.com/@andrelacerdams   \n",
    "# 1  130001615155         5  https://go.tinder.com/ilc4oml_lk4-m%c3%a9rcio"
   ]
  },
  {
   "cell_type": "code",
   "execution_count": null,
   "metadata": {},
   "outputs": [],
   "source": []
  }
 ],
 "metadata": {
  "colab": {
   "collapsed_sections": [],
   "provenance": []
  },
  "kernelspec": {
   "display_name": "Python 3 (ipykernel)",
   "language": "python",
   "name": "python3"
  },
  "language_info": {
   "codemirror_mode": {
    "name": "ipython",
    "version": 3
   },
   "file_extension": ".py",
   "mimetype": "text/x-python",
   "name": "python",
   "nbconvert_exporter": "python",
   "pygments_lexer": "ipython3",
   "version": "3.10.5"
  }
 },
 "nbformat": 4,
 "nbformat_minor": 1
}
