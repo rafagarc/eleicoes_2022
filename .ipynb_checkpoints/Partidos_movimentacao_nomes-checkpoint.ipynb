{
 "cells": [
  {
   "cell_type": "markdown",
   "id": "668feacc",
   "metadata": {},
   "source": [
    "# Movimentação partidária 2018 > 2022"
   ]
  },
  {
   "cell_type": "markdown",
   "id": "4a8a7360",
   "metadata": {},
   "source": [
    "## Preparo"
   ]
  },
  {
   "cell_type": "markdown",
   "id": "1432dd7b",
   "metadata": {},
   "source": [
    "### Origem dos datasets"
   ]
  },
  {
   "cell_type": "markdown",
   "id": "980c34dd",
   "metadata": {},
   "source": [
    "- 2018: https://cdn.tse.jus.br/estatistica/sead/odsele/consulta_cand/consulta_cand_2018.zip\n",
    "\n",
    "- 2022: https://cdn.tse.jus.br/estatistica/sead/odsele/consulta_cand/consulta_cand_2022.zip\n",
    "\n",
    "- Metadados: https://drive.google.com/file/d/1mM1U-2hN-9usXOE4Dyvewk_wWjN-ZMuW/"
   ]
  },
  {
   "cell_type": "markdown",
   "id": "3cf17fb5",
   "metadata": {},
   "source": [
    "### Bibliotecas"
   ]
  },
  {
   "cell_type": "code",
   "execution_count": 3,
   "id": "365690ad",
   "metadata": {},
   "outputs": [],
   "source": [
    "import pandas as pd"
   ]
  },
  {
   "cell_type": "markdown",
   "id": "b23e7386",
   "metadata": {},
   "source": [
    "### Carregamento"
   ]
  },
  {
   "cell_type": "code",
   "execution_count": 58,
   "id": "c9b5a2f9",
   "metadata": {},
   "outputs": [],
   "source": [
    "dataset_2018 = r'C:\\Users\\rgarcia\\Documents\\GitHub\\eleicoes_2022\\consulta_cand_2018_BRASIL.csv'\n",
    "dataset_2022 = r'C:\\Users\\rgarcia\\Documents\\GitHub\\eleicoes_2022\\consulta_cand_2022_BRASIL.csv'\n",
    "\n",
    "cand_2018 = pd.read_csv(dataset_2018, sep=';', encoding='ISO-8859-1', decimal=',', low_memory=False)\n",
    "cand_2022 = pd.read_csv(dataset_2022, sep=';', encoding='ISO-8859-1', decimal=',', low_memory=False)"
   ]
  },
  {
   "cell_type": "code",
   "execution_count": 59,
   "id": "c99c8088",
   "metadata": {},
   "outputs": [],
   "source": [
    "# No dataset de 2018, PL, e CIDADANIA já tinha registro mas ainda não tinha candidato\n",
    "# Os partidos ainda estava usando os nomes antigos, então precisa ser atualizado\n",
    "\n",
    "cand_2018['SG_PARTIDO'] = cand_2018['SG_PARTIDO'].replace('PL', 'PR')\n",
    "cand_2018['SG_PARTIDO'] = cand_2018['SG_PARTIDO'].replace('CIDADANIA', 'PPS')"
   ]
  },
  {
   "cell_type": "code",
   "execution_count": 60,
   "id": "aaa24ef3",
   "metadata": {},
   "outputs": [],
   "source": [
    "filia_2018 = cand_2018[['NR_CPF_CANDIDATO','SG_PARTIDO']]"
   ]
  },
  {
   "cell_type": "code",
   "execution_count": 61,
   "id": "73db5d41",
   "metadata": {},
   "outputs": [],
   "source": [
    "filia_2022 = cand_2022[['NR_CPF_CANDIDATO','SG_PARTIDO']]"
   ]
  },
  {
   "cell_type": "code",
   "execution_count": 62,
   "id": "d9fe2605",
   "metadata": {},
   "outputs": [],
   "source": [
    "# Data type do CPF é diferente entre os dois datasets\n",
    "# Precisa padronizar os datatypes antes de rodar comparações"
   ]
  },
  {
   "cell_type": "code",
   "execution_count": 63,
   "id": "7263e402",
   "metadata": {},
   "outputs": [
    {
     "data": {
      "text/plain": [
       "dtype('O')"
      ]
     },
     "execution_count": 63,
     "metadata": {},
     "output_type": "execute_result"
    }
   ],
   "source": [
    "filia_2018.NR_CPF_CANDIDATO.dtype"
   ]
  },
  {
   "cell_type": "code",
   "execution_count": 64,
   "id": "2bbf36ad",
   "metadata": {},
   "outputs": [
    {
     "data": {
      "text/plain": [
       "dtype('int64')"
      ]
     },
     "execution_count": 64,
     "metadata": {},
     "output_type": "execute_result"
    }
   ],
   "source": [
    "filia_2022.NR_CPF_CANDIDATO.dtype"
   ]
  },
  {
   "cell_type": "code",
   "execution_count": 65,
   "id": "33ebb396",
   "metadata": {
    "scrolled": true
   },
   "outputs": [
    {
     "data": {
      "text/html": [
       "<div>\n",
       "<style scoped>\n",
       "    .dataframe tbody tr th:only-of-type {\n",
       "        vertical-align: middle;\n",
       "    }\n",
       "\n",
       "    .dataframe tbody tr th {\n",
       "        vertical-align: top;\n",
       "    }\n",
       "\n",
       "    .dataframe thead th {\n",
       "        text-align: right;\n",
       "    }\n",
       "</style>\n",
       "<table border=\"1\" class=\"dataframe\">\n",
       "  <thead>\n",
       "    <tr style=\"text-align: right;\">\n",
       "      <th></th>\n",
       "      <th>index</th>\n",
       "      <th>NR_CPF_CANDIDATO</th>\n",
       "      <th>SG_PARTIDO</th>\n",
       "    </tr>\n",
       "  </thead>\n",
       "  <tbody>\n",
       "    <tr>\n",
       "      <th>0</th>\n",
       "      <td>405</td>\n",
       "      <td>-4</td>\n",
       "      <td>PCO</td>\n",
       "    </tr>\n",
       "    <tr>\n",
       "      <th>1</th>\n",
       "      <td>752</td>\n",
       "      <td>-4</td>\n",
       "      <td>PCO</td>\n",
       "    </tr>\n",
       "    <tr>\n",
       "      <th>2</th>\n",
       "      <td>2927</td>\n",
       "      <td>-4</td>\n",
       "      <td>PCO</td>\n",
       "    </tr>\n",
       "    <tr>\n",
       "      <th>3</th>\n",
       "      <td>2928</td>\n",
       "      <td>-4</td>\n",
       "      <td>CIDADANIA</td>\n",
       "    </tr>\n",
       "    <tr>\n",
       "      <th>4</th>\n",
       "      <td>3654</td>\n",
       "      <td>-4</td>\n",
       "      <td>PCO</td>\n",
       "    </tr>\n",
       "    <tr>\n",
       "      <th>5</th>\n",
       "      <td>5565</td>\n",
       "      <td>-4</td>\n",
       "      <td>CIDADANIA</td>\n",
       "    </tr>\n",
       "    <tr>\n",
       "      <th>6</th>\n",
       "      <td>22586</td>\n",
       "      <td>-4</td>\n",
       "      <td>PCO</td>\n",
       "    </tr>\n",
       "    <tr>\n",
       "      <th>7</th>\n",
       "      <td>25413</td>\n",
       "      <td>-4</td>\n",
       "      <td>PCO</td>\n",
       "    </tr>\n",
       "    <tr>\n",
       "      <th>8</th>\n",
       "      <td>26860</td>\n",
       "      <td>-4</td>\n",
       "      <td>PCO</td>\n",
       "    </tr>\n",
       "  </tbody>\n",
       "</table>\n",
       "</div>"
      ],
      "text/plain": [
       "   index  NR_CPF_CANDIDATO SG_PARTIDO\n",
       "0    405                -4        PCO\n",
       "1    752                -4        PCO\n",
       "2   2927                -4        PCO\n",
       "3   2928                -4  CIDADANIA\n",
       "4   3654                -4        PCO\n",
       "5   5565                -4  CIDADANIA\n",
       "6  22586                -4        PCO\n",
       "7  25413                -4        PCO\n",
       "8  26860                -4        PCO"
      ]
     },
     "execution_count": 65,
     "metadata": {},
     "output_type": "execute_result"
    }
   ],
   "source": [
    "# CPFs não informados\n",
    "\n",
    "filia_2022[filia_2022.NR_CPF_CANDIDATO == -4].reset_index()"
   ]
  },
  {
   "cell_type": "code",
   "execution_count": 66,
   "id": "91192862",
   "metadata": {},
   "outputs": [],
   "source": [
    "# Elimina candidatos que não registraram CPF\n",
    "\n",
    "filia_2022 = filia_2022[filia_2022.NR_CPF_CANDIDATO != -4]"
   ]
  },
  {
   "cell_type": "code",
   "execution_count": 67,
   "id": "ad6e1f7d",
   "metadata": {},
   "outputs": [],
   "source": [
    "# no dataset de 2018, elimina registros que não contém apenas números\n",
    "\n",
    "filia_2018 = filia_2018[filia_2018.NR_CPF_CANDIDATO.str.isnumeric()]"
   ]
  },
  {
   "cell_type": "code",
   "execution_count": 68,
   "id": "e5db3bbd",
   "metadata": {},
   "outputs": [
    {
     "data": {
      "text/html": [
       "<div>\n",
       "<style scoped>\n",
       "    .dataframe tbody tr th:only-of-type {\n",
       "        vertical-align: middle;\n",
       "    }\n",
       "\n",
       "    .dataframe tbody tr th {\n",
       "        vertical-align: top;\n",
       "    }\n",
       "\n",
       "    .dataframe thead th {\n",
       "        text-align: right;\n",
       "    }\n",
       "</style>\n",
       "<table border=\"1\" class=\"dataframe\">\n",
       "  <thead>\n",
       "    <tr style=\"text-align: right;\">\n",
       "      <th></th>\n",
       "      <th>index</th>\n",
       "      <th>NR_CPF_CANDIDATO</th>\n",
       "      <th>SG_PARTIDO</th>\n",
       "    </tr>\n",
       "  </thead>\n",
       "  <tbody>\n",
       "    <tr>\n",
       "      <th>0</th>\n",
       "      <td>12272</td>\n",
       "      <td>260185</td>\n",
       "      <td>PDT</td>\n",
       "    </tr>\n",
       "    <tr>\n",
       "      <th>1</th>\n",
       "      <td>20599</td>\n",
       "      <td>1046047</td>\n",
       "      <td>PL</td>\n",
       "    </tr>\n",
       "    <tr>\n",
       "      <th>2</th>\n",
       "      <td>26949</td>\n",
       "      <td>1399128</td>\n",
       "      <td>PT</td>\n",
       "    </tr>\n",
       "    <tr>\n",
       "      <th>3</th>\n",
       "      <td>25547</td>\n",
       "      <td>1608657</td>\n",
       "      <td>PSD</td>\n",
       "    </tr>\n",
       "    <tr>\n",
       "      <th>4</th>\n",
       "      <td>14953</td>\n",
       "      <td>2371677</td>\n",
       "      <td>SOLIDARIEDADE</td>\n",
       "    </tr>\n",
       "    <tr>\n",
       "      <th>...</th>\n",
       "      <td>...</td>\n",
       "      <td>...</td>\n",
       "      <td>...</td>\n",
       "    </tr>\n",
       "    <tr>\n",
       "      <th>9207</th>\n",
       "      <td>13716</td>\n",
       "      <td>9977092788</td>\n",
       "      <td>PMB</td>\n",
       "    </tr>\n",
       "    <tr>\n",
       "      <th>9208</th>\n",
       "      <td>18902</td>\n",
       "      <td>9981095842</td>\n",
       "      <td>AVANTE</td>\n",
       "    </tr>\n",
       "    <tr>\n",
       "      <th>9209</th>\n",
       "      <td>27501</td>\n",
       "      <td>9985879660</td>\n",
       "      <td>PTB</td>\n",
       "    </tr>\n",
       "    <tr>\n",
       "      <th>9210</th>\n",
       "      <td>21109</td>\n",
       "      <td>9985910761</td>\n",
       "      <td>PRTB</td>\n",
       "    </tr>\n",
       "    <tr>\n",
       "      <th>9211</th>\n",
       "      <td>20694</td>\n",
       "      <td>9997023862</td>\n",
       "      <td>PSOL</td>\n",
       "    </tr>\n",
       "  </tbody>\n",
       "</table>\n",
       "<p>9212 rows × 3 columns</p>\n",
       "</div>"
      ],
      "text/plain": [
       "      index  NR_CPF_CANDIDATO     SG_PARTIDO\n",
       "0     12272            260185            PDT\n",
       "1     20599           1046047             PL\n",
       "2     26949           1399128             PT\n",
       "3     25547           1608657            PSD\n",
       "4     14953           2371677  SOLIDARIEDADE\n",
       "...     ...               ...            ...\n",
       "9207  13716        9977092788            PMB\n",
       "9208  18902        9981095842         AVANTE\n",
       "9209  27501        9985879660            PTB\n",
       "9210  21109        9985910761           PRTB\n",
       "9211  20694        9997023862           PSOL\n",
       "\n",
       "[9212 rows x 3 columns]"
      ]
     },
     "execution_count": 68,
     "metadata": {},
     "output_type": "execute_result"
    }
   ],
   "source": [
    "# CPFs com menos de 11 dígitos (sequencia de 9 + hash de 2)\n",
    "# Isso aqui é um problema para fazer os cruzamentos\n",
    "\n",
    "filia_2022[filia_2022.NR_CPF_CANDIDATO < 10000000000].sort_values(by='NR_CPF_CANDIDATO').reset_index()"
   ]
  },
  {
   "cell_type": "code",
   "execution_count": 69,
   "id": "47ce6831",
   "metadata": {},
   "outputs": [],
   "source": [
    "# transforma os CPFs de 2022 em string\n",
    "\n",
    "filia_2022['NR_CPF_CANDIDATO'] = filia_2022['NR_CPF_CANDIDATO'].astype(str)"
   ]
  },
  {
   "cell_type": "code",
   "execution_count": 70,
   "id": "6ec83781",
   "metadata": {
    "scrolled": true
   },
   "outputs": [],
   "source": [
    "# insere zeros à esquerda\n",
    "\n",
    "filia_2022['NR_CPF_CANDIDATO'] = filia_2022['NR_CPF_CANDIDATO'].str.zfill(11)"
   ]
  },
  {
   "cell_type": "code",
   "execution_count": 71,
   "id": "f93cf217",
   "metadata": {},
   "outputs": [
    {
     "data": {
      "text/html": [
       "<div>\n",
       "<style scoped>\n",
       "    .dataframe tbody tr th:only-of-type {\n",
       "        vertical-align: middle;\n",
       "    }\n",
       "\n",
       "    .dataframe tbody tr th {\n",
       "        vertical-align: top;\n",
       "    }\n",
       "\n",
       "    .dataframe thead th {\n",
       "        text-align: right;\n",
       "    }\n",
       "</style>\n",
       "<table border=\"1\" class=\"dataframe\">\n",
       "  <thead>\n",
       "    <tr style=\"text-align: right;\">\n",
       "      <th></th>\n",
       "      <th>NR_CPF_CANDIDATO</th>\n",
       "      <th>SG_PARTIDO</th>\n",
       "    </tr>\n",
       "  </thead>\n",
       "  <tbody>\n",
       "    <tr>\n",
       "      <th>12272</th>\n",
       "      <td>00000260185</td>\n",
       "      <td>PDT</td>\n",
       "    </tr>\n",
       "    <tr>\n",
       "      <th>20599</th>\n",
       "      <td>00001046047</td>\n",
       "      <td>PL</td>\n",
       "    </tr>\n",
       "    <tr>\n",
       "      <th>26949</th>\n",
       "      <td>00001399128</td>\n",
       "      <td>PT</td>\n",
       "    </tr>\n",
       "    <tr>\n",
       "      <th>25547</th>\n",
       "      <td>00001608657</td>\n",
       "      <td>PSD</td>\n",
       "    </tr>\n",
       "    <tr>\n",
       "      <th>14953</th>\n",
       "      <td>00002371677</td>\n",
       "      <td>SOLIDARIEDADE</td>\n",
       "    </tr>\n",
       "    <tr>\n",
       "      <th>...</th>\n",
       "      <td>...</td>\n",
       "      <td>...</td>\n",
       "    </tr>\n",
       "    <tr>\n",
       "      <th>7735</th>\n",
       "      <td>99964635753</td>\n",
       "      <td>PP</td>\n",
       "    </tr>\n",
       "    <tr>\n",
       "      <th>22467</th>\n",
       "      <td>99969955500</td>\n",
       "      <td>PSB</td>\n",
       "    </tr>\n",
       "    <tr>\n",
       "      <th>8651</th>\n",
       "      <td>99978938087</td>\n",
       "      <td>PDT</td>\n",
       "    </tr>\n",
       "    <tr>\n",
       "      <th>9342</th>\n",
       "      <td>99983494515</td>\n",
       "      <td>REPUBLICANOS</td>\n",
       "    </tr>\n",
       "    <tr>\n",
       "      <th>1122</th>\n",
       "      <td>99996634272</td>\n",
       "      <td>SOLIDARIEDADE</td>\n",
       "    </tr>\n",
       "  </tbody>\n",
       "</table>\n",
       "<p>28496 rows × 2 columns</p>\n",
       "</div>"
      ],
      "text/plain": [
       "      NR_CPF_CANDIDATO     SG_PARTIDO\n",
       "12272      00000260185            PDT\n",
       "20599      00001046047             PL\n",
       "26949      00001399128             PT\n",
       "25547      00001608657            PSD\n",
       "14953      00002371677  SOLIDARIEDADE\n",
       "...                ...            ...\n",
       "7735       99964635753             PP\n",
       "22467      99969955500            PSB\n",
       "8651       99978938087            PDT\n",
       "9342       99983494515   REPUBLICANOS\n",
       "1122       99996634272  SOLIDARIEDADE\n",
       "\n",
       "[28496 rows x 2 columns]"
      ]
     },
     "execution_count": 71,
     "metadata": {},
     "output_type": "execute_result"
    }
   ],
   "source": [
    "filia_2022.sort_values(by='NR_CPF_CANDIDATO')"
   ]
  },
  {
   "cell_type": "code",
   "execution_count": null,
   "id": "3a24aa23",
   "metadata": {},
   "outputs": [],
   "source": []
  },
  {
   "cell_type": "code",
   "execution_count": null,
   "id": "5bba32ba",
   "metadata": {},
   "outputs": [],
   "source": []
  },
  {
   "cell_type": "code",
   "execution_count": null,
   "id": "e5123e01",
   "metadata": {},
   "outputs": [],
   "source": []
  },
  {
   "cell_type": "code",
   "execution_count": 72,
   "id": "90b0ebcf",
   "metadata": {},
   "outputs": [
    {
     "data": {
      "text/plain": [
       "array([11], dtype=int64)"
      ]
     },
     "execution_count": 72,
     "metadata": {},
     "output_type": "execute_result"
    }
   ],
   "source": [
    "filia_2018['NR_CPF_CANDIDATO'].str.len().unique()"
   ]
  },
  {
   "cell_type": "code",
   "execution_count": 73,
   "id": "84ccd28e",
   "metadata": {},
   "outputs": [
    {
     "data": {
      "text/plain": [
       "28983"
      ]
     },
     "execution_count": 73,
     "metadata": {},
     "output_type": "execute_result"
    }
   ],
   "source": [
    "len(filia_2018['NR_CPF_CANDIDATO'].unique())"
   ]
  },
  {
   "cell_type": "code",
   "execution_count": 74,
   "id": "555808a3",
   "metadata": {},
   "outputs": [
    {
     "name": "stdout",
     "output_type": "stream",
     "text": [
      "<class 'pandas.core.frame.DataFrame'>\n",
      "Int64Index: 29179 entries, 0 to 29179\n",
      "Data columns (total 2 columns):\n",
      " #   Column            Non-Null Count  Dtype \n",
      "---  ------            --------------  ----- \n",
      " 0   NR_CPF_CANDIDATO  29179 non-null  object\n",
      " 1   SG_PARTIDO        29179 non-null  object\n",
      "dtypes: object(2)\n",
      "memory usage: 683.9+ KB\n"
     ]
    }
   ],
   "source": [
    "filia_2018.info()"
   ]
  },
  {
   "cell_type": "code",
   "execution_count": 75,
   "id": "9fe13976",
   "metadata": {},
   "outputs": [
    {
     "name": "stdout",
     "output_type": "stream",
     "text": [
      "<class 'pandas.core.frame.DataFrame'>\n",
      "Int64Index: 28496 entries, 0 to 28504\n",
      "Data columns (total 2 columns):\n",
      " #   Column            Non-Null Count  Dtype \n",
      "---  ------            --------------  ----- \n",
      " 0   NR_CPF_CANDIDATO  28496 non-null  object\n",
      " 1   SG_PARTIDO        28496 non-null  object\n",
      "dtypes: object(2)\n",
      "memory usage: 667.9+ KB\n"
     ]
    }
   ],
   "source": [
    "filia_2022.info()"
   ]
  },
  {
   "cell_type": "code",
   "execution_count": 76,
   "id": "c5a0f6e9",
   "metadata": {},
   "outputs": [],
   "source": [
    "mudancas = filia_2022.merge(filia_2018, how='outer', on='NR_CPF_CANDIDATO')"
   ]
  },
  {
   "cell_type": "code",
   "execution_count": 77,
   "id": "3a17b48a",
   "metadata": {},
   "outputs": [],
   "source": [
    "mudancas = mudancas.fillna('(NC)')"
   ]
  },
  {
   "cell_type": "code",
   "execution_count": 78,
   "id": "1d98630e",
   "metadata": {},
   "outputs": [
    {
     "data": {
      "text/html": [
       "<div>\n",
       "<style scoped>\n",
       "    .dataframe tbody tr th:only-of-type {\n",
       "        vertical-align: middle;\n",
       "    }\n",
       "\n",
       "    .dataframe tbody tr th {\n",
       "        vertical-align: top;\n",
       "    }\n",
       "\n",
       "    .dataframe thead th {\n",
       "        text-align: right;\n",
       "    }\n",
       "</style>\n",
       "<table border=\"1\" class=\"dataframe\">\n",
       "  <thead>\n",
       "    <tr style=\"text-align: right;\">\n",
       "      <th></th>\n",
       "      <th>NR_CPF_CANDIDATO</th>\n",
       "      <th>SG_PARTIDO_x</th>\n",
       "      <th>SG_PARTIDO_y</th>\n",
       "    </tr>\n",
       "  </thead>\n",
       "  <tbody>\n",
       "    <tr>\n",
       "      <th>23175</th>\n",
       "      <td>61674630182</td>\n",
       "      <td>PT</td>\n",
       "      <td>PT</td>\n",
       "    </tr>\n",
       "    <tr>\n",
       "      <th>8702</th>\n",
       "      <td>62100491334</td>\n",
       "      <td>PDT</td>\n",
       "      <td>(NC)</td>\n",
       "    </tr>\n",
       "    <tr>\n",
       "      <th>8703</th>\n",
       "      <td>62100491334</td>\n",
       "      <td>PDT</td>\n",
       "      <td>(NC)</td>\n",
       "    </tr>\n",
       "    <tr>\n",
       "      <th>21916</th>\n",
       "      <td>62183427353</td>\n",
       "      <td>PSDB</td>\n",
       "      <td>PATRIOTA</td>\n",
       "    </tr>\n",
       "    <tr>\n",
       "      <th>21917</th>\n",
       "      <td>62183427353</td>\n",
       "      <td>PSDB</td>\n",
       "      <td>PATRIOTA</td>\n",
       "    </tr>\n",
       "    <tr>\n",
       "      <th>447</th>\n",
       "      <td>62287958304</td>\n",
       "      <td>CIDADANIA</td>\n",
       "      <td>(NC)</td>\n",
       "    </tr>\n",
       "    <tr>\n",
       "      <th>446</th>\n",
       "      <td>62287958304</td>\n",
       "      <td>CIDADANIA</td>\n",
       "      <td>(NC)</td>\n",
       "    </tr>\n",
       "    <tr>\n",
       "      <th>44933</th>\n",
       "      <td>62501313615</td>\n",
       "      <td>(NC)</td>\n",
       "      <td>PSB</td>\n",
       "    </tr>\n",
       "    <tr>\n",
       "      <th>44934</th>\n",
       "      <td>62501313615</td>\n",
       "      <td>(NC)</td>\n",
       "      <td>PSB</td>\n",
       "    </tr>\n",
       "    <tr>\n",
       "      <th>15722</th>\n",
       "      <td>62528084900</td>\n",
       "      <td>REPUBLICANOS</td>\n",
       "      <td>PSL</td>\n",
       "    </tr>\n",
       "    <tr>\n",
       "      <th>15723</th>\n",
       "      <td>62528084900</td>\n",
       "      <td>REPUBLICANOS</td>\n",
       "      <td>PSL</td>\n",
       "    </tr>\n",
       "    <tr>\n",
       "      <th>26747</th>\n",
       "      <td>62594370215</td>\n",
       "      <td>MDB</td>\n",
       "      <td>MDB</td>\n",
       "    </tr>\n",
       "    <tr>\n",
       "      <th>26746</th>\n",
       "      <td>62594370215</td>\n",
       "      <td>MDB</td>\n",
       "      <td>MDB</td>\n",
       "    </tr>\n",
       "    <tr>\n",
       "      <th>30672</th>\n",
       "      <td>62686895268</td>\n",
       "      <td>(NC)</td>\n",
       "      <td>PHS</td>\n",
       "    </tr>\n",
       "    <tr>\n",
       "      <th>30671</th>\n",
       "      <td>62686895268</td>\n",
       "      <td>(NC)</td>\n",
       "      <td>PHS</td>\n",
       "    </tr>\n",
       "    <tr>\n",
       "      <th>49095</th>\n",
       "      <td>62732226653</td>\n",
       "      <td>(NC)</td>\n",
       "      <td>PTC</td>\n",
       "    </tr>\n",
       "    <tr>\n",
       "      <th>49094</th>\n",
       "      <td>62732226653</td>\n",
       "      <td>(NC)</td>\n",
       "      <td>PTC</td>\n",
       "    </tr>\n",
       "    <tr>\n",
       "      <th>31990</th>\n",
       "      <td>62849441520</td>\n",
       "      <td>(NC)</td>\n",
       "      <td>PRTB</td>\n",
       "    </tr>\n",
       "    <tr>\n",
       "      <th>31991</th>\n",
       "      <td>62849441520</td>\n",
       "      <td>(NC)</td>\n",
       "      <td>PRTB</td>\n",
       "    </tr>\n",
       "    <tr>\n",
       "      <th>35800</th>\n",
       "      <td>62918311987</td>\n",
       "      <td>(NC)</td>\n",
       "      <td>PSD</td>\n",
       "    </tr>\n",
       "    <tr>\n",
       "      <th>35799</th>\n",
       "      <td>62918311987</td>\n",
       "      <td>(NC)</td>\n",
       "      <td>PSD</td>\n",
       "    </tr>\n",
       "    <tr>\n",
       "      <th>2215</th>\n",
       "      <td>63106981334</td>\n",
       "      <td>PSDB</td>\n",
       "      <td>PTB</td>\n",
       "    </tr>\n",
       "    <tr>\n",
       "      <th>2214</th>\n",
       "      <td>63106981334</td>\n",
       "      <td>PSDB</td>\n",
       "      <td>PTB</td>\n",
       "    </tr>\n",
       "    <tr>\n",
       "      <th>725</th>\n",
       "      <td>63161818504</td>\n",
       "      <td>PROS</td>\n",
       "      <td>(NC)</td>\n",
       "    </tr>\n",
       "    <tr>\n",
       "      <th>724</th>\n",
       "      <td>63161818504</td>\n",
       "      <td>PROS</td>\n",
       "      <td>(NC)</td>\n",
       "    </tr>\n",
       "    <tr>\n",
       "      <th>444</th>\n",
       "      <td>63985365172</td>\n",
       "      <td>PROS</td>\n",
       "      <td>(NC)</td>\n",
       "    </tr>\n",
       "    <tr>\n",
       "      <th>443</th>\n",
       "      <td>63985365172</td>\n",
       "      <td>PROS</td>\n",
       "      <td>(NC)</td>\n",
       "    </tr>\n",
       "    <tr>\n",
       "      <th>3166</th>\n",
       "      <td>64420035315</td>\n",
       "      <td>CIDADANIA</td>\n",
       "      <td>(NC)</td>\n",
       "    </tr>\n",
       "    <tr>\n",
       "      <th>3167</th>\n",
       "      <td>64420035315</td>\n",
       "      <td>CIDADANIA</td>\n",
       "      <td>(NC)</td>\n",
       "    </tr>\n",
       "    <tr>\n",
       "      <th>9442</th>\n",
       "      <td>64649520487</td>\n",
       "      <td>PMB</td>\n",
       "      <td>PRTB</td>\n",
       "    </tr>\n",
       "    <tr>\n",
       "      <th>9443</th>\n",
       "      <td>64649520487</td>\n",
       "      <td>PMB</td>\n",
       "      <td>PRTB</td>\n",
       "    </tr>\n",
       "    <tr>\n",
       "      <th>6147</th>\n",
       "      <td>64722945349</td>\n",
       "      <td>PSDB</td>\n",
       "      <td>(NC)</td>\n",
       "    </tr>\n",
       "    <tr>\n",
       "      <th>6148</th>\n",
       "      <td>64722945349</td>\n",
       "      <td>PSDB</td>\n",
       "      <td>(NC)</td>\n",
       "    </tr>\n",
       "    <tr>\n",
       "      <th>1365</th>\n",
       "      <td>64982874549</td>\n",
       "      <td>PROS</td>\n",
       "      <td>PATRIOTA</td>\n",
       "    </tr>\n",
       "    <tr>\n",
       "      <th>1364</th>\n",
       "      <td>64982874549</td>\n",
       "      <td>PROS</td>\n",
       "      <td>PATRIOTA</td>\n",
       "    </tr>\n",
       "    <tr>\n",
       "      <th>26550</th>\n",
       "      <td>65061187920</td>\n",
       "      <td>PL</td>\n",
       "      <td>PATRIOTA</td>\n",
       "    </tr>\n",
       "    <tr>\n",
       "      <th>26551</th>\n",
       "      <td>65061187920</td>\n",
       "      <td>PL</td>\n",
       "      <td>PATRIOTA</td>\n",
       "    </tr>\n",
       "    <tr>\n",
       "      <th>15762</th>\n",
       "      <td>65338588153</td>\n",
       "      <td>PROS</td>\n",
       "      <td>(NC)</td>\n",
       "    </tr>\n",
       "    <tr>\n",
       "      <th>15763</th>\n",
       "      <td>65338588153</td>\n",
       "      <td>PROS</td>\n",
       "      <td>(NC)</td>\n",
       "    </tr>\n",
       "    <tr>\n",
       "      <th>43237</th>\n",
       "      <td>65677951234</td>\n",
       "      <td>(NC)</td>\n",
       "      <td>PRTB</td>\n",
       "    </tr>\n",
       "    <tr>\n",
       "      <th>43236</th>\n",
       "      <td>65677951234</td>\n",
       "      <td>(NC)</td>\n",
       "      <td>PRTB</td>\n",
       "    </tr>\n",
       "    <tr>\n",
       "      <th>26896</th>\n",
       "      <td>65772911287</td>\n",
       "      <td>PSB</td>\n",
       "      <td>PSB</td>\n",
       "    </tr>\n",
       "    <tr>\n",
       "      <th>26897</th>\n",
       "      <td>65772911287</td>\n",
       "      <td>PSB</td>\n",
       "      <td>PSB</td>\n",
       "    </tr>\n",
       "    <tr>\n",
       "      <th>26898</th>\n",
       "      <td>65772911287</td>\n",
       "      <td>PSB</td>\n",
       "      <td>PSB</td>\n",
       "    </tr>\n",
       "    <tr>\n",
       "      <th>13786</th>\n",
       "      <td>65865413600</td>\n",
       "      <td>PSB</td>\n",
       "      <td>PSC</td>\n",
       "    </tr>\n",
       "    <tr>\n",
       "      <th>13785</th>\n",
       "      <td>65865413600</td>\n",
       "      <td>PSB</td>\n",
       "      <td>PSC</td>\n",
       "    </tr>\n",
       "    <tr>\n",
       "      <th>39905</th>\n",
       "      <td>66237939849</td>\n",
       "      <td>(NC)</td>\n",
       "      <td>PRTB</td>\n",
       "    </tr>\n",
       "    <tr>\n",
       "      <th>39906</th>\n",
       "      <td>66237939849</td>\n",
       "      <td>(NC)</td>\n",
       "      <td>PRTB</td>\n",
       "    </tr>\n",
       "    <tr>\n",
       "      <th>42975</th>\n",
       "      <td>66553172234</td>\n",
       "      <td>(NC)</td>\n",
       "      <td>PT</td>\n",
       "    </tr>\n",
       "  </tbody>\n",
       "</table>\n",
       "</div>"
      ],
      "text/plain": [
       "      NR_CPF_CANDIDATO  SG_PARTIDO_x SG_PARTIDO_y\n",
       "23175      61674630182            PT           PT\n",
       "8702       62100491334           PDT         (NC)\n",
       "8703       62100491334           PDT         (NC)\n",
       "21916      62183427353          PSDB     PATRIOTA\n",
       "21917      62183427353          PSDB     PATRIOTA\n",
       "447        62287958304     CIDADANIA         (NC)\n",
       "446        62287958304     CIDADANIA         (NC)\n",
       "44933      62501313615          (NC)          PSB\n",
       "44934      62501313615          (NC)          PSB\n",
       "15722      62528084900  REPUBLICANOS          PSL\n",
       "15723      62528084900  REPUBLICANOS          PSL\n",
       "26747      62594370215           MDB          MDB\n",
       "26746      62594370215           MDB          MDB\n",
       "30672      62686895268          (NC)          PHS\n",
       "30671      62686895268          (NC)          PHS\n",
       "49095      62732226653          (NC)          PTC\n",
       "49094      62732226653          (NC)          PTC\n",
       "31990      62849441520          (NC)         PRTB\n",
       "31991      62849441520          (NC)         PRTB\n",
       "35800      62918311987          (NC)          PSD\n",
       "35799      62918311987          (NC)          PSD\n",
       "2215       63106981334          PSDB          PTB\n",
       "2214       63106981334          PSDB          PTB\n",
       "725        63161818504          PROS         (NC)\n",
       "724        63161818504          PROS         (NC)\n",
       "444        63985365172          PROS         (NC)\n",
       "443        63985365172          PROS         (NC)\n",
       "3166       64420035315     CIDADANIA         (NC)\n",
       "3167       64420035315     CIDADANIA         (NC)\n",
       "9442       64649520487           PMB         PRTB\n",
       "9443       64649520487           PMB         PRTB\n",
       "6147       64722945349          PSDB         (NC)\n",
       "6148       64722945349          PSDB         (NC)\n",
       "1365       64982874549          PROS     PATRIOTA\n",
       "1364       64982874549          PROS     PATRIOTA\n",
       "26550      65061187920            PL     PATRIOTA\n",
       "26551      65061187920            PL     PATRIOTA\n",
       "15762      65338588153          PROS         (NC)\n",
       "15763      65338588153          PROS         (NC)\n",
       "43237      65677951234          (NC)         PRTB\n",
       "43236      65677951234          (NC)         PRTB\n",
       "26896      65772911287           PSB          PSB\n",
       "26897      65772911287           PSB          PSB\n",
       "26898      65772911287           PSB          PSB\n",
       "13786      65865413600           PSB          PSC\n",
       "13785      65865413600           PSB          PSC\n",
       "39905      66237939849          (NC)         PRTB\n",
       "39906      66237939849          (NC)         PRTB\n",
       "42975      66553172234          (NC)           PT"
      ]
     },
     "execution_count": 78,
     "metadata": {},
     "output_type": "execute_result"
    }
   ],
   "source": [
    "mudancas[mudancas.duplicated(subset='NR_CPF_CANDIDATO', keep=False)].sort_values(by='NR_CPF_CANDIDATO')[500:549]"
   ]
  },
  {
   "cell_type": "code",
   "execution_count": 79,
   "id": "af9e1f0e",
   "metadata": {},
   "outputs": [],
   "source": [
    "mudancas.columns = ['CPF', 'E2022', 'E2018']"
   ]
  },
  {
   "cell_type": "code",
   "execution_count": 80,
   "id": "932441e9",
   "metadata": {},
   "outputs": [],
   "source": [
    "mudancas = mudancas[['CPF', 'E2018', 'E2022']]"
   ]
  },
  {
   "cell_type": "code",
   "execution_count": 81,
   "id": "3271e7ca",
   "metadata": {},
   "outputs": [],
   "source": [
    "mudancas = mudancas.drop_duplicates(subset=['CPF'], keep='last')"
   ]
  },
  {
   "cell_type": "code",
   "execution_count": 82,
   "id": "9d08ea78",
   "metadata": {},
   "outputs": [
    {
     "data": {
      "text/html": [
       "<div>\n",
       "<style scoped>\n",
       "    .dataframe tbody tr th:only-of-type {\n",
       "        vertical-align: middle;\n",
       "    }\n",
       "\n",
       "    .dataframe tbody tr th {\n",
       "        vertical-align: top;\n",
       "    }\n",
       "\n",
       "    .dataframe thead th {\n",
       "        text-align: right;\n",
       "    }\n",
       "</style>\n",
       "<table border=\"1\" class=\"dataframe\">\n",
       "  <thead>\n",
       "    <tr style=\"text-align: right;\">\n",
       "      <th></th>\n",
       "      <th>CPF</th>\n",
       "      <th>E2018</th>\n",
       "      <th>E2022</th>\n",
       "    </tr>\n",
       "  </thead>\n",
       "  <tbody>\n",
       "    <tr>\n",
       "      <th>0</th>\n",
       "      <td>00777662299</td>\n",
       "      <td>PATRIOTA</td>\n",
       "      <td>UNIÃO</td>\n",
       "    </tr>\n",
       "    <tr>\n",
       "      <th>1</th>\n",
       "      <td>01957548916</td>\n",
       "      <td>(NC)</td>\n",
       "      <td>SOLIDARIEDADE</td>\n",
       "    </tr>\n",
       "    <tr>\n",
       "      <th>2</th>\n",
       "      <td>34143343215</td>\n",
       "      <td>PSB</td>\n",
       "      <td>PV</td>\n",
       "    </tr>\n",
       "    <tr>\n",
       "      <th>3</th>\n",
       "      <td>20803796668</td>\n",
       "      <td>(NC)</td>\n",
       "      <td>PP</td>\n",
       "    </tr>\n",
       "    <tr>\n",
       "      <th>4</th>\n",
       "      <td>51826640282</td>\n",
       "      <td>PSB</td>\n",
       "      <td>PTB</td>\n",
       "    </tr>\n",
       "    <tr>\n",
       "      <th>...</th>\n",
       "      <td>...</td>\n",
       "      <td>...</td>\n",
       "      <td>...</td>\n",
       "    </tr>\n",
       "    <tr>\n",
       "      <th>51330</th>\n",
       "      <td>71490442200</td>\n",
       "      <td>PRP</td>\n",
       "      <td>(NC)</td>\n",
       "    </tr>\n",
       "    <tr>\n",
       "      <th>51331</th>\n",
       "      <td>01471949702</td>\n",
       "      <td>PPL</td>\n",
       "      <td>(NC)</td>\n",
       "    </tr>\n",
       "    <tr>\n",
       "      <th>51332</th>\n",
       "      <td>12539062890</td>\n",
       "      <td>PATRIOTA</td>\n",
       "      <td>(NC)</td>\n",
       "    </tr>\n",
       "    <tr>\n",
       "      <th>51333</th>\n",
       "      <td>98143530434</td>\n",
       "      <td>MDB</td>\n",
       "      <td>(NC)</td>\n",
       "    </tr>\n",
       "    <tr>\n",
       "      <th>51334</th>\n",
       "      <td>06018405504</td>\n",
       "      <td>AVANTE</td>\n",
       "      <td>(NC)</td>\n",
       "    </tr>\n",
       "  </tbody>\n",
       "</table>\n",
       "<p>50985 rows × 3 columns</p>\n",
       "</div>"
      ],
      "text/plain": [
       "               CPF     E2018          E2022\n",
       "0      00777662299  PATRIOTA          UNIÃO\n",
       "1      01957548916      (NC)  SOLIDARIEDADE\n",
       "2      34143343215       PSB             PV\n",
       "3      20803796668      (NC)             PP\n",
       "4      51826640282       PSB            PTB\n",
       "...            ...       ...            ...\n",
       "51330  71490442200       PRP           (NC)\n",
       "51331  01471949702       PPL           (NC)\n",
       "51332  12539062890  PATRIOTA           (NC)\n",
       "51333  98143530434       MDB           (NC)\n",
       "51334  06018405504    AVANTE           (NC)\n",
       "\n",
       "[50985 rows x 3 columns]"
      ]
     },
     "execution_count": 82,
     "metadata": {},
     "output_type": "execute_result"
    }
   ],
   "source": [
    "mudancas"
   ]
  },
  {
   "cell_type": "code",
   "execution_count": 83,
   "id": "a7f74e39",
   "metadata": {},
   "outputs": [],
   "source": [
    "mudancas = mudancas.reset_index(drop=True)"
   ]
  },
  {
   "cell_type": "code",
   "execution_count": 25,
   "id": "ded6264d",
   "metadata": {},
   "outputs": [
    {
     "ename": "SyntaxError",
     "evalue": "invalid syntax (4208741763.py, line 1)",
     "output_type": "error",
     "traceback": [
      "\u001b[1;36m  Input \u001b[1;32mIn [25]\u001b[1;36m\u001b[0m\n\u001b[1;33m    HALT!\u001b[0m\n\u001b[1;37m        ^\u001b[0m\n\u001b[1;31mSyntaxError\u001b[0m\u001b[1;31m:\u001b[0m invalid syntax\n"
     ]
    }
   ],
   "source": [
    "HALT!"
   ]
  },
  {
   "cell_type": "code",
   "execution_count": 84,
   "id": "4865d9a3",
   "metadata": {},
   "outputs": [],
   "source": [
    "nome_partido = {'PR':'PL',\n",
    "                'PPS':'CIDADANIA', \n",
    "                'PRB':'REPUBLICANOS', \n",
    "                # 'DEM':'UNIÃO', \n",
    "                'PTC':'AGIR',\n",
    "                # 'PSL':'UNIÃO',\n",
    "                'PPL': 'PC do B',\n",
    "                'PRP':'PATRIOTA',\n",
    "                'PHS':'PODE'}"
   ]
  },
  {
   "cell_type": "code",
   "execution_count": 85,
   "id": "231db984",
   "metadata": {},
   "outputs": [],
   "source": [
    "mudancas = mudancas.replace(nome_partido)"
   ]
  },
  {
   "cell_type": "code",
   "execution_count": null,
   "id": "85d8f65d",
   "metadata": {},
   "outputs": [],
   "source": []
  },
  {
   "cell_type": "code",
   "execution_count": null,
   "id": "0887a3f2",
   "metadata": {},
   "outputs": [],
   "source": []
  },
  {
   "cell_type": "code",
   "execution_count": null,
   "id": "c0bfea37",
   "metadata": {},
   "outputs": [],
   "source": []
  },
  {
   "cell_type": "code",
   "execution_count": 86,
   "id": "7c59aadd",
   "metadata": {},
   "outputs": [],
   "source": [
    "fluxos = mudancas.groupby(['E2018', 'E2022']).CPF.count().reset_index().sort_values(by='CPF', ascending=False).reset_index(drop=True)"
   ]
  },
  {
   "cell_type": "code",
   "execution_count": 87,
   "id": "52a31241",
   "metadata": {},
   "outputs": [
    {
     "data": {
      "text/html": [
       "<div>\n",
       "<style scoped>\n",
       "    .dataframe tbody tr th:only-of-type {\n",
       "        vertical-align: middle;\n",
       "    }\n",
       "\n",
       "    .dataframe tbody tr th {\n",
       "        vertical-align: top;\n",
       "    }\n",
       "\n",
       "    .dataframe thead th {\n",
       "        text-align: right;\n",
       "    }\n",
       "</style>\n",
       "<table border=\"1\" class=\"dataframe\">\n",
       "  <thead>\n",
       "    <tr style=\"text-align: right;\">\n",
       "      <th></th>\n",
       "      <th>E2018</th>\n",
       "      <th>E2022</th>\n",
       "      <th>CPF</th>\n",
       "    </tr>\n",
       "  </thead>\n",
       "  <tbody>\n",
       "    <tr>\n",
       "      <th>0</th>\n",
       "      <td>PATRIOTA</td>\n",
       "      <td>(NC)</td>\n",
       "      <td>1859</td>\n",
       "    </tr>\n",
       "    <tr>\n",
       "      <th>1</th>\n",
       "      <td>PODE</td>\n",
       "      <td>(NC)</td>\n",
       "      <td>1595</td>\n",
       "    </tr>\n",
       "    <tr>\n",
       "      <th>2</th>\n",
       "      <td>PC do B</td>\n",
       "      <td>(NC)</td>\n",
       "      <td>1230</td>\n",
       "    </tr>\n",
       "    <tr>\n",
       "      <th>3</th>\n",
       "      <td>(NC)</td>\n",
       "      <td>PL</td>\n",
       "      <td>1130</td>\n",
       "    </tr>\n",
       "    <tr>\n",
       "      <th>4</th>\n",
       "      <td>(NC)</td>\n",
       "      <td>PTB</td>\n",
       "      <td>1102</td>\n",
       "    </tr>\n",
       "    <tr>\n",
       "      <th>...</th>\n",
       "      <td>...</td>\n",
       "      <td>...</td>\n",
       "      <td>...</td>\n",
       "    </tr>\n",
       "    <tr>\n",
       "      <th>755</th>\n",
       "      <td>PSOL</td>\n",
       "      <td>PRTB</td>\n",
       "      <td>1</td>\n",
       "    </tr>\n",
       "    <tr>\n",
       "      <th>756</th>\n",
       "      <td>PSOL</td>\n",
       "      <td>PSC</td>\n",
       "      <td>1</td>\n",
       "    </tr>\n",
       "    <tr>\n",
       "      <th>757</th>\n",
       "      <td>PCB</td>\n",
       "      <td>PSD</td>\n",
       "      <td>1</td>\n",
       "    </tr>\n",
       "    <tr>\n",
       "      <th>758</th>\n",
       "      <td>PCB</td>\n",
       "      <td>CIDADANIA</td>\n",
       "      <td>1</td>\n",
       "    </tr>\n",
       "    <tr>\n",
       "      <th>759</th>\n",
       "      <td>DC</td>\n",
       "      <td>PSC</td>\n",
       "      <td>1</td>\n",
       "    </tr>\n",
       "  </tbody>\n",
       "</table>\n",
       "<p>760 rows × 3 columns</p>\n",
       "</div>"
      ],
      "text/plain": [
       "        E2018      E2022   CPF\n",
       "0    PATRIOTA       (NC)  1859\n",
       "1        PODE       (NC)  1595\n",
       "2     PC do B       (NC)  1230\n",
       "3        (NC)         PL  1130\n",
       "4        (NC)        PTB  1102\n",
       "..        ...        ...   ...\n",
       "755      PSOL       PRTB     1\n",
       "756      PSOL        PSC     1\n",
       "757       PCB        PSD     1\n",
       "758       PCB  CIDADANIA     1\n",
       "759        DC        PSC     1\n",
       "\n",
       "[760 rows x 3 columns]"
      ]
     },
     "execution_count": 87,
     "metadata": {},
     "output_type": "execute_result"
    }
   ],
   "source": [
    "fluxos"
   ]
  },
  {
   "cell_type": "code",
   "execution_count": 88,
   "id": "8f400867",
   "metadata": {},
   "outputs": [],
   "source": [
    "fluxos_i = fluxos[(fluxos.E2018 != '(NC)') & (fluxos.E2022 != '(NC)')]"
   ]
  },
  {
   "cell_type": "code",
   "execution_count": 92,
   "id": "4d2cb233",
   "metadata": {},
   "outputs": [
    {
     "data": {
      "text/plain": [
       "6340"
      ]
     },
     "execution_count": 92,
     "metadata": {},
     "output_type": "execute_result"
    }
   ],
   "source": [
    "fluxos_i.CPF.sum()"
   ]
  },
  {
   "cell_type": "code",
   "execution_count": null,
   "id": "a811b6b6",
   "metadata": {},
   "outputs": [],
   "source": []
  },
  {
   "cell_type": "code",
   "execution_count": 93,
   "id": "592a8135",
   "metadata": {},
   "outputs": [],
   "source": [
    "fluxos_i.to_csv('fluxos_partidos_i.csv', index=False)"
   ]
  },
  {
   "cell_type": "code",
   "execution_count": 94,
   "id": "41a99567",
   "metadata": {},
   "outputs": [
    {
     "name": "stderr",
     "output_type": "stream",
     "text": [
      "C:\\Users\\rgarcia\\AppData\\Local\\Temp\\ipykernel_24404\\726548256.py:1: SettingWithCopyWarning: \n",
      "A value is trying to be set on a copy of a slice from a DataFrame.\n",
      "Try using .loc[row_indexer,col_indexer] = value instead\n",
      "\n",
      "See the caveats in the documentation: https://pandas.pydata.org/pandas-docs/stable/user_guide/indexing.html#returning-a-view-versus-a-copy\n",
      "  fluxos_i['Mudou?'] = fluxos_i['E2018'] != fluxos_i['E2022']\n"
     ]
    }
   ],
   "source": [
    "fluxos_i['Mudou?'] = fluxos_i['E2018'] != fluxos_i['E2022'] "
   ]
  },
  {
   "cell_type": "code",
   "execution_count": 95,
   "id": "4549ffb1",
   "metadata": {},
   "outputs": [
    {
     "data": {
      "text/plain": [
       "Mudou?\n",
       "False    2411\n",
       "True     3929\n",
       "Name: CPF, dtype: int64"
      ]
     },
     "execution_count": 95,
     "metadata": {},
     "output_type": "execute_result"
    }
   ],
   "source": [
    "fluxos_i.groupby(['Mudou?']).CPF.sum()"
   ]
  },
  {
   "cell_type": "code",
   "execution_count": 98,
   "id": "4f3214e7",
   "metadata": {},
   "outputs": [],
   "source": [
    "fluxos_o = fluxos[(fluxos.E2018 == '(NC)') | (fluxos.E2022 == '(NC)')]"
   ]
  },
  {
   "cell_type": "code",
   "execution_count": 99,
   "id": "1c74ffbe",
   "metadata": {},
   "outputs": [],
   "source": [
    "fluxos_o.to_csv('candidatos_novos_velhos.csv', index=False)"
   ]
  },
  {
   "cell_type": "code",
   "execution_count": null,
   "id": "02ac8cc4",
   "metadata": {},
   "outputs": [],
   "source": []
  }
 ],
 "metadata": {
  "kernelspec": {
   "display_name": "Python 3 (ipykernel)",
   "language": "python",
   "name": "python3"
  },
  "language_info": {
   "codemirror_mode": {
    "name": "ipython",
    "version": 3
   },
   "file_extension": ".py",
   "mimetype": "text/x-python",
   "name": "python",
   "nbconvert_exporter": "python",
   "pygments_lexer": "ipython3",
   "version": "3.10.5"
  }
 },
 "nbformat": 4,
 "nbformat_minor": 5
}
